{
 "cells": [
  {
   "cell_type": "markdown",
   "metadata": {},
   "source": [
    "This is to visualization a project made in Tableau in python. \n",
    "\n",
    "This visualization is about the gender inequality in Ghana parliament - a collabration viz with Lawer Akrofi. The data was sourced Wikipedia and an extensive cleaning done in python. "
   ]
  },
  {
   "cell_type": "markdown",
   "metadata": {},
   "source": [
    "##    A REPORT ON GENDER INEQUALITY IN GHANA'S PARLIAMENT "
   ]
  },
  {
   "cell_type": "markdown",
   "metadata": {},
   "source": [
    "The female voice has yet to be fully heard in Ghana's parliament since independence. In 1954, Mabel Dove Danquah, a journalist, became the first female elected to parliament when she won the Ga Rural seat, beating her male oponnent Nii Amaa Ollennu. After this historic moment in Ghana's political history, the next parliament, unfortunately, did not see any female representation. In subsequent years, the cry for more women in power has led to the gradual increase in numbers of elected female parliamentarians. In terms of leadership positions, Ghana has appointed only one woman, Joyce Adeline Bamford-Addo, to be the speaker of parliament between 2009-2013. "
   ]
  },
  {
   "cell_type": "code",
   "execution_count": 8,
   "metadata": {},
   "outputs": [],
   "source": [
    "#importing the needed libraries \n",
    "\n",
    "import numpy as np\n",
    "import pandas as pd \n",
    "import matplotlib.pyplot as plt\n"
   ]
  },
  {
   "cell_type": "markdown",
   "metadata": {},
   "source": [
    "<img src=\"Inequality in Ghana's Parliament (2).png\" width=\"500\"/>"
   ]
  },
  {
   "cell_type": "code",
   "execution_count": 9,
   "metadata": {},
   "outputs": [
    {
     "data": {
      "text/html": [
       "<div>\n",
       "<style scoped>\n",
       "    .dataframe tbody tr th:only-of-type {\n",
       "        vertical-align: middle;\n",
       "    }\n",
       "\n",
       "    .dataframe tbody tr th {\n",
       "        vertical-align: top;\n",
       "    }\n",
       "\n",
       "    .dataframe thead th {\n",
       "        text-align: right;\n",
       "    }\n",
       "</style>\n",
       "<table border=\"1\" class=\"dataframe\">\n",
       "  <thead>\n",
       "    <tr style=\"text-align: right;\">\n",
       "      <th></th>\n",
       "      <th>Constituency</th>\n",
       "      <th>Elected MP</th>\n",
       "      <th>Elected Party</th>\n",
       "      <th>Region</th>\n",
       "      <th>Parliament</th>\n",
       "      <th>Gender</th>\n",
       "      <th>Year</th>\n",
       "    </tr>\n",
       "  </thead>\n",
       "  <tbody>\n",
       "    <tr>\n",
       "      <th>0</th>\n",
       "      <td>Ashiedu Keteke</td>\n",
       "      <td>Kwame Nkrumah</td>\n",
       "      <td>CPP</td>\n",
       "      <td>Eastern</td>\n",
       "      <td>1951 Assembly</td>\n",
       "      <td>male</td>\n",
       "      <td>1951</td>\n",
       "    </tr>\n",
       "    <tr>\n",
       "      <th>1</th>\n",
       "      <td>Accra West</td>\n",
       "      <td>Thomas HuttonMills</td>\n",
       "      <td>CPP</td>\n",
       "      <td>Eastern</td>\n",
       "      <td>1951 Assembly</td>\n",
       "      <td>male</td>\n",
       "      <td>1951</td>\n",
       "    </tr>\n",
       "    <tr>\n",
       "      <th>2</th>\n",
       "      <td>Ankobra</td>\n",
       "      <td>John Bogolo Erzuah</td>\n",
       "      <td>CPP</td>\n",
       "      <td>Eastern</td>\n",
       "      <td>1951 Assembly</td>\n",
       "      <td>male</td>\n",
       "      <td>1951</td>\n",
       "    </tr>\n",
       "    <tr>\n",
       "      <th>3</th>\n",
       "      <td>Anlo</td>\n",
       "      <td>Komla Agbeli Gbedemah</td>\n",
       "      <td>CPP</td>\n",
       "      <td>Eastern</td>\n",
       "      <td>1951 Assembly</td>\n",
       "      <td>male</td>\n",
       "      <td>1951</td>\n",
       "    </tr>\n",
       "    <tr>\n",
       "      <th>4</th>\n",
       "      <td>Anlo</td>\n",
       "      <td>John Quarshie</td>\n",
       "      <td>CPP</td>\n",
       "      <td>Eastern</td>\n",
       "      <td>1951 Assembly</td>\n",
       "      <td>male</td>\n",
       "      <td>1951</td>\n",
       "    </tr>\n",
       "  </tbody>\n",
       "</table>\n",
       "</div>"
      ],
      "text/plain": [
       "     Constituency             Elected MP Elected Party   Region  \\\n",
       "0  Ashiedu Keteke          Kwame Nkrumah           CPP  Eastern   \n",
       "1      Accra West     Thomas HuttonMills           CPP  Eastern   \n",
       "2         Ankobra     John Bogolo Erzuah           CPP  Eastern   \n",
       "3            Anlo  Komla Agbeli Gbedemah           CPP  Eastern   \n",
       "4            Anlo          John Quarshie           CPP  Eastern   \n",
       "\n",
       "      Parliament Gender  Year  \n",
       "0  1951 Assembly   male  1951  \n",
       "1  1951 Assembly   male  1951  \n",
       "2  1951 Assembly   male  1951  \n",
       "3  1951 Assembly   male  1951  \n",
       "4  1951 Assembly   male  1951  "
      ]
     },
     "execution_count": 9,
     "metadata": {},
     "output_type": "execute_result"
    }
   ],
   "source": [
    "#loading in the files \n",
    "\n",
    "Gh_par = pd.read_csv(\"Ghana Parliament.csv\")\n",
    "Gh_par.head()"
   ]
  },
  {
   "cell_type": "code",
   "execution_count": 10,
   "metadata": {},
   "outputs": [
    {
     "data": {
      "text/html": [
       "<div>\n",
       "<style scoped>\n",
       "    .dataframe tbody tr th:only-of-type {\n",
       "        vertical-align: middle;\n",
       "    }\n",
       "\n",
       "    .dataframe tbody tr th {\n",
       "        vertical-align: top;\n",
       "    }\n",
       "\n",
       "    .dataframe thead th {\n",
       "        text-align: right;\n",
       "    }\n",
       "</style>\n",
       "<table border=\"1\" class=\"dataframe\">\n",
       "  <thead>\n",
       "    <tr style=\"text-align: right;\">\n",
       "      <th></th>\n",
       "      <th>Constituency</th>\n",
       "      <th>Elected MP</th>\n",
       "      <th>Elected Party</th>\n",
       "      <th>Region</th>\n",
       "      <th>Parliament</th>\n",
       "      <th>Gender</th>\n",
       "      <th>Year</th>\n",
       "    </tr>\n",
       "  </thead>\n",
       "  <tbody>\n",
       "    <tr>\n",
       "      <th>2000</th>\n",
       "      <td>Asunafo North</td>\n",
       "      <td>Evans Bobie Opoku</td>\n",
       "      <td>NPP</td>\n",
       "      <td>Ahafo</td>\n",
       "      <td>7th Parliament</td>\n",
       "      <td>male</td>\n",
       "      <td>2016</td>\n",
       "    </tr>\n",
       "    <tr>\n",
       "      <th>2001</th>\n",
       "      <td>Asunafo South</td>\n",
       "      <td>Eric Opoku</td>\n",
       "      <td>NDC</td>\n",
       "      <td>Ahafo</td>\n",
       "      <td>7th Parliament</td>\n",
       "      <td>male</td>\n",
       "      <td>2016</td>\n",
       "    </tr>\n",
       "    <tr>\n",
       "      <th>2002</th>\n",
       "      <td>Asutifi North</td>\n",
       "      <td>Benhazin Joseph Dahah</td>\n",
       "      <td>NPP</td>\n",
       "      <td>Ahafo</td>\n",
       "      <td>7th Parliament</td>\n",
       "      <td>male</td>\n",
       "      <td>2016</td>\n",
       "    </tr>\n",
       "    <tr>\n",
       "      <th>2003</th>\n",
       "      <td>Asutifi South</td>\n",
       "      <td>Collins Dauda</td>\n",
       "      <td>NDC</td>\n",
       "      <td>Ahafo</td>\n",
       "      <td>7th Parliament</td>\n",
       "      <td>male</td>\n",
       "      <td>2016</td>\n",
       "    </tr>\n",
       "    <tr>\n",
       "      <th>2004</th>\n",
       "      <td>Tano North</td>\n",
       "      <td>Freda Prempeh</td>\n",
       "      <td>NPP</td>\n",
       "      <td>Ahafo</td>\n",
       "      <td>7th Parliament</td>\n",
       "      <td>female</td>\n",
       "      <td>2016</td>\n",
       "    </tr>\n",
       "  </tbody>\n",
       "</table>\n",
       "</div>"
      ],
      "text/plain": [
       "       Constituency             Elected MP Elected Party Region  \\\n",
       "2000  Asunafo North      Evans Bobie Opoku           NPP  Ahafo   \n",
       "2001  Asunafo South             Eric Opoku           NDC  Ahafo   \n",
       "2002  Asutifi North  Benhazin Joseph Dahah           NPP  Ahafo   \n",
       "2003  Asutifi South          Collins Dauda           NDC  Ahafo   \n",
       "2004     Tano North          Freda Prempeh           NPP  Ahafo   \n",
       "\n",
       "          Parliament  Gender  Year  \n",
       "2000  7th Parliament    male  2016  \n",
       "2001  7th Parliament    male  2016  \n",
       "2002  7th Parliament    male  2016  \n",
       "2003  7th Parliament    male  2016  \n",
       "2004  7th Parliament  female  2016  "
      ]
     },
     "execution_count": 10,
     "metadata": {},
     "output_type": "execute_result"
    }
   ],
   "source": [
    "#the pie chart or donut chart \n",
    "#let's slide the data to that of 7th parliament of the 4th republic  \n",
    "'''parliament = [\"7th Parliament\", \"6th Parliament\", \"5th Parliament\", \"4th Parliament\", \"3rd Parliament\",\n",
    "              \"2nd Parliament\", \"1st Parliament\", \"1979 Parliament\", \"1969 Parliament\", \"1965 Parliament\",\n",
    "              \"1957 Parliament\", \"1954 Assembly\", \"1951 Assembly\"]'''\n",
    "    \n",
    "par_7 = Gh_par[Gh_par[\"Parliament\"]== \"7th Parliament\"]\n",
    "par_7.head()"
   ]
  },
  {
   "cell_type": "code",
   "execution_count": 11,
   "metadata": {},
   "outputs": [],
   "source": [
    "#calculating the percetange of males to female\n",
    "\n",
    "total = par_7[\"Gender\"].count()\n",
    "\n",
    "gender = par_7.groupby('Gender')[\"Gender\"].count()\n",
    "\n",
    "gen = [\"female\", \"male\"]\n",
    "\n",
    "for i in gen:\n",
    "    percent_gen = gender[i]/total *100\n",
    "    if i == \"male\":\n",
    "        percent_male = gender[i]/total *100\n",
    "    else:\n",
    "        percent_female = gender[i]/total *100"
   ]
  },
  {
   "cell_type": "code",
   "execution_count": 60,
   "metadata": {},
   "outputs": [
    {
     "data": {
      "application/javascript": [
       "/* Put everything inside the global mpl namespace */\n",
       "window.mpl = {};\n",
       "\n",
       "\n",
       "mpl.get_websocket_type = function() {\n",
       "    if (typeof(WebSocket) !== 'undefined') {\n",
       "        return WebSocket;\n",
       "    } else if (typeof(MozWebSocket) !== 'undefined') {\n",
       "        return MozWebSocket;\n",
       "    } else {\n",
       "        alert('Your browser does not have WebSocket support. ' +\n",
       "              'Please try Chrome, Safari or Firefox ≥ 6. ' +\n",
       "              'Firefox 4 and 5 are also supported but you ' +\n",
       "              'have to enable WebSockets in about:config.');\n",
       "    };\n",
       "}\n",
       "\n",
       "mpl.figure = function(figure_id, websocket, ondownload, parent_element) {\n",
       "    this.id = figure_id;\n",
       "\n",
       "    this.ws = websocket;\n",
       "\n",
       "    this.supports_binary = (this.ws.binaryType != undefined);\n",
       "\n",
       "    if (!this.supports_binary) {\n",
       "        var warnings = document.getElementById(\"mpl-warnings\");\n",
       "        if (warnings) {\n",
       "            warnings.style.display = 'block';\n",
       "            warnings.textContent = (\n",
       "                \"This browser does not support binary websocket messages. \" +\n",
       "                    \"Performance may be slow.\");\n",
       "        }\n",
       "    }\n",
       "\n",
       "    this.imageObj = new Image();\n",
       "\n",
       "    this.context = undefined;\n",
       "    this.message = undefined;\n",
       "    this.canvas = undefined;\n",
       "    this.rubberband_canvas = undefined;\n",
       "    this.rubberband_context = undefined;\n",
       "    this.format_dropdown = undefined;\n",
       "\n",
       "    this.image_mode = 'full';\n",
       "\n",
       "    this.root = $('<div/>');\n",
       "    this._root_extra_style(this.root)\n",
       "    this.root.attr('style', 'display: inline-block');\n",
       "\n",
       "    $(parent_element).append(this.root);\n",
       "\n",
       "    this._init_header(this);\n",
       "    this._init_canvas(this);\n",
       "    this._init_toolbar(this);\n",
       "\n",
       "    var fig = this;\n",
       "\n",
       "    this.waiting = false;\n",
       "\n",
       "    this.ws.onopen =  function () {\n",
       "            fig.send_message(\"supports_binary\", {value: fig.supports_binary});\n",
       "            fig.send_message(\"send_image_mode\", {});\n",
       "            if (mpl.ratio != 1) {\n",
       "                fig.send_message(\"set_dpi_ratio\", {'dpi_ratio': mpl.ratio});\n",
       "            }\n",
       "            fig.send_message(\"refresh\", {});\n",
       "        }\n",
       "\n",
       "    this.imageObj.onload = function() {\n",
       "            if (fig.image_mode == 'full') {\n",
       "                // Full images could contain transparency (where diff images\n",
       "                // almost always do), so we need to clear the canvas so that\n",
       "                // there is no ghosting.\n",
       "                fig.context.clearRect(0, 0, fig.canvas.width, fig.canvas.height);\n",
       "            }\n",
       "            fig.context.drawImage(fig.imageObj, 0, 0);\n",
       "        };\n",
       "\n",
       "    this.imageObj.onunload = function() {\n",
       "        fig.ws.close();\n",
       "    }\n",
       "\n",
       "    this.ws.onmessage = this._make_on_message_function(this);\n",
       "\n",
       "    this.ondownload = ondownload;\n",
       "}\n",
       "\n",
       "mpl.figure.prototype._init_header = function() {\n",
       "    var titlebar = $(\n",
       "        '<div class=\"ui-dialog-titlebar ui-widget-header ui-corner-all ' +\n",
       "        'ui-helper-clearfix\"/>');\n",
       "    var titletext = $(\n",
       "        '<div class=\"ui-dialog-title\" style=\"width: 100%; ' +\n",
       "        'text-align: center; padding: 3px;\"/>');\n",
       "    titlebar.append(titletext)\n",
       "    this.root.append(titlebar);\n",
       "    this.header = titletext[0];\n",
       "}\n",
       "\n",
       "\n",
       "\n",
       "mpl.figure.prototype._canvas_extra_style = function(canvas_div) {\n",
       "\n",
       "}\n",
       "\n",
       "\n",
       "mpl.figure.prototype._root_extra_style = function(canvas_div) {\n",
       "\n",
       "}\n",
       "\n",
       "mpl.figure.prototype._init_canvas = function() {\n",
       "    var fig = this;\n",
       "\n",
       "    var canvas_div = $('<div/>');\n",
       "\n",
       "    canvas_div.attr('style', 'position: relative; clear: both; outline: 0');\n",
       "\n",
       "    function canvas_keyboard_event(event) {\n",
       "        return fig.key_event(event, event['data']);\n",
       "    }\n",
       "\n",
       "    canvas_div.keydown('key_press', canvas_keyboard_event);\n",
       "    canvas_div.keyup('key_release', canvas_keyboard_event);\n",
       "    this.canvas_div = canvas_div\n",
       "    this._canvas_extra_style(canvas_div)\n",
       "    this.root.append(canvas_div);\n",
       "\n",
       "    var canvas = $('<canvas/>');\n",
       "    canvas.addClass('mpl-canvas');\n",
       "    canvas.attr('style', \"left: 0; top: 0; z-index: 0; outline: 0\")\n",
       "\n",
       "    this.canvas = canvas[0];\n",
       "    this.context = canvas[0].getContext(\"2d\");\n",
       "\n",
       "    var backingStore = this.context.backingStorePixelRatio ||\n",
       "\tthis.context.webkitBackingStorePixelRatio ||\n",
       "\tthis.context.mozBackingStorePixelRatio ||\n",
       "\tthis.context.msBackingStorePixelRatio ||\n",
       "\tthis.context.oBackingStorePixelRatio ||\n",
       "\tthis.context.backingStorePixelRatio || 1;\n",
       "\n",
       "    mpl.ratio = (window.devicePixelRatio || 1) / backingStore;\n",
       "\n",
       "    var rubberband = $('<canvas/>');\n",
       "    rubberband.attr('style', \"position: absolute; left: 0; top: 0; z-index: 1;\")\n",
       "\n",
       "    var pass_mouse_events = true;\n",
       "\n",
       "    canvas_div.resizable({\n",
       "        start: function(event, ui) {\n",
       "            pass_mouse_events = false;\n",
       "        },\n",
       "        resize: function(event, ui) {\n",
       "            fig.request_resize(ui.size.width, ui.size.height);\n",
       "        },\n",
       "        stop: function(event, ui) {\n",
       "            pass_mouse_events = true;\n",
       "            fig.request_resize(ui.size.width, ui.size.height);\n",
       "        },\n",
       "    });\n",
       "\n",
       "    function mouse_event_fn(event) {\n",
       "        if (pass_mouse_events)\n",
       "            return fig.mouse_event(event, event['data']);\n",
       "    }\n",
       "\n",
       "    rubberband.mousedown('button_press', mouse_event_fn);\n",
       "    rubberband.mouseup('button_release', mouse_event_fn);\n",
       "    // Throttle sequential mouse events to 1 every 20ms.\n",
       "    rubberband.mousemove('motion_notify', mouse_event_fn);\n",
       "\n",
       "    rubberband.mouseenter('figure_enter', mouse_event_fn);\n",
       "    rubberband.mouseleave('figure_leave', mouse_event_fn);\n",
       "\n",
       "    canvas_div.on(\"wheel\", function (event) {\n",
       "        event = event.originalEvent;\n",
       "        event['data'] = 'scroll'\n",
       "        if (event.deltaY < 0) {\n",
       "            event.step = 1;\n",
       "        } else {\n",
       "            event.step = -1;\n",
       "        }\n",
       "        mouse_event_fn(event);\n",
       "    });\n",
       "\n",
       "    canvas_div.append(canvas);\n",
       "    canvas_div.append(rubberband);\n",
       "\n",
       "    this.rubberband = rubberband;\n",
       "    this.rubberband_canvas = rubberband[0];\n",
       "    this.rubberband_context = rubberband[0].getContext(\"2d\");\n",
       "    this.rubberband_context.strokeStyle = \"#000000\";\n",
       "\n",
       "    this._resize_canvas = function(width, height) {\n",
       "        // Keep the size of the canvas, canvas container, and rubber band\n",
       "        // canvas in synch.\n",
       "        canvas_div.css('width', width)\n",
       "        canvas_div.css('height', height)\n",
       "\n",
       "        canvas.attr('width', width * mpl.ratio);\n",
       "        canvas.attr('height', height * mpl.ratio);\n",
       "        canvas.attr('style', 'width: ' + width + 'px; height: ' + height + 'px;');\n",
       "\n",
       "        rubberband.attr('width', width);\n",
       "        rubberband.attr('height', height);\n",
       "    }\n",
       "\n",
       "    // Set the figure to an initial 600x600px, this will subsequently be updated\n",
       "    // upon first draw.\n",
       "    this._resize_canvas(600, 600);\n",
       "\n",
       "    // Disable right mouse context menu.\n",
       "    $(this.rubberband_canvas).bind(\"contextmenu\",function(e){\n",
       "        return false;\n",
       "    });\n",
       "\n",
       "    function set_focus () {\n",
       "        canvas.focus();\n",
       "        canvas_div.focus();\n",
       "    }\n",
       "\n",
       "    window.setTimeout(set_focus, 100);\n",
       "}\n",
       "\n",
       "mpl.figure.prototype._init_toolbar = function() {\n",
       "    var fig = this;\n",
       "\n",
       "    var nav_element = $('<div/>');\n",
       "    nav_element.attr('style', 'width: 100%');\n",
       "    this.root.append(nav_element);\n",
       "\n",
       "    // Define a callback function for later on.\n",
       "    function toolbar_event(event) {\n",
       "        return fig.toolbar_button_onclick(event['data']);\n",
       "    }\n",
       "    function toolbar_mouse_event(event) {\n",
       "        return fig.toolbar_button_onmouseover(event['data']);\n",
       "    }\n",
       "\n",
       "    for(var toolbar_ind in mpl.toolbar_items) {\n",
       "        var name = mpl.toolbar_items[toolbar_ind][0];\n",
       "        var tooltip = mpl.toolbar_items[toolbar_ind][1];\n",
       "        var image = mpl.toolbar_items[toolbar_ind][2];\n",
       "        var method_name = mpl.toolbar_items[toolbar_ind][3];\n",
       "\n",
       "        if (!name) {\n",
       "            // put a spacer in here.\n",
       "            continue;\n",
       "        }\n",
       "        var button = $('<button/>');\n",
       "        button.addClass('ui-button ui-widget ui-state-default ui-corner-all ' +\n",
       "                        'ui-button-icon-only');\n",
       "        button.attr('role', 'button');\n",
       "        button.attr('aria-disabled', 'false');\n",
       "        button.click(method_name, toolbar_event);\n",
       "        button.mouseover(tooltip, toolbar_mouse_event);\n",
       "\n",
       "        var icon_img = $('<span/>');\n",
       "        icon_img.addClass('ui-button-icon-primary ui-icon');\n",
       "        icon_img.addClass(image);\n",
       "        icon_img.addClass('ui-corner-all');\n",
       "\n",
       "        var tooltip_span = $('<span/>');\n",
       "        tooltip_span.addClass('ui-button-text');\n",
       "        tooltip_span.html(tooltip);\n",
       "\n",
       "        button.append(icon_img);\n",
       "        button.append(tooltip_span);\n",
       "\n",
       "        nav_element.append(button);\n",
       "    }\n",
       "\n",
       "    var fmt_picker_span = $('<span/>');\n",
       "\n",
       "    var fmt_picker = $('<select/>');\n",
       "    fmt_picker.addClass('mpl-toolbar-option ui-widget ui-widget-content');\n",
       "    fmt_picker_span.append(fmt_picker);\n",
       "    nav_element.append(fmt_picker_span);\n",
       "    this.format_dropdown = fmt_picker[0];\n",
       "\n",
       "    for (var ind in mpl.extensions) {\n",
       "        var fmt = mpl.extensions[ind];\n",
       "        var option = $(\n",
       "            '<option/>', {selected: fmt === mpl.default_extension}).html(fmt);\n",
       "        fmt_picker.append(option);\n",
       "    }\n",
       "\n",
       "    // Add hover states to the ui-buttons\n",
       "    $( \".ui-button\" ).hover(\n",
       "        function() { $(this).addClass(\"ui-state-hover\");},\n",
       "        function() { $(this).removeClass(\"ui-state-hover\");}\n",
       "    );\n",
       "\n",
       "    var status_bar = $('<span class=\"mpl-message\"/>');\n",
       "    nav_element.append(status_bar);\n",
       "    this.message = status_bar[0];\n",
       "}\n",
       "\n",
       "mpl.figure.prototype.request_resize = function(x_pixels, y_pixels) {\n",
       "    // Request matplotlib to resize the figure. Matplotlib will then trigger a resize in the client,\n",
       "    // which will in turn request a refresh of the image.\n",
       "    this.send_message('resize', {'width': x_pixels, 'height': y_pixels});\n",
       "}\n",
       "\n",
       "mpl.figure.prototype.send_message = function(type, properties) {\n",
       "    properties['type'] = type;\n",
       "    properties['figure_id'] = this.id;\n",
       "    this.ws.send(JSON.stringify(properties));\n",
       "}\n",
       "\n",
       "mpl.figure.prototype.send_draw_message = function() {\n",
       "    if (!this.waiting) {\n",
       "        this.waiting = true;\n",
       "        this.ws.send(JSON.stringify({type: \"draw\", figure_id: this.id}));\n",
       "    }\n",
       "}\n",
       "\n",
       "\n",
       "mpl.figure.prototype.handle_save = function(fig, msg) {\n",
       "    var format_dropdown = fig.format_dropdown;\n",
       "    var format = format_dropdown.options[format_dropdown.selectedIndex].value;\n",
       "    fig.ondownload(fig, format);\n",
       "}\n",
       "\n",
       "\n",
       "mpl.figure.prototype.handle_resize = function(fig, msg) {\n",
       "    var size = msg['size'];\n",
       "    if (size[0] != fig.canvas.width || size[1] != fig.canvas.height) {\n",
       "        fig._resize_canvas(size[0], size[1]);\n",
       "        fig.send_message(\"refresh\", {});\n",
       "    };\n",
       "}\n",
       "\n",
       "mpl.figure.prototype.handle_rubberband = function(fig, msg) {\n",
       "    var x0 = msg['x0'] / mpl.ratio;\n",
       "    var y0 = (fig.canvas.height - msg['y0']) / mpl.ratio;\n",
       "    var x1 = msg['x1'] / mpl.ratio;\n",
       "    var y1 = (fig.canvas.height - msg['y1']) / mpl.ratio;\n",
       "    x0 = Math.floor(x0) + 0.5;\n",
       "    y0 = Math.floor(y0) + 0.5;\n",
       "    x1 = Math.floor(x1) + 0.5;\n",
       "    y1 = Math.floor(y1) + 0.5;\n",
       "    var min_x = Math.min(x0, x1);\n",
       "    var min_y = Math.min(y0, y1);\n",
       "    var width = Math.abs(x1 - x0);\n",
       "    var height = Math.abs(y1 - y0);\n",
       "\n",
       "    fig.rubberband_context.clearRect(\n",
       "        0, 0, fig.canvas.width / mpl.ratio, fig.canvas.height / mpl.ratio);\n",
       "\n",
       "    fig.rubberband_context.strokeRect(min_x, min_y, width, height);\n",
       "}\n",
       "\n",
       "mpl.figure.prototype.handle_figure_label = function(fig, msg) {\n",
       "    // Updates the figure title.\n",
       "    fig.header.textContent = msg['label'];\n",
       "}\n",
       "\n",
       "mpl.figure.prototype.handle_cursor = function(fig, msg) {\n",
       "    var cursor = msg['cursor'];\n",
       "    switch(cursor)\n",
       "    {\n",
       "    case 0:\n",
       "        cursor = 'pointer';\n",
       "        break;\n",
       "    case 1:\n",
       "        cursor = 'default';\n",
       "        break;\n",
       "    case 2:\n",
       "        cursor = 'crosshair';\n",
       "        break;\n",
       "    case 3:\n",
       "        cursor = 'move';\n",
       "        break;\n",
       "    }\n",
       "    fig.rubberband_canvas.style.cursor = cursor;\n",
       "}\n",
       "\n",
       "mpl.figure.prototype.handle_message = function(fig, msg) {\n",
       "    fig.message.textContent = msg['message'];\n",
       "}\n",
       "\n",
       "mpl.figure.prototype.handle_draw = function(fig, msg) {\n",
       "    // Request the server to send over a new figure.\n",
       "    fig.send_draw_message();\n",
       "}\n",
       "\n",
       "mpl.figure.prototype.handle_image_mode = function(fig, msg) {\n",
       "    fig.image_mode = msg['mode'];\n",
       "}\n",
       "\n",
       "mpl.figure.prototype.updated_canvas_event = function() {\n",
       "    // Called whenever the canvas gets updated.\n",
       "    this.send_message(\"ack\", {});\n",
       "}\n",
       "\n",
       "// A function to construct a web socket function for onmessage handling.\n",
       "// Called in the figure constructor.\n",
       "mpl.figure.prototype._make_on_message_function = function(fig) {\n",
       "    return function socket_on_message(evt) {\n",
       "        if (evt.data instanceof Blob) {\n",
       "            /* FIXME: We get \"Resource interpreted as Image but\n",
       "             * transferred with MIME type text/plain:\" errors on\n",
       "             * Chrome.  But how to set the MIME type?  It doesn't seem\n",
       "             * to be part of the websocket stream */\n",
       "            evt.data.type = \"image/png\";\n",
       "\n",
       "            /* Free the memory for the previous frames */\n",
       "            if (fig.imageObj.src) {\n",
       "                (window.URL || window.webkitURL).revokeObjectURL(\n",
       "                    fig.imageObj.src);\n",
       "            }\n",
       "\n",
       "            fig.imageObj.src = (window.URL || window.webkitURL).createObjectURL(\n",
       "                evt.data);\n",
       "            fig.updated_canvas_event();\n",
       "            fig.waiting = false;\n",
       "            return;\n",
       "        }\n",
       "        else if (typeof evt.data === 'string' && evt.data.slice(0, 21) == \"data:image/png;base64\") {\n",
       "            fig.imageObj.src = evt.data;\n",
       "            fig.updated_canvas_event();\n",
       "            fig.waiting = false;\n",
       "            return;\n",
       "        }\n",
       "\n",
       "        var msg = JSON.parse(evt.data);\n",
       "        var msg_type = msg['type'];\n",
       "\n",
       "        // Call the  \"handle_{type}\" callback, which takes\n",
       "        // the figure and JSON message as its only arguments.\n",
       "        try {\n",
       "            var callback = fig[\"handle_\" + msg_type];\n",
       "        } catch (e) {\n",
       "            console.log(\"No handler for the '\" + msg_type + \"' message type: \", msg);\n",
       "            return;\n",
       "        }\n",
       "\n",
       "        if (callback) {\n",
       "            try {\n",
       "                // console.log(\"Handling '\" + msg_type + \"' message: \", msg);\n",
       "                callback(fig, msg);\n",
       "            } catch (e) {\n",
       "                console.log(\"Exception inside the 'handler_\" + msg_type + \"' callback:\", e, e.stack, msg);\n",
       "            }\n",
       "        }\n",
       "    };\n",
       "}\n",
       "\n",
       "// from http://stackoverflow.com/questions/1114465/getting-mouse-location-in-canvas\n",
       "mpl.findpos = function(e) {\n",
       "    //this section is from http://www.quirksmode.org/js/events_properties.html\n",
       "    var targ;\n",
       "    if (!e)\n",
       "        e = window.event;\n",
       "    if (e.target)\n",
       "        targ = e.target;\n",
       "    else if (e.srcElement)\n",
       "        targ = e.srcElement;\n",
       "    if (targ.nodeType == 3) // defeat Safari bug\n",
       "        targ = targ.parentNode;\n",
       "\n",
       "    // jQuery normalizes the pageX and pageY\n",
       "    // pageX,Y are the mouse positions relative to the document\n",
       "    // offset() returns the position of the element relative to the document\n",
       "    var x = e.pageX - $(targ).offset().left;\n",
       "    var y = e.pageY - $(targ).offset().top;\n",
       "\n",
       "    return {\"x\": x, \"y\": y};\n",
       "};\n",
       "\n",
       "/*\n",
       " * return a copy of an object with only non-object keys\n",
       " * we need this to avoid circular references\n",
       " * http://stackoverflow.com/a/24161582/3208463\n",
       " */\n",
       "function simpleKeys (original) {\n",
       "  return Object.keys(original).reduce(function (obj, key) {\n",
       "    if (typeof original[key] !== 'object')\n",
       "        obj[key] = original[key]\n",
       "    return obj;\n",
       "  }, {});\n",
       "}\n",
       "\n",
       "mpl.figure.prototype.mouse_event = function(event, name) {\n",
       "    var canvas_pos = mpl.findpos(event)\n",
       "\n",
       "    if (name === 'button_press')\n",
       "    {\n",
       "        this.canvas.focus();\n",
       "        this.canvas_div.focus();\n",
       "    }\n",
       "\n",
       "    var x = canvas_pos.x * mpl.ratio;\n",
       "    var y = canvas_pos.y * mpl.ratio;\n",
       "\n",
       "    this.send_message(name, {x: x, y: y, button: event.button,\n",
       "                             step: event.step,\n",
       "                             guiEvent: simpleKeys(event)});\n",
       "\n",
       "    /* This prevents the web browser from automatically changing to\n",
       "     * the text insertion cursor when the button is pressed.  We want\n",
       "     * to control all of the cursor setting manually through the\n",
       "     * 'cursor' event from matplotlib */\n",
       "    event.preventDefault();\n",
       "    return false;\n",
       "}\n",
       "\n",
       "mpl.figure.prototype._key_event_extra = function(event, name) {\n",
       "    // Handle any extra behaviour associated with a key event\n",
       "}\n",
       "\n",
       "mpl.figure.prototype.key_event = function(event, name) {\n",
       "\n",
       "    // Prevent repeat events\n",
       "    if (name == 'key_press')\n",
       "    {\n",
       "        if (event.which === this._key)\n",
       "            return;\n",
       "        else\n",
       "            this._key = event.which;\n",
       "    }\n",
       "    if (name == 'key_release')\n",
       "        this._key = null;\n",
       "\n",
       "    var value = '';\n",
       "    if (event.ctrlKey && event.which != 17)\n",
       "        value += \"ctrl+\";\n",
       "    if (event.altKey && event.which != 18)\n",
       "        value += \"alt+\";\n",
       "    if (event.shiftKey && event.which != 16)\n",
       "        value += \"shift+\";\n",
       "\n",
       "    value += 'k';\n",
       "    value += event.which.toString();\n",
       "\n",
       "    this._key_event_extra(event, name);\n",
       "\n",
       "    this.send_message(name, {key: value,\n",
       "                             guiEvent: simpleKeys(event)});\n",
       "    return false;\n",
       "}\n",
       "\n",
       "mpl.figure.prototype.toolbar_button_onclick = function(name) {\n",
       "    if (name == 'download') {\n",
       "        this.handle_save(this, null);\n",
       "    } else {\n",
       "        this.send_message(\"toolbar_button\", {name: name});\n",
       "    }\n",
       "};\n",
       "\n",
       "mpl.figure.prototype.toolbar_button_onmouseover = function(tooltip) {\n",
       "    this.message.textContent = tooltip;\n",
       "};\n",
       "mpl.toolbar_items = [[\"Home\", \"Reset original view\", \"fa fa-home icon-home\", \"home\"], [\"Back\", \"Back to previous view\", \"fa fa-arrow-left icon-arrow-left\", \"back\"], [\"Forward\", \"Forward to next view\", \"fa fa-arrow-right icon-arrow-right\", \"forward\"], [\"\", \"\", \"\", \"\"], [\"Pan\", \"Pan axes with left mouse, zoom with right\", \"fa fa-arrows icon-move\", \"pan\"], [\"Zoom\", \"Zoom to rectangle\", \"fa fa-square-o icon-check-empty\", \"zoom\"], [\"\", \"\", \"\", \"\"], [\"Download\", \"Download plot\", \"fa fa-floppy-o icon-save\", \"download\"]];\n",
       "\n",
       "mpl.extensions = [\"eps\", \"jpeg\", \"pdf\", \"png\", \"ps\", \"raw\", \"svg\", \"tif\"];\n",
       "\n",
       "mpl.default_extension = \"png\";var comm_websocket_adapter = function(comm) {\n",
       "    // Create a \"websocket\"-like object which calls the given IPython comm\n",
       "    // object with the appropriate methods. Currently this is a non binary\n",
       "    // socket, so there is still some room for performance tuning.\n",
       "    var ws = {};\n",
       "\n",
       "    ws.close = function() {\n",
       "        comm.close()\n",
       "    };\n",
       "    ws.send = function(m) {\n",
       "        //console.log('sending', m);\n",
       "        comm.send(m);\n",
       "    };\n",
       "    // Register the callback with on_msg.\n",
       "    comm.on_msg(function(msg) {\n",
       "        //console.log('receiving', msg['content']['data'], msg);\n",
       "        // Pass the mpl event to the overridden (by mpl) onmessage function.\n",
       "        ws.onmessage(msg['content']['data'])\n",
       "    });\n",
       "    return ws;\n",
       "}\n",
       "\n",
       "mpl.mpl_figure_comm = function(comm, msg) {\n",
       "    // This is the function which gets called when the mpl process\n",
       "    // starts-up an IPython Comm through the \"matplotlib\" channel.\n",
       "\n",
       "    var id = msg.content.data.id;\n",
       "    // Get hold of the div created by the display call when the Comm\n",
       "    // socket was opened in Python.\n",
       "    var element = $(\"#\" + id);\n",
       "    var ws_proxy = comm_websocket_adapter(comm)\n",
       "\n",
       "    function ondownload(figure, format) {\n",
       "        window.open(figure.imageObj.src);\n",
       "    }\n",
       "\n",
       "    var fig = new mpl.figure(id, ws_proxy,\n",
       "                           ondownload,\n",
       "                           element.get(0));\n",
       "\n",
       "    // Call onopen now - mpl needs it, as it is assuming we've passed it a real\n",
       "    // web socket which is closed, not our websocket->open comm proxy.\n",
       "    ws_proxy.onopen();\n",
       "\n",
       "    fig.parent_element = element.get(0);\n",
       "    fig.cell_info = mpl.find_output_cell(\"<div id='\" + id + \"'></div>\");\n",
       "    if (!fig.cell_info) {\n",
       "        console.error(\"Failed to find cell for figure\", id, fig);\n",
       "        return;\n",
       "    }\n",
       "\n",
       "    var output_index = fig.cell_info[2]\n",
       "    var cell = fig.cell_info[0];\n",
       "\n",
       "};\n",
       "\n",
       "mpl.figure.prototype.handle_close = function(fig, msg) {\n",
       "    var width = fig.canvas.width/mpl.ratio\n",
       "    fig.root.unbind('remove')\n",
       "\n",
       "    // Update the output cell to use the data from the current canvas.\n",
       "    fig.push_to_output();\n",
       "    var dataURL = fig.canvas.toDataURL();\n",
       "    // Re-enable the keyboard manager in IPython - without this line, in FF,\n",
       "    // the notebook keyboard shortcuts fail.\n",
       "    IPython.keyboard_manager.enable()\n",
       "    $(fig.parent_element).html('<img src=\"' + dataURL + '\" width=\"' + width + '\">');\n",
       "    fig.close_ws(fig, msg);\n",
       "}\n",
       "\n",
       "mpl.figure.prototype.close_ws = function(fig, msg){\n",
       "    fig.send_message('closing', msg);\n",
       "    // fig.ws.close()\n",
       "}\n",
       "\n",
       "mpl.figure.prototype.push_to_output = function(remove_interactive) {\n",
       "    // Turn the data on the canvas into data in the output cell.\n",
       "    var width = this.canvas.width/mpl.ratio\n",
       "    var dataURL = this.canvas.toDataURL();\n",
       "    this.cell_info[1]['text/html'] = '<img src=\"' + dataURL + '\" width=\"' + width + '\">';\n",
       "}\n",
       "\n",
       "mpl.figure.prototype.updated_canvas_event = function() {\n",
       "    // Tell IPython that the notebook contents must change.\n",
       "    IPython.notebook.set_dirty(true);\n",
       "    this.send_message(\"ack\", {});\n",
       "    var fig = this;\n",
       "    // Wait a second, then push the new image to the DOM so\n",
       "    // that it is saved nicely (might be nice to debounce this).\n",
       "    setTimeout(function () { fig.push_to_output() }, 1000);\n",
       "}\n",
       "\n",
       "mpl.figure.prototype._init_toolbar = function() {\n",
       "    var fig = this;\n",
       "\n",
       "    var nav_element = $('<div/>');\n",
       "    nav_element.attr('style', 'width: 100%');\n",
       "    this.root.append(nav_element);\n",
       "\n",
       "    // Define a callback function for later on.\n",
       "    function toolbar_event(event) {\n",
       "        return fig.toolbar_button_onclick(event['data']);\n",
       "    }\n",
       "    function toolbar_mouse_event(event) {\n",
       "        return fig.toolbar_button_onmouseover(event['data']);\n",
       "    }\n",
       "\n",
       "    for(var toolbar_ind in mpl.toolbar_items){\n",
       "        var name = mpl.toolbar_items[toolbar_ind][0];\n",
       "        var tooltip = mpl.toolbar_items[toolbar_ind][1];\n",
       "        var image = mpl.toolbar_items[toolbar_ind][2];\n",
       "        var method_name = mpl.toolbar_items[toolbar_ind][3];\n",
       "\n",
       "        if (!name) { continue; };\n",
       "\n",
       "        var button = $('<button class=\"btn btn-default\" href=\"#\" title=\"' + name + '\"><i class=\"fa ' + image + ' fa-lg\"></i></button>');\n",
       "        button.click(method_name, toolbar_event);\n",
       "        button.mouseover(tooltip, toolbar_mouse_event);\n",
       "        nav_element.append(button);\n",
       "    }\n",
       "\n",
       "    // Add the status bar.\n",
       "    var status_bar = $('<span class=\"mpl-message\" style=\"text-align:right; float: right;\"/>');\n",
       "    nav_element.append(status_bar);\n",
       "    this.message = status_bar[0];\n",
       "\n",
       "    // Add the close button to the window.\n",
       "    var buttongrp = $('<div class=\"btn-group inline pull-right\"></div>');\n",
       "    var button = $('<button class=\"btn btn-mini btn-primary\" href=\"#\" title=\"Stop Interaction\"><i class=\"fa fa-power-off icon-remove icon-large\"></i></button>');\n",
       "    button.click(function (evt) { fig.handle_close(fig, {}); } );\n",
       "    button.mouseover('Stop Interaction', toolbar_mouse_event);\n",
       "    buttongrp.append(button);\n",
       "    var titlebar = this.root.find($('.ui-dialog-titlebar'));\n",
       "    titlebar.prepend(buttongrp);\n",
       "}\n",
       "\n",
       "mpl.figure.prototype._root_extra_style = function(el){\n",
       "    var fig = this\n",
       "    el.on(\"remove\", function(){\n",
       "\tfig.close_ws(fig, {});\n",
       "    });\n",
       "}\n",
       "\n",
       "mpl.figure.prototype._canvas_extra_style = function(el){\n",
       "    // this is important to make the div 'focusable\n",
       "    el.attr('tabindex', 0)\n",
       "    // reach out to IPython and tell the keyboard manager to turn it's self\n",
       "    // off when our div gets focus\n",
       "\n",
       "    // location in version 3\n",
       "    if (IPython.notebook.keyboard_manager) {\n",
       "        IPython.notebook.keyboard_manager.register_events(el);\n",
       "    }\n",
       "    else {\n",
       "        // location in version 2\n",
       "        IPython.keyboard_manager.register_events(el);\n",
       "    }\n",
       "\n",
       "}\n",
       "\n",
       "mpl.figure.prototype._key_event_extra = function(event, name) {\n",
       "    var manager = IPython.notebook.keyboard_manager;\n",
       "    if (!manager)\n",
       "        manager = IPython.keyboard_manager;\n",
       "\n",
       "    // Check for shift+enter\n",
       "    if (event.shiftKey && event.which == 13) {\n",
       "        this.canvas_div.blur();\n",
       "        // select the cell after this one\n",
       "        var index = IPython.notebook.find_cell_index(this.cell_info[0]);\n",
       "        IPython.notebook.select(index + 1);\n",
       "    }\n",
       "}\n",
       "\n",
       "mpl.figure.prototype.handle_save = function(fig, msg) {\n",
       "    fig.ondownload(fig, null);\n",
       "}\n",
       "\n",
       "\n",
       "mpl.find_output_cell = function(html_output) {\n",
       "    // Return the cell and output element which can be found *uniquely* in the notebook.\n",
       "    // Note - this is a bit hacky, but it is done because the \"notebook_saving.Notebook\"\n",
       "    // IPython event is triggered only after the cells have been serialised, which for\n",
       "    // our purposes (turning an active figure into a static one), is too late.\n",
       "    var cells = IPython.notebook.get_cells();\n",
       "    var ncells = cells.length;\n",
       "    for (var i=0; i<ncells; i++) {\n",
       "        var cell = cells[i];\n",
       "        if (cell.cell_type === 'code'){\n",
       "            for (var j=0; j<cell.output_area.outputs.length; j++) {\n",
       "                var data = cell.output_area.outputs[j];\n",
       "                if (data.data) {\n",
       "                    // IPython >= 3 moved mimebundle to data attribute of output\n",
       "                    data = data.data;\n",
       "                }\n",
       "                if (data['text/html'] == html_output) {\n",
       "                    return [cell, data, j];\n",
       "                }\n",
       "            }\n",
       "        }\n",
       "    }\n",
       "}\n",
       "\n",
       "// Register the function which deals with the matplotlib target/channel.\n",
       "// The kernel may be null if the page has been refreshed.\n",
       "if (IPython.notebook.kernel != null) {\n",
       "    IPython.notebook.kernel.comm_manager.register_target('matplotlib', mpl.mpl_figure_comm);\n",
       "}\n"
      ],
      "text/plain": [
       "<IPython.core.display.Javascript object>"
      ]
     },
     "metadata": {},
     "output_type": "display_data"
    },
    {
     "data": {
      "text/html": [
       "<img src=\"data:image/png;base64,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\" width=\"431.8749935645611\">"
      ],
      "text/plain": [
       "<IPython.core.display.HTML object>"
      ]
     },
     "metadata": {},
     "output_type": "display_data"
    }
   ],
   "source": [
    "plt.pie(x = [percent_male, percent_female], explode = (0,0), \n",
    "        labels = [\"male\", \"female\"],colors = [\"Grey\", \"purple\"], autopct = '%1.1f%%', shadow = False)\n",
    "\n",
    "centre_circle = plt.Circle((0,0), 0.75, color=\"black\", fc=\"white\", linewidth =1.25)\n",
    "fig = plt.gcf()\n",
    "fig.gca().add_artist(centre_circle)\n",
    "plt.axis(\"equal\")\n",
    "plt.show()"
   ]
  },
  {
   "cell_type": "code",
   "execution_count": 145,
   "metadata": {},
   "outputs": [],
   "source": [
    "Gh = Gh_par.groupby(['Gender', 'Year'])['Elected MP'].count().reset_index()\n",
    "Gh = Gh.rename(columns= {'Elected MP': 'Number'})"
   ]
  },
  {
   "cell_type": "code",
   "execution_count": 66,
   "metadata": {},
   "outputs": [
    {
     "data": {
      "application/javascript": [
       "/* Put everything inside the global mpl namespace */\n",
       "window.mpl = {};\n",
       "\n",
       "\n",
       "mpl.get_websocket_type = function() {\n",
       "    if (typeof(WebSocket) !== 'undefined') {\n",
       "        return WebSocket;\n",
       "    } else if (typeof(MozWebSocket) !== 'undefined') {\n",
       "        return MozWebSocket;\n",
       "    } else {\n",
       "        alert('Your browser does not have WebSocket support. ' +\n",
       "              'Please try Chrome, Safari or Firefox ≥ 6. ' +\n",
       "              'Firefox 4 and 5 are also supported but you ' +\n",
       "              'have to enable WebSockets in about:config.');\n",
       "    };\n",
       "}\n",
       "\n",
       "mpl.figure = function(figure_id, websocket, ondownload, parent_element) {\n",
       "    this.id = figure_id;\n",
       "\n",
       "    this.ws = websocket;\n",
       "\n",
       "    this.supports_binary = (this.ws.binaryType != undefined);\n",
       "\n",
       "    if (!this.supports_binary) {\n",
       "        var warnings = document.getElementById(\"mpl-warnings\");\n",
       "        if (warnings) {\n",
       "            warnings.style.display = 'block';\n",
       "            warnings.textContent = (\n",
       "                \"This browser does not support binary websocket messages. \" +\n",
       "                    \"Performance may be slow.\");\n",
       "        }\n",
       "    }\n",
       "\n",
       "    this.imageObj = new Image();\n",
       "\n",
       "    this.context = undefined;\n",
       "    this.message = undefined;\n",
       "    this.canvas = undefined;\n",
       "    this.rubberband_canvas = undefined;\n",
       "    this.rubberband_context = undefined;\n",
       "    this.format_dropdown = undefined;\n",
       "\n",
       "    this.image_mode = 'full';\n",
       "\n",
       "    this.root = $('<div/>');\n",
       "    this._root_extra_style(this.root)\n",
       "    this.root.attr('style', 'display: inline-block');\n",
       "\n",
       "    $(parent_element).append(this.root);\n",
       "\n",
       "    this._init_header(this);\n",
       "    this._init_canvas(this);\n",
       "    this._init_toolbar(this);\n",
       "\n",
       "    var fig = this;\n",
       "\n",
       "    this.waiting = false;\n",
       "\n",
       "    this.ws.onopen =  function () {\n",
       "            fig.send_message(\"supports_binary\", {value: fig.supports_binary});\n",
       "            fig.send_message(\"send_image_mode\", {});\n",
       "            if (mpl.ratio != 1) {\n",
       "                fig.send_message(\"set_dpi_ratio\", {'dpi_ratio': mpl.ratio});\n",
       "            }\n",
       "            fig.send_message(\"refresh\", {});\n",
       "        }\n",
       "\n",
       "    this.imageObj.onload = function() {\n",
       "            if (fig.image_mode == 'full') {\n",
       "                // Full images could contain transparency (where diff images\n",
       "                // almost always do), so we need to clear the canvas so that\n",
       "                // there is no ghosting.\n",
       "                fig.context.clearRect(0, 0, fig.canvas.width, fig.canvas.height);\n",
       "            }\n",
       "            fig.context.drawImage(fig.imageObj, 0, 0);\n",
       "        };\n",
       "\n",
       "    this.imageObj.onunload = function() {\n",
       "        fig.ws.close();\n",
       "    }\n",
       "\n",
       "    this.ws.onmessage = this._make_on_message_function(this);\n",
       "\n",
       "    this.ondownload = ondownload;\n",
       "}\n",
       "\n",
       "mpl.figure.prototype._init_header = function() {\n",
       "    var titlebar = $(\n",
       "        '<div class=\"ui-dialog-titlebar ui-widget-header ui-corner-all ' +\n",
       "        'ui-helper-clearfix\"/>');\n",
       "    var titletext = $(\n",
       "        '<div class=\"ui-dialog-title\" style=\"width: 100%; ' +\n",
       "        'text-align: center; padding: 3px;\"/>');\n",
       "    titlebar.append(titletext)\n",
       "    this.root.append(titlebar);\n",
       "    this.header = titletext[0];\n",
       "}\n",
       "\n",
       "\n",
       "\n",
       "mpl.figure.prototype._canvas_extra_style = function(canvas_div) {\n",
       "\n",
       "}\n",
       "\n",
       "\n",
       "mpl.figure.prototype._root_extra_style = function(canvas_div) {\n",
       "\n",
       "}\n",
       "\n",
       "mpl.figure.prototype._init_canvas = function() {\n",
       "    var fig = this;\n",
       "\n",
       "    var canvas_div = $('<div/>');\n",
       "\n",
       "    canvas_div.attr('style', 'position: relative; clear: both; outline: 0');\n",
       "\n",
       "    function canvas_keyboard_event(event) {\n",
       "        return fig.key_event(event, event['data']);\n",
       "    }\n",
       "\n",
       "    canvas_div.keydown('key_press', canvas_keyboard_event);\n",
       "    canvas_div.keyup('key_release', canvas_keyboard_event);\n",
       "    this.canvas_div = canvas_div\n",
       "    this._canvas_extra_style(canvas_div)\n",
       "    this.root.append(canvas_div);\n",
       "\n",
       "    var canvas = $('<canvas/>');\n",
       "    canvas.addClass('mpl-canvas');\n",
       "    canvas.attr('style', \"left: 0; top: 0; z-index: 0; outline: 0\")\n",
       "\n",
       "    this.canvas = canvas[0];\n",
       "    this.context = canvas[0].getContext(\"2d\");\n",
       "\n",
       "    var backingStore = this.context.backingStorePixelRatio ||\n",
       "\tthis.context.webkitBackingStorePixelRatio ||\n",
       "\tthis.context.mozBackingStorePixelRatio ||\n",
       "\tthis.context.msBackingStorePixelRatio ||\n",
       "\tthis.context.oBackingStorePixelRatio ||\n",
       "\tthis.context.backingStorePixelRatio || 1;\n",
       "\n",
       "    mpl.ratio = (window.devicePixelRatio || 1) / backingStore;\n",
       "\n",
       "    var rubberband = $('<canvas/>');\n",
       "    rubberband.attr('style', \"position: absolute; left: 0; top: 0; z-index: 1;\")\n",
       "\n",
       "    var pass_mouse_events = true;\n",
       "\n",
       "    canvas_div.resizable({\n",
       "        start: function(event, ui) {\n",
       "            pass_mouse_events = false;\n",
       "        },\n",
       "        resize: function(event, ui) {\n",
       "            fig.request_resize(ui.size.width, ui.size.height);\n",
       "        },\n",
       "        stop: function(event, ui) {\n",
       "            pass_mouse_events = true;\n",
       "            fig.request_resize(ui.size.width, ui.size.height);\n",
       "        },\n",
       "    });\n",
       "\n",
       "    function mouse_event_fn(event) {\n",
       "        if (pass_mouse_events)\n",
       "            return fig.mouse_event(event, event['data']);\n",
       "    }\n",
       "\n",
       "    rubberband.mousedown('button_press', mouse_event_fn);\n",
       "    rubberband.mouseup('button_release', mouse_event_fn);\n",
       "    // Throttle sequential mouse events to 1 every 20ms.\n",
       "    rubberband.mousemove('motion_notify', mouse_event_fn);\n",
       "\n",
       "    rubberband.mouseenter('figure_enter', mouse_event_fn);\n",
       "    rubberband.mouseleave('figure_leave', mouse_event_fn);\n",
       "\n",
       "    canvas_div.on(\"wheel\", function (event) {\n",
       "        event = event.originalEvent;\n",
       "        event['data'] = 'scroll'\n",
       "        if (event.deltaY < 0) {\n",
       "            event.step = 1;\n",
       "        } else {\n",
       "            event.step = -1;\n",
       "        }\n",
       "        mouse_event_fn(event);\n",
       "    });\n",
       "\n",
       "    canvas_div.append(canvas);\n",
       "    canvas_div.append(rubberband);\n",
       "\n",
       "    this.rubberband = rubberband;\n",
       "    this.rubberband_canvas = rubberband[0];\n",
       "    this.rubberband_context = rubberband[0].getContext(\"2d\");\n",
       "    this.rubberband_context.strokeStyle = \"#000000\";\n",
       "\n",
       "    this._resize_canvas = function(width, height) {\n",
       "        // Keep the size of the canvas, canvas container, and rubber band\n",
       "        // canvas in synch.\n",
       "        canvas_div.css('width', width)\n",
       "        canvas_div.css('height', height)\n",
       "\n",
       "        canvas.attr('width', width * mpl.ratio);\n",
       "        canvas.attr('height', height * mpl.ratio);\n",
       "        canvas.attr('style', 'width: ' + width + 'px; height: ' + height + 'px;');\n",
       "\n",
       "        rubberband.attr('width', width);\n",
       "        rubberband.attr('height', height);\n",
       "    }\n",
       "\n",
       "    // Set the figure to an initial 600x600px, this will subsequently be updated\n",
       "    // upon first draw.\n",
       "    this._resize_canvas(600, 600);\n",
       "\n",
       "    // Disable right mouse context menu.\n",
       "    $(this.rubberband_canvas).bind(\"contextmenu\",function(e){\n",
       "        return false;\n",
       "    });\n",
       "\n",
       "    function set_focus () {\n",
       "        canvas.focus();\n",
       "        canvas_div.focus();\n",
       "    }\n",
       "\n",
       "    window.setTimeout(set_focus, 100);\n",
       "}\n",
       "\n",
       "mpl.figure.prototype._init_toolbar = function() {\n",
       "    var fig = this;\n",
       "\n",
       "    var nav_element = $('<div/>');\n",
       "    nav_element.attr('style', 'width: 100%');\n",
       "    this.root.append(nav_element);\n",
       "\n",
       "    // Define a callback function for later on.\n",
       "    function toolbar_event(event) {\n",
       "        return fig.toolbar_button_onclick(event['data']);\n",
       "    }\n",
       "    function toolbar_mouse_event(event) {\n",
       "        return fig.toolbar_button_onmouseover(event['data']);\n",
       "    }\n",
       "\n",
       "    for(var toolbar_ind in mpl.toolbar_items) {\n",
       "        var name = mpl.toolbar_items[toolbar_ind][0];\n",
       "        var tooltip = mpl.toolbar_items[toolbar_ind][1];\n",
       "        var image = mpl.toolbar_items[toolbar_ind][2];\n",
       "        var method_name = mpl.toolbar_items[toolbar_ind][3];\n",
       "\n",
       "        if (!name) {\n",
       "            // put a spacer in here.\n",
       "            continue;\n",
       "        }\n",
       "        var button = $('<button/>');\n",
       "        button.addClass('ui-button ui-widget ui-state-default ui-corner-all ' +\n",
       "                        'ui-button-icon-only');\n",
       "        button.attr('role', 'button');\n",
       "        button.attr('aria-disabled', 'false');\n",
       "        button.click(method_name, toolbar_event);\n",
       "        button.mouseover(tooltip, toolbar_mouse_event);\n",
       "\n",
       "        var icon_img = $('<span/>');\n",
       "        icon_img.addClass('ui-button-icon-primary ui-icon');\n",
       "        icon_img.addClass(image);\n",
       "        icon_img.addClass('ui-corner-all');\n",
       "\n",
       "        var tooltip_span = $('<span/>');\n",
       "        tooltip_span.addClass('ui-button-text');\n",
       "        tooltip_span.html(tooltip);\n",
       "\n",
       "        button.append(icon_img);\n",
       "        button.append(tooltip_span);\n",
       "\n",
       "        nav_element.append(button);\n",
       "    }\n",
       "\n",
       "    var fmt_picker_span = $('<span/>');\n",
       "\n",
       "    var fmt_picker = $('<select/>');\n",
       "    fmt_picker.addClass('mpl-toolbar-option ui-widget ui-widget-content');\n",
       "    fmt_picker_span.append(fmt_picker);\n",
       "    nav_element.append(fmt_picker_span);\n",
       "    this.format_dropdown = fmt_picker[0];\n",
       "\n",
       "    for (var ind in mpl.extensions) {\n",
       "        var fmt = mpl.extensions[ind];\n",
       "        var option = $(\n",
       "            '<option/>', {selected: fmt === mpl.default_extension}).html(fmt);\n",
       "        fmt_picker.append(option);\n",
       "    }\n",
       "\n",
       "    // Add hover states to the ui-buttons\n",
       "    $( \".ui-button\" ).hover(\n",
       "        function() { $(this).addClass(\"ui-state-hover\");},\n",
       "        function() { $(this).removeClass(\"ui-state-hover\");}\n",
       "    );\n",
       "\n",
       "    var status_bar = $('<span class=\"mpl-message\"/>');\n",
       "    nav_element.append(status_bar);\n",
       "    this.message = status_bar[0];\n",
       "}\n",
       "\n",
       "mpl.figure.prototype.request_resize = function(x_pixels, y_pixels) {\n",
       "    // Request matplotlib to resize the figure. Matplotlib will then trigger a resize in the client,\n",
       "    // which will in turn request a refresh of the image.\n",
       "    this.send_message('resize', {'width': x_pixels, 'height': y_pixels});\n",
       "}\n",
       "\n",
       "mpl.figure.prototype.send_message = function(type, properties) {\n",
       "    properties['type'] = type;\n",
       "    properties['figure_id'] = this.id;\n",
       "    this.ws.send(JSON.stringify(properties));\n",
       "}\n",
       "\n",
       "mpl.figure.prototype.send_draw_message = function() {\n",
       "    if (!this.waiting) {\n",
       "        this.waiting = true;\n",
       "        this.ws.send(JSON.stringify({type: \"draw\", figure_id: this.id}));\n",
       "    }\n",
       "}\n",
       "\n",
       "\n",
       "mpl.figure.prototype.handle_save = function(fig, msg) {\n",
       "    var format_dropdown = fig.format_dropdown;\n",
       "    var format = format_dropdown.options[format_dropdown.selectedIndex].value;\n",
       "    fig.ondownload(fig, format);\n",
       "}\n",
       "\n",
       "\n",
       "mpl.figure.prototype.handle_resize = function(fig, msg) {\n",
       "    var size = msg['size'];\n",
       "    if (size[0] != fig.canvas.width || size[1] != fig.canvas.height) {\n",
       "        fig._resize_canvas(size[0], size[1]);\n",
       "        fig.send_message(\"refresh\", {});\n",
       "    };\n",
       "}\n",
       "\n",
       "mpl.figure.prototype.handle_rubberband = function(fig, msg) {\n",
       "    var x0 = msg['x0'] / mpl.ratio;\n",
       "    var y0 = (fig.canvas.height - msg['y0']) / mpl.ratio;\n",
       "    var x1 = msg['x1'] / mpl.ratio;\n",
       "    var y1 = (fig.canvas.height - msg['y1']) / mpl.ratio;\n",
       "    x0 = Math.floor(x0) + 0.5;\n",
       "    y0 = Math.floor(y0) + 0.5;\n",
       "    x1 = Math.floor(x1) + 0.5;\n",
       "    y1 = Math.floor(y1) + 0.5;\n",
       "    var min_x = Math.min(x0, x1);\n",
       "    var min_y = Math.min(y0, y1);\n",
       "    var width = Math.abs(x1 - x0);\n",
       "    var height = Math.abs(y1 - y0);\n",
       "\n",
       "    fig.rubberband_context.clearRect(\n",
       "        0, 0, fig.canvas.width / mpl.ratio, fig.canvas.height / mpl.ratio);\n",
       "\n",
       "    fig.rubberband_context.strokeRect(min_x, min_y, width, height);\n",
       "}\n",
       "\n",
       "mpl.figure.prototype.handle_figure_label = function(fig, msg) {\n",
       "    // Updates the figure title.\n",
       "    fig.header.textContent = msg['label'];\n",
       "}\n",
       "\n",
       "mpl.figure.prototype.handle_cursor = function(fig, msg) {\n",
       "    var cursor = msg['cursor'];\n",
       "    switch(cursor)\n",
       "    {\n",
       "    case 0:\n",
       "        cursor = 'pointer';\n",
       "        break;\n",
       "    case 1:\n",
       "        cursor = 'default';\n",
       "        break;\n",
       "    case 2:\n",
       "        cursor = 'crosshair';\n",
       "        break;\n",
       "    case 3:\n",
       "        cursor = 'move';\n",
       "        break;\n",
       "    }\n",
       "    fig.rubberband_canvas.style.cursor = cursor;\n",
       "}\n",
       "\n",
       "mpl.figure.prototype.handle_message = function(fig, msg) {\n",
       "    fig.message.textContent = msg['message'];\n",
       "}\n",
       "\n",
       "mpl.figure.prototype.handle_draw = function(fig, msg) {\n",
       "    // Request the server to send over a new figure.\n",
       "    fig.send_draw_message();\n",
       "}\n",
       "\n",
       "mpl.figure.prototype.handle_image_mode = function(fig, msg) {\n",
       "    fig.image_mode = msg['mode'];\n",
       "}\n",
       "\n",
       "mpl.figure.prototype.updated_canvas_event = function() {\n",
       "    // Called whenever the canvas gets updated.\n",
       "    this.send_message(\"ack\", {});\n",
       "}\n",
       "\n",
       "// A function to construct a web socket function for onmessage handling.\n",
       "// Called in the figure constructor.\n",
       "mpl.figure.prototype._make_on_message_function = function(fig) {\n",
       "    return function socket_on_message(evt) {\n",
       "        if (evt.data instanceof Blob) {\n",
       "            /* FIXME: We get \"Resource interpreted as Image but\n",
       "             * transferred with MIME type text/plain:\" errors on\n",
       "             * Chrome.  But how to set the MIME type?  It doesn't seem\n",
       "             * to be part of the websocket stream */\n",
       "            evt.data.type = \"image/png\";\n",
       "\n",
       "            /* Free the memory for the previous frames */\n",
       "            if (fig.imageObj.src) {\n",
       "                (window.URL || window.webkitURL).revokeObjectURL(\n",
       "                    fig.imageObj.src);\n",
       "            }\n",
       "\n",
       "            fig.imageObj.src = (window.URL || window.webkitURL).createObjectURL(\n",
       "                evt.data);\n",
       "            fig.updated_canvas_event();\n",
       "            fig.waiting = false;\n",
       "            return;\n",
       "        }\n",
       "        else if (typeof evt.data === 'string' && evt.data.slice(0, 21) == \"data:image/png;base64\") {\n",
       "            fig.imageObj.src = evt.data;\n",
       "            fig.updated_canvas_event();\n",
       "            fig.waiting = false;\n",
       "            return;\n",
       "        }\n",
       "\n",
       "        var msg = JSON.parse(evt.data);\n",
       "        var msg_type = msg['type'];\n",
       "\n",
       "        // Call the  \"handle_{type}\" callback, which takes\n",
       "        // the figure and JSON message as its only arguments.\n",
       "        try {\n",
       "            var callback = fig[\"handle_\" + msg_type];\n",
       "        } catch (e) {\n",
       "            console.log(\"No handler for the '\" + msg_type + \"' message type: \", msg);\n",
       "            return;\n",
       "        }\n",
       "\n",
       "        if (callback) {\n",
       "            try {\n",
       "                // console.log(\"Handling '\" + msg_type + \"' message: \", msg);\n",
       "                callback(fig, msg);\n",
       "            } catch (e) {\n",
       "                console.log(\"Exception inside the 'handler_\" + msg_type + \"' callback:\", e, e.stack, msg);\n",
       "            }\n",
       "        }\n",
       "    };\n",
       "}\n",
       "\n",
       "// from http://stackoverflow.com/questions/1114465/getting-mouse-location-in-canvas\n",
       "mpl.findpos = function(e) {\n",
       "    //this section is from http://www.quirksmode.org/js/events_properties.html\n",
       "    var targ;\n",
       "    if (!e)\n",
       "        e = window.event;\n",
       "    if (e.target)\n",
       "        targ = e.target;\n",
       "    else if (e.srcElement)\n",
       "        targ = e.srcElement;\n",
       "    if (targ.nodeType == 3) // defeat Safari bug\n",
       "        targ = targ.parentNode;\n",
       "\n",
       "    // jQuery normalizes the pageX and pageY\n",
       "    // pageX,Y are the mouse positions relative to the document\n",
       "    // offset() returns the position of the element relative to the document\n",
       "    var x = e.pageX - $(targ).offset().left;\n",
       "    var y = e.pageY - $(targ).offset().top;\n",
       "\n",
       "    return {\"x\": x, \"y\": y};\n",
       "};\n",
       "\n",
       "/*\n",
       " * return a copy of an object with only non-object keys\n",
       " * we need this to avoid circular references\n",
       " * http://stackoverflow.com/a/24161582/3208463\n",
       " */\n",
       "function simpleKeys (original) {\n",
       "  return Object.keys(original).reduce(function (obj, key) {\n",
       "    if (typeof original[key] !== 'object')\n",
       "        obj[key] = original[key]\n",
       "    return obj;\n",
       "  }, {});\n",
       "}\n",
       "\n",
       "mpl.figure.prototype.mouse_event = function(event, name) {\n",
       "    var canvas_pos = mpl.findpos(event)\n",
       "\n",
       "    if (name === 'button_press')\n",
       "    {\n",
       "        this.canvas.focus();\n",
       "        this.canvas_div.focus();\n",
       "    }\n",
       "\n",
       "    var x = canvas_pos.x * mpl.ratio;\n",
       "    var y = canvas_pos.y * mpl.ratio;\n",
       "\n",
       "    this.send_message(name, {x: x, y: y, button: event.button,\n",
       "                             step: event.step,\n",
       "                             guiEvent: simpleKeys(event)});\n",
       "\n",
       "    /* This prevents the web browser from automatically changing to\n",
       "     * the text insertion cursor when the button is pressed.  We want\n",
       "     * to control all of the cursor setting manually through the\n",
       "     * 'cursor' event from matplotlib */\n",
       "    event.preventDefault();\n",
       "    return false;\n",
       "}\n",
       "\n",
       "mpl.figure.prototype._key_event_extra = function(event, name) {\n",
       "    // Handle any extra behaviour associated with a key event\n",
       "}\n",
       "\n",
       "mpl.figure.prototype.key_event = function(event, name) {\n",
       "\n",
       "    // Prevent repeat events\n",
       "    if (name == 'key_press')\n",
       "    {\n",
       "        if (event.which === this._key)\n",
       "            return;\n",
       "        else\n",
       "            this._key = event.which;\n",
       "    }\n",
       "    if (name == 'key_release')\n",
       "        this._key = null;\n",
       "\n",
       "    var value = '';\n",
       "    if (event.ctrlKey && event.which != 17)\n",
       "        value += \"ctrl+\";\n",
       "    if (event.altKey && event.which != 18)\n",
       "        value += \"alt+\";\n",
       "    if (event.shiftKey && event.which != 16)\n",
       "        value += \"shift+\";\n",
       "\n",
       "    value += 'k';\n",
       "    value += event.which.toString();\n",
       "\n",
       "    this._key_event_extra(event, name);\n",
       "\n",
       "    this.send_message(name, {key: value,\n",
       "                             guiEvent: simpleKeys(event)});\n",
       "    return false;\n",
       "}\n",
       "\n",
       "mpl.figure.prototype.toolbar_button_onclick = function(name) {\n",
       "    if (name == 'download') {\n",
       "        this.handle_save(this, null);\n",
       "    } else {\n",
       "        this.send_message(\"toolbar_button\", {name: name});\n",
       "    }\n",
       "};\n",
       "\n",
       "mpl.figure.prototype.toolbar_button_onmouseover = function(tooltip) {\n",
       "    this.message.textContent = tooltip;\n",
       "};\n",
       "mpl.toolbar_items = [[\"Home\", \"Reset original view\", \"fa fa-home icon-home\", \"home\"], [\"Back\", \"Back to previous view\", \"fa fa-arrow-left icon-arrow-left\", \"back\"], [\"Forward\", \"Forward to next view\", \"fa fa-arrow-right icon-arrow-right\", \"forward\"], [\"\", \"\", \"\", \"\"], [\"Pan\", \"Pan axes with left mouse, zoom with right\", \"fa fa-arrows icon-move\", \"pan\"], [\"Zoom\", \"Zoom to rectangle\", \"fa fa-square-o icon-check-empty\", \"zoom\"], [\"\", \"\", \"\", \"\"], [\"Download\", \"Download plot\", \"fa fa-floppy-o icon-save\", \"download\"]];\n",
       "\n",
       "mpl.extensions = [\"eps\", \"jpeg\", \"pdf\", \"png\", \"ps\", \"raw\", \"svg\", \"tif\"];\n",
       "\n",
       "mpl.default_extension = \"png\";var comm_websocket_adapter = function(comm) {\n",
       "    // Create a \"websocket\"-like object which calls the given IPython comm\n",
       "    // object with the appropriate methods. Currently this is a non binary\n",
       "    // socket, so there is still some room for performance tuning.\n",
       "    var ws = {};\n",
       "\n",
       "    ws.close = function() {\n",
       "        comm.close()\n",
       "    };\n",
       "    ws.send = function(m) {\n",
       "        //console.log('sending', m);\n",
       "        comm.send(m);\n",
       "    };\n",
       "    // Register the callback with on_msg.\n",
       "    comm.on_msg(function(msg) {\n",
       "        //console.log('receiving', msg['content']['data'], msg);\n",
       "        // Pass the mpl event to the overridden (by mpl) onmessage function.\n",
       "        ws.onmessage(msg['content']['data'])\n",
       "    });\n",
       "    return ws;\n",
       "}\n",
       "\n",
       "mpl.mpl_figure_comm = function(comm, msg) {\n",
       "    // This is the function which gets called when the mpl process\n",
       "    // starts-up an IPython Comm through the \"matplotlib\" channel.\n",
       "\n",
       "    var id = msg.content.data.id;\n",
       "    // Get hold of the div created by the display call when the Comm\n",
       "    // socket was opened in Python.\n",
       "    var element = $(\"#\" + id);\n",
       "    var ws_proxy = comm_websocket_adapter(comm)\n",
       "\n",
       "    function ondownload(figure, format) {\n",
       "        window.open(figure.imageObj.src);\n",
       "    }\n",
       "\n",
       "    var fig = new mpl.figure(id, ws_proxy,\n",
       "                           ondownload,\n",
       "                           element.get(0));\n",
       "\n",
       "    // Call onopen now - mpl needs it, as it is assuming we've passed it a real\n",
       "    // web socket which is closed, not our websocket->open comm proxy.\n",
       "    ws_proxy.onopen();\n",
       "\n",
       "    fig.parent_element = element.get(0);\n",
       "    fig.cell_info = mpl.find_output_cell(\"<div id='\" + id + \"'></div>\");\n",
       "    if (!fig.cell_info) {\n",
       "        console.error(\"Failed to find cell for figure\", id, fig);\n",
       "        return;\n",
       "    }\n",
       "\n",
       "    var output_index = fig.cell_info[2]\n",
       "    var cell = fig.cell_info[0];\n",
       "\n",
       "};\n",
       "\n",
       "mpl.figure.prototype.handle_close = function(fig, msg) {\n",
       "    var width = fig.canvas.width/mpl.ratio\n",
       "    fig.root.unbind('remove')\n",
       "\n",
       "    // Update the output cell to use the data from the current canvas.\n",
       "    fig.push_to_output();\n",
       "    var dataURL = fig.canvas.toDataURL();\n",
       "    // Re-enable the keyboard manager in IPython - without this line, in FF,\n",
       "    // the notebook keyboard shortcuts fail.\n",
       "    IPython.keyboard_manager.enable()\n",
       "    $(fig.parent_element).html('<img src=\"' + dataURL + '\" width=\"' + width + '\">');\n",
       "    fig.close_ws(fig, msg);\n",
       "}\n",
       "\n",
       "mpl.figure.prototype.close_ws = function(fig, msg){\n",
       "    fig.send_message('closing', msg);\n",
       "    // fig.ws.close()\n",
       "}\n",
       "\n",
       "mpl.figure.prototype.push_to_output = function(remove_interactive) {\n",
       "    // Turn the data on the canvas into data in the output cell.\n",
       "    var width = this.canvas.width/mpl.ratio\n",
       "    var dataURL = this.canvas.toDataURL();\n",
       "    this.cell_info[1]['text/html'] = '<img src=\"' + dataURL + '\" width=\"' + width + '\">';\n",
       "}\n",
       "\n",
       "mpl.figure.prototype.updated_canvas_event = function() {\n",
       "    // Tell IPython that the notebook contents must change.\n",
       "    IPython.notebook.set_dirty(true);\n",
       "    this.send_message(\"ack\", {});\n",
       "    var fig = this;\n",
       "    // Wait a second, then push the new image to the DOM so\n",
       "    // that it is saved nicely (might be nice to debounce this).\n",
       "    setTimeout(function () { fig.push_to_output() }, 1000);\n",
       "}\n",
       "\n",
       "mpl.figure.prototype._init_toolbar = function() {\n",
       "    var fig = this;\n",
       "\n",
       "    var nav_element = $('<div/>');\n",
       "    nav_element.attr('style', 'width: 100%');\n",
       "    this.root.append(nav_element);\n",
       "\n",
       "    // Define a callback function for later on.\n",
       "    function toolbar_event(event) {\n",
       "        return fig.toolbar_button_onclick(event['data']);\n",
       "    }\n",
       "    function toolbar_mouse_event(event) {\n",
       "        return fig.toolbar_button_onmouseover(event['data']);\n",
       "    }\n",
       "\n",
       "    for(var toolbar_ind in mpl.toolbar_items){\n",
       "        var name = mpl.toolbar_items[toolbar_ind][0];\n",
       "        var tooltip = mpl.toolbar_items[toolbar_ind][1];\n",
       "        var image = mpl.toolbar_items[toolbar_ind][2];\n",
       "        var method_name = mpl.toolbar_items[toolbar_ind][3];\n",
       "\n",
       "        if (!name) { continue; };\n",
       "\n",
       "        var button = $('<button class=\"btn btn-default\" href=\"#\" title=\"' + name + '\"><i class=\"fa ' + image + ' fa-lg\"></i></button>');\n",
       "        button.click(method_name, toolbar_event);\n",
       "        button.mouseover(tooltip, toolbar_mouse_event);\n",
       "        nav_element.append(button);\n",
       "    }\n",
       "\n",
       "    // Add the status bar.\n",
       "    var status_bar = $('<span class=\"mpl-message\" style=\"text-align:right; float: right;\"/>');\n",
       "    nav_element.append(status_bar);\n",
       "    this.message = status_bar[0];\n",
       "\n",
       "    // Add the close button to the window.\n",
       "    var buttongrp = $('<div class=\"btn-group inline pull-right\"></div>');\n",
       "    var button = $('<button class=\"btn btn-mini btn-primary\" href=\"#\" title=\"Stop Interaction\"><i class=\"fa fa-power-off icon-remove icon-large\"></i></button>');\n",
       "    button.click(function (evt) { fig.handle_close(fig, {}); } );\n",
       "    button.mouseover('Stop Interaction', toolbar_mouse_event);\n",
       "    buttongrp.append(button);\n",
       "    var titlebar = this.root.find($('.ui-dialog-titlebar'));\n",
       "    titlebar.prepend(buttongrp);\n",
       "}\n",
       "\n",
       "mpl.figure.prototype._root_extra_style = function(el){\n",
       "    var fig = this\n",
       "    el.on(\"remove\", function(){\n",
       "\tfig.close_ws(fig, {});\n",
       "    });\n",
       "}\n",
       "\n",
       "mpl.figure.prototype._canvas_extra_style = function(el){\n",
       "    // this is important to make the div 'focusable\n",
       "    el.attr('tabindex', 0)\n",
       "    // reach out to IPython and tell the keyboard manager to turn it's self\n",
       "    // off when our div gets focus\n",
       "\n",
       "    // location in version 3\n",
       "    if (IPython.notebook.keyboard_manager) {\n",
       "        IPython.notebook.keyboard_manager.register_events(el);\n",
       "    }\n",
       "    else {\n",
       "        // location in version 2\n",
       "        IPython.keyboard_manager.register_events(el);\n",
       "    }\n",
       "\n",
       "}\n",
       "\n",
       "mpl.figure.prototype._key_event_extra = function(event, name) {\n",
       "    var manager = IPython.notebook.keyboard_manager;\n",
       "    if (!manager)\n",
       "        manager = IPython.keyboard_manager;\n",
       "\n",
       "    // Check for shift+enter\n",
       "    if (event.shiftKey && event.which == 13) {\n",
       "        this.canvas_div.blur();\n",
       "        // select the cell after this one\n",
       "        var index = IPython.notebook.find_cell_index(this.cell_info[0]);\n",
       "        IPython.notebook.select(index + 1);\n",
       "    }\n",
       "}\n",
       "\n",
       "mpl.figure.prototype.handle_save = function(fig, msg) {\n",
       "    fig.ondownload(fig, null);\n",
       "}\n",
       "\n",
       "\n",
       "mpl.find_output_cell = function(html_output) {\n",
       "    // Return the cell and output element which can be found *uniquely* in the notebook.\n",
       "    // Note - this is a bit hacky, but it is done because the \"notebook_saving.Notebook\"\n",
       "    // IPython event is triggered only after the cells have been serialised, which for\n",
       "    // our purposes (turning an active figure into a static one), is too late.\n",
       "    var cells = IPython.notebook.get_cells();\n",
       "    var ncells = cells.length;\n",
       "    for (var i=0; i<ncells; i++) {\n",
       "        var cell = cells[i];\n",
       "        if (cell.cell_type === 'code'){\n",
       "            for (var j=0; j<cell.output_area.outputs.length; j++) {\n",
       "                var data = cell.output_area.outputs[j];\n",
       "                if (data.data) {\n",
       "                    // IPython >= 3 moved mimebundle to data attribute of output\n",
       "                    data = data.data;\n",
       "                }\n",
       "                if (data['text/html'] == html_output) {\n",
       "                    return [cell, data, j];\n",
       "                }\n",
       "            }\n",
       "        }\n",
       "    }\n",
       "}\n",
       "\n",
       "// Register the function which deals with the matplotlib target/channel.\n",
       "// The kernel may be null if the page has been refreshed.\n",
       "if (IPython.notebook.kernel != null) {\n",
       "    IPython.notebook.kernel.comm_manager.register_target('matplotlib', mpl.mpl_figure_comm);\n",
       "}\n"
      ],
      "text/plain": [
       "<IPython.core.display.Javascript object>"
      ]
     },
     "metadata": {},
     "output_type": "display_data"
    },
    {
     "data": {
      "text/html": [
       "<img src=\"data:image/png;base64,iVBORw0KGgoAAAANSUhEUgAAArMAAAHMCAYAAADGeyCSAAAgAElEQVR4XuydB5hURdq2H3LOOQeJghIEVHIUEAkqi2AgKFF0102mNX6uq/vt+u2/iqCgYkJREQHBQFQySFIQCZIkI3HI+b+eontsmp6Z7p7u6nNOP3Vd42DPOVV17lPdc0+dt97KAhUREAEREAEREAEREAERcCmBLC7tt7otAiIgAiIgAiIgAiIgApDMahCIgAiIgAiIgAiIgAi4loBk1rW3Th0XAREQAREQAREQARGQzGoMiIAIiIAIiIAIiIAIuJaAZNa1t04dFwEREAEREAEREAERkMxqDIiACIiACIiACIiACLiWgGTWtbdOHRcBERABERABERABEZDMagyIgAiIgAiIgAiIgAi4loBk1rW3Th0XAREQAREQAREQARGQzGoMiIAIiIAIiIAIiIAIuJaAZNa1t04dFwEREAEREAEREAERkMxqDIiACIiACIiACIiACLiWgGTWtbdOHRcBERABERABERABEZDMagyIgAiIgAiIgAiIgAi4loBk1rW3Th0XAREQAREQAREQARGQzGoMiIAIiIAIiIAIiIAIuJaAZNa1t04dFwEREAEREAEREAERkMxqDIiACIiACIiACIiACLiWgGTWtbdOHRcBERABERABERABEZDMagyIgAiIgAiIgAiIgAi4loBk1rW3Th0XAREQAREQAREQARGQzGoMiIAIiIAIiIAIiIAIuJaAZNa1t04dFwEREAEREAEREAERkMxqDIiACIiACIiACIiACLiWgGTWtbdOHRcBERABERABERABEZDMagyIgAiIgAiIgAiIgAi4loBk1rW3Th0XAREQAREQAREQARGQzGoMiIAIiIAIiIAIiIAIuJaAZNa1t04dFwEREAEREAEREAERkMxqDIiACIiACIiACIiACLiWgGTWtbdOHRcBERABERABERABEZDMagyIgAiIgAiIgAiIgAi4loBk1rW3Th0XAREQAREQAREQARGQzGoMiIAIiIAIiIAIiIAIuJaAZNa1t04dFwEREAEREAEREAERkMxqDIiACIiACIiACIiACLiWgGTWtbdOHRcBERABERABERABEZDMagyIgAiIgAiIgAiIgAi4loBk1rW3Th0XAREQAREQAREQARGQzGoMiIAIiIAIiIAIiIAIuJaAZNa1t04dFwEREAEREAEREAERkMxqDIiACIiACIiACIiACLiWgGTWtbdOHRcBERABERABERABEZDMagyIgAiIgAiIgAiIgAi4loBk1rW3Th0XAREQAREQAREQARGQzGoMiIAIiIAIiIAIiIAIuJaAZNa1t04dFwEREAEREAEREAERkMxqDIiACIiACIiACIiACLiWgGTWtbdOHRcBERABERABERABEZDMagyIgAiIgAiIgAiIgAi4loBk1rW3Th0XAREQAREQAREQARGQzGoMiIAIiIAIiIAIiIAIuJaAZDY+ty4fgOsB7AZwNj5NqFYREAEREAEREIEkI5ADQBkASwAcT7JrT/NyJbPxGQltAcyKT9WqVQREQAREQAREIMkJtAMwO8kZpF6+m2W2J4A+ABoBKAngFwATAfwDwFHfFVYGsCWNm10EwOGAn+UG8ByAuwEUBrAKwCMA5kYxWGoDWDtz5kxUqlQpitN1igiIgAiIgAiIgAhcTmDbtm1o3749X7wawE/ic4mAm2V2sU9gJwPYAaABgGcArAPQFMAFAH6ZfQHAlKCb/h2A8wGvjQPQBcBfAWwGMBxAZwA3+sQ2kjFTDcDGjRs3olo1/lNFBERABERABERABDJH4Oeff0b16tVZCf/zc+Zq887ZbpbZEgB+DboVfQG8A8A//e6X2UEA3kjnttXzCeu9AMb6jssO4EcA6wF0i/CWS2YjBKbDRUAEREAEREAE0icgmQ3Nx80yG+qKzON9AJTa9wJmZjOS2ScB8IvhBScCKn4WwKMACgI4HcGbTDIbASwdKgIiIAIiIAIikDEByWxyyOxQAKMANAawLEBm9wNgjCxX/n0L4G8AVgcgGe8LU6gZhKkXgI8A1PXN0mY80i4dIZkNl5SOEwEREAEREAERCIuAZNb7MlsOwEoA3wPo4Ltcpq94GsB0X0hCLQCPAygOoElA8DR/ztnXG4IwMcp6BoCWAOalMdKKAuBXYKnIbAaKmQ3rvamDREAEREAEREAEwiAgmfW2zOYH8A2Asj5J5YKwtEoF3ywrF4QxcwFLZmSWi84ozFeU9GT24sWLOHHiBFJSUnD69Gnw/1XcRyBr1qzInz8/ChcujGzZsrnvAtRjERABERAB1xCQzHpXZvMA+AIAF3G1CgofSGuA8virAPjDChhKUD/g//3nhRNmEPHMLMV1//795oslZ86coBSpuI/AuXPnwK98+fKhQoUKyJLFa2Ho7rsn6rEIiIAIeJWAZNabMsudMCb5wgAYWsB0XeEUymxVAAw7YHkKwBMhFoBx1vWxWC8AO378OH755RcjQGXKlEGOHLwMFTcS4B8me/fuxaFDh1C+fHkUKFDAjZehPouACIiACLiAgGTWezLLqUwu3OoK4JYIdtxiPOsanwQz6wELc9SuANDfl9qLrzE1FxeJMY8b24ikpLsAbPfu3Th8+LDJQSuRjQSrM489f/48kwobkS1XjqHbKiIgAiIgAiIQewKSWe/JLLMWMHvB8wCmBl0eY2b59RIASu8i3wIwhhVwprUQgOt9OWT9p1KMO/o2TeCuYcN8kswNGCi6kZR0ZXbr1q2gAF11FSMdVLxAgB8w/MNEO7554W7qGkRABETAmQQks96T2a0A0torlvlhGSLATRAopZRLLhI74NvLmD/nZgiBhbG3FOM7feEGzIrA7Wy5sCzSkq7MbtlyaYfdKlWqRFqvjncoAd1Th94YdUsEREAEPERAMus9mXXy8JTMOvnuxKFvktk4QFWVIiACIiAClxGQzEpmbb4lJLM2aTugLcmsA26CuiACIiACHicgmZXM2hziSS2zixYtwn//+1/Mnz8f+/btQ+7cuVGzZk106tQJ999/v8ngYKt88803aNOmDebMmYPWrVvHrVnJbNzQqmIREAERiIgA015OmjTJ5P7molxmmuFXwYLcG8ndRTIrmbU5gpNWZl966SX89a9/NQJ5zz33oGrVqjh27BgWLlyIMWPGoGHDhvjyyy+t3QvJrDXUakgEREAEEk6Ai6vffPNNMGtQcKHMBsqtG1NjSmYlszbfZEkps5z9bNeuHf7whz/gP//5zxW8mV/3k08+Qf/+zIBmp8RSZplT9uzZs2aTi+CimVk791OtiIAIiEB6BL799lvwc5+Fs7EHDx40u22GKtysqFSpUpcJbtGiRR29+Y1kVjJr8xMgKWWWYQQrVqzAjh07Qgpf8A3gB8yzzz6Ljz/+GDt37jQfKAMHDsRjjz2WuiOaX0YnT56M6dOnY/x4ZlCDCVkYMWKE2UbWX3799Vcj0lOnTjXnd+vWDbfddhtuvfXWK8IMJk6ciP/93//FDz/8YPraoUMHcFa5YkWmIb5UKleujObNm6Nt27bm2E2bNpm+sj7JrM23k9oSAREQgYwJ7NmzxzwBvHDhgnkqePfdl3asZ153/l7yf/E4HhOq5MmTx0iwfwaX3xkq55QimZXM2hyLSSez3NKVmwZQHseNG5chax7PUIS1a9fiySefxDXXXIPFixfjueeew/Dhw41YsvhllmJ5yy23oGvXrli/fj0efvhh9OrVC++8805qWy1atMD333+Pf/zjH6hevTo++ugjzJgxw3yABcbMvvbaaxg2bBgGDBiAnj174ujRo3jmmWdw6tQpI7f+XbzYJmdiixQpgr/97W8oWbKkEdxQ+YE1M5vhLdcBIiACIhA3AgwvoMhyR8ZcuXKZz/hChZhS/srCz3UKLX83cCKF348cOZJm34oXL54ad0u55e+CRG1BL5mVzMbtTRSi4qSTWX6AlC5dGo8++iheeOGFy5BQXANL9uzZ8d5776Fv377gI6GWLVum/vj55583s7X8cOEHhl9meWyguD7wwAN44403cPLkSfNIiNJ600034cMPP0Tv3r1T6+vcuTO++uqrVJll/C4/jG6//Xa89dZbqcdRRrlIjTOwDz30kHmd4soFbJs3bzbXll6RzNp8e6ktERABEbicwOzZszFv3jzzIp/KNWjAjT3DL5zU8M/cUnB37dplJjNCFW6Qw98jgfG3+fMzlX38i2RWMhv/UfZbC5JZHwv+9RucvYAfEP369cOCBQvAN2ZgWblyJZo0aQKGFfADyS+znGXlTKy/vP766xg6dKgJ8qdo/s///I/5otwGbhFMAWaMrn9m1i+9M2fORKtWrS5rm4vTuMUwQxD8MstHVfyQzKhIZjMipJ+LgAiIQHwIUD656IvrGvhUrk+fPpmOe2UYAiczAgWXWRLSKpwF9mdN4PeyZcvGZfZWMiuZjc+7KHStSSezaYUZ8PVVq1YZSqNHjzaPgSiznDGlUKZVOGvKMAC/zFJC27dvn3r422+/bX5OieQMKh8pTZgwAYybDSyclWVbfpllCIQ/jipU25wl5myxX2abNWsWVtiEZNbm20ttiYAIiMAlAvwdw98t/OxnbCvTP/pDxWLNiJMl/rAE/3eGpwUXPi3kU8pQi4Uz2yfJrGQ2s2MokvOTTmYJp2PHjuDMaloLwBiXyhACyiyFcunSpWZBVahCQWWcUrgyG+7MrF9uKcN16tS5oml+CDLcwC+zXAD2/vvvZ3jvJbMZItIBIiACIhBzApzoYOpHFi7Ovfbaa2PeRloVciaY2RICF5cx5I4hcnxyGI8imZXMxmNcpVVnUsrsrFmzTFaAtFJzBcosBXHQoEFYvXo1atWqlea9CVdmw42ZTUlJMY+C2EcuNkuv+LMZSGZtvnXUlgiIgAiER2D79u0YO3asCS/g7xGGonFWNJHlzJkzJrc6U3zFo0hmJbPxGFeS2SACXEDFxyvMVMBFW1WqVDFZAjZs2GBSaflXjTIeiWEDfGP++c9/Rr169cAPAaa/mjJlitm9JW/evGHPzLIbzGbAbARcRJZeNgPG2zJjAtOAMQSBsU58ZMTwAu4Sduedd5qrkszafMuoLREQAREInwCf8DEzDWdGmU6L4QW2FmGF38vYHymZlczGflSlXWNSzsz6cXBhF7ez5Xd/HBMf3d98883m0Yt/QRgl98UXXzS5Y/mYPl++fCbtVZcuXfDEE0+AWQ/CnZll22zr97//vckzy20MuYCMWQt69OhxRZ7ZL774Av/617+wfPlyE3PFVamU4b/85S+4+uqrJbM23y1qSwREQAQiJMCQsSVLlpizmGIxVNhYhFW64nDJrGTW5kBNapm1CdopbSlm1il3Qv0QARHwOoFt27aB6x5YKLGU2WQpklnJrM2xLpm1SdsBbUlmHXAT1AUREAHPE2A4GsMLDh06ZJ7mMbyAIWnJUiSzklmbY10ya5O2A9qSzDrgJqgLIiACnicwbdo0LFu2zFznHXfcke4CYi/CkMxKZm2Oa8msTdoOaEsy64CboC6IgAh4mgB3Y+TukSxMwcVUXMlWJLOSWZtjXjJrk7YD2pLMOuAmqAsiIAKeJXD69GmMGjUKR44cMVkLGF7ALAbJViSzklmbY14ya5O2A9qSzDrgJqgLIiACniXAlI3clIeF29XWqFHDs9ea3oVJZiWzNge+ZNYmbQe0JZl1wE1QF0RABDxJYOPGjfjggw/MtdWvXx/du3f35HWGc1GSWclsOOMkVsdIZmNF0iX1SGZdcqPUTREQAVcROHnypAkvOHr0KAoWLIhhw4Yhd+7crrqGWHZWMiuZjeV4yqguyWxGhDz2c8msx26oLkcERMARBLgb5Pfff2/6cvfdd5uNdZK5SGYlszbHv2TWJm0HtCWZdcBNUBdEQAQ8RWD9+vVmh0iW6667Drfccounri+ai5HMSmajGTfRniOZjZacS8+TzLr0xqnbIiACjiRw4sQJjBw5EsePH0fhwoXNVui5cuVyZF9tdkoyK5m1Od6SVmbfeustvPDCC+B2g9yV5fDhwza5p9vWM888g2effRYXL16MeZ8kszFHqgpFQASSmMCnn36KNWvWGAL9+vVD5cqVk5jGb5cumZXM2nwjJKXM7tq1CxUrVsRdd92FQYMGmSD9Ro0a2eQumXUMbXVEBERABKIjsHbtWnzyySfm5CZNmqBz587RVeTBsySzklmbwzopZfbbb79F69atMWvWLLRt29Ym77Da0sxsWJh0kAiIgAgkjADDChhewDCDokWLYsiQIciZM2fC+uO0hiWzklmbYzLpZLZ///545513LmPMR0Nvv/02Ro8ejVdffRUM5ufOLcwR+K9//ct8UPlLlixZ8Le//Q1FihTByy+/jF9//RVt2rTB2LFjzSEPPPAAvv76a5Oahf9+5JFHUs/lsU888QTmzJmDHTt2oFixYmjRooVpo1y5cqnHhZLZc+fOmePYd4YK8Fwm5H7++ecjSv+iMAObby+1JQIi4EUCDAHjjOxPP/1kLm/AgAHmaZ/KbwQks5JZm++HqGT2zPEz2L9uv81+ptlW8VrFkTNf+H8Nb9q0CV988QV+//vfG3Ft2LAhSpQogTFjxuCll14yr3fs2BE7d+404lm+fHksXLgQ2bJlM32gzPJDq27dumabwr179+Khhx5C06ZNTX5BPma64YYbzAcd5XjatGm4+eabzbmUZP4l37JlS9Mmwx3YJiV33bp1qVIaSmZ79+6Nzz//3Mgx2+KH6JNPPol27dqBMVvhFslsuKR0nAiIgAiEJrB69WpMnDjR/PDGG2/ETTfdJFRBBCSzklmbb4qoZHbX8l0Y02iMzX6m2dagZYNQ9rqyEfVl5syZ6NChg5khZbjB1q1bTU7Ap59+Gk899VRqXQsWLEDz5s3x2WefoUePHqkyW716dTBWKnv27Oa1P/3pT/jPf/6D5557zggwC2dSy5Ytiy5duqTO2gZ38vz580ZoKcf8YLz11lvNIcEyO2/ePCPAnJXt27dvajXjxo0z+Qy5dSJ3mwmnSGbDoaRjREAERCA0AU5acFLi1KlTKF68OAYPHowcOXIIl2Q2rDGQJayjdFCkBCSzrVubWVl+IPEvyUqVKl3GkCEGAwcOxP/93/+lyixnZDmr6y+cgWW81NKlS9G4cePU1zmDykwJlGd/4Q4xr732GjhDzJgrf2FmhUcffTSkzDKs4d///jcOHTp0WUwW/79kyZL473//a2aUwymS2XAo6RgREAERuJIAwwuYT3bDhg3mKd29995rnt6pXElAM7OhR4VkNj7vlqhk1s1hBsQYPDPLuFP/jGoozJwN9cfZ+mNm//73v6ceynhbxkxxX+5q1Yj0UuGsL2do58+fb/7/lVdeMdLJmVyGMjDu9sKFCyYsgbPCnJFlCZ6ZZcaFN954I80RwNlkpvIKp0hmw6GkY0RABETgSgKrVq3C5MmTzQ/41I5hXiqhCUhmJbM23xtRyazNDsajrWCZ5Uwp99GePn26EczgwsVWVapUMS9nRmabNWuGPHnyXDZTS7msWrVqujLLGVvOvjLcIFRhOAO/wimS2XAo6RgREAERuJxASkqKCS84ffq0eSLGSQZ/qJlYXUlAMiuZtfm+kMy2bm0e+deoUcMs2LrvvvvS5Z8ZmW3QoAFKly6NL7/8MrUNzqoy1ja9mdlvvvnGZEyghGd2JkAya/PtpbZEQAS8QIDhBVyjwN8VWbNmNaFnZcqU8cKlxe0aJLOS2bgNrhAVS2ZbtzZYHn/8cbOI68EHH0SrVq1MZoHt27djxowZ5oOLMpnZmdnHHnsM//znP8EQBSbYnj17NiZMmGDCE9KTWbZ75513GglmiALP5QcqF64xMwPrpIyHUySz4VDSMSIgAiLwG4Hly5dj6tSp5gX+fmAImUr6BCSzklmb7xHJbMCH0nvvvWcWdjHtCmdgK1SoYGZC+ZjfH+SfmZnZkydPGhmlwHIlLD8UGUebUZgBBwRja3kst+Flii/u/c1tExl7ywVihQoVCmvcSGbDwqSDREAERMAQ4FbnXLh75swZ82SNkxv+VI1ClDYByaxk1ub7Iyll1iZgp7UlmXXaHVF/REAEnEqA4QXvvvuueQrGp2HMelOqVCmndtdR/ZLMSmZtDkjJrE3aDmhLMuuAm6AuiIAIuIIA0y361zhw63Pu2KgSHgHJrGQ2vJESm6Mks7Hh6JpaJLOuuVXqqAiIQAIJHDx40OQEP3v2rMkWw8XBnJ1VCY+AZFYyG95Iic1RktnYcHRNLZJZ19wqdVQERCBBBLhGgfnDuQiY8bHcFIdbkKuET0AyK5kNf7Rk/kjJbOYZuqoGyayrbpc6KwIikAACixYtMnnHWbj1OXdzVImMgGRWMhvZiMnc0ZLZzPFz3dmSWdfdMnVYBETAIoH9+/eb8ILz58+bjDb9+/dXeEEU/CWzktkohk3Up0hmo0bnzhMls+68b+q1CIhA/AkwvIDpD3fu3Gl29xo6dCi4A6RK5AQks5LZyEdN9GdIZqNn58ozJbOuvG3qtAiIgAUC8+fPx6xZs0xLnTp1wvXXX2+hVW82IZmVzNoc2ZJZm7Qd0JZk1gE3QV0QARFwHIF9+/aZLc0ZXlCpUiX069fPbJ6jEh0ByaxkNrqRE91ZktnouLn2LMmsa2+dOi4CIhBjAky7dejQIfP1zTffYM+ePciRIweGDRuGIkWKxLi15KpOMiuZtTniJbM2aTugLcmsA26CuiACImCFAGNgU1JSjKxyW9rA7/z38ePHr+hHly5d0KhRIyv983IjklnJrM3xLZmNE20+nnr66afxzDPPxKmF6KqVzEbHTWeJgAg4jwC3mz158uQVkuoX1yNHjoBCG07hhgjXXXcdOnfurPCCcIBlcIxkVjIbg2EUdhWS2bBRRXagZDYyXjpaBERABEIRYCgA5dQvqMGzq2fOnAkbXL58+Uz4AL8KFy582feCBQsqBVfYJDM+UDIrmc14lMTuCMls7FheVpNkNk5gVa0IiIBnCXDx1fLly01qLH8s67Fjx8K+Xsa7piWrlNecOXOGXZcOzBwByaxkNnMjKLKzk1Jm+ej/2WefxU8//YQ//OEPYDoW5hLkawMGDMB7772H559/Hjt27EDjxo3xxhtv4KqrrjJkx48fb1a8rl692jzeql69Oh566CGz8jWwhJLZ77//Hk8++STmzZuHU6dOoWHDhnjxxRfRokWLyO5aJo5WmEEm4OlUERCBuBFgOMCnn36KtWvXptkGP1cLFSoUcmaVEps3b16FCMTtDkVWsWRWMhvZiMnc0VHJLB/rcJcUJ5TixYtH/Ne2X2br1q2LQYMGoXbt2hg5ciQmTZqExx57zKxqffjhh8HHW5Rd7gKzZMkSc7n/+Mc/zOOpatWqmUdSc+fOxQsvvIBXXnnFJNj2l2CZXbFihZHWBg0aGPnlhy53mfn666+xcOFCE6tlo0hmbVBWGyIgApEQYOwrP39/+OEHcxo/10uVKnWZtFJWGQqQLVu2SKrWsQkiIJmVzNocelHJ7K5duzBmzBib/UyzLcpo2bJlI+qLX2bfeecd9O3b15zLR1olSpQwf/VT+PihyfLyyy8bod26davJPRhYOJPAL6ZxWbp0KTjzmpbMtmvXDuTGY/yPuvhIjUJds2ZN80Fuo0hmbVBWGyIgAuESoMhOmzbNhBewcKKgd+/ektZwATr0OMms92S2J4A+AJjroySAXwBM5CQfgKMBl8ukdv8C0ANAHgCLAPwRwOogJLkBPAfgbgCFAawC8AiAuVGM6aSWWSbJpsD6C6WYM6f8YPWX6dOno2PHjiY0oHnz5ti4cSOeeuopMyPLnIT+lbK5cuUyoQOhZJbhCAUKFMDjjz9uzg0sf/zjHzFu3DgcPHgwitsX+SmS2ciZ6QwREIH4EKDIzpgxA4sW8dcdULlyZdx5550m16uKuwlIZr0ns4t9AjsZwA4ADQAwX9M6AE0BMG8ItxmZx/cygL9yohDAYwDqAKjvO89PZhyALr7jNgMYDqAzgBt9YhvJOyAqmfVKmAHDCLj/tr/wg5TC+v7776e+xpCDNm3amA/cG264wcykMkSA4QiMo+Us66hRo8x+3vxgDiWzXMxQvnz5dO8LZ2kZthDvIpmNN2HVLwIiEC4Bfr5+++235nB+Rt59993gxICK+wlIZr0ns5z6+zXosvhs+x0A7QDMBtAdAJ8ztwUwx3dsIQBbANCsfu97rZ5PWO8FMNb3Gm3sRwDrAXSL8C0QlcxG2IbjDveHGUQqs5TVm266KXWW1n9hXPz17rvvpimzTMzNsIXhw4enhjUEQ7GVpFsy67jhqA6JQFISWLBgAWbOnGmuvXTp0mYRbe7cfPCo4gUCklnvyWyoK6oNgEs2KbXvAXgTQCcA5YIOpvC2BuAP1nwSAL8YXnAi4NhnATwKgIGepyN4I0hmI5iZpZT26NEDixcvxvXXX28wM9a2SpUqYHLutGZmeVzr1q3Nz+fMmWNlBjatMSCZjeDdoUNFQATiQoBrDL788ktTN0O9+vfvb554qXiHgGQ2OWSWy95HAWgMYBkAhiIcAdAx6PIfBvBPAAUAMNneeF+YQs2g43oB+AhAXd8sbbjvCMlsBDJbr149sziB6biYxoty+/e//x0nTpzApk2b0pVZZjNo2bIlbrzxRtx3330oU6aMyQjB1xliwBRdNopk1gZltSECIpAWgVWrVmHyZEbdwWQrYDpErilQ8RYByaz3ZZazrysBcOl7B9/lbgCwAkDvoMsfCIBpAyoC2A5gum/29Yag49oDmAGgpS/2NhTFogD4FVhY7ywuaqKkBRevik+0YQbt27fH7Nmz8ec//xnr1q0zWRSY6YCLtyi36c3Mki3z2vI41sGZXM5IMNcsU3rdfPPNVj7JvHpPrcBTIyIgApkisGbNGkycONF8VjL0iiLLVIcq3iMgmfW2zOYH8A0A5pJqErO93aUAACAASURBVLCwy4bMctHZ06HwJpvMeu9jI/wrksyGz0pHioAIxI7A+vXr8fHHH5sMMPnz5zehBdysRsWbBCSz3pVZptv6AgAXcbUKSrnFjPyHwwgzYCgBsxtEE2agmVlvfmZEdFWS2Yhw6WAREIEYENi8eTM++OADE1KVJ08eI7IlSzJTpYpXCUhmvSmzTJrHbAUMA2BoAWNkA8tbAG5idpKg198G0CZgARiTlD4RYgEYZ12ZyksLwLz6yRCj65LMxgikqhEBEQiLwC+//GLSHTJ7DNNucaOaSDe6CashHeQoApJZ78ksk4dy4VZXALcwRjXEJXKjhM98mQsuJd27JKZMzfUBgAd9rzFHLWNr+/tSe/Flpubixgo/+9qIZEAn5QKwSAB57VjJrNfuqK5HBJxLgLsecqdF5ibnRgj33HOP2R5cxfsEJLPek1lmLWD2gucBTA26PG6iwC8K73wAfJcHbppwrS8sgYu//IVizKwHPI6yO8wnydyAgaIbSZHMRkLLA8dKZj1wE3UJIuACAnv37jUiyx0Qs2XLhrvuusukMVRJDgKSWe/J7NaAMIHgq2N+WIYIsDCm9d++7WyZOZr7+/3Jl/Ug8DzG3lKM7/SFGzArArez5cKySItkNlJiLj9eMuvyG6jui4ALCBw4cABjx4416Qu5s+Edd9yBGjVquKDn6mKsCEhmvSezsRob8agnXZndtm2beTzEtF1ZsnDHXRU3E2A6HH7AcAveSpX8+3C4+YrUdxEQAacROHz4sBHZlJQU83ujZ8+euPrqq53WTfUnzgQks5LZOA+xy6pPV2b51/W+fftMYmvmROWjIhV3EqDIcpMGfhUtWhSlSpVy54Wo1yIgAo4lQIF9++23zc6ILNwxkZvNqCQfAcmsZNbmqE9XZplGZefOneZREf/Czp49u4TW5t2JYVvnzp0Dv/Lly4fy5csndEvdGF6WqhIBEXAIAf6eoMjyD2aWLl26oFGjRg7pnbphm4BkVjJrc8ylK7PsCGf0jh07Zh4ZUYaY8FrFfQQYt5Y7d24zw85/q4iACIhArAhwkRcXe3HRF0uHDh3QtCnXJKskKwHJrGTW5tjPUGZtdkZtiYAIiIAIuIvA6dOn8d5775mneCytW7dGq1bcF0glmQlIZiWzNse/ZNYmbbUlAiIgAh4iwI0Qxo0bBy4WZuFsbPv27bVg2EP3ONpLkcxKZqMdO9GcJ5mNhprOEQEREIEkJ8Cws/Hjx2PTpk2GROPGjdG5c2eJbJKPC//lS2YlszbfCpJZm7TVlgiIgAh4gAAXB0+YMAHr1q0zV1O/fn1069ZNIuuBexurS5DMSmZjNZbCqUcyGw4lHSMCIiACImAIcBHwpEmTsHo1d1EH6tSpg9tuu00LSzU+LiMgmZXM2nxLSGZt0lZbIiACIuBiAsxu8/nnn2PlypXmKrirV69evZSy0cX3NF5dl8xKZuM1tkLVK5m1SVttiYAIiIBLCVBkv/rqKyxdutRcQdWqVdGnTx+Tf1xFBIIJSGYlszbfFZJZm7TVlgiIgAi4lMCsWbMwf/580/uKFSvirrvuMltjq4hAKAKSWcmszXeGZNYmbbUlAiIgAi4kMG/ePMyePdv0vGzZsrjnnnvMJiwqIpAWAcmsZNbmu0Mya5O22hIBERABlxFYvHgxvv76a9PrkiVLol+/fsibN6/LrkLdtU1AMiuZtTnmJLM2aastERABEXARgRUrVpgFXyzFihVD//79kT9/fhddgbqaKAKSWcmszbEnmbVJW22JgAi4lgC3bT127Bhy5MhhYkX5PVu2bK69nlAdZ/7YM2fOmC9uhuAX2UKFCmHAgAHgdxURCIeAZFYyG844idUxktlYkVQ9IiACniTAvKp81M6YUcpeYKHMBsqtX3L53f/v4J8HHuP/WajXsmbNGpKnXzi5laxfPP3/Dv7Onwe+ltE5vNbgUqBAATMjW7RoUU/eX11UfAhIZiWz8RlZoWuVzNqkrbZEQARcReDQoUNmg4BffvnFer8pyn7JZVosv5iGEs54dY4hBX379kWJEiXi1YTq9SgByaxk1ubQlszapK22REAEXEGA8sh4US584mwmS4UKFdCiRQuzA1bwjGc4/+8/xl9fPEFkyZLlihnj4Nnf9GaF/T9j5gKl34rnnfJu3ZJZyazN0S2ZtUlbbYmACDiewNGjRzFlyhTwlzELZ0jbtGmDG2+8MSZbtlKUKbQZhQQECjLlNFQIQ1ohC+wzz1ERgUQRkMxKZm2OPcmsTdpqSwREwNEE1qxZg2nTpuHUqVOmn6VLl0aPHj1QqlQpR/dbnRMBpxGQzEpmbY5JyaxN2g5sa+vWrZg6dSoaNGiAZs2aObCH6pIIxJ/AiRMn8MUXX+DHH380jXFWs3nz5mjVqpXnMhbEn6ZaEAGYJxvVq1cnCv7n0mMOFeh5SXwGgWQ2PlxdUSsfY7766qtISUkxv7yHDBmiGShX3Dl1MpYENmzYYFJQMe0WC/Opcja2fPnysWxGdYlAUhGQzGpm1uaAl8zapO2wtqZPn45Fixal9qpKlSpmm0rF2jnsRqk7cSHAvLFc4LVy5crU+ps0aYL27dubxVMqIiAC0ROQzEpmox89kZ8pmY2cmSfO2LNnD0aPHg0uRsmXLx+OHz9urqt3796oWbOmJ65RFyECaRFgeM3kyZNx+PBhcwg3A+jevTv4B52KCIhA5glIZiWzmR9F4dcgmQ2flWeOpMC+9dZb2LFjB3LlyoWhQ4fi3XffBXNqMjH6sGHDkD17ds9cry5EBPwEmEGAmx9wEwR/qV+/Pjp27IjcuXMLlAiIQIwISGYlszEaSmFVI5kNC5O3Dlq2bJlZsc3SuXNn8NHqTz/9hI8//ti81qFDBzRt2tRbF62rSXoCu3btwmeffYb9+/cbFnwi0bVrVz2JSPqRIQDxICCZlczGY1ylVadk1iZtB7TFRS4jRowA4wWZEP2+++4zuTM5W8vZWT5+5Wztgw8+aH7Zq4iA2wlw+9d58+Zh7ty5Zpyz1K5dG126dNEYd/vNVf8dS0AyK5m1OTglszZpO6CtiRMnYvXq1WaR16BBg1CmTJnUXgXG0TZs2NDMWqmIgJsJ/Prrr2Y2dvfu3eYyGErApxHXXHONFjq6+caq744nIJmVzNocpJJZm7QT3NamTZvw/vvvm15cf/316NSp0xU9YooibuNJ2R08eLBJGq8iAm4jwC1nGRfL+FjOzLJcddVV6NatGwoWLOi2y1F/RcB1BCSzklmbg1Yya5N2Ats6d+4cRo0ahYMHD6JAgQIYPny4CScILsxq8Morr5gwhMqVK6Nv376awUrgfVPTkRPgQkZmKti2bZs5mWm2GAfeqFEjjeXIceoMEYiKgGRWMhvVwInyJMlslODcdtqcOXNMzCBLr169TMxgWmXhwoWYMWNGWMe6jYP6610CjIflUwXmjmXWApYKFSqYDRCYpUNFBETAHgHJrGTW3mgDJLM2aSeoLa7efu2118zjVm4v2KdPn3RnqHjcyJEjzSxukSJFcP/99ytVV4LunZoNj8DRo0cxZcoUs4UmS7Zs2dCmTRvceOONZoGjigiIgF0CklnJrM0RJ5m1STsBbQVmKWDuWIYXFC5cOMOerF+/HuPHjzfHtWvXzuxTryICTiSwZs0ak2ru1KlTpnulSpXCrbfeqq2ZnXiz1KekISCZlczaHOySWZu0E9DW999/j0mTJpmWuU1ns2bNwuoFJZiLxTZv3oycOXOaVF358+cP61wdJAI2CJw4cQJffPEFfvzxR9McFy3yj65WrVqZmVkVERCBxBGQzEpmbY4+yaxN2pbbOnnypMkpy1/6JUuWNNkJIvklv2/fPhOeQLFt0KCBWQmuIgJOILBx40YTVsC8ySzFihUzsbHly5d3QvfUBxFIegKSWcmszTeBZNYmbctt+dNssdkBAwagYsWKEfeAj2+5YxgLZTgwL23ElekEEcgkAWbZ4AKvlStXptbEHez41IFZC1REQAScQUAyK5m1ORIlszZpW2zrl19+wdixY02LmZlV5awuU3UxHpEy3L9/f6U3sngf1dRvBLg7HVNuHT582LxYqFAhdO/eHVWqVBEmERABhxGQzEpmbQ5JyaxN2pbaYjaC0aNHg2ECefPmxQMPPIA8efJE3TqTz3M2jKVnz56oU6dO1HXpRBGIlABzJM+aNctsguAv9evXR8eOHc2OXioiIALOIyCZlczaHJWSWZu0LbW1YMECzJw507TGOMJ69eplqmXKMTdcOHDggJkNoxwzM4KKCMSbwK5du8x2tEwvx5IvXz6zzXLNmjXj3bTqFwERyAQByaxkNhPDJ+JTJbMRI3P2CXwE++qrr4KzWbHcwWvDhg348MMPzcW3bdsWLVq0cDYI9c7VBPgH1Lx588xGH1yAyMKNPrp06WKEVkUERMDZBCSzklmbI1Qya5N2nNviL30KJ1d6M2vB0KFDUbx48Zi0yrrHjRuHTZs2mYU2TNXFbXFVRCDWBH799VczG7t7925TNbddvvnmm3HNNdcoXjvWsFWfCMSJgGRWMhunoRWyWsmsTdpxbuunn37Cxx9/bFpp2bKl2QEploWSwXADii1DFxjCoCICsSLAccW4WMbHcmaWpWrVqmaRV8GCBWPVjOoRARGwQEAyK5m1MMxSm5DM2qQdx7aYsojhBdzWk/vQDxs2LC5xrV9++SWWLl1qrmTQoEEoW7ZsHK9KVScLgUOHDplMBdu2bTOXzNn/Dh06oFGjRpqNTZZBoOv0FAHJrGTW5oCWzNqkHce2vvrqKyxZssS0cM8995gZrXiUwFRdFSpUMPlrufOSighEQ4CzsStWrMD06dNx5swZUwXHFWf9+UeZigiIgDsJSGYlszZHrmTWJu04tcXYwjFjxpjH/4wrvO222+LU0qVqKc2UZ5bbb78ddevWjWt7qtybBPgUgRt7MMabhXHerVu3RtOmTZE1a1ZvXrSuSgSShIBkVjJrc6hLZm3SjkNbFy5cwJtvvgmmMOJCGabNyp8/fxxa+q1KxjNym1umS2IsI9vU7ktxRe65ytesWYMvvvgC3HKZpVSpUrj11lvNdxUREAH3E5DMSmZtjmLJrE3acWiL8auMY2Vh2iLGGNoo/KBidgMWzqa1atXKRrNqw+UEGKZCif3xxx/NlTBEpXnz5mb8cGZWRQREwBsEJLOSWZsjWTJrk3aM2+JjWi764uKv8uXL495777Uav/rBBx+YR8ScleXsrFacx/gGe6w6jpUpU6bg2LFj5sqKFStmYmM5dlVEQAS8RUAyK5m1OaIlszZpx7itCRMmmBkuzm4NHjwYpUuXjnEL6VfHMAOm6mKow7XXXmseE6uIQDAB/rHFBV5c6OUvTZo0Qfv27RWeouEiAh4lIJmVzNoc2pJZm7Rj2FbgY/4bb7wRN910UwxrD7+qwCwK9913n2bZwkeXFEcy1dakSZPAnelYOHvPvLHxyraRFFB1kSLgAgKSWcmszWEqmbVJO0ZtnT171syIMjcn5WD48OHImTNnjGqPrBou4HnllVfMQp5y5cqBQqtUXZEx9OLR3E6Zmx9wEwR/qV+/Pjp27IjcuXN78ZJ1TSIgAgEEJLOSWZtvCMmsTdoxaouSMH/+fFPbHXfcgVq1asWo5uiq+e6778yiHhaGGjDkQCV5CTCzBmdjuWMcS758+XDLLbckfJwm7x3RlYuAfQKSWe/JLFc3PAKAy8zrAcgDoAqArUGXejGN4dYAwKqAnzEBI+sbAoBBkusB/A+AT6MYrpLZKKAl8hQKAtNiMU61Zs2a6N27dyK7Y9pmX15//XXs27cPBQoUMIvBEjVTnHAYSdwBpmybN2+e+eKYYKldu7bJskGhVREBEUgeApJZ78lsawAfAVjOvOAAGNyYlsy+DeD1IAQ/ADgR8NrzAP4C4G++OmkzgwDcAuDS9Fj4RTIbPquEH8lNEd555x2z5SczCDC8oFChQgnvFzuwefNmvPfee6YvLVu2RJs2bRzRL3XCDgH+kcXZWM7KsjDn8c0332w28VDYiZ17oFZEwEkEJLPek1nOpF6apgAGAhiTjsxSVJ9IZ0CWBLAdwIsAng44bhaAEgAifb4rmXXSuz+DvqxcudKkNmLhvvXcKclJZfz48Vi/fj2yZ89uZmedItpOYuS1vvAPLMbFMvSFM7MsXNzVrVs33X+v3WxdjwhEQEAy6z2ZDbyizMrsPQDeBVADwKU9IC+VAQDe4u8RAFsiGG+S2QhgJfJQJpsfMWKEWWjFXZKYistpW34eOHAAI0eONI+YucUtt7pV8S4BLkCcPHmyeVLAwqcF/COLG3doNta7911XJgLhEJDMJrfMHgTAvUg5xcFlwJx9nReAhDOyD/nibgNjbJsAWOILNZgWzkDzHSOZjQBWIg+lNKxadSl02skpsJhPdNGiRaaf3MShQoUKicSmtuNAgLOxfErw9ddf48yZM6YFbnzADRC4EYKKCIiACEhmk1dmGXA4FQCDzioB+CuAq/lEGcA3PiyjAXTzLfwKJGWkFEBfAJcCF68sRQHwK7BUBDCLO/NUq8YqVJxIgDNfb7/NcGrguuuuMyvDnVpOnTplUnVxJrls2bIYOHCgZumcerOi6Bd3nfv888/Nzm8s3IKW2xkz5MVpTwqiuDydIgIiECMCktnkldngKy8AYI0vRrZ5DGT2maA429T2JLMxevfGoRrGITJ7AXfb4opwxqI6PU/n8uXLMXUq/y6Dma2rV49JPFTcToC7zU2bNs2EurAw3IWp2PhdRQREQAQCCUhmJbOBBEbyqTIXB/te/CeAP0QZZqCZWRd+1jDN0ezZs03Pb7vtNrM63OmFMbOjR4/G3r17kT9/fjz44INK1eX0m5ZO/yivzCO8Zg3/toaZaW/WrJmZkeXMrIoIiIAIBBOQzEpmg2X2XgD+LXMYRvAOgOoAfg44sD+AsVoA5q0PlIMHD5qdvribEleI33333a55ZL9lyxa8+y7XKgItWrRA27ZtvXVzkuRq+NSGGTSOHTtmrrho0aJmNpYxsioiIAIikBYByaxk1k+goC/MgJsrtPS9yNRcOwAwhdezAahm8qkfgEin7bQAzKGfRVxk88EHH4AfCJz9GjZsmOsW13z00UdYt26d6T/DIwoXLuxQ2upWMIHTp0+Di/lWrFiR+qMmTZqgffv2JmuBigiIgAikR0Ay602Z7em7rHYAhgK4HwD3euTXt75NEGoCmBOwAIwbI/A1nhMqo8HjAPib5g7fbmBcGHYpUDH8IpkNn5XVIxmfOGHCBNMmH+e2atXKavuxaIypm1599VWTf7ROnTro2dP/NohF7aojXgS44JAbIBw+fNg0UbBgQXTv3t08HVARAREQgXAISGa9KbNpbVVLkeUOYV0BPOqTV27plAJgAYC/A1gahIRBao/5dv0K3M72kvlEViSzkfGycjQzAlAC+WiXqY6GDh1qNiJwY5k5cyYWLOBQBvr3749KlZioQ8WJBBjOwvhsf2o19pGL9zp16uT4RYdO5Kk+iUAyE5DMelNmnTqmJbMOvDNcbPPdd9+ZnvXt2xdVqnD3Y3cWPq5mqq7jx4+jTJkyGDRokGvift1JPLpecxtazsZyW1qWvHnzomvXrqhVq1Z0FeosERCBpCYgmU28zOb0bVjAmdLpHh+NklmH3eCdO3fijTfeML269tprzWIbtxfGXTI3KQu3OW3QoIHbL8kz/WcIyPz58zF37lyzcxsLBZa5jJkKTkUEREAEoiEgmU28zLIHhwBwL85LOZG8WySzDrq3lIkxY8Zgz5495rEuF015QSgCr4vXw1RduXL5s8056AYkWVc4C8vZWM7KsvCedO7c2fwRpe1ok2ww6HJFIMYEJLPOkNmPAWz2xbHG+BY7qjrJrINux+LFi80WoSx8xNuwYUMH9S5zXQncxYw5SrkqXiUxBJgpY8mSJZg1a5ZJ+8bCxV2cNS9UiCH7KiIgAiKQOQKSWWfIbAsA7wP4BMAkALsBBC/iouy6vUhmHXIHU1JSzKIv7nVfoUIFDBgwwHOzY5988gnWrl1rUnUNHz4cRYoUcQj95OkGMxRMnjwZW7cy4x/MwsIOHTqgcePGnhtvyXNXdaUi4DwCkllnyOyl4LFLJa1MBF7Y+kYy65DPgI8//hg//fST2d9+yJAhKFmSKYW9VShSI0aMMKm6ateujV69ennrAh18NZyNXblypZn55x9MLNz4gNsNM2OGigiIgAjEkoBk1hky2y+Mm8qduNxeJLMOuIMbNmzAhx9+aHri9UfwfLTNBUcs/fr1Q+XKlR1wB7zdhaNHj5oFeNzNi4V/MLVp0wZNmzY1/1YRAREQgVgTkMw6Q2ZjfV+dWp9kNsF3hrNkI0eOxJEjR0y84v3334+cOZlQw5uF18tUXcyhW6pUKQwePFhCFcdbzc03pk2bhpMnT5pWyJwZMvhdRQREQATiRUAy6yyZ5bTF1QD4HG4ZgOPxuvEJqlcymyDw/mZnzJiBhQsXmv/t06cPatSokeAexb/5VatWmbhNlrp166Js2bJG5LndLb/y5Mmj+M1M3gbKK/MVr1mzxtTE7ASc9educoxZVhEBERCBeBKQzDpHZocDeBpAcV/cbGPf9rFcEMaUXS/HcyBYqlsyawl0qGb27t2L0aNHm/yeyRRDyvhN5tL1p4QKZpMjRw4jtRTcQMn1/zt//vyS3XTGLcMJpkyZYma/WYoWLWpiY7mwUEUEREAEbBCQzDpDZgcBGAXgLd/GCUzV1cgns39m7ncArWwMiDi3IZmNM+C0qqfQjR07Ftu3bzdhBVzdX7BgwQT1xn6zzHHKWekDBw6YEAsuCgu3cGbRL7qhZJcckzEWlCEcXODFTSr8hVkKmAbNy6Er4Y4bHScCImCPgGTWGTL7E4ApAB4BwGdyZwNktguANwGUtjcs4taSZDZuaNOvePny5Zg6dao5qGPHjrjhhhsS1JPEN0ux5ywipZYZD/jFfwf+/9mzfAuGV/hInULrF91Q35mSykuFeXy5AQLZsfD6u3fvbvLHqoiACIiAbQKSWWfI7CkAN/vCCYJltjWArwDktj044tCeZDYOUDOq8vjx4yZF1alTp1C6dGkMGjQoKWcSM+Lk/zlllzGg6ckuWUZSGKqQluwyxMEtM5nc9GD27NlYtGhR6uXXq1cPnTp1MrvIqYiACIhAIghIZp0hszsAPOULMwiW2SEAHgZwVSIGSIzblMzGGGg41X322Wf44YcfzKEDBw5EuXLlwjlNx6RD4PTp0+nKLv+AiKRwEVqw7PrjePmdopjoLV93794NjiWGbLDkzZvX7BxXq1atSC5Vx4qACIhAzAlIZp0hs68B6ASgLYBtvjCD6wBsB8AkmdMAMHbW7UUya/kObtmyBe+++65plfGMN9/MBwAq8SbAMAXushYYxuAPZ+B35mLlDHC4hTO36S1Sy5cvX9xklwsG582bh7lz55rFgywU2FtuuQVsV0UEREAEEk1AMusMmWUGgwUAuPx3CYCWAJg/iVMe+wA0BXAk0YMlBu1LZmMAMdwq+Ej4tddeM4ue+Jibi770KDhcevE9jgvQKLv+UIZQ3/3iGE5PuEgtPdktUKBAVKEl+/fvN7Ox/kwQuXLlQufOnXHttdfGTZ7DuV4dIwIiIAKBBCSzzpBZ9qIAgIe4PgcA9xY94IuV/Q+AFI8MW8msxRv57bff4ptvvjEt9uzZE3Xq1LHYuprKDAHO2nL2Nj3ZjWSRGrMtZLRILTAfLNtfsmQJuIMa/yhi4eKubt26mXAIFREQARFwEgHJrHNk1knjIl59kczGi2xQvZyNHTVqlElBVa1aNdx5552aSbPE3kYzlM0TJ06kG7fLuN5ICmdv/XG7lGimcWNhJoYOHTqYMJVEx+1Gcj06VgREIHkISGadJbNM/FkXAFfocFEYt9M56qHhKJm1cDMpOu+//z42b95sRIRb1hYpUsRCy2rCSQSYcSG9jAyU4YxK+fLlzQYIxYpxU0IVERABEXAmAcmsc2SW2Qy4yCs/d4P0dYsi+y8Af3fm8Im4V5LZiJFFfsLq1asxceJEc2Lbtm3RokWLyCvRGZ4nwDCFtGSXs7rXXHMNmjZtGlWsrefh6QJFQAQcRUAy6wyZfRbAkwDeADAewF4ApQD0AXAvgOcAPOOokRNdZySz0XEL+yzmR3311VfB1FDFixfH0KFDERgLGXZFOlAEREAEREAEXEJAMusMmd0FYByAv4bozr8B3AmgrEvGVHrdlMzG+SZyly/u9sXSv39/VKpUKc4tqnoREAEREAERSCwByawzZJYZ1rsDmBmiO+0BTAbghYSOktk4vt937NiBN9/kzsdA/fr1zfaiKiIgAiIgAiLgdQKSWWfI7GwAMwC8EKI7jwHo4NtQwe3jUTIbpzvInKSjR4/G3r17wd2kHnjgAbNDk4oIiIAIiIAIeJ2AZDZxMps1oOmrAXwGYDSATwJiZnsBGOSbtV3rgcEomY3TTVy4cCFmzODfQzC5QBs0aBCnllStCIiACIiACDiLgGQ2cTLLfSED97NkBoNQ+1vydR6b3VlDJ6reSGajwpb+SVyRzkVfXJ3OGNl+/fopH2gcOKtKERABERABZxKQzCZOZpmdIPzN2QFmPHB7kczG4Q6OHz8e69evNymUmL2gRIkScWhFVYqACIiACIiAMwlIZhMns84cEfHtlWQ2xnzXrVuHjz76yNTavHlztGvXLsYtqDoREAEREAERcDYByaxk1uYIlczGkPaZM2dMeEFKSorZ4WvYsGHIkSNHDFtQVSIgAiIgAiLgfAKSWefIbG0APQFUAJA7qFsMR+jn/OGUYQ8lsxkiCv+A6dOnY9GiReaEu+66C9WqEa+KCIiACIiACCQXAcmsM2S2L4C3fDG0+wCcCSGzVT0wNCWzMbqJe/bsMam4Ll68iDp16qBnT/4dpCICIiACg6qOugAAIABJREFUIiACyUdAMusMmd0I4AcA9wE47OFhKJmNwc1lTtm33noLO3fuRK5cuTB8+HAUKFAgBjWrChEQAREQARFwHwHJrDNk9iiAHgBmuW8IRdRjyWxEuEIfvGzZMkybNs38sHPnzmjSpEkMalUVIiACIiACIuBOApJZZ8jsVwCmAhjhzmEUdq8ls2GjCn3gsWPHMGLECJw+fRply5bFfffdZ1JyqYiACIiACIhAshKQzDpDZil5E33b2U4HcChEt7hxgtuLZDaTd/DTTz/FmjVrzKYIgwYNQpkyZTJZo04XAREQAREQAXcTkMw6Q2aZveB1AHenMZyYzUA7gLn7vZbp3m/atAnvv/++qef6669Hp06dMl2nKhABERABERABtxOQzDpDZt8DcAeAzwGsC5HNgL3UDmBuf7dlov/nzp3DqFGjcPDgQbPYi4u+uPhLRQREQAREQASSnYBk1hkymwLgSQD/9fiAVJhBlDd4zpw5mDt3rjm7V69eqF2baYlVREAEREAEREAEJLPOkNndAJhrdobHh6RkNoobvH//fjMry5Rc1atXR58+fUzMrIoIiIAIiIAIiAAgmXWGzP4DAFfyDPD4oJTMRniDuSnCu+++i61btyJ79uwmvKBw4cIR1qLDRUAEREAERMC7BCSzzpDZIQAeBfAzAKbpCpXNgDuEub1IZiO8g99//z0mTZpkzmrfvj2aNWsWYQ06XAREQAREQAS8TUAy6wyZzSjtFrMZZPPAUJTMRnATT548aXLKnjhxAiVLlsTgwYORLZsXhkEEEHSoCIiACIiACGRAQDLrDJmtFMZI3RbGMU4/RDIbwR2aMmUKVq5cac649957UaFChQjO1qEiIAIiIAIikBwEJLPOkNnkGG2AZDbMO/3LL79g7Nix5uiGDRuia9euYZ6pw0RABERABEQguQhIZiWzNke8ZDYM2ufPn8frr7+OX3/9FXnz5sUDDzyAPHnyhHGmDhEBERABERCB5CMgmXWGzG4BwLjY9EpVDwxPyWwYN3H+/PmYNWuWObJHjx6oV69eGGfpEBEQAREQARFITgKSWWfI7NshZLYYgKYAjgGYzbBJDwxRyWwGN/HQoUMYOXIkuONX5cqV0bdvX+WU9cDA1yWIgAiIgAjEj4Bk1hkym9YdZkJRpup6GcAH8RsG1mqWzKaDmjllP/zwQ2zcuNFkLRg6dCiKFy9u7eaoIREQAREQARFwIwHJrLNllr27HcDzAGq5cYAF9Vkym85NXLt2LT755BNzRMuWLdGmTRsP3HJdggiIgAiIgAjEl4Bk1vky2wXARwDyx3coWKldMpsG5tOnT+PVV1/F0aNHUbRoUQwbNszs+KUiAiIgAiIgAiKQPgHJrHNlliZTF8AYANxU4XoPDGbJbBo38auvvsKSJUvMT++55x5UreqF9X4eGLG6BBEQAREQAccTkMw6Q2Ypq2llM0gBwNnZhY4fTRl3UDIbgtHu3bsxZswYMGb2mmuuwW233ZYxSR0hAiIgAiIgAiJgCEhmnSGzz4SQ2VMAuOvXlwCOeGS8SmaDbuSFCxfw5ptvYteuXciVK5fJKZs/vxciSjwyYnUZIiACIiACjicgmXWGzMZyoJQH8AiARgCYoJTZ9qsA2BrUSG4AzwG4GwCzJqzynTc36LisvteHACgNYD2A/wHwaRSdlswGQVuxYgU+//xz82qXLl3QqBFvm4oIiIAIiIAIiEC4BCSziZPZp8K9Sb7jKJDhlNa+BWPLAWQDcFMaMjvOF77wVwCbAQwH0BnAjT6x9bfFTAp/AfA3AKyzN4BBAG4B8EU4HQo4RjIbAINhBaNHj8aePXtQunRpDB48WDllIxxQOlwEREAEREAEJLOJk1nGyWZUAuNoKabhFM6k+use6FtAFjwzyxlbzsRyI4axvkq54OxH38xrN99rJQFsB/AigKcDGuf2VCUAXBtOhySzoSnt3LkTb7zxhvlht27d0KBBgwhx6nAREAEREAEREAHJbOJkNiM5rQ/g7wA6AtgIoGYUwzUtmX0SAL8YXnAioN5nATwKoCCA01xYD+BdADV8ffAfOgDAWwC45J5b8YZbNDMbQGrKlClYuXKliZX905/+hJw5c4bLUceJgAiIgAiIgAj4CEhmEyezaQ3C6r6Y1N8B2OmLa+Xs6fkoRm1aMjseAKcBgwW5ly9EgSnBOEvLGdmHfHG3gbPETQAwjxRDDaZF0C/JrA8W88q+9NJLOHv2rImTZbysigiIgAiIgAiIQOQEJLPOkdkKvkf5fQEcAvACgJEAzkR+W1PPSEtmp/tmX28Iqrs9gBncgArAPACj+QTct/Ar8FAjpQDY1/fS6F9RAPwKLBUBzOJ2rdWqsYrkLcuWLcO0aZf+DhgyZIiJmVURAREQAREQARGInIBkNvEyy9jTJwAMBsB0XC8B+A+A45HfzivOSKTMMt1YYJxtaueSXWYDF36VK1cOAwfyNqmIgAiIgAiIgAhEQ0AymziZLeRLefUggCwARgD4p29WNpp7GeqctGSW2+MyJjejMAP25w9RhhloZjaNu6iFX7Ea3qpHBERABERABLRpQlpjgHIZ73IQAIWWj/y50Gt3Bg0yfVakJS2ZZVowzgYHLwDjbOpjAQvAGEbwDgDG8f4c0Hh/XxYELQCL9I4A0MKvKKDpFBEQAREQARFIg4BmZhM3MxuYmiutrWwDe5dR9oNIZma5+GsFAEopZZWFqblW+6S1q+81pubaAYC5ZpnpwF9mAigF4JoI31lJvwBMC78iHDE6XAREQAREQAQyICCZTZzM9otwdPqlM5zTevoOagdgKID7Afzq+/rW9zNmNGDaL26awPRaw3zZCZr6RNffjj+jweO+1+/gmiXfwrCp4XQm4Jikl1kt/IpwxOhwERABERABEZDMRjUGbIQZRNWxME9Ka6aXIssdwli4zS1nXO/0hRt874vh/SaoDc4IM/SAu34Fbmc7Icy+BB6W1DKrhV9RjBidIgIiIAIiIAKS2ajGgNtlNqqLtnBSUsusFn5ZGGFqQgREQAREIOkIKMwg9C2XzMbnrZDUMquFX/EZVKpVBERABEQguQlIZiWzNt8BSSuzWvhlc5ipLREQAREQgWQiIJmVzNoc70krs1r4ZXOYqS0REAEREIFkIiCZlczaHO9JKbNa+GVziKktERABERCBZCMgmZXM2hzzSSmzWvhlc4ipLREQAREQgWQjIJmVzNoc80kps1r4ZXOIqS0REAEREIFkIyCZlczaHPNJJ7Na+GVzeKktERABERCBZCQgmZXM2hz3SSezWvhlc3ipLREQAREQgWQkIJmVzNoc90kls1r4ZXNoqS0REAEREIFkJSCZlczaHPtJJbO7du3CmDFjDN9u3bqhQYMGNlmrLREQAREQARFICgKSWcmszYGeVDKrhV82h5baEgEREAERSFYCklnJrM2xnzQyq4VfNoeV2hIBERABEUhmApJZyazN8Z80MquFXzaHldoSAREQARFIZgKSWcmszfGfFDKrhV82h5TaEgEREAERSHYCklnJrM33QFLIrBZ+2RxSaksEREAERCDZCUhmJbM23wNJIbNa+GVzSKktERABERCBZCcgmZXM2nwPeF5mtfDL5nBSWyIgAiIgAiIASGYlszbfB56XWS38sjmc1JYIiIAIiIAISGbTGgNZNDjiQsDTMquFX3EZM6pUBERABERABNIloJlZzczafIt4Wma18MvmUFJbIiACIiACInCJgGRWMmvzveBpmdXCL5tDSW2JgAiIgAiIgGQ2vTGgMIP4vEM8K7Na+BWfAaNaRUAEREAERCAjApqZ1cxsRmMklj/3rMxq4Vcsh4nqEgEREAEREIHwCUhmJbPhj5bMH+lJmdXCr8wPDNUgAiIgAiIgAtESkMxKZqMdO9Gc50mZ1cKvaIaCzhEBERABERCB2BCQzEpmYzOSwqvFkzLrX/iVM2dO/PnPfwa/q4iACIiACIiACNghIJmVzNoZaZda8ZzMauGXzeGjtkRABERABETgSgKSWcmszfeF52RWC79sDh+1JQIiIAIiIAKS2XDHgFJzhUsqsuM8JbNa+BXZzdfRIiACIiACIhAPApqZ1cxsPMZVWnV6Sma18Mvm0FFbIiACIiACIhCagGRWMmvzveEpmdXCL5tDR22JgAiIgAiIgGQ2kjGgMINIaIV/rGdkVgu/wr/pOlIEREAEREAE4klAM7OamY3n+Aqu2zMyq4VfNoeN2hIBERABERCBtAlIZiWzNt8fnpBZLfyyOWTUlgiIgAiIgAikT0AyK5m1+R7xhMxq4ZfNIaO2REAEREAEREAyG80YUMxsNNQyPscTMquFXxnfaB0hAiIgAiIgArYIaGZWM7O2xhrbcb3MauGXzeGitkRABERABEQgYwKSWclsxqMkdke4Xma18Ct2g0E1iYAIiIAIiEAsCEhmJbOxGEfh1uFqmdXCr3Bvs44TAREQAREQAXsEJLOSWXujzeVhBlr4ZXOoqC0REAEREAERCI+AZFYyG95Iic1Rrp6Z1cKv2AwC1SICIiACIiACsSQgmZXMxnI8ZVSXa2VWC78yurX6uQiIgAiIgAgkhoBkVjJrc+S5Vma18MvmMFFbIiACIiACIhA+AcmsZDb80ZL5I10ps1r4lfkbrxpEQAREQAREIF4EJLOS2XiNrVD1ulJmN27ciA8++MBcT7du3dCgQQObzNSWCIiACIiACIhAOgQks5JZm28Q18ksZ2XfeOMNMJNBoUKF8OCDDyJbtmw2maktERABERABERAByWzEY0Db2UaMLKwTXCez69evx/jx483Fde3aFQ0bNgzrQnWQCIiACIiACIiAHQKamdXMrJ2RdqkVV8lsYKxs4cKF8cADD2hW1uZoUVsiIAIiIAIiEAYByaxkNoxhErNDXCWz69atw0cffWQuXrGyMRsDqkgEREAEREAEYkpAMiuZjemAyqAy18gsZ2Vff/117N27F0WKFDGzslmzZrXJSm2JgAiIgAiIgAiEQUAyK5kNY5jE7BDXyOzatWvxySefmAvv0aMH6tWrFzMIqkgEREAEREAERCB2BCSzktnYjaaMa3KFzHJW9rXXXsO+fftQtGhRDB8+XLOyGd9bHSECIiACIiACCSEgmZXM2hx4rpDZH3/8ERMmTDBcbr31Vlx77bU2GaktERABERABERCBCAhIZpNXZlsDmBPi8o8AKBzwehEA/+LTdgB5ACwC8EcAqyMYZ/5DHS+zFy5cwKhRo7B//34UL14cw4YN06xsFDdap4iACIiACIiALQKSWcns7wF8F4DhHIBlvv9nvt15ACoD+CuAQwAeA1AHQH0AOyIcqI6X2dWrV2PixInmsm6//XbUrVs3wkvU4SIgAiIgAiIgAjYJSGYlsx0AzExj0HUHMAlA24BZ3EIAtgB4HwBFOJLiaJnlrOzIkSNx4MABlChRAkOHDtWsbCR3V8eKgAiIgAiIQAIISGYls+nJ7JsAOgEoF4TpHQAMU6gU4Zh1tMz+8MMP+Oyzz8wl9ezZE3XqcAJaRQREQAREQAREwMkEJLOS2X0AigM4DOBrAI8C+MWHZTEAxtB2DML0MIB/AigA4FgEA9yxMstZ2VdffRUHDx5EyZIlzaxsliza1TiCe6tDRUAEREAERCAhBCSzySuzDQDcBeBbACkA+P+PAzjr+zcldwOAFQB6B2EaCGAMgIoAtqcxcosC4Fdg4fGzNm7ciGrV6LXOKatWrcLkyZNNh3r16oXatWs7p3PqiQiIgAiIgAiIQJoEJLPJK7OhrrwhgKUAXgTwRCZl9hkAT4dqxGkye/78eTMre+jQIZQqVQpDhgzRrKw+NEVABERABETAJQQks5LZYAJrfbOtDC1Y4gs/iCbMwDUzsytXrsSUKVMMhzvuuAO1atVyydtX3RQBERABERABEZDMSmZDySxjZrnw6y0ANwEoH3TQ2wDaeGEBGGdlR4wYgcOHD6NMmTIYNGiQZmX1uSgCIiACIiACLiIgmZXMBhJo5JuNfR7AU76NEri8n5kLGFvLUtCXmusDAA9GONYdtwBs+fLlmDp1qrmMPn36oEaNGhFekg4XAREQAREQARFIJAHJbPLK7DiflHKBFzMZcAEYN0Q4AYCxs/sBZAUwH0CFoE0TuL9rvXQWf6U1ph0ls5yVfeWVV3DkyBGULVsWAwcO1KxsIj+N1LYIiIAIiIAIREFAMpu8Mktx7eMLFcgLYA+AL32LtnYHYGHs6799s7S5fdvZ/gnA91GMN0fJ7LJlyzBt2jRzGXfeeSeqV68exSXpFBEQAREQAREQgUQSkMwmr8wmYtw5RmbPnTtnZmVTUlJQrlw53HfffZqVTcSIUJsiIAIiIAIikEkCklnJbCaHUESnO0Zmly5dii+/5EQ0cPfdd+Oqq66K6EJ0sAiIgAiIgAiIgDMISGYlszZHoiNklrOyL7/8Mo4ePYoKFSpgwIABmpW1OQrUlgiIgAiIgAjEkIBkVjIbw+GUYVWOkNklS5bgq6++Mp295557ULVq1Qw7rgNEQAREQAREQAScSUAyK5m1OTITLrNnz541s7LHjh1DxYoV0b9/f83K2hwBaksEREAEREAEYkxAMiuZjfGQSre6hMvsokWLMH36dNPJfv36oXLlyjavX22JgAiIgAiIgAjEmIBkVjIb4yHlXJk9c+aMmZU9fvy4kVjKrIoIiIAIiIAIiIC7CUhmJbM2R3BCZ2YXLlyIGTNmmOtleEGlSpVsXrvaEgEREAEREAERiAMByaxkNg7DKs0qEyaznJX973//ixMnTqBKlSro27evzetWWyIgAiIgAiIgAnEiIJmVzMZpaIWsNmEyO3/+fMyaNct0iqm4uPhLRQREQAREQAREID4Ezp85jz3f78GOxTuwc/FOZMuVDd3f6h6XxiSzktm4DKw0Kk2IzJ4+fdrMyp48edJsjsBNElREQAREQAREQARiQ+DixYtI2Z5ixNXI65Kd2LV8F86fPp/aQM4COfHIoUeQNVvW2DQaUItkVjIb80GVToUJkdl58+Zh9uzZplvctrZ8+fI2r1ltiYAIiIAIiICnCJw5fga7lu1KFVcK7LHdx0JeY5asWVDympIof0N5dPjfDshVMFfMWUhmJbMxH1ROklnOyv6///f/cOrUKVSrVg133XWXzetVWyIgAiIgAiLgagIXL1zEgQ0HsGOJb9Z18U7sXb0XF89fDHld+UrlM+Lq/yrbqCxy5s8ZVwaSWclsXAdYUOXWZ2a//fZbfPPNN6YbAwcORLly5Wxer9oSAREQAREQAVcROHnwJHYu3XlZyMCpw6dCXkO2nNlQpmEZlLuhXKq8FqpYyPpmRJJZyazNN5lVmeVsLGNl+b1GjRro06ePzWtVWyIgAiIgAiLgaAIXzl0ws6z+RVr8zlnYtErhKoUvm3UtVa8UsufKnvBrlMxKZm0OQqsyyxlZzsyyDB48GGXKlLF5rWpLBERABERABBxF4NieY9i+cHvqrCvjXs+dPBeyjwwNKNek3G+zrteXR76S+Rx1Pf7OSGYlszYHpjWZZeYCzsoyZrZmzZro3bu3zetUWyIgAiIgAiLgGAJMkTX/H/Px4yc/AqFCXbMAJa4uYWZdy11/KWSA/x+PzAPxgCKZlczGY1ylVac1mZ0zZw7mzp1r+jFkyBCULl3a5nWqLREQAREQARFIOAGGDcx7fh42TN1wWV/yFMtz+SKtxmWRu1DuhPc32g5IZiWz0Y6daM6zIrOclWUGA+76Vbt2bfTq1SuavuocERABERABEXAdAeZ83TJ7i5HYrXO2pvafeV4bD2+MBvc2QNFqRa0v0oonSMmsZDae4yu4bisyy52+uOMXy9ChQ1GqVCmb16i2REAEREAERMA6AUosZ2Apsdy0wF/yFM2D6x+6Hk0eaII8RfJY75eNBiWzklkb48zfRtxl9sSJEyZWlrOyV199NX73u9/ZvD61JQIiIAIiIAJWCVw4fwFrP1mL+S/Mx94f9qa2nb9MfjT9S1NcN/i6uOd5tXrBIRqTzEpmbY7BuMvszJkzsWDBAnNNw4YNQ8mSJW1en9oSAREQAREQASsEzp85jx/e/wHzX5yPgxsPprZZuHJhNHukGer3r4/suROfNssGDMmsZNbGOLMyM3v8+HEzK3v27FnUrVsXt99+u81rU1siIAIiIAIiEHcCZ0+exco3V2LB/y5AyvaU1PaK1yqO5o81R90+dZEtR7a498NJDUhmJbM2x2NcZ2anT5+ORYsWmaD2+++/H8WLF7d5bWpLBERABERABOJG4HTKaXw36jss/r/FOL7veGo7pRuURou/tUDtW2sjS9YscWvfyRVLZiWzNsdnXGV2/fr1mD17tlnwddttt9m8LrUlAiIgAiIgAnEhcOLACSx5eQmWvrwUgdvKVmhWwUhstU7VPJWZIBqIklnJbDTjJtpz4iqz7BRXc3LxV65cuaLto84TAREQAREQgYQTOLr7KBb93yIsG7UMZ4+fTe3PVTddheaPN0ellpWSXmL9UCSzklmbb9i4y6zNi1FbIiACIiAC7iSQsiPF5GLdNm+beTRfpEoRFKlaBIWrFDbfmc6KIWuJKIe3HjbxsCvfWonzp8+ndqFWj1pGYss1LpeIbjm6TcmsZNbmAJXM2qSttkRABERABAyBkwdPYsucLdgy69LXgQ0H0iXDDQYotZTcwlULXya7zBaQI0+OmJPdv26/yUywetxqXDh3wdRP0a7bu65Z2FWyrrLzpAVdMiuZjfkbMp0KJbM2aastERABEUhSAmeOn8Ev839JldfdK3cDF6+EwZ2wmL7q0JZDlz3Kzwgbc7imJbsFyhZA1mxZM6oi9ed7Vu0xGx2s/XRtah+z5shqUms1e7iZ2a1LJX0CklnJrM33iGTWJm21JQIiIAJJQuD82fPYuXRnqrxuX7QdF85emt0MLJTQqu2qokq7KuarUIVC5sdcb3Hi1xNGag9tPoTDWw5f9v3I9iO4eD6EDYfgmy1nNhSqVOiysIXAMAb/LlzbF243Ervxi42ptWTPk91scsDNDgqWL5gkdy/zlymZlcxmfhSFX4NkNnxWOlIEREAERCANAhcvXMTe1XtT5XXb3G04c+zMFUfnLpwblVtXTpVX5mKNJhaWssycrmnJ7on9J8K+V7kK5UK+Evlw8OffNjrIVTAXGg9vjBseugH5SuYLuy4deImAZFYya/O9IJm1SdthbXHmgzFhfPRXtX1VE4OmIgIiIALhEODnB2dM/TGvXLwVSiAZMlCxecVUeS3TsExEj/zD6UuoY04fPX1pNjfUzO6WQzh38lzIqvMUy4Mb/ngDmgxvAoq3SnQEJLOS2ehGTnRnSWaj4+baszibQXldP2U9Nny+AYc2HTLXwsUVPd7pYZJ8q4iACDiHABdKcYYzR74cyJk/J/jIPJqZzFhc0bE9x0zGgc2zNhuJPbLtyBXVZsmWxazu94cNVLixguO2cKWIH9973Mi4X3Y5y1vympJocG8D5MyXMxa4kroOyaxk1uYbQDJrk3aC2jp56CR+/vJnI68bv9yI00dOp9kTrtBt81wbKzMnCcKhZkXA0QQ4o8hH9P4Zz70/7L2sv5RFypaR24DvFN3A1y77ef6cYZ0TLMqnjpzC1m+2pvbl17W/hmTHVf1+eWWu1dyFNKPp6EFmoXOSWcmshWGW2oRk1iZti20d2HggdfaVM7HBCyUYI1b95uqo0bUG8pfOj8n9J+PIL5dmWap2qIrbP7gdeYvntdhjNSUCyUng3Olz2LF4R6owctGUPw2UbSKBosxUV8yvyljY4MJUWH55rdK2CvKXym+7q2rP4QQks5JZm0NUMmuTdhzb4i8/rsRd//ml8IED66/M2ch0MpRXfjGGLVuObKk9Yqzbp30+xeaZm81rhSoWQq+JvVD2urJx7LWqFoHkI3Dh/AXsWbkn9VE9/9gMFb/J2M0qbXwr/CsWAlNbMdyAO0/x34Hfzb+Pnbni9cBzQklpuPTzlsgLSisFlpkHmAJLRQTSIyCZlczafIdIZm3SjnFbfAT481eXwgcYRsDYusDC5N7cK5zyWrNrTRSrWSzdWDv+kp39xGwseHGBqSZbrmzoMrKLiSFTEQERiI4A4zP5x6U/zpSP7U8dOnVFZQwL4CN6vzSWrlfaJOiPRWEfuHNVsASnJcB+UWYqKsorwwhi1ZdYXI/qcD4Byaxk1uYolczapB2DtrhgwT/7uu3bbVc8juRCrmqdqhmBZRhB3mKRhwr89NlPmNRvEs4cvZRWp+Hghuj8cmdkz5U9BlegKkTA+wS4NatfXrlg6ujOo1dcNJPwl7+hfOpsZ7km5cziLhUR8AIByaxk1uY4lszapB1FW5wtZTwdZ1/5FWoBBvcu98++cmYnFr8QmbLro9s+wv6f9ptel21cFr0+7ZWa0DyKS9EpIuBZAmFtzZoFKF2/dKq8VmxRUavmPTsidGGSWcmszXeBZNYm7TDb4mrmTdM3Xco+MG3jlbkbs8DM6BiB7VYTJa4uEZdUPezHlHunYO2EtabnXBDW86Oe5jGoiggkM4Gwt2atXjRVXiu3qRzVk5Jk5qxrdy8Byaxk1ubolczapJ1OW4e3HU6dfWVM3fkz5y87mvF01Tr+Fj5ga0caxtotemkRZj4y06xqZtxcuxfaoelfm8ZFoB1yO9QNEQCfipw6fMrEtzK93ckDJ1O3Z410a1bhFIFkIyCZlczaHPOSWZu0A9qiGO78bqcRWG5gsG/1vit6UrBCwdTZV27/mMiY1S1ztmDCHRPMXukstW+vje5juyNXgVwJIqhmRSBjAnyfcaGkX0jN94MnjZwGv3bZ/x86mW4+Zn/LsdqaNeMr0REi4C4CklnJrM0RK5m1SJuPJjfP2GwWcDF8gDvQBBcuAvGnzyp1bSlHzX4e2X4En/T8xMxOsXBP9Ts+u8N8VxGBeBGgkDKpQMUlAAAaW0lEQVTkhRIaLJzBcnqFoB45BVyZJjXqriZqa9aoO6wTRSBBBCSzklmbQ08yG2faXNXszz7AVc1MjxNYsufJjqs6XIUa3WqgRpdLGxg4uTDB+1d/+ArLX19uusldh7q/3R1X3361k7utviWYAMNVmB0j1Ixo8GtXCOrhUyET92f2knIVzIU8RfMgd5HcyFPk0nf/v4Nf9/+cqaoS+YQks9es80XAFgHJrGTW1lhjO5LZGNPmLNLuFbtTBZbJ0YNLgbIFUmdfuZiKO+24rawcuxLThk1LlfOmDzdFu+fbIWv2rG67FPU3TAIUUuYfNfGj6cyShpw9PXTyil3owmw23cOYis4vmvzul9BAQQ18PVVaC+XWWI3FDVAdIpAGAcmsZNbmm0MyGwPaZ0+cNTklTfqsqRtwbPexK2otc12Z1PRZpRuUdlT4QLQIdi3fhY9v/xhHtl3aBpdifvv425GvRL5oq9R5cSZghPTE2Ygf1/tnT+OxzSoXN4YUTt+MaVqzpIxXDdzFLs7oVL0IiEAEBCSzktkIhkumD5XMRonw6O6jRlwpsNwCNng7SsbWcetHE/96Sw0ULFcwypacfdqJA75tcGdc2gaXj2GZj5axvyrxI3D2ZJCQhrmoibOmwZkyYtHLHHlzXPa4PuxZUgqpNgqIxS1QHSLgKAKSWcmszQEpmQ2TNme09qzak5o+a9eyXVecyXjX6rdUN1vHUmRz5ssZZu3uPowpjOY8NQfz/zHfXAjlpPOIzrhu0HXuvjDLveeM6dFdR5GyM8XsGGW+7zpq/s3ZfrMK3yetwbHXsegq/wBLK2bUvF40z2WP9AMf5SuONBZ3QHWIgHcISGYlszZHs2Q2HdrnTp0DU1L5wwdStqdccXSpeqVSwwfKNiqb1PuXr5u8DpP6TsLplNOGU4P7GuDmETeDkpTMhbLPlGaXSerOo6mi6n+dOU0zW/iHRMjH8kV/W+QUKsaUryX7fcose50vAiLwGwHJrGTW5vtBMhtE+9jeYyZtFgV204xNZsFLYKEsMDbUHz5QqGIhm/fL8W0d2HAAH936Ueq2uxT83034HQpXKuz4vkfTwTPHzmQoqcf2HEM0sabMdMHwlALlCoCLBvMUC5gZTWOWlOdkyZIlmkvROSIgAiIQMwKSWclszAZTGBUlvcwyfGDfmn2p4QM7luy4Ii9l3hJ5TdosCmzVDlW1UUAGA4uCN+W+Kfjx4x/NkZSwnuN7omr7qmEMSWccQvnkHzapj/tDzKRyRpXppiIuWYD8pfIbSQ2U1cD/5+u5CuWSmEYMVyeIgAg4gYBkVjJrcxwmpcwyV+q2b7elps/yr8YPBF+ybsnU9FlczJQ1m1JORTIw+UfC4v8sxoyHZ5iUTNwGt+3zbdHskWYJFTT2i2EQgZIaGJvqf50bWjDNWqSFeXczktT/3965QNtWlXX8B0ipSMVLFMF7ycvTNM0sFZVCULAUtKCXZg8VSwPRNEsLFTMt1NLCUsnAng5KMEQwQEkavghEE5SLeLleRRQFk4eGaON3zpzXdfc95+x1z9r77L3O/s8x7hj37D33WnP+5rfm+s9vfnPOnfbcKavwtxVs8odACPSKQMRsxOxKGuzMiNnbb7qd9efNhw9ce8G1W3nUtt9xe9YeunazgN1l311Wsh1W7b02XLKBs447i9u+PH/a2YHHHMgxZxyDG9aPOt11511zC6UWWkDVXFA1GDrSphzb7bDd3IEWS3lSDQUYR73alC95QiAEQmCaCETMRsy2scd9gDcARwAGyF0IPB/Y2ObHjTyrVszqgbvp6ps2e183fWjTVp42p7/3e+J+cwJ23RPWRYhso/G0za649BjcTR/eNPeT3fbfbe4Y3D0O3qPVJWxLt5RaUqR+4Rvc9pXblnV0qdP5w0Sq3tR451s1VzKFQAiEABGzEbPDHoN7AlcCLhl/GfOv71cBfv5gYN4F1i6tKjGrZ27jBzfOC9h3X8PN1928FYXdD9x9fveBJx/A3o/cOwKlnZ10zuXepuefdD6XnXbZ3LXcKP/otx891w51+6kqVhf6250ltjV5Gpne0rqAajAmtX43K1uobSu/5A+BEAiB5RKImI2YHWY7JwKvBw4Ari2Z9wXWAy8u3w27Rv2+92LWfTfXv7eED5x/Ld/6+vy2UDU5PbzmsWs2b5+167pd27JJvjEQuPLMKzn3+HNZjjhtFsftp6o4vdde35v+n/OwFgHrSWTG6iaFQAiEQAisLIGI2YjZYRZ3EXB34JCBjJeUvw8ddoHG970Us+7Hefnpl8/Fv268dONWZ757zOW6o9bNef3WHbkO/06aHgI3XHED73zqO7llwy1bFcqtzzZ7UKtXdXDV/147s+M9dpyeCqUkIRACIRACWxCImI2YHfZIfAk4Bzh+IONpwLFAu0DE+R/3Usx6hOqp9z51ixjYXffbdbP3dZ9D9slq8WFWNOHv77j5Dq4666q5nQ1qGIBeVeOYs0/qhBsntw+BEAiBjgQiZiNmh5mQG1saZvCSgYzGzfrZYsctOb8+OMd+f+Ci9evXs26durY/6YzDzpjbiL7Gv+5+wO79KXxKGgIhEAIhEAKrmEDEbMTsMPNerph9OXDyQhfvo5hVyLrAJykEQiAEQiAEQmC6CETMRswOs8gbgbOXEWawqjyzwyDl+xAIgRAIgRAIgckQiJiNmB1meRcD3wc8eiDjB8qes6t+AdgwQPk+BEIgBEIgBEJgcgQiZiNmh1mfhyOcCuwPXFcyry1bcxkz+7phF2h838sFYNtQv2QNgRAIgRAIgRBYYQIRsxGzw0xup3Jowh2NQxNOAXYuhybcOuwCEbPbQChZQyAEQiAEQiAEtolAxGzEbBuDcReC5nG27j2rx3ZDmx9HzG4jpWQPgRAIgRAIgRBoTSBiNmK2tbGMIGPCDEYAMZcIgRAIgRAIgRD4HoGI2YjZlXweImZXknbuFQIhEAIhEAIzQCBiNmJ2Jc08YnYlaedeIRACIRACITADBCJmI2ZX0swjZleSdu4VAiEQAiEQAjNAIGI2YnYlzTxidiVp514hEAIhEAIhMAMEImYjZlfSzCNmV5J27hUCIRACIRACM0AgYjZidiXNPGJ2JWnnXiEQAiEQAiEwAwQiZiNmV9LMDwKuuvDCC1mzZs1K3jf3CoEQCIEQCIEQWKUErr/+eg4//HBrdzBw9Sqt5jZXa7tt/kV+0IbAYYAHLiSFQAiEQAiEQAiEwKgJPA64eNQX7ev1ImbH03IejfuTwA3Ancu8haeRKYg12I3LvMas/Cys2rd0WIVVewLtc8auwqo9gfY5Y1dbs9oRuC/wEeC29ihXd86I2elt37m4W2A/4NrpLeZUlCys2jdDWIVVewLtc8auwqo9gfY5Y1ftWc10zojZ6W3+PMTt2yaswqo9gfY5Y1dh1Z5A+5yxq7BqTyA5WxGImG2FaSKZ0uG1xx5WYdWeQPucsauwak+gfc7YVVi1J5CcrQhEzLbCNJFM6fDaYw+rsGpPoH3O2FVYtSfQPmfsKqzaE0jOVgQiZlthmkimXYETgDcCX5tICfpz07Bq31ZhFVbtCbTPGbsKq/YE2ueMXbVnNdM5I2ZnuvlT+RAIgRAIgRAIgRDoN4GI2X63X0ofAiEQAiEQAiEQAjNNIGJ2pps/lQ+BEAiBEAiBEAiBfhOImO13+6X0IRACIRACIRACITDTBCJmZ7r5U/kQCIEQCIEQCIEQ6DeBiNnxtN/ewO8BPw78KHAPYF9gw8Dt/OzPgMMBj6j7KPAi4LKBfP5uzQJFfQpw9sDnzwJe2LjfG4C/Hk81R3LVUbOyUPcDTgGeCOwCfBH4Z+D3w2ozgV8D3r5EC3pc4pca3/fJrkZtU7sBfwQ8qRwjKZf3AK8AvjLA8BjgZOAg4EbgrcCfAHeN5GkZ/UVGzWp34E8Lq3sBnyjsLlig6H2yKYv/88AvlX793uWY8X8DXg18o1E/+xz7dW3Bvv9DwEnAJwcY3L30U08Dfgj4eHlv/OdAvu3L58cD9wE+A7wS+NfRm8PIrjhqVjL2ffowwB0Ofh34u0VK2ze7Ghn0Wb5QxOx4Wv+ngH8B/hvYAXj8AmLWF6QdvZ2gL7/bgReUB/YngKsbRVPMfhp4+UBx7dRuHhAcf1NenhcCjwP+AHgu8ObxVLXzVUfNai3wX8DnyrZmCgo/c2/HPwyrzXa1B/CAgdazP/h34DpAG6zJl0Of7GqUNiWTS4H9iyjzuTy4iAmPmX4k8N0C6gnAecDpwD8BDy1C5y+KGOn8sIzhAqNk9f3AxwAF7UvLYOg3gaOBI4AP9NimLPqHi4A9B9hU2tc+2b75UcB3AO3lg6XP0TFh/+wg+oHAQ8rvKoZ/AH6mODB85uynjyo2pbCt6Y+B3y1Mfaf8IuAz+bPF3sZgFp0vOWpWvidlIqdfXULM9q2v6gw6F5gnEDE7HktwJG3HZnpm8c4MemZfVsTpAcBnS96dysN6CXBco2iKWV+ojuAXS3crHsj3As9oZPpb4MnFo3TneKrb6aqjZnV+GbkfAixW37BauMkeA+gVeh7wVyVLH1mN0qYUsQ4a9Yq9pYHtOWWAeGD53q+uAP4XOLSRT4+uz/r9BzzdnR6aEf54lKzsn94B/HRDuPqOuRL4ZmOA1EebErkDwEFPvMLqjOI4uLgId2fLDgPeX9rpB8vg+u/L3uF+7Iyd4uw3GjMkcvlUsSf7bJMe4M8DrylOj9r0F5XyPHiEtjDKS42SleWqdloPnFjIM9tXuxol95m9VsTs+Jt+MTF7bvGMOR3ZTGeV6fEfAL5dvmgjZqsQ0Qv8H40L+mKxk212ruOv9fLu0JWVnka9Zb5gfKkulsJqYTJvA55eBj71oI6+s+pqUz9SpoedXjZUpSa9Y3pf9dLqrd2neO2eXQavNZ+DWL1JTdGyvKdj/L/qyuovSz3vOVDUU0vokyENXwD6blPN6tl/X9Xoc/TKH1lCnZr5FLx6wWu4mLNE/jO8wFm5mgxdeQlg//+t8jyeWWYG1jfyKeZ0VPxwEcrjt47ud1guq+adlxKzq8muutOesStEzI6/wRd7QThV5fS3I/Rmcurpl4Gmx0cxaxyWcbWGLegBcqTejJetnqK9gBsaF3Rk71R709s2/lov7w5dWVUvybHFk/bY8qJw6tyYta+WYoXV1u1jbJ+xoIan/Fzj676z6mpT9pFOjzt17oyHU8oKWOP1fC6NyzYpYJwVcbrZGMlmug04rUwnL+/JWJlfdWVlOIWx2Hoim8lpcsOdZGTsbN9tqlm3WpeHl7UOTq9/HTDkpJleDLwW2Bm4tQyMDENxZq6ZnJEzRM1BlF5a+/nnl9jbGs5ifsOAPlJCDYzf7kNaLqtm3ZYSs6vJrvrQnlNVxojZ8TfHYi8IF0koMPXoVJHlVIpTmj6wzZfim0osmnGge5bfOZWpF82pK5MvC18aihKn9Gpy6sXpdqc7XRQ1zakrKz0aLrYxvkrPrAskZOlnsvMFYPhHWG1tBXoe/7FMk7678XXfWXW1KVEY/qM9ueCyJgWEg6Y7ygcOQB2I6n1S8DaT8ZWKOONHpzl1ZfXbJTyleqtrXZ0ZcoZIRnqz+25TtV4uNNWxYBiFMcGma4DLS1xrs60rW8NNDBt4X/G+PmLAIFwM7MyaA3Fjbw1tMeTAhV/NVEXdsFmoabG3LqwWqvdCYQarxa6mpc16VY6I2fE312IvCKeHnJ4y9umE4kF00YSjS72vdnKOvBdKfq8HwA5OMWxaDQ9yV1aVgZ7YGnMmm18onhC9aHrPwmprqzLWWE+RL50a3rIa7KqrTclAke8UsVPAhhQoWP2/i3Hc4cAB0moWs237KqfMnQp34Khwd4bIsAtX3ttnGZqh13E1PH/u1KDH3pkwB8kOWCJmF35fdWUVMTt+ndL7O0TMjr8JF3uZemenc11oo7fV5IheL4YrV42t2rhE8eq0VQ0r+K0ylbkawwzasnKRjtuQOTjQm12TIRrGgDpYcIuXsNrSsNyGS2+RzAzHaKa+s+r6/Lna3Ph2PWYOPGvSE6d3ze2XDBlyFbo7GazGMIO2z5/5jFs0PtRYYZOLWw3JcFbI2SQXGPbdppz9sq0NEbNOzS23dEDc0iLMQFHv7gbDwgwMTTixx2EGo2DVVsz23a7Gr0ZW8R0iZsffuEu9TL27HgtXTP9f6fjdQssXqNNRS6UqZut+oE5LuQuCL1njHmvSo+Sq2j4vAKt1Gcbq0WVqbjEx6xY5xqCF1ZaW5RZChr3omW1uCWSuvrPq+vzV0BXjQN2poCb/VrRUm/J5vb5smeRCupqMi9dT2ecFYG2fv5rP94rT4D6vTrtrX24/6Ap344f7bFOuW3CtgnWwr3WGrJlclOUiXBe7NZOC3lCLugCs7nIxuADMrb60qboArK4D2K8sbq3XrPtET/MCsFGxanJcKma2z3Y15HWfr4cRiJgdRqj798Neps076FX9n7LhtnGeiyXjYPUAuCildo52HB4OoBfJeKKafLEa66foVTBPc+rKSi56GJ3+dQ/Gmmo8aPWuhdWWVqBnyanywcWI5uo7q642VUXD4CBRwWIcbDNm0YGA+4oqWmpyWy6Fy7RuzdW0hK6sFupbnGKWi15tZ076bFOuaXBHC0NL7F+anvpadz317yphKToXTApTBzSGq/xO+cyBozNx2peebJP9l8+iO7J4D5MLeA1hcD2EoS016bBwRu9BC0Gfgs9GyapZnaXEbN/7qilotv4WIWJ2fG3nCSgmDy4wDtbFEe5R6D87OR88vWH+X4+Pm2o7Indazt9U4akQc9Nxp7UUanZgbq6tF3JwuyDv46ppp9Lt7PTG+jK1A637ho6vxsu/8qhYWQJXnOsFcZN/T+ex8/NF4AtVHnVFcFjNt9ePFfHvqXGvX6QJ+8hqVDalEDFO1r7SqXIXd7nTiJ5Gn1EXO7k63WRMtoNJT/2qhyY4KDV8Q+/ktKZRsbJ+1tfB5E3l2bPeDpTc97lu92a+PtqUs2aW2/7Edm4mBaf/FHHuCe5ahuahCe4H62DRPrwmhbG7HphPses0uSLZUBWFbk11RwNjjf3cNQAODFwXMFiOabGxUbMynEPPvutEfJ58n9VDONzOsqY+2tW0tFmvyxExO77ma26j0ryL4tWpf0fhTle5pYtTTXaEvgAVos19B10I5meKXY/xc5rO4249LnGhIyLt5BQmNebW42wVuNOcRsWq1tFdHjxO2Kk5X6B2dg4Uquio+cIK3E7JgZbTom7htljqG6tR2pTCxOlfB0POcLiwycGin7lvajM9tQhdBa88nRlR/EzrcbaWfZSs6jS7HsUvFy+lwr8pZPv6/C12rLj10WtaT2i0n3ZvXb20HlnrVm2e7uiuB81kPKm24eJB3wF+b7/VPCnN/IZr2H95ulXzONumiJu2/n3UrGTSPIykWd9BHdO3vmra2q6X5YmY7WWzpdAhEAIhEAIhEAIhEAISiJiNHYRACIRACIRACIRACPSWQMRsb5suBQ+BEAiBEAiBEAiBEIiYjQ2EQAiEQAiEQAiEQAj0lkDEbG+bLgUPgRAIgRAIgRAIgRCImI0NhEAIhEAIhEAIhEAI9JZAxGxvmy4FD4EQCIEQCIEQCIEQiJiNDYRACIRACIRACIRACPSWQMRsb5suBQ+BEAiBEAiBEAiBEIiYjQ2EQAiEQDcCnsTk6WAHLXCKmqf9XQycxPxpa0khEAIhEAIjJhAxO2KguVwIhMDMEdgTuKqI1mMbtfe40k+UY10fA3xn5sikwiEQAiGwAgQiZlcAcm4RAiGw6gk8DXgH8BTg7FLb1wInAA8BPjNmAjsC3wa+O+b75PIhEAIhMHUEImanrklSoBAIgZ4SOBd4KHAw8ADgo8BLAUWt6dnAc4EDgFuBc4AXAV9r1Pd5wK+UPNsDnwZOAd7TyLMW+Fy5lv9XSN8H2A24uafsUuwQCIEQWDaBiNllo8sPQyAEQmALAvcDPgW8q3hj9ZQ+ArgLeA3wQuCNwAWAeV8FbAIeVfJ4sVOBq4ENwN2AJxXRehRwfrlbFbNfBD4GvA3YAXgfcEfaJARCIARmjUDE7Ky1eOobAiEwTgLPBN4K3Ak8DPgkoPj8LPAK4JWNmx8CXDoQmtAsm55Z/51XROrRA2L2inKPhBaMs0Vz7RAIgaknEDE79U2UAoZACPSMgB5TRepxpdzPAt4CrAOuH6iLIQZ6Vl9QPlcAK3ofDuwB1D7amNsDB8TsyQPiuGeYUtwQCIEQGA2BiNnRcMxVQiAEQqASMERAMWssq8m4WUMKFktnAs8A9imeXHdG+HNgY1nUZcys237p4TXVMANjcPUCJ4VACITATBOImJ3p5k/lQyAExkBgUMw+B3gz8PhFFmh9tSzoqh5cRa2xtDVdAqxZQMyaX69uUgiEQAjMNIGI2Zlu/lQ+BEJgDAQGxaw7G1xTdjM4fYn7nVg8su5McGPJt3/Zw1ZxO+iZjZgdQ+PlkiEQAv0jEDHbvzZLiUMgBKabwKCYtbSvLqeAvQnQ0/rNElZwRPGuvh94IPDxcvjC64D7lvhZD1twIVjE7HS3e0oXAiEwIQIRsxMCn9uGQAisWgILiVkr+/SyzdaDyuEGnwcuKtt21bACF42540HdAcF42SMBj8WNmF21JpOKhUAIdCEQMduFXn4bAiEQAiEQAiEQAiEwUQIRsxPFn5uHQAiEQAiEQAiEQAh0IRAx24VefhsCIRACIRACIRACITBRAhGzE8Wfm4dACIRACIRACIRACHQhEDHbhV5+GwIhEAIhEAIhEAIhMFECEbMTxZ+bh0AIhEAIhEAIhEAIdCEQMduFXn4bAiEQAiEQAiEQAiEwUQIRsxPFn5uHQAiEQAiEQAiEQAh0IRAx24VefhsCIRACIRACIRACITBRAhGzE8Wfm4dACIRACIRACIRACHQhEDHbhV5+GwIhEAIhEAIhEAIhMFECEbMTxZ+bh0AIhEAIhEAIhEAIdCEQMduFXn4bAiEQAiEQAiEQAiEwUQL/D8gEuaxgujv0AAAAAElFTkSuQmCC\" width=\"431.8749935645611\">"
      ],
      "text/plain": [
       "<IPython.core.display.HTML object>"
      ]
     },
     "metadata": {},
     "output_type": "display_data"
    },
    {
     "data": {
      "text/plain": [
       "<matplotlib.axes._subplots.AxesSubplot at 0x7ff39862ef90>"
      ]
     },
     "execution_count": 66,
     "metadata": {},
     "output_type": "execute_result"
    }
   ],
   "source": [
    "#plotting the timeseries \n",
    "#i tried using matplotlib but i think seaborn works better\n",
    "#using seaborn\n",
    "import seaborn as sns \n",
    "'''#trying to make seaborn interactive \n",
    "%matplotlib nbagg  '''\n",
    "\n",
    "sns.lineplot(x = Gh.Year, y = Gh.Number, hue = Gh.Gender, palette = ['purple', 'Grey'])"
   ]
  },
  {
   "cell_type": "code",
   "execution_count": 144,
   "metadata": {},
   "outputs": [
    {
     "data": {
      "application/vnd.plotly.v1+json": {
       "config": {
        "plotlyServerURL": "https://plot.ly"
       },
       "data": [
        {
         "hole": 0.7,
         "labels": [
          "male",
          "female"
         ],
         "marker": {
          "colors": [
           "grey",
           "purple"
          ]
         },
         "type": "pie",
         "values": [
          86.54545454545455,
          13.454545454545455
         ]
        }
       ],
       "layout": {
        "template": {
         "data": {
          "bar": [
           {
            "error_x": {
             "color": "#2a3f5f"
            },
            "error_y": {
             "color": "#2a3f5f"
            },
            "marker": {
             "line": {
              "color": "#E5ECF6",
              "width": 0.5
             }
            },
            "type": "bar"
           }
          ],
          "barpolar": [
           {
            "marker": {
             "line": {
              "color": "#E5ECF6",
              "width": 0.5
             }
            },
            "type": "barpolar"
           }
          ],
          "carpet": [
           {
            "aaxis": {
             "endlinecolor": "#2a3f5f",
             "gridcolor": "white",
             "linecolor": "white",
             "minorgridcolor": "white",
             "startlinecolor": "#2a3f5f"
            },
            "baxis": {
             "endlinecolor": "#2a3f5f",
             "gridcolor": "white",
             "linecolor": "white",
             "minorgridcolor": "white",
             "startlinecolor": "#2a3f5f"
            },
            "type": "carpet"
           }
          ],
          "choropleth": [
           {
            "colorbar": {
             "outlinewidth": 0,
             "ticks": ""
            },
            "type": "choropleth"
           }
          ],
          "contour": [
           {
            "colorbar": {
             "outlinewidth": 0,
             "ticks": ""
            },
            "colorscale": [
             [
              0,
              "#0d0887"
             ],
             [
              0.1111111111111111,
              "#46039f"
             ],
             [
              0.2222222222222222,
              "#7201a8"
             ],
             [
              0.3333333333333333,
              "#9c179e"
             ],
             [
              0.4444444444444444,
              "#bd3786"
             ],
             [
              0.5555555555555556,
              "#d8576b"
             ],
             [
              0.6666666666666666,
              "#ed7953"
             ],
             [
              0.7777777777777778,
              "#fb9f3a"
             ],
             [
              0.8888888888888888,
              "#fdca26"
             ],
             [
              1,
              "#f0f921"
             ]
            ],
            "type": "contour"
           }
          ],
          "contourcarpet": [
           {
            "colorbar": {
             "outlinewidth": 0,
             "ticks": ""
            },
            "type": "contourcarpet"
           }
          ],
          "heatmap": [
           {
            "colorbar": {
             "outlinewidth": 0,
             "ticks": ""
            },
            "colorscale": [
             [
              0,
              "#0d0887"
             ],
             [
              0.1111111111111111,
              "#46039f"
             ],
             [
              0.2222222222222222,
              "#7201a8"
             ],
             [
              0.3333333333333333,
              "#9c179e"
             ],
             [
              0.4444444444444444,
              "#bd3786"
             ],
             [
              0.5555555555555556,
              "#d8576b"
             ],
             [
              0.6666666666666666,
              "#ed7953"
             ],
             [
              0.7777777777777778,
              "#fb9f3a"
             ],
             [
              0.8888888888888888,
              "#fdca26"
             ],
             [
              1,
              "#f0f921"
             ]
            ],
            "type": "heatmap"
           }
          ],
          "heatmapgl": [
           {
            "colorbar": {
             "outlinewidth": 0,
             "ticks": ""
            },
            "colorscale": [
             [
              0,
              "#0d0887"
             ],
             [
              0.1111111111111111,
              "#46039f"
             ],
             [
              0.2222222222222222,
              "#7201a8"
             ],
             [
              0.3333333333333333,
              "#9c179e"
             ],
             [
              0.4444444444444444,
              "#bd3786"
             ],
             [
              0.5555555555555556,
              "#d8576b"
             ],
             [
              0.6666666666666666,
              "#ed7953"
             ],
             [
              0.7777777777777778,
              "#fb9f3a"
             ],
             [
              0.8888888888888888,
              "#fdca26"
             ],
             [
              1,
              "#f0f921"
             ]
            ],
            "type": "heatmapgl"
           }
          ],
          "histogram": [
           {
            "marker": {
             "colorbar": {
              "outlinewidth": 0,
              "ticks": ""
             }
            },
            "type": "histogram"
           }
          ],
          "histogram2d": [
           {
            "colorbar": {
             "outlinewidth": 0,
             "ticks": ""
            },
            "colorscale": [
             [
              0,
              "#0d0887"
             ],
             [
              0.1111111111111111,
              "#46039f"
             ],
             [
              0.2222222222222222,
              "#7201a8"
             ],
             [
              0.3333333333333333,
              "#9c179e"
             ],
             [
              0.4444444444444444,
              "#bd3786"
             ],
             [
              0.5555555555555556,
              "#d8576b"
             ],
             [
              0.6666666666666666,
              "#ed7953"
             ],
             [
              0.7777777777777778,
              "#fb9f3a"
             ],
             [
              0.8888888888888888,
              "#fdca26"
             ],
             [
              1,
              "#f0f921"
             ]
            ],
            "type": "histogram2d"
           }
          ],
          "histogram2dcontour": [
           {
            "colorbar": {
             "outlinewidth": 0,
             "ticks": ""
            },
            "colorscale": [
             [
              0,
              "#0d0887"
             ],
             [
              0.1111111111111111,
              "#46039f"
             ],
             [
              0.2222222222222222,
              "#7201a8"
             ],
             [
              0.3333333333333333,
              "#9c179e"
             ],
             [
              0.4444444444444444,
              "#bd3786"
             ],
             [
              0.5555555555555556,
              "#d8576b"
             ],
             [
              0.6666666666666666,
              "#ed7953"
             ],
             [
              0.7777777777777778,
              "#fb9f3a"
             ],
             [
              0.8888888888888888,
              "#fdca26"
             ],
             [
              1,
              "#f0f921"
             ]
            ],
            "type": "histogram2dcontour"
           }
          ],
          "mesh3d": [
           {
            "colorbar": {
             "outlinewidth": 0,
             "ticks": ""
            },
            "type": "mesh3d"
           }
          ],
          "parcoords": [
           {
            "line": {
             "colorbar": {
              "outlinewidth": 0,
              "ticks": ""
             }
            },
            "type": "parcoords"
           }
          ],
          "pie": [
           {
            "automargin": true,
            "type": "pie"
           }
          ],
          "scatter": [
           {
            "marker": {
             "colorbar": {
              "outlinewidth": 0,
              "ticks": ""
             }
            },
            "type": "scatter"
           }
          ],
          "scatter3d": [
           {
            "line": {
             "colorbar": {
              "outlinewidth": 0,
              "ticks": ""
             }
            },
            "marker": {
             "colorbar": {
              "outlinewidth": 0,
              "ticks": ""
             }
            },
            "type": "scatter3d"
           }
          ],
          "scattercarpet": [
           {
            "marker": {
             "colorbar": {
              "outlinewidth": 0,
              "ticks": ""
             }
            },
            "type": "scattercarpet"
           }
          ],
          "scattergeo": [
           {
            "marker": {
             "colorbar": {
              "outlinewidth": 0,
              "ticks": ""
             }
            },
            "type": "scattergeo"
           }
          ],
          "scattergl": [
           {
            "marker": {
             "colorbar": {
              "outlinewidth": 0,
              "ticks": ""
             }
            },
            "type": "scattergl"
           }
          ],
          "scattermapbox": [
           {
            "marker": {
             "colorbar": {
              "outlinewidth": 0,
              "ticks": ""
             }
            },
            "type": "scattermapbox"
           }
          ],
          "scatterpolar": [
           {
            "marker": {
             "colorbar": {
              "outlinewidth": 0,
              "ticks": ""
             }
            },
            "type": "scatterpolar"
           }
          ],
          "scatterpolargl": [
           {
            "marker": {
             "colorbar": {
              "outlinewidth": 0,
              "ticks": ""
             }
            },
            "type": "scatterpolargl"
           }
          ],
          "scatterternary": [
           {
            "marker": {
             "colorbar": {
              "outlinewidth": 0,
              "ticks": ""
             }
            },
            "type": "scatterternary"
           }
          ],
          "surface": [
           {
            "colorbar": {
             "outlinewidth": 0,
             "ticks": ""
            },
            "colorscale": [
             [
              0,
              "#0d0887"
             ],
             [
              0.1111111111111111,
              "#46039f"
             ],
             [
              0.2222222222222222,
              "#7201a8"
             ],
             [
              0.3333333333333333,
              "#9c179e"
             ],
             [
              0.4444444444444444,
              "#bd3786"
             ],
             [
              0.5555555555555556,
              "#d8576b"
             ],
             [
              0.6666666666666666,
              "#ed7953"
             ],
             [
              0.7777777777777778,
              "#fb9f3a"
             ],
             [
              0.8888888888888888,
              "#fdca26"
             ],
             [
              1,
              "#f0f921"
             ]
            ],
            "type": "surface"
           }
          ],
          "table": [
           {
            "cells": {
             "fill": {
              "color": "#EBF0F8"
             },
             "line": {
              "color": "white"
             }
            },
            "header": {
             "fill": {
              "color": "#C8D4E3"
             },
             "line": {
              "color": "white"
             }
            },
            "type": "table"
           }
          ]
         },
         "layout": {
          "annotationdefaults": {
           "arrowcolor": "#2a3f5f",
           "arrowhead": 0,
           "arrowwidth": 1
          },
          "coloraxis": {
           "colorbar": {
            "outlinewidth": 0,
            "ticks": ""
           }
          },
          "colorscale": {
           "diverging": [
            [
             0,
             "#8e0152"
            ],
            [
             0.1,
             "#c51b7d"
            ],
            [
             0.2,
             "#de77ae"
            ],
            [
             0.3,
             "#f1b6da"
            ],
            [
             0.4,
             "#fde0ef"
            ],
            [
             0.5,
             "#f7f7f7"
            ],
            [
             0.6,
             "#e6f5d0"
            ],
            [
             0.7,
             "#b8e186"
            ],
            [
             0.8,
             "#7fbc41"
            ],
            [
             0.9,
             "#4d9221"
            ],
            [
             1,
             "#276419"
            ]
           ],
           "sequential": [
            [
             0,
             "#0d0887"
            ],
            [
             0.1111111111111111,
             "#46039f"
            ],
            [
             0.2222222222222222,
             "#7201a8"
            ],
            [
             0.3333333333333333,
             "#9c179e"
            ],
            [
             0.4444444444444444,
             "#bd3786"
            ],
            [
             0.5555555555555556,
             "#d8576b"
            ],
            [
             0.6666666666666666,
             "#ed7953"
            ],
            [
             0.7777777777777778,
             "#fb9f3a"
            ],
            [
             0.8888888888888888,
             "#fdca26"
            ],
            [
             1,
             "#f0f921"
            ]
           ],
           "sequentialminus": [
            [
             0,
             "#0d0887"
            ],
            [
             0.1111111111111111,
             "#46039f"
            ],
            [
             0.2222222222222222,
             "#7201a8"
            ],
            [
             0.3333333333333333,
             "#9c179e"
            ],
            [
             0.4444444444444444,
             "#bd3786"
            ],
            [
             0.5555555555555556,
             "#d8576b"
            ],
            [
             0.6666666666666666,
             "#ed7953"
            ],
            [
             0.7777777777777778,
             "#fb9f3a"
            ],
            [
             0.8888888888888888,
             "#fdca26"
            ],
            [
             1,
             "#f0f921"
            ]
           ]
          },
          "colorway": [
           "#636efa",
           "#EF553B",
           "#00cc96",
           "#ab63fa",
           "#FFA15A",
           "#19d3f3",
           "#FF6692",
           "#B6E880",
           "#FF97FF",
           "#FECB52"
          ],
          "font": {
           "color": "#2a3f5f"
          },
          "geo": {
           "bgcolor": "white",
           "lakecolor": "white",
           "landcolor": "#E5ECF6",
           "showlakes": true,
           "showland": true,
           "subunitcolor": "white"
          },
          "hoverlabel": {
           "align": "left"
          },
          "hovermode": "closest",
          "mapbox": {
           "style": "light"
          },
          "paper_bgcolor": "white",
          "plot_bgcolor": "#E5ECF6",
          "polar": {
           "angularaxis": {
            "gridcolor": "white",
            "linecolor": "white",
            "ticks": ""
           },
           "bgcolor": "#E5ECF6",
           "radialaxis": {
            "gridcolor": "white",
            "linecolor": "white",
            "ticks": ""
           }
          },
          "scene": {
           "xaxis": {
            "backgroundcolor": "#E5ECF6",
            "gridcolor": "white",
            "gridwidth": 2,
            "linecolor": "white",
            "showbackground": true,
            "ticks": "",
            "zerolinecolor": "white"
           },
           "yaxis": {
            "backgroundcolor": "#E5ECF6",
            "gridcolor": "white",
            "gridwidth": 2,
            "linecolor": "white",
            "showbackground": true,
            "ticks": "",
            "zerolinecolor": "white"
           },
           "zaxis": {
            "backgroundcolor": "#E5ECF6",
            "gridcolor": "white",
            "gridwidth": 2,
            "linecolor": "white",
            "showbackground": true,
            "ticks": "",
            "zerolinecolor": "white"
           }
          },
          "shapedefaults": {
           "line": {
            "color": "#2a3f5f"
           }
          },
          "ternary": {
           "aaxis": {
            "gridcolor": "white",
            "linecolor": "white",
            "ticks": ""
           },
           "baxis": {
            "gridcolor": "white",
            "linecolor": "white",
            "ticks": ""
           },
           "bgcolor": "#E5ECF6",
           "caxis": {
            "gridcolor": "white",
            "linecolor": "white",
            "ticks": ""
           }
          },
          "title": {
           "x": 0.05
          },
          "xaxis": {
           "automargin": true,
           "gridcolor": "white",
           "linecolor": "white",
           "ticks": "",
           "title": {
            "standoff": 15
           },
           "zerolinecolor": "white",
           "zerolinewidth": 2
          },
          "yaxis": {
           "automargin": true,
           "gridcolor": "white",
           "linecolor": "white",
           "ticks": "",
           "title": {
            "standoff": 15
           },
           "zerolinecolor": "white",
           "zerolinewidth": 2
          }
         }
        }
       }
      },
      "text/html": [
       "<div>                            <div id=\"076f2bba-6d33-45c0-b8a7-cc5a70feaa82\" class=\"plotly-graph-div\" style=\"height:525px; width:100%;\"></div>            <script type=\"text/javascript\">                require([\"plotly\"], function(Plotly) {                    window.PLOTLYENV=window.PLOTLYENV || {};                                    if (document.getElementById(\"076f2bba-6d33-45c0-b8a7-cc5a70feaa82\")) {                    Plotly.newPlot(                        \"076f2bba-6d33-45c0-b8a7-cc5a70feaa82\",                        [{\"hole\": 0.7, \"labels\": [\"male\", \"female\"], \"marker\": {\"colors\": [\"grey\", \"purple\"]}, \"type\": \"pie\", \"values\": [86.54545454545455, 13.454545454545455]}],                        {\"template\": {\"data\": {\"bar\": [{\"error_x\": {\"color\": \"#2a3f5f\"}, \"error_y\": {\"color\": \"#2a3f5f\"}, \"marker\": {\"line\": {\"color\": \"#E5ECF6\", \"width\": 0.5}}, \"type\": \"bar\"}], \"barpolar\": [{\"marker\": {\"line\": {\"color\": \"#E5ECF6\", \"width\": 0.5}}, \"type\": \"barpolar\"}], \"carpet\": [{\"aaxis\": {\"endlinecolor\": \"#2a3f5f\", \"gridcolor\": \"white\", \"linecolor\": \"white\", \"minorgridcolor\": \"white\", \"startlinecolor\": \"#2a3f5f\"}, \"baxis\": {\"endlinecolor\": \"#2a3f5f\", \"gridcolor\": \"white\", \"linecolor\": \"white\", \"minorgridcolor\": \"white\", \"startlinecolor\": \"#2a3f5f\"}, \"type\": \"carpet\"}], \"choropleth\": [{\"colorbar\": {\"outlinewidth\": 0, \"ticks\": \"\"}, \"type\": \"choropleth\"}], \"contour\": [{\"colorbar\": {\"outlinewidth\": 0, \"ticks\": \"\"}, \"colorscale\": [[0.0, \"#0d0887\"], [0.1111111111111111, \"#46039f\"], [0.2222222222222222, \"#7201a8\"], [0.3333333333333333, \"#9c179e\"], [0.4444444444444444, \"#bd3786\"], [0.5555555555555556, \"#d8576b\"], [0.6666666666666666, \"#ed7953\"], [0.7777777777777778, \"#fb9f3a\"], [0.8888888888888888, \"#fdca26\"], [1.0, \"#f0f921\"]], \"type\": \"contour\"}], \"contourcarpet\": [{\"colorbar\": {\"outlinewidth\": 0, \"ticks\": \"\"}, \"type\": \"contourcarpet\"}], \"heatmap\": [{\"colorbar\": {\"outlinewidth\": 0, \"ticks\": \"\"}, \"colorscale\": [[0.0, \"#0d0887\"], [0.1111111111111111, \"#46039f\"], [0.2222222222222222, \"#7201a8\"], [0.3333333333333333, \"#9c179e\"], [0.4444444444444444, \"#bd3786\"], [0.5555555555555556, \"#d8576b\"], [0.6666666666666666, \"#ed7953\"], [0.7777777777777778, \"#fb9f3a\"], [0.8888888888888888, \"#fdca26\"], [1.0, \"#f0f921\"]], \"type\": \"heatmap\"}], \"heatmapgl\": [{\"colorbar\": {\"outlinewidth\": 0, \"ticks\": \"\"}, \"colorscale\": [[0.0, \"#0d0887\"], [0.1111111111111111, \"#46039f\"], [0.2222222222222222, \"#7201a8\"], [0.3333333333333333, \"#9c179e\"], [0.4444444444444444, \"#bd3786\"], [0.5555555555555556, \"#d8576b\"], [0.6666666666666666, \"#ed7953\"], [0.7777777777777778, \"#fb9f3a\"], [0.8888888888888888, \"#fdca26\"], [1.0, \"#f0f921\"]], \"type\": \"heatmapgl\"}], \"histogram\": [{\"marker\": {\"colorbar\": {\"outlinewidth\": 0, \"ticks\": \"\"}}, \"type\": \"histogram\"}], \"histogram2d\": [{\"colorbar\": {\"outlinewidth\": 0, \"ticks\": \"\"}, \"colorscale\": [[0.0, \"#0d0887\"], [0.1111111111111111, \"#46039f\"], [0.2222222222222222, \"#7201a8\"], [0.3333333333333333, \"#9c179e\"], [0.4444444444444444, \"#bd3786\"], [0.5555555555555556, \"#d8576b\"], [0.6666666666666666, \"#ed7953\"], [0.7777777777777778, \"#fb9f3a\"], [0.8888888888888888, \"#fdca26\"], [1.0, \"#f0f921\"]], \"type\": \"histogram2d\"}], \"histogram2dcontour\": [{\"colorbar\": {\"outlinewidth\": 0, \"ticks\": \"\"}, \"colorscale\": [[0.0, \"#0d0887\"], [0.1111111111111111, \"#46039f\"], [0.2222222222222222, \"#7201a8\"], [0.3333333333333333, \"#9c179e\"], [0.4444444444444444, \"#bd3786\"], [0.5555555555555556, \"#d8576b\"], [0.6666666666666666, \"#ed7953\"], [0.7777777777777778, \"#fb9f3a\"], [0.8888888888888888, \"#fdca26\"], [1.0, \"#f0f921\"]], \"type\": \"histogram2dcontour\"}], \"mesh3d\": [{\"colorbar\": {\"outlinewidth\": 0, \"ticks\": \"\"}, \"type\": \"mesh3d\"}], \"parcoords\": [{\"line\": {\"colorbar\": {\"outlinewidth\": 0, \"ticks\": \"\"}}, \"type\": \"parcoords\"}], \"pie\": [{\"automargin\": true, \"type\": \"pie\"}], \"scatter\": [{\"marker\": {\"colorbar\": {\"outlinewidth\": 0, \"ticks\": \"\"}}, \"type\": \"scatter\"}], \"scatter3d\": [{\"line\": {\"colorbar\": {\"outlinewidth\": 0, \"ticks\": \"\"}}, \"marker\": {\"colorbar\": {\"outlinewidth\": 0, \"ticks\": \"\"}}, \"type\": \"scatter3d\"}], \"scattercarpet\": [{\"marker\": {\"colorbar\": {\"outlinewidth\": 0, \"ticks\": \"\"}}, \"type\": \"scattercarpet\"}], \"scattergeo\": [{\"marker\": {\"colorbar\": {\"outlinewidth\": 0, \"ticks\": \"\"}}, \"type\": \"scattergeo\"}], \"scattergl\": [{\"marker\": {\"colorbar\": {\"outlinewidth\": 0, \"ticks\": \"\"}}, \"type\": \"scattergl\"}], \"scattermapbox\": [{\"marker\": {\"colorbar\": {\"outlinewidth\": 0, \"ticks\": \"\"}}, \"type\": \"scattermapbox\"}], \"scatterpolar\": [{\"marker\": {\"colorbar\": {\"outlinewidth\": 0, \"ticks\": \"\"}}, \"type\": \"scatterpolar\"}], \"scatterpolargl\": [{\"marker\": {\"colorbar\": {\"outlinewidth\": 0, \"ticks\": \"\"}}, \"type\": \"scatterpolargl\"}], \"scatterternary\": [{\"marker\": {\"colorbar\": {\"outlinewidth\": 0, \"ticks\": \"\"}}, \"type\": \"scatterternary\"}], \"surface\": [{\"colorbar\": {\"outlinewidth\": 0, \"ticks\": \"\"}, \"colorscale\": [[0.0, \"#0d0887\"], [0.1111111111111111, \"#46039f\"], [0.2222222222222222, \"#7201a8\"], [0.3333333333333333, \"#9c179e\"], [0.4444444444444444, \"#bd3786\"], [0.5555555555555556, \"#d8576b\"], [0.6666666666666666, \"#ed7953\"], [0.7777777777777778, \"#fb9f3a\"], [0.8888888888888888, \"#fdca26\"], [1.0, \"#f0f921\"]], \"type\": \"surface\"}], \"table\": [{\"cells\": {\"fill\": {\"color\": \"#EBF0F8\"}, \"line\": {\"color\": \"white\"}}, \"header\": {\"fill\": {\"color\": \"#C8D4E3\"}, \"line\": {\"color\": \"white\"}}, \"type\": \"table\"}]}, \"layout\": {\"annotationdefaults\": {\"arrowcolor\": \"#2a3f5f\", \"arrowhead\": 0, \"arrowwidth\": 1}, \"coloraxis\": {\"colorbar\": {\"outlinewidth\": 0, \"ticks\": \"\"}}, \"colorscale\": {\"diverging\": [[0, \"#8e0152\"], [0.1, \"#c51b7d\"], [0.2, \"#de77ae\"], [0.3, \"#f1b6da\"], [0.4, \"#fde0ef\"], [0.5, \"#f7f7f7\"], [0.6, \"#e6f5d0\"], [0.7, \"#b8e186\"], [0.8, \"#7fbc41\"], [0.9, \"#4d9221\"], [1, \"#276419\"]], \"sequential\": [[0.0, \"#0d0887\"], [0.1111111111111111, \"#46039f\"], [0.2222222222222222, \"#7201a8\"], [0.3333333333333333, \"#9c179e\"], [0.4444444444444444, \"#bd3786\"], [0.5555555555555556, \"#d8576b\"], [0.6666666666666666, \"#ed7953\"], [0.7777777777777778, \"#fb9f3a\"], [0.8888888888888888, \"#fdca26\"], [1.0, \"#f0f921\"]], \"sequentialminus\": [[0.0, \"#0d0887\"], [0.1111111111111111, \"#46039f\"], [0.2222222222222222, \"#7201a8\"], [0.3333333333333333, \"#9c179e\"], [0.4444444444444444, \"#bd3786\"], [0.5555555555555556, \"#d8576b\"], [0.6666666666666666, \"#ed7953\"], [0.7777777777777778, \"#fb9f3a\"], [0.8888888888888888, \"#fdca26\"], [1.0, \"#f0f921\"]]}, \"colorway\": [\"#636efa\", \"#EF553B\", \"#00cc96\", \"#ab63fa\", \"#FFA15A\", \"#19d3f3\", \"#FF6692\", \"#B6E880\", \"#FF97FF\", \"#FECB52\"], \"font\": {\"color\": \"#2a3f5f\"}, \"geo\": {\"bgcolor\": \"white\", \"lakecolor\": \"white\", \"landcolor\": \"#E5ECF6\", \"showlakes\": true, \"showland\": true, \"subunitcolor\": \"white\"}, \"hoverlabel\": {\"align\": \"left\"}, \"hovermode\": \"closest\", \"mapbox\": {\"style\": \"light\"}, \"paper_bgcolor\": \"white\", \"plot_bgcolor\": \"#E5ECF6\", \"polar\": {\"angularaxis\": {\"gridcolor\": \"white\", \"linecolor\": \"white\", \"ticks\": \"\"}, \"bgcolor\": \"#E5ECF6\", \"radialaxis\": {\"gridcolor\": \"white\", \"linecolor\": \"white\", \"ticks\": \"\"}}, \"scene\": {\"xaxis\": {\"backgroundcolor\": \"#E5ECF6\", \"gridcolor\": \"white\", \"gridwidth\": 2, \"linecolor\": \"white\", \"showbackground\": true, \"ticks\": \"\", \"zerolinecolor\": \"white\"}, \"yaxis\": {\"backgroundcolor\": \"#E5ECF6\", \"gridcolor\": \"white\", \"gridwidth\": 2, \"linecolor\": \"white\", \"showbackground\": true, \"ticks\": \"\", \"zerolinecolor\": \"white\"}, \"zaxis\": {\"backgroundcolor\": \"#E5ECF6\", \"gridcolor\": \"white\", \"gridwidth\": 2, \"linecolor\": \"white\", \"showbackground\": true, \"ticks\": \"\", \"zerolinecolor\": \"white\"}}, \"shapedefaults\": {\"line\": {\"color\": \"#2a3f5f\"}}, \"ternary\": {\"aaxis\": {\"gridcolor\": \"white\", \"linecolor\": \"white\", \"ticks\": \"\"}, \"baxis\": {\"gridcolor\": \"white\", \"linecolor\": \"white\", \"ticks\": \"\"}, \"bgcolor\": \"#E5ECF6\", \"caxis\": {\"gridcolor\": \"white\", \"linecolor\": \"white\", \"ticks\": \"\"}}, \"title\": {\"x\": 0.05}, \"xaxis\": {\"automargin\": true, \"gridcolor\": \"white\", \"linecolor\": \"white\", \"ticks\": \"\", \"title\": {\"standoff\": 15}, \"zerolinecolor\": \"white\", \"zerolinewidth\": 2}, \"yaxis\": {\"automargin\": true, \"gridcolor\": \"white\", \"linecolor\": \"white\", \"ticks\": \"\", \"title\": {\"standoff\": 15}, \"zerolinecolor\": \"white\", \"zerolinewidth\": 2}}}},                        {\"responsive\": true}                    ).then(function(){\n",
       "                            \n",
       "var gd = document.getElementById('076f2bba-6d33-45c0-b8a7-cc5a70feaa82');\n",
       "var x = new MutationObserver(function (mutations, observer) {{\n",
       "        var display = window.getComputedStyle(gd).display;\n",
       "        if (!display || display === 'none') {{\n",
       "            console.log([gd, 'removed!']);\n",
       "            Plotly.purge(gd);\n",
       "            observer.disconnect();\n",
       "        }}\n",
       "}});\n",
       "\n",
       "// Listen for the removal of the full notebook cells\n",
       "var notebookContainer = gd.closest('#notebook-container');\n",
       "if (notebookContainer) {{\n",
       "    x.observe(notebookContainer, {childList: true});\n",
       "}}\n",
       "\n",
       "// Listen for the clearing of the current output cell\n",
       "var outputEl = gd.closest('.output');\n",
       "if (outputEl) {{\n",
       "    x.observe(outputEl, {childList: true});\n",
       "}}\n",
       "\n",
       "                        })                };                });            </script>        </div>"
      ]
     },
     "metadata": {},
     "output_type": "display_data"
    }
   ],
   "source": [
    "#let's try plotly. This library is used to build intereactive visualization\n",
    "import plotly.graph_objects as go\n",
    "\n",
    "labels = ['male', 'female']\n",
    "values = [percent_male, percent_female]\n",
    "\n",
    "# Use `hole` to create a donut-like pie chart\n",
    "fig = go.Figure(data=[go.Pie(labels=labels, values=values, hole=.7, marker_colors = ['grey', 'purple'])])\n",
    "fig.show()"
   ]
  },
  {
   "cell_type": "code",
   "execution_count": 142,
   "metadata": {},
   "outputs": [
    {
     "data": {
      "application/vnd.plotly.v1+json": {
       "config": {
        "plotlyServerURL": "https://plot.ly"
       },
       "data": [
        {
         "hovertemplate": "Gender=female<br>Year=%{x}<br>Number=%{y}<extra></extra>",
         "legendgroup": "female",
         "line": {
          "color": "purple",
          "dash": "solid"
         },
         "mode": "lines",
         "name": "female",
         "orientation": "v",
         "showlegend": true,
         "type": "scatter",
         "x": [
          1954,
          1965,
          1969,
          1979,
          1992,
          1996,
          2000,
          2004,
          2008,
          2012,
          2016
         ],
         "xaxis": "x",
         "y": [
          1,
          20,
          2,
          8,
          13,
          19,
          18,
          24,
          21,
          32,
          37
         ],
         "yaxis": "y"
        },
        {
         "hovertemplate": "Gender=male<br>Year=%{x}<br>Number=%{y}<extra></extra>",
         "legendgroup": "male",
         "line": {
          "color": "grey",
          "dash": "solid"
         },
         "mode": "lines",
         "name": "male",
         "orientation": "v",
         "showlegend": true,
         "type": "scatter",
         "x": [
          1951,
          1954,
          1957,
          1965,
          1969,
          1979,
          1992,
          1996,
          2000,
          2004,
          2008,
          2012,
          2016
         ],
         "xaxis": "x",
         "y": [
          27,
          61,
          104,
          178,
          138,
          131,
          182,
          181,
          182,
          206,
          209,
          243,
          238
         ],
         "yaxis": "y"
        }
       ],
       "layout": {
        "legend": {
         "title": {
          "text": "Gender"
         },
         "tracegroupgap": 0
        },
        "margin": {
         "t": 60
        },
        "template": {
         "data": {
          "bar": [
           {
            "error_x": {
             "color": "#2a3f5f"
            },
            "error_y": {
             "color": "#2a3f5f"
            },
            "marker": {
             "line": {
              "color": "#E5ECF6",
              "width": 0.5
             }
            },
            "type": "bar"
           }
          ],
          "barpolar": [
           {
            "marker": {
             "line": {
              "color": "#E5ECF6",
              "width": 0.5
             }
            },
            "type": "barpolar"
           }
          ],
          "carpet": [
           {
            "aaxis": {
             "endlinecolor": "#2a3f5f",
             "gridcolor": "white",
             "linecolor": "white",
             "minorgridcolor": "white",
             "startlinecolor": "#2a3f5f"
            },
            "baxis": {
             "endlinecolor": "#2a3f5f",
             "gridcolor": "white",
             "linecolor": "white",
             "minorgridcolor": "white",
             "startlinecolor": "#2a3f5f"
            },
            "type": "carpet"
           }
          ],
          "choropleth": [
           {
            "colorbar": {
             "outlinewidth": 0,
             "ticks": ""
            },
            "type": "choropleth"
           }
          ],
          "contour": [
           {
            "colorbar": {
             "outlinewidth": 0,
             "ticks": ""
            },
            "colorscale": [
             [
              0,
              "#0d0887"
             ],
             [
              0.1111111111111111,
              "#46039f"
             ],
             [
              0.2222222222222222,
              "#7201a8"
             ],
             [
              0.3333333333333333,
              "#9c179e"
             ],
             [
              0.4444444444444444,
              "#bd3786"
             ],
             [
              0.5555555555555556,
              "#d8576b"
             ],
             [
              0.6666666666666666,
              "#ed7953"
             ],
             [
              0.7777777777777778,
              "#fb9f3a"
             ],
             [
              0.8888888888888888,
              "#fdca26"
             ],
             [
              1,
              "#f0f921"
             ]
            ],
            "type": "contour"
           }
          ],
          "contourcarpet": [
           {
            "colorbar": {
             "outlinewidth": 0,
             "ticks": ""
            },
            "type": "contourcarpet"
           }
          ],
          "heatmap": [
           {
            "colorbar": {
             "outlinewidth": 0,
             "ticks": ""
            },
            "colorscale": [
             [
              0,
              "#0d0887"
             ],
             [
              0.1111111111111111,
              "#46039f"
             ],
             [
              0.2222222222222222,
              "#7201a8"
             ],
             [
              0.3333333333333333,
              "#9c179e"
             ],
             [
              0.4444444444444444,
              "#bd3786"
             ],
             [
              0.5555555555555556,
              "#d8576b"
             ],
             [
              0.6666666666666666,
              "#ed7953"
             ],
             [
              0.7777777777777778,
              "#fb9f3a"
             ],
             [
              0.8888888888888888,
              "#fdca26"
             ],
             [
              1,
              "#f0f921"
             ]
            ],
            "type": "heatmap"
           }
          ],
          "heatmapgl": [
           {
            "colorbar": {
             "outlinewidth": 0,
             "ticks": ""
            },
            "colorscale": [
             [
              0,
              "#0d0887"
             ],
             [
              0.1111111111111111,
              "#46039f"
             ],
             [
              0.2222222222222222,
              "#7201a8"
             ],
             [
              0.3333333333333333,
              "#9c179e"
             ],
             [
              0.4444444444444444,
              "#bd3786"
             ],
             [
              0.5555555555555556,
              "#d8576b"
             ],
             [
              0.6666666666666666,
              "#ed7953"
             ],
             [
              0.7777777777777778,
              "#fb9f3a"
             ],
             [
              0.8888888888888888,
              "#fdca26"
             ],
             [
              1,
              "#f0f921"
             ]
            ],
            "type": "heatmapgl"
           }
          ],
          "histogram": [
           {
            "marker": {
             "colorbar": {
              "outlinewidth": 0,
              "ticks": ""
             }
            },
            "type": "histogram"
           }
          ],
          "histogram2d": [
           {
            "colorbar": {
             "outlinewidth": 0,
             "ticks": ""
            },
            "colorscale": [
             [
              0,
              "#0d0887"
             ],
             [
              0.1111111111111111,
              "#46039f"
             ],
             [
              0.2222222222222222,
              "#7201a8"
             ],
             [
              0.3333333333333333,
              "#9c179e"
             ],
             [
              0.4444444444444444,
              "#bd3786"
             ],
             [
              0.5555555555555556,
              "#d8576b"
             ],
             [
              0.6666666666666666,
              "#ed7953"
             ],
             [
              0.7777777777777778,
              "#fb9f3a"
             ],
             [
              0.8888888888888888,
              "#fdca26"
             ],
             [
              1,
              "#f0f921"
             ]
            ],
            "type": "histogram2d"
           }
          ],
          "histogram2dcontour": [
           {
            "colorbar": {
             "outlinewidth": 0,
             "ticks": ""
            },
            "colorscale": [
             [
              0,
              "#0d0887"
             ],
             [
              0.1111111111111111,
              "#46039f"
             ],
             [
              0.2222222222222222,
              "#7201a8"
             ],
             [
              0.3333333333333333,
              "#9c179e"
             ],
             [
              0.4444444444444444,
              "#bd3786"
             ],
             [
              0.5555555555555556,
              "#d8576b"
             ],
             [
              0.6666666666666666,
              "#ed7953"
             ],
             [
              0.7777777777777778,
              "#fb9f3a"
             ],
             [
              0.8888888888888888,
              "#fdca26"
             ],
             [
              1,
              "#f0f921"
             ]
            ],
            "type": "histogram2dcontour"
           }
          ],
          "mesh3d": [
           {
            "colorbar": {
             "outlinewidth": 0,
             "ticks": ""
            },
            "type": "mesh3d"
           }
          ],
          "parcoords": [
           {
            "line": {
             "colorbar": {
              "outlinewidth": 0,
              "ticks": ""
             }
            },
            "type": "parcoords"
           }
          ],
          "pie": [
           {
            "automargin": true,
            "type": "pie"
           }
          ],
          "scatter": [
           {
            "marker": {
             "colorbar": {
              "outlinewidth": 0,
              "ticks": ""
             }
            },
            "type": "scatter"
           }
          ],
          "scatter3d": [
           {
            "line": {
             "colorbar": {
              "outlinewidth": 0,
              "ticks": ""
             }
            },
            "marker": {
             "colorbar": {
              "outlinewidth": 0,
              "ticks": ""
             }
            },
            "type": "scatter3d"
           }
          ],
          "scattercarpet": [
           {
            "marker": {
             "colorbar": {
              "outlinewidth": 0,
              "ticks": ""
             }
            },
            "type": "scattercarpet"
           }
          ],
          "scattergeo": [
           {
            "marker": {
             "colorbar": {
              "outlinewidth": 0,
              "ticks": ""
             }
            },
            "type": "scattergeo"
           }
          ],
          "scattergl": [
           {
            "marker": {
             "colorbar": {
              "outlinewidth": 0,
              "ticks": ""
             }
            },
            "type": "scattergl"
           }
          ],
          "scattermapbox": [
           {
            "marker": {
             "colorbar": {
              "outlinewidth": 0,
              "ticks": ""
             }
            },
            "type": "scattermapbox"
           }
          ],
          "scatterpolar": [
           {
            "marker": {
             "colorbar": {
              "outlinewidth": 0,
              "ticks": ""
             }
            },
            "type": "scatterpolar"
           }
          ],
          "scatterpolargl": [
           {
            "marker": {
             "colorbar": {
              "outlinewidth": 0,
              "ticks": ""
             }
            },
            "type": "scatterpolargl"
           }
          ],
          "scatterternary": [
           {
            "marker": {
             "colorbar": {
              "outlinewidth": 0,
              "ticks": ""
             }
            },
            "type": "scatterternary"
           }
          ],
          "surface": [
           {
            "colorbar": {
             "outlinewidth": 0,
             "ticks": ""
            },
            "colorscale": [
             [
              0,
              "#0d0887"
             ],
             [
              0.1111111111111111,
              "#46039f"
             ],
             [
              0.2222222222222222,
              "#7201a8"
             ],
             [
              0.3333333333333333,
              "#9c179e"
             ],
             [
              0.4444444444444444,
              "#bd3786"
             ],
             [
              0.5555555555555556,
              "#d8576b"
             ],
             [
              0.6666666666666666,
              "#ed7953"
             ],
             [
              0.7777777777777778,
              "#fb9f3a"
             ],
             [
              0.8888888888888888,
              "#fdca26"
             ],
             [
              1,
              "#f0f921"
             ]
            ],
            "type": "surface"
           }
          ],
          "table": [
           {
            "cells": {
             "fill": {
              "color": "#EBF0F8"
             },
             "line": {
              "color": "white"
             }
            },
            "header": {
             "fill": {
              "color": "#C8D4E3"
             },
             "line": {
              "color": "white"
             }
            },
            "type": "table"
           }
          ]
         },
         "layout": {
          "annotationdefaults": {
           "arrowcolor": "#2a3f5f",
           "arrowhead": 0,
           "arrowwidth": 1
          },
          "coloraxis": {
           "colorbar": {
            "outlinewidth": 0,
            "ticks": ""
           }
          },
          "colorscale": {
           "diverging": [
            [
             0,
             "#8e0152"
            ],
            [
             0.1,
             "#c51b7d"
            ],
            [
             0.2,
             "#de77ae"
            ],
            [
             0.3,
             "#f1b6da"
            ],
            [
             0.4,
             "#fde0ef"
            ],
            [
             0.5,
             "#f7f7f7"
            ],
            [
             0.6,
             "#e6f5d0"
            ],
            [
             0.7,
             "#b8e186"
            ],
            [
             0.8,
             "#7fbc41"
            ],
            [
             0.9,
             "#4d9221"
            ],
            [
             1,
             "#276419"
            ]
           ],
           "sequential": [
            [
             0,
             "#0d0887"
            ],
            [
             0.1111111111111111,
             "#46039f"
            ],
            [
             0.2222222222222222,
             "#7201a8"
            ],
            [
             0.3333333333333333,
             "#9c179e"
            ],
            [
             0.4444444444444444,
             "#bd3786"
            ],
            [
             0.5555555555555556,
             "#d8576b"
            ],
            [
             0.6666666666666666,
             "#ed7953"
            ],
            [
             0.7777777777777778,
             "#fb9f3a"
            ],
            [
             0.8888888888888888,
             "#fdca26"
            ],
            [
             1,
             "#f0f921"
            ]
           ],
           "sequentialminus": [
            [
             0,
             "#0d0887"
            ],
            [
             0.1111111111111111,
             "#46039f"
            ],
            [
             0.2222222222222222,
             "#7201a8"
            ],
            [
             0.3333333333333333,
             "#9c179e"
            ],
            [
             0.4444444444444444,
             "#bd3786"
            ],
            [
             0.5555555555555556,
             "#d8576b"
            ],
            [
             0.6666666666666666,
             "#ed7953"
            ],
            [
             0.7777777777777778,
             "#fb9f3a"
            ],
            [
             0.8888888888888888,
             "#fdca26"
            ],
            [
             1,
             "#f0f921"
            ]
           ]
          },
          "colorway": [
           "#636efa",
           "#EF553B",
           "#00cc96",
           "#ab63fa",
           "#FFA15A",
           "#19d3f3",
           "#FF6692",
           "#B6E880",
           "#FF97FF",
           "#FECB52"
          ],
          "font": {
           "color": "#2a3f5f"
          },
          "geo": {
           "bgcolor": "white",
           "lakecolor": "white",
           "landcolor": "#E5ECF6",
           "showlakes": true,
           "showland": true,
           "subunitcolor": "white"
          },
          "hoverlabel": {
           "align": "left"
          },
          "hovermode": "closest",
          "mapbox": {
           "style": "light"
          },
          "paper_bgcolor": "white",
          "plot_bgcolor": "#E5ECF6",
          "polar": {
           "angularaxis": {
            "gridcolor": "white",
            "linecolor": "white",
            "ticks": ""
           },
           "bgcolor": "#E5ECF6",
           "radialaxis": {
            "gridcolor": "white",
            "linecolor": "white",
            "ticks": ""
           }
          },
          "scene": {
           "xaxis": {
            "backgroundcolor": "#E5ECF6",
            "gridcolor": "white",
            "gridwidth": 2,
            "linecolor": "white",
            "showbackground": true,
            "ticks": "",
            "zerolinecolor": "white"
           },
           "yaxis": {
            "backgroundcolor": "#E5ECF6",
            "gridcolor": "white",
            "gridwidth": 2,
            "linecolor": "white",
            "showbackground": true,
            "ticks": "",
            "zerolinecolor": "white"
           },
           "zaxis": {
            "backgroundcolor": "#E5ECF6",
            "gridcolor": "white",
            "gridwidth": 2,
            "linecolor": "white",
            "showbackground": true,
            "ticks": "",
            "zerolinecolor": "white"
           }
          },
          "shapedefaults": {
           "line": {
            "color": "#2a3f5f"
           }
          },
          "ternary": {
           "aaxis": {
            "gridcolor": "white",
            "linecolor": "white",
            "ticks": ""
           },
           "baxis": {
            "gridcolor": "white",
            "linecolor": "white",
            "ticks": ""
           },
           "bgcolor": "#E5ECF6",
           "caxis": {
            "gridcolor": "white",
            "linecolor": "white",
            "ticks": ""
           }
          },
          "title": {
           "x": 0.05
          },
          "xaxis": {
           "automargin": true,
           "gridcolor": "white",
           "linecolor": "white",
           "ticks": "",
           "title": {
            "standoff": 15
           },
           "zerolinecolor": "white",
           "zerolinewidth": 2
          },
          "yaxis": {
           "automargin": true,
           "gridcolor": "white",
           "linecolor": "white",
           "ticks": "",
           "title": {
            "standoff": 15
           },
           "zerolinecolor": "white",
           "zerolinewidth": 2
          }
         }
        },
        "xaxis": {
         "anchor": "y",
         "domain": [
          0,
          1
         ],
         "title": {
          "text": "Year"
         }
        },
        "yaxis": {
         "anchor": "x",
         "domain": [
          0,
          1
         ],
         "title": {
          "text": "Number"
         }
        }
       }
      },
      "text/html": [
       "<div>                            <div id=\"11e91263-9cfc-4d52-9566-5bc462ef1c20\" class=\"plotly-graph-div\" style=\"height:525px; width:100%;\"></div>            <script type=\"text/javascript\">                require([\"plotly\"], function(Plotly) {                    window.PLOTLYENV=window.PLOTLYENV || {};                                    if (document.getElementById(\"11e91263-9cfc-4d52-9566-5bc462ef1c20\")) {                    Plotly.newPlot(                        \"11e91263-9cfc-4d52-9566-5bc462ef1c20\",                        [{\"hovertemplate\": \"Gender=female<br>Year=%{x}<br>Number=%{y}<extra></extra>\", \"legendgroup\": \"female\", \"line\": {\"color\": \"purple\", \"dash\": \"solid\"}, \"mode\": \"lines\", \"name\": \"female\", \"orientation\": \"v\", \"showlegend\": true, \"type\": \"scatter\", \"x\": [1954, 1965, 1969, 1979, 1992, 1996, 2000, 2004, 2008, 2012, 2016], \"xaxis\": \"x\", \"y\": [1, 20, 2, 8, 13, 19, 18, 24, 21, 32, 37], \"yaxis\": \"y\"}, {\"hovertemplate\": \"Gender=male<br>Year=%{x}<br>Number=%{y}<extra></extra>\", \"legendgroup\": \"male\", \"line\": {\"color\": \"grey\", \"dash\": \"solid\"}, \"mode\": \"lines\", \"name\": \"male\", \"orientation\": \"v\", \"showlegend\": true, \"type\": \"scatter\", \"x\": [1951, 1954, 1957, 1965, 1969, 1979, 1992, 1996, 2000, 2004, 2008, 2012, 2016], \"xaxis\": \"x\", \"y\": [27, 61, 104, 178, 138, 131, 182, 181, 182, 206, 209, 243, 238], \"yaxis\": \"y\"}],                        {\"legend\": {\"title\": {\"text\": \"Gender\"}, \"tracegroupgap\": 0}, \"margin\": {\"t\": 60}, \"template\": {\"data\": {\"bar\": [{\"error_x\": {\"color\": \"#2a3f5f\"}, \"error_y\": {\"color\": \"#2a3f5f\"}, \"marker\": {\"line\": {\"color\": \"#E5ECF6\", \"width\": 0.5}}, \"type\": \"bar\"}], \"barpolar\": [{\"marker\": {\"line\": {\"color\": \"#E5ECF6\", \"width\": 0.5}}, \"type\": \"barpolar\"}], \"carpet\": [{\"aaxis\": {\"endlinecolor\": \"#2a3f5f\", \"gridcolor\": \"white\", \"linecolor\": \"white\", \"minorgridcolor\": \"white\", \"startlinecolor\": \"#2a3f5f\"}, \"baxis\": {\"endlinecolor\": \"#2a3f5f\", \"gridcolor\": \"white\", \"linecolor\": \"white\", \"minorgridcolor\": \"white\", \"startlinecolor\": \"#2a3f5f\"}, \"type\": \"carpet\"}], \"choropleth\": [{\"colorbar\": {\"outlinewidth\": 0, \"ticks\": \"\"}, \"type\": \"choropleth\"}], \"contour\": [{\"colorbar\": {\"outlinewidth\": 0, \"ticks\": \"\"}, \"colorscale\": [[0.0, \"#0d0887\"], [0.1111111111111111, \"#46039f\"], [0.2222222222222222, \"#7201a8\"], [0.3333333333333333, \"#9c179e\"], [0.4444444444444444, \"#bd3786\"], [0.5555555555555556, \"#d8576b\"], [0.6666666666666666, \"#ed7953\"], [0.7777777777777778, \"#fb9f3a\"], [0.8888888888888888, \"#fdca26\"], [1.0, \"#f0f921\"]], \"type\": \"contour\"}], \"contourcarpet\": [{\"colorbar\": {\"outlinewidth\": 0, \"ticks\": \"\"}, \"type\": \"contourcarpet\"}], \"heatmap\": [{\"colorbar\": {\"outlinewidth\": 0, \"ticks\": \"\"}, \"colorscale\": [[0.0, \"#0d0887\"], [0.1111111111111111, \"#46039f\"], [0.2222222222222222, \"#7201a8\"], [0.3333333333333333, \"#9c179e\"], [0.4444444444444444, \"#bd3786\"], [0.5555555555555556, \"#d8576b\"], [0.6666666666666666, \"#ed7953\"], [0.7777777777777778, \"#fb9f3a\"], [0.8888888888888888, \"#fdca26\"], [1.0, \"#f0f921\"]], \"type\": \"heatmap\"}], \"heatmapgl\": [{\"colorbar\": {\"outlinewidth\": 0, \"ticks\": \"\"}, \"colorscale\": [[0.0, \"#0d0887\"], [0.1111111111111111, \"#46039f\"], [0.2222222222222222, \"#7201a8\"], [0.3333333333333333, \"#9c179e\"], [0.4444444444444444, \"#bd3786\"], [0.5555555555555556, \"#d8576b\"], [0.6666666666666666, \"#ed7953\"], [0.7777777777777778, \"#fb9f3a\"], [0.8888888888888888, \"#fdca26\"], [1.0, \"#f0f921\"]], \"type\": \"heatmapgl\"}], \"histogram\": [{\"marker\": {\"colorbar\": {\"outlinewidth\": 0, \"ticks\": \"\"}}, \"type\": \"histogram\"}], \"histogram2d\": [{\"colorbar\": {\"outlinewidth\": 0, \"ticks\": \"\"}, \"colorscale\": [[0.0, \"#0d0887\"], [0.1111111111111111, \"#46039f\"], [0.2222222222222222, \"#7201a8\"], [0.3333333333333333, \"#9c179e\"], [0.4444444444444444, \"#bd3786\"], [0.5555555555555556, \"#d8576b\"], [0.6666666666666666, \"#ed7953\"], [0.7777777777777778, \"#fb9f3a\"], [0.8888888888888888, \"#fdca26\"], [1.0, \"#f0f921\"]], \"type\": \"histogram2d\"}], \"histogram2dcontour\": [{\"colorbar\": {\"outlinewidth\": 0, \"ticks\": \"\"}, \"colorscale\": [[0.0, \"#0d0887\"], [0.1111111111111111, \"#46039f\"], [0.2222222222222222, \"#7201a8\"], [0.3333333333333333, \"#9c179e\"], [0.4444444444444444, \"#bd3786\"], [0.5555555555555556, \"#d8576b\"], [0.6666666666666666, \"#ed7953\"], [0.7777777777777778, \"#fb9f3a\"], [0.8888888888888888, \"#fdca26\"], [1.0, \"#f0f921\"]], \"type\": \"histogram2dcontour\"}], \"mesh3d\": [{\"colorbar\": {\"outlinewidth\": 0, \"ticks\": \"\"}, \"type\": \"mesh3d\"}], \"parcoords\": [{\"line\": {\"colorbar\": {\"outlinewidth\": 0, \"ticks\": \"\"}}, \"type\": \"parcoords\"}], \"pie\": [{\"automargin\": true, \"type\": \"pie\"}], \"scatter\": [{\"marker\": {\"colorbar\": {\"outlinewidth\": 0, \"ticks\": \"\"}}, \"type\": \"scatter\"}], \"scatter3d\": [{\"line\": {\"colorbar\": {\"outlinewidth\": 0, \"ticks\": \"\"}}, \"marker\": {\"colorbar\": {\"outlinewidth\": 0, \"ticks\": \"\"}}, \"type\": \"scatter3d\"}], \"scattercarpet\": [{\"marker\": {\"colorbar\": {\"outlinewidth\": 0, \"ticks\": \"\"}}, \"type\": \"scattercarpet\"}], \"scattergeo\": [{\"marker\": {\"colorbar\": {\"outlinewidth\": 0, \"ticks\": \"\"}}, \"type\": \"scattergeo\"}], \"scattergl\": [{\"marker\": {\"colorbar\": {\"outlinewidth\": 0, \"ticks\": \"\"}}, \"type\": \"scattergl\"}], \"scattermapbox\": [{\"marker\": {\"colorbar\": {\"outlinewidth\": 0, \"ticks\": \"\"}}, \"type\": \"scattermapbox\"}], \"scatterpolar\": [{\"marker\": {\"colorbar\": {\"outlinewidth\": 0, \"ticks\": \"\"}}, \"type\": \"scatterpolar\"}], \"scatterpolargl\": [{\"marker\": {\"colorbar\": {\"outlinewidth\": 0, \"ticks\": \"\"}}, \"type\": \"scatterpolargl\"}], \"scatterternary\": [{\"marker\": {\"colorbar\": {\"outlinewidth\": 0, \"ticks\": \"\"}}, \"type\": \"scatterternary\"}], \"surface\": [{\"colorbar\": {\"outlinewidth\": 0, \"ticks\": \"\"}, \"colorscale\": [[0.0, \"#0d0887\"], [0.1111111111111111, \"#46039f\"], [0.2222222222222222, \"#7201a8\"], [0.3333333333333333, \"#9c179e\"], [0.4444444444444444, \"#bd3786\"], [0.5555555555555556, \"#d8576b\"], [0.6666666666666666, \"#ed7953\"], [0.7777777777777778, \"#fb9f3a\"], [0.8888888888888888, \"#fdca26\"], [1.0, \"#f0f921\"]], \"type\": \"surface\"}], \"table\": [{\"cells\": {\"fill\": {\"color\": \"#EBF0F8\"}, \"line\": {\"color\": \"white\"}}, \"header\": {\"fill\": {\"color\": \"#C8D4E3\"}, \"line\": {\"color\": \"white\"}}, \"type\": \"table\"}]}, \"layout\": {\"annotationdefaults\": {\"arrowcolor\": \"#2a3f5f\", \"arrowhead\": 0, \"arrowwidth\": 1}, \"coloraxis\": {\"colorbar\": {\"outlinewidth\": 0, \"ticks\": \"\"}}, \"colorscale\": {\"diverging\": [[0, \"#8e0152\"], [0.1, \"#c51b7d\"], [0.2, \"#de77ae\"], [0.3, \"#f1b6da\"], [0.4, \"#fde0ef\"], [0.5, \"#f7f7f7\"], [0.6, \"#e6f5d0\"], [0.7, \"#b8e186\"], [0.8, \"#7fbc41\"], [0.9, \"#4d9221\"], [1, \"#276419\"]], \"sequential\": [[0.0, \"#0d0887\"], [0.1111111111111111, \"#46039f\"], [0.2222222222222222, \"#7201a8\"], [0.3333333333333333, \"#9c179e\"], [0.4444444444444444, \"#bd3786\"], [0.5555555555555556, \"#d8576b\"], [0.6666666666666666, \"#ed7953\"], [0.7777777777777778, \"#fb9f3a\"], [0.8888888888888888, \"#fdca26\"], [1.0, \"#f0f921\"]], \"sequentialminus\": [[0.0, \"#0d0887\"], [0.1111111111111111, \"#46039f\"], [0.2222222222222222, \"#7201a8\"], [0.3333333333333333, \"#9c179e\"], [0.4444444444444444, \"#bd3786\"], [0.5555555555555556, \"#d8576b\"], [0.6666666666666666, \"#ed7953\"], [0.7777777777777778, \"#fb9f3a\"], [0.8888888888888888, \"#fdca26\"], [1.0, \"#f0f921\"]]}, \"colorway\": [\"#636efa\", \"#EF553B\", \"#00cc96\", \"#ab63fa\", \"#FFA15A\", \"#19d3f3\", \"#FF6692\", \"#B6E880\", \"#FF97FF\", \"#FECB52\"], \"font\": {\"color\": \"#2a3f5f\"}, \"geo\": {\"bgcolor\": \"white\", \"lakecolor\": \"white\", \"landcolor\": \"#E5ECF6\", \"showlakes\": true, \"showland\": true, \"subunitcolor\": \"white\"}, \"hoverlabel\": {\"align\": \"left\"}, \"hovermode\": \"closest\", \"mapbox\": {\"style\": \"light\"}, \"paper_bgcolor\": \"white\", \"plot_bgcolor\": \"#E5ECF6\", \"polar\": {\"angularaxis\": {\"gridcolor\": \"white\", \"linecolor\": \"white\", \"ticks\": \"\"}, \"bgcolor\": \"#E5ECF6\", \"radialaxis\": {\"gridcolor\": \"white\", \"linecolor\": \"white\", \"ticks\": \"\"}}, \"scene\": {\"xaxis\": {\"backgroundcolor\": \"#E5ECF6\", \"gridcolor\": \"white\", \"gridwidth\": 2, \"linecolor\": \"white\", \"showbackground\": true, \"ticks\": \"\", \"zerolinecolor\": \"white\"}, \"yaxis\": {\"backgroundcolor\": \"#E5ECF6\", \"gridcolor\": \"white\", \"gridwidth\": 2, \"linecolor\": \"white\", \"showbackground\": true, \"ticks\": \"\", \"zerolinecolor\": \"white\"}, \"zaxis\": {\"backgroundcolor\": \"#E5ECF6\", \"gridcolor\": \"white\", \"gridwidth\": 2, \"linecolor\": \"white\", \"showbackground\": true, \"ticks\": \"\", \"zerolinecolor\": \"white\"}}, \"shapedefaults\": {\"line\": {\"color\": \"#2a3f5f\"}}, \"ternary\": {\"aaxis\": {\"gridcolor\": \"white\", \"linecolor\": \"white\", \"ticks\": \"\"}, \"baxis\": {\"gridcolor\": \"white\", \"linecolor\": \"white\", \"ticks\": \"\"}, \"bgcolor\": \"#E5ECF6\", \"caxis\": {\"gridcolor\": \"white\", \"linecolor\": \"white\", \"ticks\": \"\"}}, \"title\": {\"x\": 0.05}, \"xaxis\": {\"automargin\": true, \"gridcolor\": \"white\", \"linecolor\": \"white\", \"ticks\": \"\", \"title\": {\"standoff\": 15}, \"zerolinecolor\": \"white\", \"zerolinewidth\": 2}, \"yaxis\": {\"automargin\": true, \"gridcolor\": \"white\", \"linecolor\": \"white\", \"ticks\": \"\", \"title\": {\"standoff\": 15}, \"zerolinecolor\": \"white\", \"zerolinewidth\": 2}}}, \"xaxis\": {\"anchor\": \"y\", \"domain\": [0.0, 1.0], \"title\": {\"text\": \"Year\"}}, \"yaxis\": {\"anchor\": \"x\", \"domain\": [0.0, 1.0], \"title\": {\"text\": \"Number\"}}},                        {\"responsive\": true}                    ).then(function(){\n",
       "                            \n",
       "var gd = document.getElementById('11e91263-9cfc-4d52-9566-5bc462ef1c20');\n",
       "var x = new MutationObserver(function (mutations, observer) {{\n",
       "        var display = window.getComputedStyle(gd).display;\n",
       "        if (!display || display === 'none') {{\n",
       "            console.log([gd, 'removed!']);\n",
       "            Plotly.purge(gd);\n",
       "            observer.disconnect();\n",
       "        }}\n",
       "}});\n",
       "\n",
       "// Listen for the removal of the full notebook cells\n",
       "var notebookContainer = gd.closest('#notebook-container');\n",
       "if (notebookContainer) {{\n",
       "    x.observe(notebookContainer, {childList: true});\n",
       "}}\n",
       "\n",
       "// Listen for the clearing of the current output cell\n",
       "var outputEl = gd.closest('.output');\n",
       "if (outputEl) {{\n",
       "    x.observe(outputEl, {childList: true});\n",
       "}}\n",
       "\n",
       "                        })                };                });            </script>        </div>"
      ]
     },
     "metadata": {},
     "output_type": "display_data"
    }
   ],
   "source": [
    "import plotly.express as px\n",
    "\n",
    "fig = px.line(Gh, x=\"Year\", y=\"Number\", color='Gender', color_discrete_sequence=['purple', 'grey'])\n",
    "fig.show()"
   ]
  },
  {
   "cell_type": "code",
   "execution_count": 95,
   "metadata": {},
   "outputs": [
    {
     "data": {
      "text/html": [
       "<div>\n",
       "<style scoped>\n",
       "    .dataframe tbody tr th:only-of-type {\n",
       "        vertical-align: middle;\n",
       "    }\n",
       "\n",
       "    .dataframe tbody tr th {\n",
       "        vertical-align: top;\n",
       "    }\n",
       "\n",
       "    .dataframe thead th {\n",
       "        text-align: right;\n",
       "    }\n",
       "</style>\n",
       "<table border=\"1\" class=\"dataframe\">\n",
       "  <thead>\n",
       "    <tr style=\"text-align: right;\">\n",
       "      <th></th>\n",
       "      <th>Elected Party</th>\n",
       "      <th>Gender</th>\n",
       "      <th>Elected MP</th>\n",
       "    </tr>\n",
       "  </thead>\n",
       "  <tbody>\n",
       "    <tr>\n",
       "      <th>2</th>\n",
       "      <td>NPP</td>\n",
       "      <td>female</td>\n",
       "      <td>24</td>\n",
       "    </tr>\n",
       "    <tr>\n",
       "      <th>3</th>\n",
       "      <td>NPP</td>\n",
       "      <td>male</td>\n",
       "      <td>146</td>\n",
       "    </tr>\n",
       "  </tbody>\n",
       "</table>\n",
       "</div>"
      ],
      "text/plain": [
       "  Elected Party  Gender  Elected MP\n",
       "2           NPP  female          24\n",
       "3           NPP    male         146"
      ]
     },
     "execution_count": 95,
     "metadata": {},
     "output_type": "execute_result"
    }
   ],
   "source": [
    "#trying to replicate the waffle chart made in tableau in python\n",
    "\n",
    "seventh_par = Gh_par[Gh_par['Parliament'] == '7th Parliament']\n",
    "parties = seventh_par.groupby(['Elected Party', 'Gender'])['Elected MP'].count().reset_index()\n",
    "NPP = parties[parties['Elected Party'] == 'NPP']\n",
    "NDC = parties[parties['Elected Party'] == 'NDC']\n",
    "NPP"
   ]
  },
  {
   "cell_type": "code",
   "execution_count": 125,
   "metadata": {},
   "outputs": [
    {
     "data": {
      "application/javascript": [
       "/* Put everything inside the global mpl namespace */\n",
       "window.mpl = {};\n",
       "\n",
       "\n",
       "mpl.get_websocket_type = function() {\n",
       "    if (typeof(WebSocket) !== 'undefined') {\n",
       "        return WebSocket;\n",
       "    } else if (typeof(MozWebSocket) !== 'undefined') {\n",
       "        return MozWebSocket;\n",
       "    } else {\n",
       "        alert('Your browser does not have WebSocket support. ' +\n",
       "              'Please try Chrome, Safari or Firefox ≥ 6. ' +\n",
       "              'Firefox 4 and 5 are also supported but you ' +\n",
       "              'have to enable WebSockets in about:config.');\n",
       "    };\n",
       "}\n",
       "\n",
       "mpl.figure = function(figure_id, websocket, ondownload, parent_element) {\n",
       "    this.id = figure_id;\n",
       "\n",
       "    this.ws = websocket;\n",
       "\n",
       "    this.supports_binary = (this.ws.binaryType != undefined);\n",
       "\n",
       "    if (!this.supports_binary) {\n",
       "        var warnings = document.getElementById(\"mpl-warnings\");\n",
       "        if (warnings) {\n",
       "            warnings.style.display = 'block';\n",
       "            warnings.textContent = (\n",
       "                \"This browser does not support binary websocket messages. \" +\n",
       "                    \"Performance may be slow.\");\n",
       "        }\n",
       "    }\n",
       "\n",
       "    this.imageObj = new Image();\n",
       "\n",
       "    this.context = undefined;\n",
       "    this.message = undefined;\n",
       "    this.canvas = undefined;\n",
       "    this.rubberband_canvas = undefined;\n",
       "    this.rubberband_context = undefined;\n",
       "    this.format_dropdown = undefined;\n",
       "\n",
       "    this.image_mode = 'full';\n",
       "\n",
       "    this.root = $('<div/>');\n",
       "    this._root_extra_style(this.root)\n",
       "    this.root.attr('style', 'display: inline-block');\n",
       "\n",
       "    $(parent_element).append(this.root);\n",
       "\n",
       "    this._init_header(this);\n",
       "    this._init_canvas(this);\n",
       "    this._init_toolbar(this);\n",
       "\n",
       "    var fig = this;\n",
       "\n",
       "    this.waiting = false;\n",
       "\n",
       "    this.ws.onopen =  function () {\n",
       "            fig.send_message(\"supports_binary\", {value: fig.supports_binary});\n",
       "            fig.send_message(\"send_image_mode\", {});\n",
       "            if (mpl.ratio != 1) {\n",
       "                fig.send_message(\"set_dpi_ratio\", {'dpi_ratio': mpl.ratio});\n",
       "            }\n",
       "            fig.send_message(\"refresh\", {});\n",
       "        }\n",
       "\n",
       "    this.imageObj.onload = function() {\n",
       "            if (fig.image_mode == 'full') {\n",
       "                // Full images could contain transparency (where diff images\n",
       "                // almost always do), so we need to clear the canvas so that\n",
       "                // there is no ghosting.\n",
       "                fig.context.clearRect(0, 0, fig.canvas.width, fig.canvas.height);\n",
       "            }\n",
       "            fig.context.drawImage(fig.imageObj, 0, 0);\n",
       "        };\n",
       "\n",
       "    this.imageObj.onunload = function() {\n",
       "        fig.ws.close();\n",
       "    }\n",
       "\n",
       "    this.ws.onmessage = this._make_on_message_function(this);\n",
       "\n",
       "    this.ondownload = ondownload;\n",
       "}\n",
       "\n",
       "mpl.figure.prototype._init_header = function() {\n",
       "    var titlebar = $(\n",
       "        '<div class=\"ui-dialog-titlebar ui-widget-header ui-corner-all ' +\n",
       "        'ui-helper-clearfix\"/>');\n",
       "    var titletext = $(\n",
       "        '<div class=\"ui-dialog-title\" style=\"width: 100%; ' +\n",
       "        'text-align: center; padding: 3px;\"/>');\n",
       "    titlebar.append(titletext)\n",
       "    this.root.append(titlebar);\n",
       "    this.header = titletext[0];\n",
       "}\n",
       "\n",
       "\n",
       "\n",
       "mpl.figure.prototype._canvas_extra_style = function(canvas_div) {\n",
       "\n",
       "}\n",
       "\n",
       "\n",
       "mpl.figure.prototype._root_extra_style = function(canvas_div) {\n",
       "\n",
       "}\n",
       "\n",
       "mpl.figure.prototype._init_canvas = function() {\n",
       "    var fig = this;\n",
       "\n",
       "    var canvas_div = $('<div/>');\n",
       "\n",
       "    canvas_div.attr('style', 'position: relative; clear: both; outline: 0');\n",
       "\n",
       "    function canvas_keyboard_event(event) {\n",
       "        return fig.key_event(event, event['data']);\n",
       "    }\n",
       "\n",
       "    canvas_div.keydown('key_press', canvas_keyboard_event);\n",
       "    canvas_div.keyup('key_release', canvas_keyboard_event);\n",
       "    this.canvas_div = canvas_div\n",
       "    this._canvas_extra_style(canvas_div)\n",
       "    this.root.append(canvas_div);\n",
       "\n",
       "    var canvas = $('<canvas/>');\n",
       "    canvas.addClass('mpl-canvas');\n",
       "    canvas.attr('style', \"left: 0; top: 0; z-index: 0; outline: 0\")\n",
       "\n",
       "    this.canvas = canvas[0];\n",
       "    this.context = canvas[0].getContext(\"2d\");\n",
       "\n",
       "    var backingStore = this.context.backingStorePixelRatio ||\n",
       "\tthis.context.webkitBackingStorePixelRatio ||\n",
       "\tthis.context.mozBackingStorePixelRatio ||\n",
       "\tthis.context.msBackingStorePixelRatio ||\n",
       "\tthis.context.oBackingStorePixelRatio ||\n",
       "\tthis.context.backingStorePixelRatio || 1;\n",
       "\n",
       "    mpl.ratio = (window.devicePixelRatio || 1) / backingStore;\n",
       "\n",
       "    var rubberband = $('<canvas/>');\n",
       "    rubberband.attr('style', \"position: absolute; left: 0; top: 0; z-index: 1;\")\n",
       "\n",
       "    var pass_mouse_events = true;\n",
       "\n",
       "    canvas_div.resizable({\n",
       "        start: function(event, ui) {\n",
       "            pass_mouse_events = false;\n",
       "        },\n",
       "        resize: function(event, ui) {\n",
       "            fig.request_resize(ui.size.width, ui.size.height);\n",
       "        },\n",
       "        stop: function(event, ui) {\n",
       "            pass_mouse_events = true;\n",
       "            fig.request_resize(ui.size.width, ui.size.height);\n",
       "        },\n",
       "    });\n",
       "\n",
       "    function mouse_event_fn(event) {\n",
       "        if (pass_mouse_events)\n",
       "            return fig.mouse_event(event, event['data']);\n",
       "    }\n",
       "\n",
       "    rubberband.mousedown('button_press', mouse_event_fn);\n",
       "    rubberband.mouseup('button_release', mouse_event_fn);\n",
       "    // Throttle sequential mouse events to 1 every 20ms.\n",
       "    rubberband.mousemove('motion_notify', mouse_event_fn);\n",
       "\n",
       "    rubberband.mouseenter('figure_enter', mouse_event_fn);\n",
       "    rubberband.mouseleave('figure_leave', mouse_event_fn);\n",
       "\n",
       "    canvas_div.on(\"wheel\", function (event) {\n",
       "        event = event.originalEvent;\n",
       "        event['data'] = 'scroll'\n",
       "        if (event.deltaY < 0) {\n",
       "            event.step = 1;\n",
       "        } else {\n",
       "            event.step = -1;\n",
       "        }\n",
       "        mouse_event_fn(event);\n",
       "    });\n",
       "\n",
       "    canvas_div.append(canvas);\n",
       "    canvas_div.append(rubberband);\n",
       "\n",
       "    this.rubberband = rubberband;\n",
       "    this.rubberband_canvas = rubberband[0];\n",
       "    this.rubberband_context = rubberband[0].getContext(\"2d\");\n",
       "    this.rubberband_context.strokeStyle = \"#000000\";\n",
       "\n",
       "    this._resize_canvas = function(width, height) {\n",
       "        // Keep the size of the canvas, canvas container, and rubber band\n",
       "        // canvas in synch.\n",
       "        canvas_div.css('width', width)\n",
       "        canvas_div.css('height', height)\n",
       "\n",
       "        canvas.attr('width', width * mpl.ratio);\n",
       "        canvas.attr('height', height * mpl.ratio);\n",
       "        canvas.attr('style', 'width: ' + width + 'px; height: ' + height + 'px;');\n",
       "\n",
       "        rubberband.attr('width', width);\n",
       "        rubberband.attr('height', height);\n",
       "    }\n",
       "\n",
       "    // Set the figure to an initial 600x600px, this will subsequently be updated\n",
       "    // upon first draw.\n",
       "    this._resize_canvas(600, 600);\n",
       "\n",
       "    // Disable right mouse context menu.\n",
       "    $(this.rubberband_canvas).bind(\"contextmenu\",function(e){\n",
       "        return false;\n",
       "    });\n",
       "\n",
       "    function set_focus () {\n",
       "        canvas.focus();\n",
       "        canvas_div.focus();\n",
       "    }\n",
       "\n",
       "    window.setTimeout(set_focus, 100);\n",
       "}\n",
       "\n",
       "mpl.figure.prototype._init_toolbar = function() {\n",
       "    var fig = this;\n",
       "\n",
       "    var nav_element = $('<div/>');\n",
       "    nav_element.attr('style', 'width: 100%');\n",
       "    this.root.append(nav_element);\n",
       "\n",
       "    // Define a callback function for later on.\n",
       "    function toolbar_event(event) {\n",
       "        return fig.toolbar_button_onclick(event['data']);\n",
       "    }\n",
       "    function toolbar_mouse_event(event) {\n",
       "        return fig.toolbar_button_onmouseover(event['data']);\n",
       "    }\n",
       "\n",
       "    for(var toolbar_ind in mpl.toolbar_items) {\n",
       "        var name = mpl.toolbar_items[toolbar_ind][0];\n",
       "        var tooltip = mpl.toolbar_items[toolbar_ind][1];\n",
       "        var image = mpl.toolbar_items[toolbar_ind][2];\n",
       "        var method_name = mpl.toolbar_items[toolbar_ind][3];\n",
       "\n",
       "        if (!name) {\n",
       "            // put a spacer in here.\n",
       "            continue;\n",
       "        }\n",
       "        var button = $('<button/>');\n",
       "        button.addClass('ui-button ui-widget ui-state-default ui-corner-all ' +\n",
       "                        'ui-button-icon-only');\n",
       "        button.attr('role', 'button');\n",
       "        button.attr('aria-disabled', 'false');\n",
       "        button.click(method_name, toolbar_event);\n",
       "        button.mouseover(tooltip, toolbar_mouse_event);\n",
       "\n",
       "        var icon_img = $('<span/>');\n",
       "        icon_img.addClass('ui-button-icon-primary ui-icon');\n",
       "        icon_img.addClass(image);\n",
       "        icon_img.addClass('ui-corner-all');\n",
       "\n",
       "        var tooltip_span = $('<span/>');\n",
       "        tooltip_span.addClass('ui-button-text');\n",
       "        tooltip_span.html(tooltip);\n",
       "\n",
       "        button.append(icon_img);\n",
       "        button.append(tooltip_span);\n",
       "\n",
       "        nav_element.append(button);\n",
       "    }\n",
       "\n",
       "    var fmt_picker_span = $('<span/>');\n",
       "\n",
       "    var fmt_picker = $('<select/>');\n",
       "    fmt_picker.addClass('mpl-toolbar-option ui-widget ui-widget-content');\n",
       "    fmt_picker_span.append(fmt_picker);\n",
       "    nav_element.append(fmt_picker_span);\n",
       "    this.format_dropdown = fmt_picker[0];\n",
       "\n",
       "    for (var ind in mpl.extensions) {\n",
       "        var fmt = mpl.extensions[ind];\n",
       "        var option = $(\n",
       "            '<option/>', {selected: fmt === mpl.default_extension}).html(fmt);\n",
       "        fmt_picker.append(option);\n",
       "    }\n",
       "\n",
       "    // Add hover states to the ui-buttons\n",
       "    $( \".ui-button\" ).hover(\n",
       "        function() { $(this).addClass(\"ui-state-hover\");},\n",
       "        function() { $(this).removeClass(\"ui-state-hover\");}\n",
       "    );\n",
       "\n",
       "    var status_bar = $('<span class=\"mpl-message\"/>');\n",
       "    nav_element.append(status_bar);\n",
       "    this.message = status_bar[0];\n",
       "}\n",
       "\n",
       "mpl.figure.prototype.request_resize = function(x_pixels, y_pixels) {\n",
       "    // Request matplotlib to resize the figure. Matplotlib will then trigger a resize in the client,\n",
       "    // which will in turn request a refresh of the image.\n",
       "    this.send_message('resize', {'width': x_pixels, 'height': y_pixels});\n",
       "}\n",
       "\n",
       "mpl.figure.prototype.send_message = function(type, properties) {\n",
       "    properties['type'] = type;\n",
       "    properties['figure_id'] = this.id;\n",
       "    this.ws.send(JSON.stringify(properties));\n",
       "}\n",
       "\n",
       "mpl.figure.prototype.send_draw_message = function() {\n",
       "    if (!this.waiting) {\n",
       "        this.waiting = true;\n",
       "        this.ws.send(JSON.stringify({type: \"draw\", figure_id: this.id}));\n",
       "    }\n",
       "}\n",
       "\n",
       "\n",
       "mpl.figure.prototype.handle_save = function(fig, msg) {\n",
       "    var format_dropdown = fig.format_dropdown;\n",
       "    var format = format_dropdown.options[format_dropdown.selectedIndex].value;\n",
       "    fig.ondownload(fig, format);\n",
       "}\n",
       "\n",
       "\n",
       "mpl.figure.prototype.handle_resize = function(fig, msg) {\n",
       "    var size = msg['size'];\n",
       "    if (size[0] != fig.canvas.width || size[1] != fig.canvas.height) {\n",
       "        fig._resize_canvas(size[0], size[1]);\n",
       "        fig.send_message(\"refresh\", {});\n",
       "    };\n",
       "}\n",
       "\n",
       "mpl.figure.prototype.handle_rubberband = function(fig, msg) {\n",
       "    var x0 = msg['x0'] / mpl.ratio;\n",
       "    var y0 = (fig.canvas.height - msg['y0']) / mpl.ratio;\n",
       "    var x1 = msg['x1'] / mpl.ratio;\n",
       "    var y1 = (fig.canvas.height - msg['y1']) / mpl.ratio;\n",
       "    x0 = Math.floor(x0) + 0.5;\n",
       "    y0 = Math.floor(y0) + 0.5;\n",
       "    x1 = Math.floor(x1) + 0.5;\n",
       "    y1 = Math.floor(y1) + 0.5;\n",
       "    var min_x = Math.min(x0, x1);\n",
       "    var min_y = Math.min(y0, y1);\n",
       "    var width = Math.abs(x1 - x0);\n",
       "    var height = Math.abs(y1 - y0);\n",
       "\n",
       "    fig.rubberband_context.clearRect(\n",
       "        0, 0, fig.canvas.width / mpl.ratio, fig.canvas.height / mpl.ratio);\n",
       "\n",
       "    fig.rubberband_context.strokeRect(min_x, min_y, width, height);\n",
       "}\n",
       "\n",
       "mpl.figure.prototype.handle_figure_label = function(fig, msg) {\n",
       "    // Updates the figure title.\n",
       "    fig.header.textContent = msg['label'];\n",
       "}\n",
       "\n",
       "mpl.figure.prototype.handle_cursor = function(fig, msg) {\n",
       "    var cursor = msg['cursor'];\n",
       "    switch(cursor)\n",
       "    {\n",
       "    case 0:\n",
       "        cursor = 'pointer';\n",
       "        break;\n",
       "    case 1:\n",
       "        cursor = 'default';\n",
       "        break;\n",
       "    case 2:\n",
       "        cursor = 'crosshair';\n",
       "        break;\n",
       "    case 3:\n",
       "        cursor = 'move';\n",
       "        break;\n",
       "    }\n",
       "    fig.rubberband_canvas.style.cursor = cursor;\n",
       "}\n",
       "\n",
       "mpl.figure.prototype.handle_message = function(fig, msg) {\n",
       "    fig.message.textContent = msg['message'];\n",
       "}\n",
       "\n",
       "mpl.figure.prototype.handle_draw = function(fig, msg) {\n",
       "    // Request the server to send over a new figure.\n",
       "    fig.send_draw_message();\n",
       "}\n",
       "\n",
       "mpl.figure.prototype.handle_image_mode = function(fig, msg) {\n",
       "    fig.image_mode = msg['mode'];\n",
       "}\n",
       "\n",
       "mpl.figure.prototype.updated_canvas_event = function() {\n",
       "    // Called whenever the canvas gets updated.\n",
       "    this.send_message(\"ack\", {});\n",
       "}\n",
       "\n",
       "// A function to construct a web socket function for onmessage handling.\n",
       "// Called in the figure constructor.\n",
       "mpl.figure.prototype._make_on_message_function = function(fig) {\n",
       "    return function socket_on_message(evt) {\n",
       "        if (evt.data instanceof Blob) {\n",
       "            /* FIXME: We get \"Resource interpreted as Image but\n",
       "             * transferred with MIME type text/plain:\" errors on\n",
       "             * Chrome.  But how to set the MIME type?  It doesn't seem\n",
       "             * to be part of the websocket stream */\n",
       "            evt.data.type = \"image/png\";\n",
       "\n",
       "            /* Free the memory for the previous frames */\n",
       "            if (fig.imageObj.src) {\n",
       "                (window.URL || window.webkitURL).revokeObjectURL(\n",
       "                    fig.imageObj.src);\n",
       "            }\n",
       "\n",
       "            fig.imageObj.src = (window.URL || window.webkitURL).createObjectURL(\n",
       "                evt.data);\n",
       "            fig.updated_canvas_event();\n",
       "            fig.waiting = false;\n",
       "            return;\n",
       "        }\n",
       "        else if (typeof evt.data === 'string' && evt.data.slice(0, 21) == \"data:image/png;base64\") {\n",
       "            fig.imageObj.src = evt.data;\n",
       "            fig.updated_canvas_event();\n",
       "            fig.waiting = false;\n",
       "            return;\n",
       "        }\n",
       "\n",
       "        var msg = JSON.parse(evt.data);\n",
       "        var msg_type = msg['type'];\n",
       "\n",
       "        // Call the  \"handle_{type}\" callback, which takes\n",
       "        // the figure and JSON message as its only arguments.\n",
       "        try {\n",
       "            var callback = fig[\"handle_\" + msg_type];\n",
       "        } catch (e) {\n",
       "            console.log(\"No handler for the '\" + msg_type + \"' message type: \", msg);\n",
       "            return;\n",
       "        }\n",
       "\n",
       "        if (callback) {\n",
       "            try {\n",
       "                // console.log(\"Handling '\" + msg_type + \"' message: \", msg);\n",
       "                callback(fig, msg);\n",
       "            } catch (e) {\n",
       "                console.log(\"Exception inside the 'handler_\" + msg_type + \"' callback:\", e, e.stack, msg);\n",
       "            }\n",
       "        }\n",
       "    };\n",
       "}\n",
       "\n",
       "// from http://stackoverflow.com/questions/1114465/getting-mouse-location-in-canvas\n",
       "mpl.findpos = function(e) {\n",
       "    //this section is from http://www.quirksmode.org/js/events_properties.html\n",
       "    var targ;\n",
       "    if (!e)\n",
       "        e = window.event;\n",
       "    if (e.target)\n",
       "        targ = e.target;\n",
       "    else if (e.srcElement)\n",
       "        targ = e.srcElement;\n",
       "    if (targ.nodeType == 3) // defeat Safari bug\n",
       "        targ = targ.parentNode;\n",
       "\n",
       "    // jQuery normalizes the pageX and pageY\n",
       "    // pageX,Y are the mouse positions relative to the document\n",
       "    // offset() returns the position of the element relative to the document\n",
       "    var x = e.pageX - $(targ).offset().left;\n",
       "    var y = e.pageY - $(targ).offset().top;\n",
       "\n",
       "    return {\"x\": x, \"y\": y};\n",
       "};\n",
       "\n",
       "/*\n",
       " * return a copy of an object with only non-object keys\n",
       " * we need this to avoid circular references\n",
       " * http://stackoverflow.com/a/24161582/3208463\n",
       " */\n",
       "function simpleKeys (original) {\n",
       "  return Object.keys(original).reduce(function (obj, key) {\n",
       "    if (typeof original[key] !== 'object')\n",
       "        obj[key] = original[key]\n",
       "    return obj;\n",
       "  }, {});\n",
       "}\n",
       "\n",
       "mpl.figure.prototype.mouse_event = function(event, name) {\n",
       "    var canvas_pos = mpl.findpos(event)\n",
       "\n",
       "    if (name === 'button_press')\n",
       "    {\n",
       "        this.canvas.focus();\n",
       "        this.canvas_div.focus();\n",
       "    }\n",
       "\n",
       "    var x = canvas_pos.x * mpl.ratio;\n",
       "    var y = canvas_pos.y * mpl.ratio;\n",
       "\n",
       "    this.send_message(name, {x: x, y: y, button: event.button,\n",
       "                             step: event.step,\n",
       "                             guiEvent: simpleKeys(event)});\n",
       "\n",
       "    /* This prevents the web browser from automatically changing to\n",
       "     * the text insertion cursor when the button is pressed.  We want\n",
       "     * to control all of the cursor setting manually through the\n",
       "     * 'cursor' event from matplotlib */\n",
       "    event.preventDefault();\n",
       "    return false;\n",
       "}\n",
       "\n",
       "mpl.figure.prototype._key_event_extra = function(event, name) {\n",
       "    // Handle any extra behaviour associated with a key event\n",
       "}\n",
       "\n",
       "mpl.figure.prototype.key_event = function(event, name) {\n",
       "\n",
       "    // Prevent repeat events\n",
       "    if (name == 'key_press')\n",
       "    {\n",
       "        if (event.which === this._key)\n",
       "            return;\n",
       "        else\n",
       "            this._key = event.which;\n",
       "    }\n",
       "    if (name == 'key_release')\n",
       "        this._key = null;\n",
       "\n",
       "    var value = '';\n",
       "    if (event.ctrlKey && event.which != 17)\n",
       "        value += \"ctrl+\";\n",
       "    if (event.altKey && event.which != 18)\n",
       "        value += \"alt+\";\n",
       "    if (event.shiftKey && event.which != 16)\n",
       "        value += \"shift+\";\n",
       "\n",
       "    value += 'k';\n",
       "    value += event.which.toString();\n",
       "\n",
       "    this._key_event_extra(event, name);\n",
       "\n",
       "    this.send_message(name, {key: value,\n",
       "                             guiEvent: simpleKeys(event)});\n",
       "    return false;\n",
       "}\n",
       "\n",
       "mpl.figure.prototype.toolbar_button_onclick = function(name) {\n",
       "    if (name == 'download') {\n",
       "        this.handle_save(this, null);\n",
       "    } else {\n",
       "        this.send_message(\"toolbar_button\", {name: name});\n",
       "    }\n",
       "};\n",
       "\n",
       "mpl.figure.prototype.toolbar_button_onmouseover = function(tooltip) {\n",
       "    this.message.textContent = tooltip;\n",
       "};\n",
       "mpl.toolbar_items = [[\"Home\", \"Reset original view\", \"fa fa-home icon-home\", \"home\"], [\"Back\", \"Back to previous view\", \"fa fa-arrow-left icon-arrow-left\", \"back\"], [\"Forward\", \"Forward to next view\", \"fa fa-arrow-right icon-arrow-right\", \"forward\"], [\"\", \"\", \"\", \"\"], [\"Pan\", \"Pan axes with left mouse, zoom with right\", \"fa fa-arrows icon-move\", \"pan\"], [\"Zoom\", \"Zoom to rectangle\", \"fa fa-square-o icon-check-empty\", \"zoom\"], [\"\", \"\", \"\", \"\"], [\"Download\", \"Download plot\", \"fa fa-floppy-o icon-save\", \"download\"]];\n",
       "\n",
       "mpl.extensions = [\"eps\", \"jpeg\", \"pdf\", \"png\", \"ps\", \"raw\", \"svg\", \"tif\"];\n",
       "\n",
       "mpl.default_extension = \"png\";var comm_websocket_adapter = function(comm) {\n",
       "    // Create a \"websocket\"-like object which calls the given IPython comm\n",
       "    // object with the appropriate methods. Currently this is a non binary\n",
       "    // socket, so there is still some room for performance tuning.\n",
       "    var ws = {};\n",
       "\n",
       "    ws.close = function() {\n",
       "        comm.close()\n",
       "    };\n",
       "    ws.send = function(m) {\n",
       "        //console.log('sending', m);\n",
       "        comm.send(m);\n",
       "    };\n",
       "    // Register the callback with on_msg.\n",
       "    comm.on_msg(function(msg) {\n",
       "        //console.log('receiving', msg['content']['data'], msg);\n",
       "        // Pass the mpl event to the overridden (by mpl) onmessage function.\n",
       "        ws.onmessage(msg['content']['data'])\n",
       "    });\n",
       "    return ws;\n",
       "}\n",
       "\n",
       "mpl.mpl_figure_comm = function(comm, msg) {\n",
       "    // This is the function which gets called when the mpl process\n",
       "    // starts-up an IPython Comm through the \"matplotlib\" channel.\n",
       "\n",
       "    var id = msg.content.data.id;\n",
       "    // Get hold of the div created by the display call when the Comm\n",
       "    // socket was opened in Python.\n",
       "    var element = $(\"#\" + id);\n",
       "    var ws_proxy = comm_websocket_adapter(comm)\n",
       "\n",
       "    function ondownload(figure, format) {\n",
       "        window.open(figure.imageObj.src);\n",
       "    }\n",
       "\n",
       "    var fig = new mpl.figure(id, ws_proxy,\n",
       "                           ondownload,\n",
       "                           element.get(0));\n",
       "\n",
       "    // Call onopen now - mpl needs it, as it is assuming we've passed it a real\n",
       "    // web socket which is closed, not our websocket->open comm proxy.\n",
       "    ws_proxy.onopen();\n",
       "\n",
       "    fig.parent_element = element.get(0);\n",
       "    fig.cell_info = mpl.find_output_cell(\"<div id='\" + id + \"'></div>\");\n",
       "    if (!fig.cell_info) {\n",
       "        console.error(\"Failed to find cell for figure\", id, fig);\n",
       "        return;\n",
       "    }\n",
       "\n",
       "    var output_index = fig.cell_info[2]\n",
       "    var cell = fig.cell_info[0];\n",
       "\n",
       "};\n",
       "\n",
       "mpl.figure.prototype.handle_close = function(fig, msg) {\n",
       "    var width = fig.canvas.width/mpl.ratio\n",
       "    fig.root.unbind('remove')\n",
       "\n",
       "    // Update the output cell to use the data from the current canvas.\n",
       "    fig.push_to_output();\n",
       "    var dataURL = fig.canvas.toDataURL();\n",
       "    // Re-enable the keyboard manager in IPython - without this line, in FF,\n",
       "    // the notebook keyboard shortcuts fail.\n",
       "    IPython.keyboard_manager.enable()\n",
       "    $(fig.parent_element).html('<img src=\"' + dataURL + '\" width=\"' + width + '\">');\n",
       "    fig.close_ws(fig, msg);\n",
       "}\n",
       "\n",
       "mpl.figure.prototype.close_ws = function(fig, msg){\n",
       "    fig.send_message('closing', msg);\n",
       "    // fig.ws.close()\n",
       "}\n",
       "\n",
       "mpl.figure.prototype.push_to_output = function(remove_interactive) {\n",
       "    // Turn the data on the canvas into data in the output cell.\n",
       "    var width = this.canvas.width/mpl.ratio\n",
       "    var dataURL = this.canvas.toDataURL();\n",
       "    this.cell_info[1]['text/html'] = '<img src=\"' + dataURL + '\" width=\"' + width + '\">';\n",
       "}\n",
       "\n",
       "mpl.figure.prototype.updated_canvas_event = function() {\n",
       "    // Tell IPython that the notebook contents must change.\n",
       "    IPython.notebook.set_dirty(true);\n",
       "    this.send_message(\"ack\", {});\n",
       "    var fig = this;\n",
       "    // Wait a second, then push the new image to the DOM so\n",
       "    // that it is saved nicely (might be nice to debounce this).\n",
       "    setTimeout(function () { fig.push_to_output() }, 1000);\n",
       "}\n",
       "\n",
       "mpl.figure.prototype._init_toolbar = function() {\n",
       "    var fig = this;\n",
       "\n",
       "    var nav_element = $('<div/>');\n",
       "    nav_element.attr('style', 'width: 100%');\n",
       "    this.root.append(nav_element);\n",
       "\n",
       "    // Define a callback function for later on.\n",
       "    function toolbar_event(event) {\n",
       "        return fig.toolbar_button_onclick(event['data']);\n",
       "    }\n",
       "    function toolbar_mouse_event(event) {\n",
       "        return fig.toolbar_button_onmouseover(event['data']);\n",
       "    }\n",
       "\n",
       "    for(var toolbar_ind in mpl.toolbar_items){\n",
       "        var name = mpl.toolbar_items[toolbar_ind][0];\n",
       "        var tooltip = mpl.toolbar_items[toolbar_ind][1];\n",
       "        var image = mpl.toolbar_items[toolbar_ind][2];\n",
       "        var method_name = mpl.toolbar_items[toolbar_ind][3];\n",
       "\n",
       "        if (!name) { continue; };\n",
       "\n",
       "        var button = $('<button class=\"btn btn-default\" href=\"#\" title=\"' + name + '\"><i class=\"fa ' + image + ' fa-lg\"></i></button>');\n",
       "        button.click(method_name, toolbar_event);\n",
       "        button.mouseover(tooltip, toolbar_mouse_event);\n",
       "        nav_element.append(button);\n",
       "    }\n",
       "\n",
       "    // Add the status bar.\n",
       "    var status_bar = $('<span class=\"mpl-message\" style=\"text-align:right; float: right;\"/>');\n",
       "    nav_element.append(status_bar);\n",
       "    this.message = status_bar[0];\n",
       "\n",
       "    // Add the close button to the window.\n",
       "    var buttongrp = $('<div class=\"btn-group inline pull-right\"></div>');\n",
       "    var button = $('<button class=\"btn btn-mini btn-primary\" href=\"#\" title=\"Stop Interaction\"><i class=\"fa fa-power-off icon-remove icon-large\"></i></button>');\n",
       "    button.click(function (evt) { fig.handle_close(fig, {}); } );\n",
       "    button.mouseover('Stop Interaction', toolbar_mouse_event);\n",
       "    buttongrp.append(button);\n",
       "    var titlebar = this.root.find($('.ui-dialog-titlebar'));\n",
       "    titlebar.prepend(buttongrp);\n",
       "}\n",
       "\n",
       "mpl.figure.prototype._root_extra_style = function(el){\n",
       "    var fig = this\n",
       "    el.on(\"remove\", function(){\n",
       "\tfig.close_ws(fig, {});\n",
       "    });\n",
       "}\n",
       "\n",
       "mpl.figure.prototype._canvas_extra_style = function(el){\n",
       "    // this is important to make the div 'focusable\n",
       "    el.attr('tabindex', 0)\n",
       "    // reach out to IPython and tell the keyboard manager to turn it's self\n",
       "    // off when our div gets focus\n",
       "\n",
       "    // location in version 3\n",
       "    if (IPython.notebook.keyboard_manager) {\n",
       "        IPython.notebook.keyboard_manager.register_events(el);\n",
       "    }\n",
       "    else {\n",
       "        // location in version 2\n",
       "        IPython.keyboard_manager.register_events(el);\n",
       "    }\n",
       "\n",
       "}\n",
       "\n",
       "mpl.figure.prototype._key_event_extra = function(event, name) {\n",
       "    var manager = IPython.notebook.keyboard_manager;\n",
       "    if (!manager)\n",
       "        manager = IPython.keyboard_manager;\n",
       "\n",
       "    // Check for shift+enter\n",
       "    if (event.shiftKey && event.which == 13) {\n",
       "        this.canvas_div.blur();\n",
       "        // select the cell after this one\n",
       "        var index = IPython.notebook.find_cell_index(this.cell_info[0]);\n",
       "        IPython.notebook.select(index + 1);\n",
       "    }\n",
       "}\n",
       "\n",
       "mpl.figure.prototype.handle_save = function(fig, msg) {\n",
       "    fig.ondownload(fig, null);\n",
       "}\n",
       "\n",
       "\n",
       "mpl.find_output_cell = function(html_output) {\n",
       "    // Return the cell and output element which can be found *uniquely* in the notebook.\n",
       "    // Note - this is a bit hacky, but it is done because the \"notebook_saving.Notebook\"\n",
       "    // IPython event is triggered only after the cells have been serialised, which for\n",
       "    // our purposes (turning an active figure into a static one), is too late.\n",
       "    var cells = IPython.notebook.get_cells();\n",
       "    var ncells = cells.length;\n",
       "    for (var i=0; i<ncells; i++) {\n",
       "        var cell = cells[i];\n",
       "        if (cell.cell_type === 'code'){\n",
       "            for (var j=0; j<cell.output_area.outputs.length; j++) {\n",
       "                var data = cell.output_area.outputs[j];\n",
       "                if (data.data) {\n",
       "                    // IPython >= 3 moved mimebundle to data attribute of output\n",
       "                    data = data.data;\n",
       "                }\n",
       "                if (data['text/html'] == html_output) {\n",
       "                    return [cell, data, j];\n",
       "                }\n",
       "            }\n",
       "        }\n",
       "    }\n",
       "}\n",
       "\n",
       "// Register the function which deals with the matplotlib target/channel.\n",
       "// The kernel may be null if the page has been refreshed.\n",
       "if (IPython.notebook.kernel != null) {\n",
       "    IPython.notebook.kernel.comm_manager.register_target('matplotlib', mpl.mpl_figure_comm);\n",
       "}\n"
      ],
      "text/plain": [
       "<IPython.core.display.Javascript object>"
      ]
     },
     "metadata": {},
     "output_type": "display_data"
    },
    {
     "data": {
      "text/html": [
       "<img src=\"data:image/png;base64,iVBORw0KGgoAAAANSUhEUgAABWYAAAOZCAYAAACdpPlxAAAgAElEQVR4XuzcT64tV3rm550yU2WUYBhwI6UJGKK7yVG45ZZbHIJ7NYIYgbs1Ao6hJpFkS5CvkA2VADUEGRKghqSG8o+xmQTIuCvSOt/5xdqVdflUt+4bh3zyW7FuvOcTf/Lw/wgQIECAAAECBAgQIECAAAECBAgQIEDgpQI/eelP88MIECBAgAABAgQIECBAgAABAgQIECBA4KGYNQQECBAgQIAAAQIECBAgQIAAAQIECBB4sYBi9sXgfhwBAgQIECBAgAABAgQIECBAgAABAgQUs2aAAAECBAgQIECAAAECBAgQIECAAAECLxZQzL4Y3I8jQIAAAQIECBAgQIAAAQIECBAgQICAYtYMECBAgAABAgQIECBAgAABAgQIECBA4MUCitkXg/txBAgQIECAAAECBAgQIECAAAECBAgQUMyaAQIECBAgQIAAAQIECBAgQIAAAQIECLxYQDH7YnA/jgABAgQIECBAgAABAgQIECBAgAABAopZM0CAAAECBAgQIECAAAECBAgQIECAAIEXCyhmXwzuxxEgQIAAAQIECBAgQIAAAQIECBAgQEAxawYIECBAgAABAgQIECBAgAABAgQIECDwYgHF7IvB/TgCBAgQIECAAAECBAgQIECAAAECBAgoZs0AAQIECBAgQIAAAQIECBAgQIAAAQIEXiygmH0xuB9HgAABAgQIECBAgAABAgQIECBAgAABxawZIECAAAECBAgQIECAAAECBAgQIECAwIsFFLMvBvfjCBAgQIAAAQIECBAgQIAAAQIECBAgoJg1AwQIECBAgAABAgQIECBAgAABAgQIEHixgGL2xeB+HAECBAgQIECAAAECBAgQIECAAAECBBSzZoAAAQIECBAgQIAAAQIECBAgQIAAAQIvFlDMvhjcjyNAgAABAgQIECBAgAABAgQIECBAgIBi1gwQIECAAAECBAgQIECAAAECBAgQIEDgxQKK2ReD+3EECBAgQIAAAQIECBAgQIAAAQIECBBQzJoBAgQIECBAgAABAgQIECBAgAABAgQIvFhAMfticD+OAAECBAgQIECAAAECBAgQIECAAAECilkzQIAAAQIECBAgQIAAAQIECBAgQIAAgRcLKGZfDO7HESBAgAABAgQIECBAgAABAgQIECBAQDFrBggQIECAAAECBAgQIECAAAECBAgQIPBiAcXsi8H9OAIECBAgQIAAAQIECBAgQIAAAQIECChmzQABAgQIECBAgAABAgQIECBAgAABAgReLKCYfTG4H0eAAAECBAgQIECAAAECBAgQIECAAAHFrBkgQIAAAQIECBAgQIAAAQIECBAgQIDAiwUUsy8G9+MIECBAgAABAgQIECBAgAABAgQIECCgmDUDBAgQIECAAAECBAgQIECAAAECBAgQeLGAYvbF4H4cAQIECBAgQIAAAQIECBAgQIAAAQIEFLNmgAABAgQIECBAgAABAgQIECBAgAABAi8WUMy+GNyPI0CAAAECBAgQIECAAAECBAgQIECAgGLWDBAgQIAAAQIECBAgQIAAAQIECBAgQODFAorZF4P7cQQIECBAgAABAgQIECBAgAABAgQIEFDMmgECBAgQIECAAAECBAgQIECAAAECBAi8WEAx+2JwP44AAQIECBAgQIAAAQIECBAgQIAAAQKKWTNAgAABAgQIECBAgAABAgQIECBAgACBFwsoZl8M7scRIECAAAECBAgQIECAAAECBAgQIEBAMWsGCBAgQIAAAQIECBAgQIAAAQIECBAg8GIBxeyLwf04AgQIECBAgAABAgQIECBAgAABAgQIKGbNAAECBAgQIECAAAECBAgQIECAAAECBF4soJh9MbgfR4AAAQIECBAgQIAAAQIECBAgQIAAAcWsGSBAgAABAgQIECBAgAABAgQIECBAgMCLBRSzLwb34wgQIECAAAECBAgQIECAAAECBAgQIKCYNQMECBAgQIAAAQIECBAgQIAAAQIECBB4sYBi9sXgfhwBAgQIECBAgAABAgQIECBAgAABAgQUs2aAAAECBAgQIECAAAECBAgQIECAAAECLxZQzL4Y3I8jQIAAAQIECBAgQIAAAQIECBAgQICAYtYMECBAgAABAgQIECBAgAABAgQIECBA4MUCitkXg/txBAgQIECAAAECBAgQIECAAAECBAgQUMyaAQIECBAgQIAAAQIECBAgQIAAAQIECLxYQDH7YnA/jgABAgQIECBAgAABAgQIECBAgAABAopZM0CAAAECBAgQIECAAAECBAgQIECAAIEXCyhmXwzuxxEgQIAAAQIECBAgQIAAAQIECBAgQEAxawYIECBAgAABAgQIECBAgAABAgQIECDwYgHF7IvB/TgCBAgQIECAAAECBAgQIECAAAECBAgoZs0AAQIECBAgQIAAAQIECBAgQIAAAQIEXiygmH0xuB9HgAABAgQIECBAgAABAgQIECBAgAABxawZIECAAAECBAgQIECAAAECBAgQIECAwIsFFLMvBvfjCBAgQIAAAQIECBAgQIAAAQIECBAgoJg1AwQIECBAgAABAgQIECBAgAABAgQIEHixwC3F7PE4fvvif+4/5B/3zfE4vnjrP+DxOL5+PB4/f+uf/xH8uZnfwe+jmfjmOAbzx+/jIzXye4YPhj805Nde0vz4NYGWNn/N75keGbo/FnB+bQb58WsCLW3++DWBljZ//JpASB/HkXvV/IBviwnF7LmYUMyGsX4oZouej8KmN/RTzLaPan786oEtv5gyf+bv5vlTzHZQH9bNkB+/JtDS5o9fE2hp88evCYS0YjbgbYzOikUbsx//TzHzs624+tmYLcd7dKkrdhQ7ZdgusuavgfLj1wR6ejSDNmbbHcKPXz+ypyc4vw2UH78m0NLmj18TCGnFbMDbGJ0Vi4pZxey9w+hSap4jP8Vs+yjkx68dV378bhbojxvdIYrFdob58etHVjF7o6H3X8Pkx68JtLT5C36K2YC3MaqYbbgzPxuza7FtY7ZM4OhSUiy2j0J+/Mphvcg6vw2UX/N7pkeGisX2DuTHrx9ZxeyNht5/DZMfvybQ0uYv+ClmA97G6KxYtDG7FouT/0avYlYxe+9hHl1KisX2UciP373Hd1aKmT/zd/P8KWY76OgOVsy2M8yPXz+yiu0bDb3/GiY/fk0gpBWzAW9jVDHbcGd+ilnFbJu35KfYaR81/Pjde3wVs9Fz9FHj/F5qjwwVY+0dyI9ffOelvwOaP/Nn/m4WaI9z//JrAiGtmA14G6OzYtHG7PqXIhuzZTxdSkVv+H+Gqphofynnx68dV378bhboj3MHN0N+/JpAS5s/fk2gpc0fvybQ0uYv+ClmA97GqGK24c78bMyuxbb/xmyZwNGlpFhUjJVhu8iavwbKj18T6OnRDNq4a3cIP379yJ6e4Pw2UH78mkBLmz9+TSCkFbMBb2N0VizamF2LRRuzZTxdSkXPxmzT48evCrT86P3nFyut1OF3OayjGVQsthnkx69dGfz43SzQHuf+4NcEWtr8BT/FbMDbGFXMNtyZn43Ztdi2MVsmcHQpKSbaRw0/fuWwXmSd3wbKr/k90yNDxWJ7B/Lj14/s6QnObwPlx68JtLT549cEQloxG/A2RmfFoo3ZtVi0MVvG06VU9IYf1YrF9lHIj187rvz43SzQH+cObob8+DWBljZ//JpAS5s/fk2gpc1f8FPMBryNUcVsw5352Zhdi20bs2UCR5eSYlExVobtImv+Gig/fk2gp0czaOOz3SH8+PUje3qC89tA+fFrAi1t/vg1gZBWzAa8jdFZsWhjdi0WbcyW8XQpFT0bs02PH78q0PKj959frLRSh9/lsI5mULHYZpAfv3Zl8ON3s0B7nPuDXxNoafMX/BSzAW9jVDHbcGd+NmbXYtvGbJnA0aWkmGgfNfz4lcN6kXV+Gyi/5vdMjwwVi+0dyI9fP7KnJzi/DZQfvybQ0uaPXxMIacVswNsYnRWLNmbXYtHGbBlPl1LRG35UKxbbRyE/fu248uN3s0B/nDu4GfLj1wRa2vzxawItbf74NYGWNn/BTzEb8DZGFbMNd+ZnY3Yttm3MlgkcXUqKRcVYGbaLrPlroPz4NYGeHs2gjc92h/Dj14/s6QnObwPlx68JtLT549cEQloxG/A2RmfFoo3ZtVi0MVvG06VU9GzMNj1+/KpAy4/ef36x0kodfpfDOppBxWKbQX782pXBj9/NAu1x7g9+TaClzV/wU8wGvI1RxWzDnfnZmF2LbRuzZQJHl5Jion3U8ONXDutF1vltoPya3zM9MlQstncgP379yJ6e4Pw2UH78mkBLmz9+TSCkFbMBb2N0VizamF2LRRuzZTxdSkVv+FGtWGwfhfz4tePKj9/NAv1x7uBmyI9fE2hp88evCbS0+ePXBFra/AU/xWzA2xhVzDbcmZ+N2bXYtjFbJnB0KSkWFWNl2C6y5q+B8uPXBHp6NIM2Ptsdwo9fP7KnJzi/DZQfvybQ0uaPXxMIacVswNsYnRWLNmbXYtHGbBlPl1LRszHb9PjxqwItP3r/+cVKK3X4XQ7raAYVi20G+fFrVwY/fjcLtMe5P/g1gZY2f8FPMRvwNkYVsw135mdjdi22bcyWCRxdSoqJ9lHDj185rBdZ57eB8mt+z/TIULHY3oH8+PUje3qC89tA+fFrAi1t/vg1gZBWzAa8jdFZsWhjdi0WbcyW8XQpFb3hR7VisX0U8uPXjis/fjcL9Me5g5shP35NoKXNH78m0NLmj18TaGnzF/wUswFvY1Qx23BnfjZm12LbxmyZwNGlpFhUjJVhu8iavwbKj18T6OnRDNr4bHcIP379yJ6e4Pw2UH78mkBLmz9+TSCkFbMBb2N0VizamF2LRRuzZTxdSkXPxmzT48evCrT86P3nFyut1OF3OayjGVQsthnkx69dGfz43SzQHuf+4NcEWtr8BT/FbMDbGFXMNtyZn43Ztdi2MVsmcHQpKSbaRw0/fuWwXmSd3wbKr/k90yNDxWJ7B/Lj14/s6QnObwPlx68JtLT549cEQloxG/A2RmfFoo3ZtVi0MVvG06VU9IYf1YrF9lHIj187rvz43SzQH+cObob8+DWBljZ//JpAS5s/fk2gpc1f8FPMBryNUcVsw5352Zhdi20bs2UCR5eSYlExVobtImv+Gig/fk2gp0czaOOz3SH8+PUje3qC89tA+fFrAi1t/vg1gZBWzAa8jdFZsWhjdi0WbcyW8XQpFT0bs02PH78q0PKj959frLRSh9/lsI5mULHYZpAfv3Zl8ON3s0B7nPuDXxNoafMX/BSzAW9jVDHbcGd+NmbXYtvGbJnA0aWkmGgfNfz4lcN6kXV+Gyi/5vdMjwwVi+0dyI9fP7KnJzi/DZQfvybQ0uaPXxMIacVswNsYnRWLNmbXYtHGbBlPl1LRG35UKxbbRyE/fu248uN3s0B/nDu4GfLj1wRa2vzxawItbf74NYGWNn/BTzEb8DZGFbMNd+ZnY3Yttm3MlgkcXUqKRcVYGbaLrPlroPz4NYGeHs2gjc92h/Dj14/s6QnObwPlx68JtLT549cEQloxG/A2RmfFoo3ZtVi0MVvG06VU9GzMNj1+/KpAy4/ef36x0kodfpfDOppBxWKbQX782pXBj9/NAu1x7g9+TaClzV/wU8wGvI1RxWzDnfnZmF2LbRuzZQJHl5Jion3U8ONXDutF1vltoPya3zM9MlQstncgP379yJ6e4Pw2UH78mkBLmz9+TSCkFbMBb2N0VizamF2LRRuzZTxdSkVv+FGtWGwfhfz4tePKj9/NAv1x7uBmyI9fE2hp88evCbS0+ePXBFra/AU/xWzA2xhVzDbcmZ+N2bXYtjFbJnB0KSkWFWNl2C6y5q+B8uPXBHp6NIM2Ptsdwo9fP7KnJzi/DZQfvybQ0uaPXxMIacVswNsYnRWLNmbXYtHGbBlPl1LRszHb9PjxqwItP3r/+cVKK3X4XQ7raAYVi20G+fFrVwY/fjcLtMe5P/g1gZY2f8FPMRvwNkYVsw135mdjdi22bcyWCRxdSoqJ9lHDj185rBdZ57eB8mt+z/TIULHY3oH8+PUje3qC89tA+fFrAi1t/vg1gZBWzAa8jdFZsWhjdi0WbcyW8XQpFb3hR7VisX0U8uPXjis/fjcL9Me5g5shP35NoKXNH78m0NLmj18TaGnzF/wUswFvY1Qx23BnfjZm12LbxmyZwNGlpFhUjJVhu8iavwbKj18T6OnRDNr4bHcIP379yJ6e4Pw2UH78mkBLmz9+TSCkFbMBb2N0VizamF2LRRuzZTxdSkXPxmzT48evCrT86P3nFyut1OF3OayjGVQsthnkx69dGfz43SzQHuf+4NcEWtr8BT/FbMDbGFXMNtyZn43Ztdi2MVsmcHQpKSbaRw0/fuWwXmSd3wbKr/k90yNDxWJ7B/Lj14/s6QnObwPlx68JtLT549cEQloxG/A2RmfFoo3ZtVi0MVvG06VU9IYf1YrF9lHIj187rvz43SzQH+cObob8+DWBljZ//JpAS5s/fk2gpc1f8FPMBryNUcVsw5352Zhdi20bs2UCR5eSYlExVobtImv+Gig/fk2gp0czaOOz3SH8+PUje3qC89tA+fFrAi1t/vg1gZBWzAa8jdFZsWhjdi0WbcyW8XQpFT0bs02PH78q0PKj959frLRSh9/lsI5mULHYZpAfv3Zl8ON3s0B7nPuDXxNoafMX/BSzAW9jVDHbcGd+NmbXYtvGbJnA0aWkmGgfNfz4lcN6kXV+Gyi/5vdMjwwVi+0dyI9fP7KnJzi/DZQfvybQ0uaPXxMIacVswNsYnRWLNmbXYtHGbBlPl1LRG35UKxbbRyE/fu248uN3s0B/nDu4GfLj1wRa2vzxawItbf74NYGWNn/BTzEb8DZGFbMNd+ZnY3Yttm3MlgkcXUqKRcVYGbaLrPlroPz4NYGeHs2gjc92h/Dj14/s6QnObwPlx68JtLT549cEQloxG/A2RmfFoo3ZtVi0MVvG06VU9GzMNj1+/KpAy4/ef36x0kodfpfDOppBxWKbQX782pXBj9/NAu1x7g9+TaClzV/wU8wGvI1RxWzDnfnZmF2LbRuzZQJHl5Jion3U8ONXDutF1vltoPya3zM9MlQstncgP379yJ6e4Pw2UH78mkBLmz9+TSCkFbMBb2N0VizamF2LRRuzZTxdSkVv+FGtWGwfhfz4tePKj9/NAv1x7uBmyI9fE2hp88evCbS0+ePXBFra/AU/xWzA2xhVzDbcmZ+N2bXYtjFbJnB0KSkWFWNl2C6y5q+B8uPXBHp6NIM2Ptsdwo9fP7KnJzi/DZQfvybQ0uaPXxMIacVswNsYnRWLNmbXYtHGbBlPl1LRszHb9PjxqwItP3r/+cVKK3X4XQ7raAYVi20G+fFrVwY/fjcLtMe5P/g1gZY2f8FPMRvwNkYVsw135mdjdi22bcyWCRxdSoqJ9lHDj185rBdZ57eB8mt+z/TIULHY3oH8+PUje3qC89tA+fFrAi1t/vg1gZBWzAa8jdFZsWhjdi0WbcyW8XQpFb3hR7VisX0U8uPXjis/fjcL9Me5g5shP35NoKXNH78m0NLmj18TaGnzF/wUswFvY1Qx23BnfjZm12LbxmyZwNGlpFhUjJVhu8iavwbKj18T6OnRDNr4bHcIP379yJ6e4Pw2UH78mkBLmz9+TSCkFbMBb2N0VizamF2LRRuzZTxdSkXPxmzT48evCrT86P3nFyut1OF3OayjGVQsthnkx69dGfz43SzQHuf+4NcEWtr8BT/FbMDbGFXMNtyZn43Ztdi2MVsmcHQpKSbaRw0/fuWwXmSd3wbKr/k90yNDxWJ7B/Lj14/s6QnObwPlx68JtLT549cEQloxG/A2RmfFoo3ZtVi0MVvG06VU9IYf1YrF9lHIj187rvz43SzQH+cObob8+DWBljZ//JpAS5s/fk2gpc1f8FPMBryNUcVsw5352Zhdi20bs2UCR5eSYlExVobtImv+Gig/fk2gp0czaOOz3SH8+PUje3qC89tA+fFrAi1t/vg1gZBWzAa8jdFZsWhjdi0WbcyW8XQpFT0bs02PH78q0PKj959frLRSh9/lsI5mULHYZpAfv3Zl8ON3s0B7nPuDXxNoafMX/BSzAW9jVDHbcGd+NmbXYtvGbJnA0aWkmGgfNfz4lcN6kXV+Gyi/5vdMjwwVi+0dyI9fP7KnJzi/DZQfvybQ0uaPXxMIacVswNsYnRWLNmbXYtHGbBlPl1LRG35UKxbbRyE/fu248uN3s0B/nDu4GfLj1wRa2vzxawItbf74NYGWNn/BTzEb8DZGFbMNd+ZnY3Yttm3MlgkcXUqKRcVYGbaLrPlroPz4NYGeHs2gjc92h/Dj14/s6QnObwPlx68JtLT549cEQloxG/A2RmfFoo3ZtVi0MVvG06VU9GzMNj1+/KpAy4/ef36x0kodfpfDOppBxWKbQX782pXBj9/NAu1x7g9+TaClzV/w+0MqZr8O/x6fWvTD8Ti+fOu/1PE4vno8Hp+/9c//CP7czO/g99FMfDiOwfzx+/hIjfy+Kyac4e8V+bWXND9+TaClzV/ze6ZHhoc7ON3B/JaBNX/tDPPj1wRa2vzxawItbf6C3zH4v1j+fT/mJ+HnixIgQIAAAQIECBAgQIAAAQIECBAgQIDAOwQUs+9AEyFAgAABAgQIECBAgAABAgQIECBAgEARUMwWPVkCBAgQIECAAAECBAgQIECAAAECBAi8Q0Ax+w40EQIECBAgQIAAAQIECBAgQIAAAQIECBQBxWzRkyVAgAABAgQIECBAgAABAgQIECBAgMA7BBSz70ATIUCAAAECBAgQIECAAAECBAgQIECAQBFQzBY9WQIECBAgQIAAAQIECBAgQIAAAQIECLxDQDH7DjQRAgQIECBAgAABAgQIECBAgAABAgQIFAHFbNGTJUCAAAECBAgQIECAAAECBAgQIECAwDsEFLPvQBMhQIAAAQIECBAgQIAAAQIECBAgQIBAEVDMFj1ZAgQIECBAgAABAgQIECBAgAABAgQIvENAMfsONBECBAgQIECAAAECBAgQIECAAAECBAgUgVuK2eNxfF3+IT6x7IfjcXz51n+n43F89Xg8Pn/rn/8R/LmZ38Hvo5n4cByD+eP38ZEa+T3DB8MfGvJrL2l+/JpAS5u/5vdMjwzdHws4vzaD/Pg1gZY2f/yaQEubP35NIKSP4/gixL+N3lXM/rb+g3xC+W+Ox9v/h/mu1P75J/TvX/9VZn7Ht78U4Pe9+jeTF8PB7+N5Hfl9V8yawXfOH7/ldWn+2g3Cj18T6OnRDLqD2zuQH79+ZE9PcH4bKD9+TaClzR+/JhDSx3HkXjU/4NsP68ehmP1hMaGYDWP9UMwWvcfDpfRCP8Vi+yjkx68dV378bhboj3MHN0N+/JpAS5s/fk2gpc0fvybQ0uYv+ClmA97G6KxY/N1/BsLG53uLbRufH4+yl2o73CM/xaJirI0bP343C7THef81v2d6ZGjjs70D+fHrR/b0BOe3gfLj1wRa2vzxawIhrZgNeBujitmGO/NTzCpm27wlP8Vs+yjkx+/e4zsrxcyf+bt5/hSzHdSHdTPkx68JtLT549cEWtr88WsCIa2YDXgbo7Ni0cbsWoxN/lMQitlULNo2UUzc/C4c/aVIMWb+zN/NAu1xzm/zU8zy6wLtCaMz7O+A7Q7mx68dV378bhZoj3N/BD/FbMDbGFXMNtyZn2JWMdvmLfkpFttfKvnxu/f42piNnqO/lDu/l9ojQ8VOewfy4xffeenvgObP/Jm/mwXa49y//JpASCtmA97G6KxYtDG7/qXIxmwZT5dS0Rv+9wEVE+0v5fz4tePKj9/NAv1x7uBmyI9fE2hp88evCbS0+ePXBFra/AU/xWzA2xhVzDbcmZ+N2bXYPo4v3vo/gd/2K3beOitv/HOjS10xa/7eOFdv/WPm761S13+OX/N7pkeG7uD2DuTHrx/Z0xOc3wbKj18TaGnzx68JhLRiNuBtjM6KRRuza7FoY7aMp0up6A0/qhWL7aOQH792XPnxu1mgP84d3Az58WsCLW3++DWBljZ//JpAS5u/4KeYDXgbo4rZhjvzszG7Fts2ZssEji4lxaJirAzbRdb8NVB+/JpAT49m0MZnu0P48etH9vQE57eB8uPXBFra/PFrAiGtmA14G6OzYtHG7Fos2pgt4+lSKno2ZpseP35VoOVH7z+/WGmlDr/LYR3NoGKxzSA/fu3K4MfvZoH2OPcHvybQ0uYv+ClmA97GqGK24c78bMyuxbaN2TKBo0tJMdE+avjxK4f1Iuv8NlB+ze+ZHhkqFts7kB+/fmRPT3B+Gyg/fk2gpc0fvyYQ0orZgLcxOisWbcyuxaKN2TKeLqWiN/yoViy2j0J+/Npx5cfvZoH+OHdwM+THrwm0tPnj1wRa2vzxawItbf6Cn2I24G2MKmYb7szPxuxabNuYLRM4upQUi4qxMmwXWfPXQPnxawI9PZpBG5/tDuHHrx/Z0xOc3wbKj18TaGnzx68JhLRiNuBtjM6KRRuza7FoY7aMp0up6NmYbXr8+FWBlh+9//xipZU6/C6HdTSDisU2g/z4tSuDH7+bBdrj3B/8mkBLm7/gp5gNeBujitmGO/OzMbsW2zZmywSOLiXFRPuo4cevHNaLrPPbQPk1v2d6ZKhYbO9Afvz6kT09wfltoPz4NYGWNn/8mkBIK2YD3sborFi0MbsWizZmy3i6lIre8KNasdg+Cvnxa8eVH7+bBfrj3MHNkB+/JtDS5o9fE2hp88evCbS0+Qt+itmAtzGqmG24Mz8bs2uxbWO2TODoUlIsKsbKsF1kzV8D5cevCfT0aAZtfLY7hB+/fmRPT3B+Gyg/fk2gpc0fvyYQ0orZgLcxOisWbcyuxaKN2TKeLqWiZ2O26RbF0HwAACAASURBVPHjVwVafvT+84uVVurwuxzW0QwqFtsM8uPXrgx+/G4WaI9zf/BrAi1t/oKfYjbgbYwqZhvuzM/G7Fps25gtEzi6lBQT7aOGH79yWC+yzm8D5df8numRoWKxvQP58etH9vQE57eB8uPXBFra/PFrAiGtmA14G6OzYtHG7Fos2pgt4+lSKnrDj2rFYvso5MevHVd+/G4W6I9zBzdDfvyaQEubP35NoKXNH78m0NLmL/gpZgPexqhituHO/GzMrsW2jdkygaNLSbGoGCvDdpE1fw2UH78m0NOjGbTx2e4Qfvz6kT09wfltoPz4NYGWNn/8mkBIK2YD3sborFi0MbsWizZmy3i6lIqejdmmx49fFWj50fvPL1ZaqcPvclhHM6hYbDPIj1+7Mvjxu1mgPc79wa8JtLT5C36K2YC3MaqYbbgzPxuza7FtY7ZM4OhSUky0jxp+/Mphvcg6vw2UX/N7pkeGisX2DuTHrx/Z0xOc3wbKj18TaGnzx68JhLRiNuBtjM6KRRuza7FoY7aMp0up6A0/qhWL7aOQH792XPnxu1mgP84d3Az58WsCLW3++DWBljZ//JpAS5u/4KeYDXgbo4rZhjvzszG7Fts2ZssEji4lxaJirAzbRdb8NVB+/JpAT49m0MZnu0P48etH9vQE57eB8uPXBFra/PFrAiGtmA14G6OzYtHG7Fos2pgt4+lSKno2ZpseP35VoOVH7z+/WGmlDr/LYR3NoGKxzSA/fu3K4MfvZoH2OPcHvybQ0uYv+ClmA97GqGK24c78bMyuxbaN2TKBo0tJMdE+avjxK4f1Iuv8NlB+ze+ZHhkqFts7kB+/fmRPT3B+Gyg/fk2gpc0fvyYQ0orZgLcxOisWbcyuxaKN2TKeLqWiN/yoViy2j0J+/Npx5cfvZoH+OHdwM+THrwm0tPnj1wRa2vzxawItbf6Cn2I24G2MKmYb7szPxuxabNuYLRM4upQUi4qxMmwXWfPXQPnxawI9PZpBG5/tDuHHrx/Z0xOc3wbKj18TaGnzx68JhLRiNuBtjM6KRRuza7FoY7aMp0up6NmYbXr8+FWBlh+9//xipZU6/C6HdTSDisU2g/z4tSuDH7+bBdrj3B/8mkBLm7/gp5gNeBujitmGO/OzMbsW2zZmywSOLiXFRPuo4cevHNaLrPPbQPk1v2d6ZKhYbO9Afvz6kT09wfltoPz4NYGWNn/8mkBIK2YD3sborFi0MbsWizZmy3i6lIre8KNasdg+Cvnxa8eVH7+bBfrj3MHNkB+/JtDS5o9fE2hp88evCbS0+Qt+itmAtzGqmG24Mz8bs2uxbWO2TODoUlIsKsbKsF1kzV8D5cevCfT0aAZtfLY7hB+/fmRPT3B+Gyg/fk2gpc0fvyYQ0orZgLcxOisWbcyuxaKN2TKeLqWiZ2O26fHjVwVafvT+84uVVurwuxzW0QwqFtsM8uPXrgx+/G4WaI9zf/BrAi1t/oKfYjbgbYwqZhvuzM/G7Fps25gtEzi6lBQT7aOGH79yWC+yzm8D5df8numRoWKxvQP58etH9vQE57eB8uPXBFra/PFrAiGtmA14G6OzYtHG7Fos2pgt4+lSKnrDj2rFYvso5MevHVd+/G4W6I9zBzdDfvyaQEubP35NoKXNH78m0NLmL/gpZgPexqhituHO/GzMrsW2jdkygaNLSbGoGCvDdpE1fw2UH78m0NOjGbTx2e4Qfvz6kT09wfltoPz4NYGWNn/8mkBIK2YD3sborFi0MbsWizZmy3i6lIqejdmmx49fFWj50fvPL1ZaqcPvclhHM6hYbDPIj1+7Mvjxu1mgPc79wa8JtLT5C36K2YC3MaqYbbgzPxuza7FtY7ZM4OhSUky0jxp+/Mphvcg6vw2UX/N7pkeGisX2DuTHrx/Z0xOc3wbKj18TaGnzx68JhLRiNuBtjM6KRRuza7FoY7aMp0up6A0/qhWL7aOQH792XPnxu1mgP84d3Az58WsCLW3++DWBljZ//JpAS5u/4KeYDXgbo4rZhjvzszG7Fts2ZssEji4lxaJirAzbRdb8NVB+/JpAT49m0MZnu0P48etH9vQE57eB8uPXBFra/PFrAiGtmA14G6OzYtHG7Fos2pgt4+lSKno2ZpseP35VoOVH7z+/WGmlDr/LYR3NoGKxzSA/fu3K4MfvZoH2OPcHvybQ0uYv+ClmA97GqGK24c78bMyuxbaN2TKBo0tJMdE+avjxK4f1Iuv8NlB+ze+ZHhkqFts7kB+/fmRPT3B+Gyg/fk2gpc0fvyYQ0orZgLcxOisWbcyuxaKN2TKeLqWiN/yoViy2j0J+/Npx5cfvZoH+OHdwM+THrwm0tPnj1wRa2vzxawItbf6Cn2I24G2MKmYb7szPxuxabNuYLRM4upQUi4qxMmwXWfPXQPnxawI9PZpBG5/tDuHHrx/Z0xOc3wbKj18TaGnzx68JhLRiNuBtjM6KRRuza7FoY7aMp0up6NmYbXr8+FWBlh+9//xipZU6/C6HdTSDisU2g/z4tSuDH7+bBdrj3B/8mkBLm7/gp5gNeBujitmGO/OzMbsW2zZmywSOLiXFRPuo4cevHNaLrPPbQPk1v2d6ZKhYbO9Afvz6kT09wfltoPz4NYGWNn/8mkBIK2YD3sborFi0MbsWizZmy3i6lIre8KNasdg+Cvnxa8eVH7+bBfrj3MHNkB+/JtDS5o9fE2hp88evCbS0+Qt+itmAtzGqmG24Mz8bs2uxbWO2TODoUlIsKsbKsF1kzV8D5cevCfT0aAZtfLY7hB+/fmRPT3B+Gyg/fk2gpc0fvyYQ0orZgLcxOisWbcyuxaKN2TKeLqWiZ2O26fHjVwVafvT+84uVVurwuxzW0QwqFtsM8uPXrgx+/G4WaI9zf/BrAi1t/oKfYjbgbYwqZhvuzM/G7Fps25gtEzi6lBQT7aOGH79yWC+yzm8D5df8numRoWKxvQP58etH9vQE57eB8uPXBFra/PFrAiGtmA14G6OzYtHG7Fos2pgt4+lSKnrDj2rFYvso5MevHVd+/G4W6I9zBzdDfvyaQEubP35NoKXNH78m0NLmL/gpZgPexqhituHO/GzMrsW2jdkygaNLSbGoGCvDdpE1fw2UH78m0NOjGbTx2e4Qfvz6kT09wfltoPz4NYGWNn/8mkBIK2YD3sborFi0MbsWizZmy3i6lIqejdmmx49fFWj50fvPL1ZaqcPvclhHM6hYbDPIj1+7Mvjxu1mgPc79wa8JtLT5C36K2YC3MaqYbbgzPxuza7FtY7ZM4OhSUky0jxp+/Mphvcg6vw2UX/N7pkeGisX2DuTHrx/Z0xOc3wbKj18TaGnzx68JhLRiNuBtjM6KRRuza7FoY7aMp0up6A0/qhWL7aOQH792XPnxu1mgP84d3Az58WsCLW3++DWBljZ//JpAS5u/4KeYDXgbo4rZhjvzszG7Fts2ZssEji4lxaJirAzbRdb8NVB+/JpAT49m0MZnu0P48etH9vQE57eB8uPXBFra/PFrAiGtmA14G6OzYtHG7Fos2pgt4+lSKno2ZpseP35VoOVH7z+/WGmlDr/LYR3NoGKxzSA/fu3K4MfvZoH2OPcHvybQ0uYv+ClmA97GqGK24c78bMyuxbaN2TKBo0tJMdE+avjxK4f1Iuv8NlB+ze+ZHhkqFts7kB+/fmRPT3B+Gyg/fk2gpc0fvyYQ0orZgLcxOisWbcyuxaKN2TKeLqWiN/yoViy2j0J+/Npx5cfvZoH+OHdwM+THrwm0tPnj1wRa2vzxawItbf6Cn2I24G2MKmYb7szPxuxabNuYLRM4upQUi4qxMmwXWfPXQPnxawI9PZpBG5/tDuHHrx/Z0xOc3wbKj18TaGnzx68JhLRiNuBtjM6KRRuza7FoY7aMp0up6NmYbXr8+FWBlh+9//xipZU6/C6HdTSDisU2g/z4tSuDH7+bBdrj3B/8mkBLm7/gp5gNeBujitmGO/OzMbsW2zZmywSOLiXFRPuo4cevHNaLrPPbQPk1v2d6ZKhYbO9Afvz6kT09wfltoPz4NYGWNn/8mkBIK2YD3sborFi0MbsWizZmy3i6lIre8KNasdg+Cvnxa8eVH7+bBfrj3MHNkB+/JtDS5o9fE2hp88evCbS0+Qt+itmAtzGqmG24Mz8bs2uxbWO2TODoUlIsKsbKsF1kzV8D5cevCfT0aAZtfLY7hB+/fmRPT3B+Gyg/fk2gpc0fvyYQ0n9IxezX4d/jU4t+OB7Hl2/9lzoex1ePx+Pzt/75H8Gfm/kd/D6aiQ/HMZg/fh8fqZHfd8WsM/y9Ir/2kubHrwm0tPlrfs/0yPBwB6c7mN8ysOavnWF+/JpAS5s/fk2gpc1f8DsGi3G/78f8JPx8UQIECBAgQIAAAQIECBAgQIAAAQIECBB4h4Bi9h1oIgQIECBAgAABAgQIECBAgAABAgQIECgCitmiJ0uAAAECBAgQIECAAAECBAgQIECAAIF3CChm34EmQoAAAQIECBAgQIAAAQIECBAgQIAAgSKgmC16sgQIECBAgAABAgQIECBAgAABAgQIEHiHgGL2HWgiBAgQIECAAAECBAgQIECAAAECBAgQKAKK2aInS4AAAQIECBAgQIAAAQIECBAgQIAAgXcIKGbfgSZCgAABAgQIECBAgAABAgQIECBAgACBIqCYLXqyBAgQIECAAAECBAgQIECAAAECBAgQeIeAYvYdaCIECBAgQIAAAQIECBAgQIAAAQIECBAoAorZoidLgAABAgQIECBAgAABAgQIECBAgACBdwgoZt+BJkKAAAECBAgQIECAAAECBAgQIECAAIEicEsxezyOr8s/xCeW/XA8ji/f+u90PI6vHo/H52/98z+CPzfzO/h9NBMfjmMwf/w+PlIjv2f4YPhDQ37tJc2PXxNoafPX/J7pkaH7YwHn12aQH78m0NLmj18TaGnzx68JhPRxHF+E+LfRu4rZ39Z/kE8o/83xePv/MN+V2j//hP7967/KzO/49pcC/L5X/2byYjj4fTyvI7/vilkz+M7547e8Ls1fu0H48WsCPT2aQXdwewfy49eP7OkJzm8D5cevCbS0+ePXBEL6OI7cq+YHfPth/TgUsz8sJhSzYawfitmi93i4lF7op1hsH4X8+LXjyo/fzQL9ce7gZsiPXxNoafPHrwm0tPnj1wRa2vwFP8VswNsYnRWLv/vPQNj4fG+xbePz41H2Um2He+SnWFSMtXHjx+9mgfY477/m90yPDG18tncgP379yJ6e4Pw2UH78mkBLmz9+TSCkFbMBb2NUMdtwZ36KWcVsm7fkp5htH4X8+N17fGelmPkzfzfPn2K2g/qwbob8+DWBljZ//JpAS5s/fk0gpBWzAW9jdFYs2phdi7HJfwpCMZuKRdsmiomb34WjvxQpxsyf+btZoD3O+W1+ill+XaA9YXSG/R2w3cH8+LXjyo/fzQLtce6P4KeYDXgbo4rZhjvzU8wqZtu8JT/FYvtLJT9+9x5fG7PRc/SXcuf3UntkqNhp70B+/OI7L/0d0PyZP/N3s0B7nPuXXxMIacVswNsYnRWLNmbXvxTZmC3j6VIqesP/PqBiov2lnB+/dlz58btZoD/OHdwM+fFrAi1t/vg1gZY2f/yaQEubv+CnmA14G6OK2YY787Mxuxbbx/HFW/8n8Nt+xc5bZ+WNf250qStmzd8b5+qtf8z8vVXq+s/xa37P9MjQHdzegfz49SN7eoLz20D58WsCLW3++DWBkFbMBryN0VmxaGN2LRZtzJbxdCkVveFHtWKxfRTy49eOKz9+Nwv0x7mDmyE/fk2gpc0fvybQ0uaPXxNoafMX/BSzAW9jVDHbcGd+NmbXYtvGbJnA0aWkWFSMlWG7yJq/BsqPXxPo6dEM2vhsdwg/fv3Inp7g/DZQfvyaQEubP35NIKQVswFvY3RWLNqYXYtFG7NlPF1KRc/GbNPjx68KtPzo/ecXK63U4Xc5rKMZVCy2GeTHr10Z/PjdLNAe5/7g1wRa2vwFP8VswNsYVcw23Jmfjdm12LYxWyZwdCkpJtpHDT9+5bBeZJ3fBsqv+T3TI0PFYnsH8uPXj+zpCc5vA+XHrwm0tPnj1wRCWjEb8DZGZ8Wijdm1WLQxW8bTpVT0hh/VisX2UciPXzuu/PjdLNAf5w5uhvz4NYGWNn/8mkBLmz9+TaClzV/wU8wGvI1RxWzDnfnZmF2LbRuzZQJHl5JiUTFWhu0ia/4aKD9+TaCnRzNo47PdIfz49SN7eoLz20D58WsCLW3++DWBkFbMBryN0VmxaGN2LRZtzJbxdCkVPRuzTY8fvyrQ8qP3n1+stFKH3+WwjmZQsdhmkB+/dmXw43ezQHuc+4NfE2hp8xf8FLMBb2NUMdtwZ342Ztdi28ZsmcDRpaSYaB81/PiVw3qRdX4bKL/m90yPDBWL7R3Ij18/sqcnOL8NlB+/JtDS5o9fEwhpxWzA2xidFYs2Ztdi0cZsGU+XUtEbflQrFttHIT9+7bjy43ezQH+cO7gZ8uPXBFra/PFrAi1t/vg1gZY2f8FPMRvwNkYVsw135mdjdi22bcyWCRxdSopFxVgZtous+Wug/Pg1gZ4ezaCNz3aH8OPXj+zpCc5vA+XHrwm0tPnj1wRCWjEb8DZGZ8Wijdm1WLQxW8bTpVT0bMw2PX78qkDLj95/frHSSh1+l8M6mkHFYptBfvzalcGP380C7XHuD35NoKXNX/BTzAa8jVHFbMOd+dmYXYttG7NlAkeXkmKifdTw41cO60XW+W2g/JrfMz0yVCy2dyA/fv3Inp7g/DZQfvyaQEubP35NIKQVswFvY3RWLNqYXYtFG7NlPF1KRW/4Ua1YbB+F/Pi148qP380C/XHu4GbIj18TaGnzx68JtLT549cEWtr8BT/FbMDbGFXMNtyZn43Ztdi2MVsmcHQpKRYVY2XYLrLmr4Hy49cEeno0gzY+2x3Cj18/sqcnOL8NlB+/JtDS5o9fEwhpxWzA2xidFYs2Ztdi0cZsGU+XUtGzMdv0+PGrAi0/ev/5xUordfhdDutoBhWLbQb58WtXBj9+Nwu0x7k/+DWBljZ/wU8xG/A2RhWzDXfmZ2N2LbZtzJYJHF1Kion2UcOPXzmsF1nnt4Hya37P9MhQsdjegfz49SN7eoLz20D58WsCLW3++DWBkFbMBryN0VmxaGN2LRZtzJbxdCkVveFHtWKxfRTy49eOKz9+Nwv0x7mDmyE/fk2gpc0fvybQ0uaPXxNoafMX/BSzAW9jVDHbcGd+NmbXYtvGbJnA0aWkWFSMlWG7yJq/BsqPXxPo6dEM2vhsdwg/fv3Inp7g/DZQfvyaQEubP35NIKQVswFvY3RWLNqYXYtFG7NlPF1KRc/GbNPjx68KtPzo/ecXK63U4Xc5rKMZVCy2GeTHr10Z/PjdLNAe5/7g1wRa2vwFP8VswNsYVcw23Jmfjdm12LYxWyZwdCkpJtpHDT9+5bBeZJ3fBsqv+T3TI0PFYnsH8uPXj+zpCc5vA+XHrwm0tPnj1wRCWjEb8DZGZ8Wijdm1WLQxW8bTpVT0hh/VisX2UciPXzuu/PjdLNAf5w5uhvz4NYGWNn/8mkBLmz9+TaClzV/wU8wGvI1RxWzDnfnZmF2LbRuzZQJHl5JiUTFWhu0ia/4aKD9+TaCnRzNo47PdIfz49SN7eoLz20D58WsCLW3++DWBkFbMBryN0VmxaGN2LRZtzJbxdCkVPRuzTY8fvyrQ8qP3n1+stFKH3+WwjmZQsdhmkB+/dmXw43ezQHuc+4NfE2hp8xf8FLMBb2NUMdtwZ342Ztdi28ZsmcDRpaSYaB81/PiVw3qRdX4bKL/m90yPDBWL7R3Ij18/sqcnOL8NlB+/JtDS5o9fEwhpxWzA2xidFYs2Ztdi0cZsGU+XUtEbflQrFttHIT9+7bjy43ezQH+cO7gZ8uPXBFra/PFrAi1t/vg1gZY2f8FPMRvwNkYVsw135mdjdi22bcyWCRxdSopFxVgZtous+Wug/Pg1gZ4ezaCNz3aH8OPXj+zpCc5vA+XHrwm0tPnj1wRCWjEb8DZGZ8Wijdm1WLQxW8bTpVT0bMw2PX78qkDLj95/frHSSh1+l8M6mkHFYptBfvzalcGP380C7XHuD35NoKXNX/BTzAa8jVHFbMOd+dmYXYttG7NlAkeXkmKifdTw41cO60XW+W2g/JrfMz0yVCy2dyA/fv3Inp7g/DZQfvyaQEubP35NIKQVswFvY3RWLNqYXYtFG7NlPF1KRW/4Ua1YbB+F/Pi148qP380C/XHu4GbIj18TaGnzx68JtLT549cEWtr8BT/FbMDbGFXMNtyZn43Ztdi2MVsmcHQpKRYVY2XYLrLmr4Hy49cEeno0gzY+2x3Cj18/sqcnOL8NlB+/JtDS5o9fEwhpxWzA2xidFYs2Ztdi0cZsGU+XUtGzMdv0+PGrAi0/ev/5xUordfhdDutoBhWLbQb58WtXBj9+Nwu0x7k/+DWBljZ/wU8xG/A2RhWzDXfmZ2N2LbZtzJYJHF1Kion2UcOPXzmsF1nnt4Hya37P9MhQsdjegfz49SN7eoLz20D58WsCLW3++DWBkFbMBryN0VmxaGN2LRZtzJbxdCkVveFHtWKxfRTy49eOKz9+Nwv0x7mDmyE/fk2gpc0fvybQ0uaPXxNoafMX/BSzAW9jVDHbcGd+NmbXYtvGbJnA0aWkWFSMlWG7yJq/BsqPXxPo6dEM2vhsdwg/fv3Inp7g/DZQfvyaQEubP35NIKQVswFvY3RWLNqYXYtFG7NlPF1KRc/GbNPjx68KtPzo/ecXK63U4Xc5rKMZVCy2GeTHr10Z/PjdLNAe5/7g1wRa2vwFP8VswNsYVcw23Jmfjdm12LYxWyZwdCkpJtpHDT9+5bBeZJ3fBsqv+T3TI0PFYnsH8uPXj+zpCc5vA+XHrwm0tPnj1wRCWjEb8DZGZ8Wijdm1WLQxW8bTpVT0hh/VisX2UciPXzuu/PjdLNAf5w5uhvz4NYGWNn/8mkBLmz9+TaClzV/wU8wGvI1RxWzDnfnZmF2LbRuzZQJHl5JiUTFWhu0ia/4aKD9+TaCnRzNo47PdIfz49SN7eoLz20D58WsCLW3++DWBkFbMBryN0VmxaGN2LRZtzJbxdCkVPRuzTY8fvyrQ8qP3n1+stFKH3+WwjmZQsdhmkB+/dmXw43ezQHuc+4NfE2hp8xf8FLMBb2NUMdtwZ342Ztdi28ZsmcDRpaSYaB81/PiVw3qRdX4bKL/m90yPDBWL7R3Ij18/sqcnOL8NlB+/JtDS5o9fEwhpxWzA2xidFYs2Ztdi0cZsGU+XUtEbflQrFttHIT9+7bjy43ezQH+cO7gZ8uPXBFra/PFrAi1t/vg1gZY2f8FPMRvwNkYVsw135mdjdi22bcyWCRxdSopFxVgZtous+Wug/Pg1gZ4ezaCNz3aH8OPXj+zpCc5vA+XHrwm0tPnj1wRCWjEb8DZGZ8Wijdm1WLQxW8bTpVT0bMw2PX78qkDLj95/frHSSh1+l8M6mkHFYptBfvzalcGP380C7XHuD35NoKXNX/BTzAa8jVHFbMOd+dmYXYttG7NlAkeXkmKifdTw41cO60XW+W2g/JrfMz0yVCy2dyA/fv3Inp7g/DZQfvyaQEubP35NIKQVswFvY3RWLNqYXYtFG7NlPF1KRW/4Ua1YbB+F/Pi148qP380C/XHu4GbIj18TaGnzx68JtLT549cEWtr8BT/FbMDbGFXMNtyZn43Ztdi2MVsmcHQpKRYVY2XYLrLmr4Hy49cEeno0gzY+2x3Cj18/sqcnOL8NlB+/JtDS5o9fEwhpxWzA2xidFYs2Ztdi0cZsGU+XUtGzMdv0+PGrAi0/ev/5xUordfhdDutoBhWLbQb58WtXBj9+Nwu0x7k/+DWBljZ/wU8xG/A2RhWzDXfmZ2N2LbZtzJYJHF1Kion2UcOPXzmsF1nnt4Hya37P9MhQsdjegfz49SN7eoLz20D58WsCLW3++DWBkFbMBryN0VmxaGN2LRZtzJbxdCkVveFHtWKxfRTy49eOKz9+Nwv0x7mDmyE/fk2gpc0fvybQ0uaPXxNoafMX/BSzAW9jVDHbcGd+NmbXYtvGbJnA0aWkWFSMlWG7yJq/BsqPXxPo6dEM2vhsdwg/fv3Inp7g/DZQfvyaQEubP35NIKQVswFvY3RWLNqYXYtFG7NlPF1KRc/GbNPjx68KtPzo/ecXK63U4Xc5rKMZVCy2GeTHr10Z/PjdLNAe5/7g1wRa2vwFP8VswNsYVcw23Jmfjdm12LYxWyZwdCkpJtpHDT9+5bBeZJ3fBsqv+T3TI0PFYnsH8uPXj+zpCc5vA+XHrwm0tPnj1wRCWjEb8DZGZ8Wijdm1WLQxW8bTpVT0hh/VisX2UciPXzuu/PjdLNAf5w5uhvz4NYGWNn/8mkBLmz9+TaClzV/wU8wGvI1RxWzDnfnZmF2LbRuzZQJHl5JiUTFWhu0ia/4aKD9+TaCnRzNo47PdIfz49SN7eoLz20D58WsCLW3++DWBkFbMBryN0VmxaGN2LRZtzJbxdCkVPRuzTY8fvyrQ8qP3n1+stFKH3+WwjmZQsdhmkB+/dmXw43ezQHuc+4NfE2hp8xf8FLMBb2NUMdtwZ342Ztdi28ZsmcDRpaSYaB81/PiVw3qRdX4bKL/m90yPDBWL7R3Ij18/sqcnOL8NlB+/JtDS5o9fEwhpxWzA2xidFYs2Ztdi0cZsGU+XUtEbflQrFttHIT9+7bjy43ezQH+cO7gZ8uPXBFra/PFrAi1t/vg1gZY2f8FPMRvwNkYVsw135mdjdi22bcyWCRxdSopFxVgZtous+Wug/Pg1gZ4ezaCNz3aH8OPXj+zpCc5vA+XHrwm0tPnj1wRC+g+pmP06/Ht8atEPx+P48q3/Usfj+OrxtDKWTgAAIABJREFUeHz+1j//I/hzM7+D30cz8eE4BvPH7+MjNfL7rph1hr9X5Nde0vz4NYGWNn/N75keGR7u4HQH81sG1vy1M8yPXxNoafPHrwm0tPkLfsdgMe73/ZifhJ8vSoAAAQIECBAgQIAAAQIECBAgQIAAAQLvEFDMvgNNhAABAgQIECBAgAABAgQIECBAgAABAkVAMVv0ZAkQIECAAAECBAgQIECAAAECBAgQIPAOAcXsO9BECBAgQIAAAQIECBAgQIAAAQIECBAgUAQUs0VPlgABAgQIECBAgAABAgQIECBAgAABAu8QUMy+A02EAAECBAgQIECAAAECBAgQIECAAAECRUAxW/RkCRAgQIAAAQIECBAgQIAAAQIECBAg8A4Bxew70EQIECBAgAABAgQIECBAgAABAgQIECBQBBSzRU+WAAECBAgQIECAAAECBAgQIECAAAEC7xBQzL4DTYQAAQIECBAgQIAAAQIECBAgQIAAAQJFQDFb9GQJECBAgAABAgQIECBAgAABAgQIECDwDgHF7DvQRAgQIECAAAECBAgQIECAAAECBAgQIFAEbilmj8fxdfmH+MSyH47H8eVb/52Ox/HV4/H4/K1//kfw52Z+B7+PZuLDcQzmj9/HR2rk9wwfDH9oyK+9pPnxawItbf6a3zM9MnR/LOD82gzy49cEWtr88WsCLW3++DWBkD6O44sQ/zZ6VzH72/oP8gnlvzkeb/8f5rtS++ef0L9//VeZ+R3f/lKA3/fq30xeDAe/j+d15PddMWsG3zl//JbXpflrNwg/fk2gp0cz6A5u70B+/PqRPT3B+W2g/Pg1gZY2f/yaQEgfx5F71fyAbz+sH4di9ofFhGI2jPVDMVv0Hg+X0gv9FIvto5Afv3Zc+fG7WaA/zh3cDPnxawItbf74NYGWNn/8mkBLm7/gp5gNeBujs2Lxd/8ZCBuf7y22bXx+PMpequ1wj/wUi4qxNm78+N0s0B7n/df8numRoY3P9g7kx68f2dMTnN8Gyo9fE2hp88evCYS0YjbgbYwqZhvuzE8xq5ht85b8FLPto5Afv3uP76wUM3/m7+b5U8x2UB/WzZAfvybQ0uaPXxNoafPHrwmEtGI24G2MzopFG7NrMTb5T0EoZlOxaNtEMXHzu3D0lyLFmPkzfzcLtMc5v81PMcuvC7QnjM6wvwO2O5gfv3Zc+fG7WaA9zv0R/BSzAW9jVDHbcGd+ilnFbJu35KdYbH+p5Mfv3uNrYzZ6jv5S7vxeao8MFTvtHciPX3znpb8Dmj/zZ/5uFmiPc//yawIhrZgNeBujs2LRxuz6lyIbs2U8XUpFb/jfB1RMtL+U8+PXjis/fjcL9Me5g5shP35NoKXNH78m0NLmj18TaGnzF/wUswFvY1Qx23BnfjZm12L7OL546/8Eftuv2HnrrLzxz40udcWs+XvjXL31j5m/t0pd/zl+ze+ZHhm6g9s7kB+/fmRPT3B+Gyg/fk2gpc0fvyYQ0orZgLcxOisWbcyuxaKN2TKeLqWiN/yoViy2j0J+/Npx5cfvZoH+OHdwM+THrwm0tPnj1wRa2vzxawItbf6Cn2I24G2MKmYb7szPxuxabNuYLRM4upQUi4qxMmwXWfPXQPnxawI9PZpBG5/tDuHHrx/Z0xOc3wbKj18TaGnzx68JhLRiNuBtjM6KRRuza7FoY7aMp0up6NmYbXr8+FWBlh+9//xipZU6/C6HdTSDisU2g/z4tSuDH7+bBdrj3B/8mkBLm7/gp5gNeBujitmGO/OzMbsW2zZmywSOLiXFRPuo4cevHNaLrPPbQPk1v2d6ZKhYbO9Afvz6kT09wfltoPz4NYGWNn/8mkBIK2YD3sborFi0MbsWizZmy3i6lIre8KNasdg+Cvnxa8eVH7+bBfrj3MHNkB+/JtDS5o9fE2hp88evCbS0+Qt+itmAtzGqmG24Mz8bs2uxbWO2TODoUlIsKsbKsF1kzV8D5cevCfT0aAZtfLY7hB+/fmRPT3B+Gyg/fk2gpc0fvyYQ0orZgLcxOisWbcyuxaKN2TKeLqWiZ2O26fHjVwVafvT+84uVVurwuxzW0QwqFtsM8uPXrgx+/G4WaI9zf/BrAi1t/oKfYjbgbYwqZhvuzM/G7Fps25gtEzi6lBQT7aOGH79yWC+yzm8D5df8numRoWKxvQP58etH9vQE57eB8uPXBFra/PFrAiGtmA14G6OzYtHG7Fos2pgt4+lSKnrDj2rFYvso5MevHVd+/G4W6I9zBzdDfvyaQEubP35NoKXNH78m0NLmL/gpZgPexqhituHO/GzMrsW2jdkygaNLSbGoGCvDdpE1fw2UH78m0NOjGbTx2e4Qfvz6kT09wfltoPz4NYGWNn/8mkBIK2YD3sborFi0MbsWizZmy3i6lIqejdmmx49fFWj50fvPL1ZaqcPvclhHM6hYbDPIj1+7Mvjxu1mgPc79wa8JtLT5C36K2YC3MaqYbbgzPxuza7FtY7ZM4OhSUky0jxp+/Mphvcg6vw2UX/N7pkeGisX2DuTHrx/Z0xOc3wbKj18TaGnzx68JhLRiNuBtjM6KRRuza7FoY7aMp0up6A0/qhWL7aOQH792XPnxu1mgP84d3Az58WsCLW3++DWBljZ//JpAS5u/4KeYDXgbo4rZhjvzszG7Fts2ZssEji4lxaJirAzbRdb8NVB+/JpAT49m0MZnu0P48etH9vQE57eB8uPXBFra/PFrAiGtmA14G6OzYtHG7Fos2pgt4+lSKno2ZpseP35VoOVH7z+/WGmlDr/LYR3NoGKxzSA/fu3K4MfvZoH2OPcHvybQ0uYv+ClmA97GqGK24c78bMyuxbaN2TKBo0tJMdE+avjxK4f1Iuv8NlB+ze+ZHhkqFts7kB+/fmRPT3B+Gyg/fk2gpc0fvyYQ0orZgLcxOisWbcyuxaKN2TKeLqWiN/yoViy2j0J+/Npx5cfvZoH+OHdwM+THrwm0tPnj1wRa2vzxawItbf6Cn2I24G2MKmYb7szPxuxabNuYLRM4upQUi4qxMmwXWfPXQPnxawI9PZpBG5/tDuHHrx/Z0xOc3wbKj18TaGnzx68JhLRiNuBtjM6KRRuza7FoY7aMp0up6NmYbXr8+FWBlh+9//xipZU6/C6HdTSDisU2g/z4tSuDH7+bBdrj3B/8mkBLm7/gp5gNeBujitmGO/OzMbsW2zZmywSOLiXFRPuo4cevHNaLrPPbQPk1v2d6ZKhYbO9Afvz6kT09wfltoPz4NYGWNn/8mkBIK2YD3sborFi0MbsWizZmy3i6lIre8KNasdg+Cvnxa8eVH7+bBfrj3MHNkB+/JtDS5o9fE2hp88evCbS0+Qt+itmAtzGqmG24Mz8bs2uxbWO2TODoUlIsKsbKsF1kzV8D5cevCfT0aAZtfLY7hB+/fmRPT3B+Gyg/fk2gpc0fvyYQ0orZgLcxOisWbcyuxaKN2TKeLqWiZ2O26fHjVwVafvT+84uVVurwuxzW0QwqFtsM8uPXrgx+/G4WaI9zf/BrAi1t/oKfYjbgbYwqZhvuzM/G7Fps25gtEzi6lBQT7aOGH79yWC+yzm8D5df8numRoWKxvQP58etH9vQE57eB8uPXBFra/PFrAiGtmA14G6OzYtHG7Fos2pgt4+lSKnrDj2rFYvso5MevHVd+/G4W6I9zBzdDfvyaQEubP35NoKXNH78m0NLmL/gpZgPexqhituHO/GzMrsW2jdkygaNLSbGoGCvDdpE1fw2UH78m0NOjGbTx2e4Qfvz6kT09wfltoPz4NYGWNn/8mkBIK2YD3sborFi0MbsWizZmy3i6lIqejdmmx49fFWj50fvPL1ZaqcPvclhHM6hYbDPIj1+7Mvjxu1mgPc79wa8JtLT5C36K2YC3MaqYbbgzPxuza7FtY7ZM4OhSUky0jxp+/Mphvcg6vw2UX/N7pkeGisX2DuTHrx/Z0xOc3wbKj18TaGnzx68JhLRiNuBtjM6KRRuza7FoY7aMp0up6A0/qhWL7aOQH792XPnxu1mgP84d3Az58WsCLW3++DWBljZ//JpAS5u/4KeYDXgbo4rZhjvzszG7Fts2ZssEji4lxaJirAzbRdb8NVB+/JpAT49m0MZnu0P48etH9vQE57eB8uPXBFra/PFrAiGtmA14G6OzYtHG7Fos2pgt4+lSKno2ZpseP35VoOVH7z+/WGmlDr/LYR3NoGKxzSA/fu3K4MfvZoH2OPcHvybQ0uYv+ClmA97GqGK24c78bMyuxbaN2TKBo0tJMdE+avjxK4f1Iuv8NlB+ze+ZHhkqFts7kB+/fmRPT3B+Gyg/fk2gpc0fvyYQ0orZgLcxOisWbcyuxaKN2TKeLqWiN/yoViy2j0J+/Npx5cfvZoH+OHdwM+THrwm0tPnj1wRa2vzxawItbf6Cn2I24G2MKmYb7szPxuxabNuYLRM4upQUi4qxMmwXWfPXQPnxawI9PZpBG5/tDuHHrx/Z0xOc3wbKj18TaGnzx68JhLRiNuBtjM6KRRuza7FoY7aMp0up6NmYbXr8+FWBlh+9//xipZU6/C6HdTSDisU2g/z4tSuDH7+bBdrj3B/8mkBLm7/gp5gNeBujitmGO/OzMbsW2zZmywSOLiXFRPuo4cevHNaLrPPbQPk1v2d6ZKhYbO9Afvz6kT09wfltoPz4NYGWNn/8mkBIK2YD3sborFi0MbsWizZmy3i6lIre8KNasdg+Cvnxa8eVH7+bBfrj3MHNkB+/JtDS5o9fE2hp88evCbS0+Qt+itmAtzGqmG24Mz8bs2uxbWO2TODoUlIsKsbKsF1kzV8D5cevCfT0aAZtfLY7hB+/fmRPT3B+Gyg/fk2gpc0fvyYQ0orZgLcxOisWbcyuxaKN2TKeLqWiZ2O26fHjVwVafvT+84uVVurwuxzW0QwqFtsM8uPXrgx+/G4WaI9zf/BrAi1t/oKfYjbgbYwqZhvuzM/G7Fps25gtEzi6lBQT7aOGH79yWC+yzm8D5df8numRoWKxvQP58etH9vQE57eB8uPXBFra/PFrAiGtmA14G6OzYtHG7Fos2pgt4+lSKnrDj2rFYvso5MevHVd+/G4W6I9zBzdDfvyaQEubP35NoKXNH78m0NLmL/gpZgPexqhituHO/GzMrsW2jdkygaNLSbGoGCvDdpE1fw2UH78m0NOjGbTx2e4Qfvz6kT09wfltoPz4NYGWNn/8mkBIK2YD3sborFi0MbsWizZmy3i6lIqejdmmx49fFWj50fvPL1ZaqcPvclhHM6hYbDPIj1+7Mvjxu1mgPc79wa8JtLT5C36K2YC3MaqYbbgzPxuza7FtY7ZM4OhSUky0jxp+/Mphvcg6vw2UX/N7pkeGisX2DuTHrx/Z0xOc3wbKj18TaGnzx68JhLRiNuBtjM6KRRuza7FoY7aMp0up6A0/qhWL7aOQH792XPnxu1mgP84d3Az58WsCLW3++DWBljZ//JpAS5u/4KeYDXgbo4rZhjvzszG7Fts2ZssEji4lxaJirAzbRdb8NVB+/JpAT49m0MZnu0P48etH9vQE57eB8uPXBFra/PFrAiGtmA14G6OzYtHG7Fos2pgt4+lSKno2ZpseP35VoOVH7z+/WGmlDr/LYR3NoGKxzSA/fu3K4MfvZoH2OPcHvybQ0uYv+ClmA97GqGK24c78bMyuxbaN2TKBo0tJMdE+avjxK4f1Iuv8NlB+ze+ZHhkqFts7kB+/fmRPT3B+Gyg/fk2gpc0fvyYQ0orZgLcxOisWbcyuxaKN2TKeLqWiN/yoViy2j0J+/Npx5cfvZoH+OHdwM+THrwm0tPnj1wRa2vzxawItbf6Cn2I24G2MKmYb7szPxuxabNuYLRM4upQUi4qxMmwXWfPXQPnxawI9PZpBG5/tDuHHrx/Z0xOc3wbKj18TaGnzx68JhLRiNuBtjM6KRRuza7FoY7aMp0up6NmYbXr8+FWBlh+9//xipZU6/C6HdTSDisU2g/z4tSuDH7+bBdrj3B/8mkBLm7/gp5gNeBujitmGO/OzMbsW2zZmywSOLiXFRPuo4cevHNaLrPPbQPk1v2d6ZKhYbO9Afvz6kT09wfltoPz4NYGWNn/8mkBIK2YD3sborFi0MbsWizZmy3i6lIre8KNasdg+Cvnxa8eVH7+bBfrj3MHNkB+/JtDS5o9fE2hp88evCbS0+Qt+itmAtzGqmG24Mz8bs2uxbWO2TODoUlIsKsbKsF1kzV8D5cevCfT0aAZtfLY7hB+/fmRPT3B+Gyg/fk2gpc0fvyYQ0orZgLcxOisWbcyuxaKN2TKeLqWiZ2O26fHjVwVafvT+84uVVurwuxzW0QwqFtsM8uPXrgx+/G4WaI9zf/BrAi1t/oKfYjbgbYwqZhvuzM/G7Fps25gtEzi6lBQT7aOGH79yWC+yzm8D5df8numRoWKxvQP58etH9vQE57eB8uPXBFra/PFrAiGtmA14G6OzYtHG7Fos2pgt4+lSKnrDj2rFYvso5MevHVd+/G4W6I9zBzdDfvyaQEubP35NoKXNH78m0NLmL/gpZgPexqhituHO/GzMrsW2jdkygaNLSbGoGCvDdpE1fw2UH78m0NOjGbTx2e4Qfvz6kT09wfltoPz4NYGWNn/8mkBI/yEVs1+Hf49PLfrheBxfvvVf6ngcXz0ej8/f+ud/BH9u5nfw+2gmPhzHYP74fXykRn7fFbPO8PeK/NpLmh+/JtDS5q/5PdMjw8MdnO5gfsvAmr92hvnxawItbf74NYGWNn/B7xgsxv2+H/OT8PNFCRAgQIAAAQIECBAgQIAAAQIECBAgQOAdAorZd6CJECBAgAABAgQIECBAgAABAgQIECBAoAgoZoueLAECBAgQIECAAAECBAgQIECAAAECBN4hoJh9B5oIAQIECBAgQIAAAQIECBAgQIAAAQIEioBitujJEiBAgAABAgQIECBAgAABAgQIECBA4B0Citl3oIkQIECAAAECBAgQIECAAAECBAgQIECgCChmi54sAQIECBAgQIAAAQIECBAgQIAAAQIE3iGgmH0HmggBAgQIECBAgAABAgQIECBAgAABAgSKgGK26MkSIECAAAECBAgQIECAAAECBAgQIEDgHQKK2XegiRAgQIAAAQIECBAgQIAAAQIECBAgQKAIKGaLniwBAgQIECBAgAABAgQIECBAgAABAgTeIaCYfQeaCAECBAgQIECAAAECBAgQIECAAAECBIrALcXs8Ti+Lv8Qn1j2w/E4vnzrv9PxOL56PB6fv/XP/wj+3Mzv4PfRTHw4jsH88fv4SI38nuGD4Q8N+bWXND9+TaClzV/ze6ZHhu6PBZxfm0F+/JpAS5s/fk2gpc0fvyYQ0sdxfBHi30bvKmZ/W/9BPqH8N8fj7f/DfFdq//wT+vev/yozv+PbXwrw+179m8mL4eD38byO/L4rZs3gO+eP3/K6NH/tBuHHrwn09GgG3cHtHciPXz+ypyc4vw2UH78m0NLmj18TCOnjOHKvmh/w7Yf141DM/rCYUMyGsX4oZove4+FSeqGfYrF9FPLj144rP343C/THuYObIT9+TaClzR+/JtDS5o9fE2hp8xf8FLMBb2N0Viz+7j8DYePzvcW2jc+PR9lLtR3ukZ9iUTHWxo0fv5sF2uO8/5rfMz0ytPHZ3oH8+PUje3qC89tA+fFrAi1t/vg1gZBWzAa8jVHFbMOd+SlmFbNt3pKfYrZ9FPLjd+/xnZVi5s/83Tx/itkO6sO6GfLj1wRa2vzxawItbf74NYGQVswGvI3RWbFoY3Ytxib/KQjFbCoWbZsoJm5+F47+UqQYM3/m72aB9jjnt/kpZvl1gfaE0Rn2d8B2B/Pj144rP343C7THuT+Cn2I24G2MKmYb7sxPMauYbfOW/BSL7S+V/Pjde3xtzEbP0V/Knd9L7ZGhYqe9A/nxi++89HdA82f+zN/NAu1x7l9+TSCkFbMBb2N0VizamF3/UmRjtoynS6noDf/7gIqJ9pdyfvzaceXH72aB/jh3cDPkx68JtLT549cEWtr88WsCLW3+gp9iNuBtjCpmG+7Mz8bsWmwfxxdv/Z/Ab/sVO2+dlTf+udGlrpg1f2+cq7f+MfP3VqnrP8ev+T3TI0N3cHsH8uPXj+zpCc5vA+XHrwm0tPnj1wRCWjEb8DZGZ8Wijdm1WLQxW8bTpVT0hh/VisX2UciPXzuu/PjdLNAf5w5uhvz4NYGWNn/8mkBLmz9+TaClzV/wU8wGvI1RxWzDnfnZmF2LbRuzZQJHl5JiUTFWhu0ia/4aKD9+TaCnRzNo47PdIfz49SN7eoLz20D58WsCLW3++DWBkFbMBryN0VmxaGN2LRZtzJbxdCkVPRuzTY8fvyrQ8qP3n1+stFKH3+WwjmZQsdhmkB+/dmXw43ezQHuc+4NfE2hp8xf8FLMBb2NUMdtwZ342Ztdi28ZsmcDRpaSYaB81/PiVw3qRdX4bKL/m90yPDBWL7R3Ij18/sqcnOL8NlB+/JtDS5o9fEwhpxWzA2xidFYs2Ztdi0cZsGU+XUtEbflQrFttHIT9+7bjy43ezQH+cO7gZ8uPXBFra/PFrAi1t/vg1gZY2f8FPMRvwNkYVsw135mdjdi22bcyWCRxdSopFxVgZtous+Wug/Pg1gZ4ezaCNz3aH8OPXj+zpCc5vA+XHrwm0tPnj1wRCWjEb8DZGZ8Wijdm1WLQxW8bTpVT0bMw2PX78qkDLj95/frHSSh1+l8M6mkHFYptBfvzalcGP380C7XHuD35NoKXNX/BTzAa8jVHFbMOd+dmYXYttG7NlAkeXkmKifdTw41cO60XW+W2g/JrfMz0yVCy2dyA/fv3Inp7g/DZQfvyaQEubP35NIKQVswFvY3RWLNqYXYtFG7NlPF1KRW/4Ua1YbB+F/Pi148qP380C/XHu4GbIj18TaGnzx68JtLT549cEWtr8BT/FbMDbGFXMNtyZn43Ztdi2MVsmcHQpKRYVY2XYLrLmr4Hy49cEeno0gzY+2x3Cj18/sqcnOL8NlB+/JtDS5o9fEwhpxWzA2xidFYs2Ztdi0cZsGU+XUtGzMdv0+PGrAi0/ev/5xUordfhdDutoBhWLbQb58WtXBj9+Nwu0x7k/+DWBljZ/wU8xG/A2RhWzDXfmZ2N2LbZtzJYJHF1Kion2UcOPXzmsF1nnt4Hya37P9MhQsdjegfz49SN7eoLz20D58WsCLW3++DWBkFbMBryN0VmxaGN2LRZtzJbxdCkVveFHtWKxfRTy49eOKz9+Nwv0x7mDmyE/fk2gpc0fvybQ0uaPXxNoafMX/BSzAW9jVDHbcGd+NmbXYtvGbJnA0aWkWFSMlWG7yJq/BsqPXxPo6dEM2vhsdwg/fv3Inp7g/DZQfvyaQEubP35NIKQVswFvY3RWLNqYXYtFG7NlPF1KRc/GbNPjx68KtPzo/ecXK63U4Xc5rKMZVCy2GeTHr10Z/PjdLNAe5/7g1wRa2vwFP8VswNsYVcw23Jmfjdm12LYxWyZwdCkpJtpHDT9+5bBeZJ3fBsqv+T3TI0PFYnsH8uPXj+zpCc5vA+XHrwm0tPnj1wRCWjEb8DZGZ8Wijdm1WLQxW8bTpVT0hh/VisX2UciPXzuu/PjdLNAf5w5uhvz4NYGWNn/8mkBLmz9+TaClzV/wU8wGvI1RxWzDnfnZmF2LbRuzZQJHl5JiUTFWhu0ia/4aKD9+TaCnRzNo47PdIfz49SN7eoLz20D58WsCLW3++DWBkFbMBryN0VmxaGN2LRZtzJbxdCkVPRuzTY8fvyrQ8qP3n1+stFKH3+WwjmZQsdhmkB+/dmXw43ezQHuc+4NfE2hp8xf8FLMBb2NUMdtwZ342Ztdi28ZsmcDRpaSYaB81/PiVw3qRdX4bKL/m90yPDBWL7R3Ij18/sqcnOL8NlB+/JtDS5o9fEwhpxWzA2xidFYs2Ztdi0cZsGU+XUtEbflQrFttHIT9+7bjy43ezQH+cO7gZ8uPXBFra/PFrAi1t/vg1gZY2f8FPMRvwNkYVsw135mdjdi22bcyWCRxdSopFxVgZtous+Wug/Pg1gZ4ezaCNz3aH8OPXj+zpCc5vA+XHrwm0tPnj1wRCWjEb8DZGZ8Wijdm1WLQxW8bTpVT0bMw2PX78qkDLj95/frHSSh1+l8M6mkHFYptBfvzalcGP380C7XHuD35NoKXNX/BTzAa8jVHFbMOd+dmYXYttG7NlAkeXkmKifdTw41cO60XW+W2g/JrfMz0yVCy2dyA/fv3Inp7g/DZQfvyaQEubP35NIKQVswFvY3RWLNqYXYtFG7NlPF1KRW/4Ua1YbB+F/Pi148qP380C/XHu4GbIj18TaGnzx68JtLT549cEWtr8BT/FbMDbGFXMNtyZn43Ztdi2MVsmcHQpKRYVY2XYLrLmr4Hy49cEeno0gzY+2x3Cj18/sqcnOL8NlB+/JtDS5o9fEwhpxWzA2xidFYs2Ztdi0cZsGU+XUtGzMdv0+PGrAi0/ev/5xUordfhdDutoBhWLbQb58WtXBj9+Nwu0x7k/+DWBljZ/wU8xG/A2RhWzDXfmZ2N2LbZtzJYJHF1Kion2UcOPXzmsF1nnt4Hya37P9MhQsdjegfz49SN7eoLz20D58WsCLW3++DWBkFbMBryN0VmxaGN2LRZtzJbxdCkVveFHtWKxfRTy49eOKz9+Nwv0x7mDmyE/fk2gpc0fvybQ0uaPXxNoafMX/BSzAW9jVDHbcGd+NmbXYtvGbJnA0aWkWFSMlWG7yJq/BsqPXxPo6dEM2vhsdwg/fv3Inp7g/DZQfvyaQEubP35NIKQVswFvY3RWLNqYXYtFG7NlPF1KRc/GbNPjx68KtPzo/ecXK63U4Xc5rKMZVCy2GeTHr10Z/PjdLNAe5/7g1wRa2vwFP8VswNsYVcw23Jmfjdm12LYIqWU0AAAgAElEQVQxWyZwdCkpJtpHDT9+5bBeZJ3fBsqv+T3TI0PFYnsH8uPXj+zpCc5vA+XHrwm0tPnj1wRCWjEb8DZGZ8Wijdm1WLQxW8bTpVT0hh/VisX2UciPXzuu/PjdLNAf5w5uhvz4NYGWNn/8mkBLmz9+TaClzV/wU8wGvI1RxWzDnfnZmF2LbRuzZQJHl5JiUTFWhu0ia/4aKD9+TaCnRzNo47PdIfz49SN7eoLz20D58WsCLW3++DWBkFbMBryN0VmxaGN2LRZtzJbxdCkVPRuzTY8fvyrQ8qP3n1+stFKH3+WwjmZQsdhmkB+/dmXw43ezQHuc+4NfE2hp8xf8FLMBb2NUMdtwZ342Ztdi28ZsmcDRpaSYaB81/PiVw3qRdX4bKL/m90yPDBWL7R3Ij18/sqcnOL8NlB+/JtDS5o9fEwhpxWzA2xidFYs2Ztdi0cZsGU+XUtEbflQrFttHIT9+7bjy43ezQH+cO7gZ8uPXBFra/PFrAi1t/vg1gZY2f8FPMRvwNkYVsw135mdjdi22bcyWCRxdSopFxVgZtous+Wug/Pg1gZ4ezaCNz3aH8OPXj+zpCc5vA+XHrwm0tPnj1wRCWjEb8DZGZ8Wijdm1WLQxW8bTpVT0bMw2PX78qkDLj95/frHSSh1+l8M6mkHFYptBfvzalcGP380C7XHuD35NoKXNX/BTzAa8jVHFbMOd+dmYXYttG7NlAkeXkmKifdTw41cO60XW+W2g/JrfMz0yVCy2dyA/fv3Inp7g/DZQfvyaQEubP35NIKQVswFvY3RWLNqYXYtFG7NlPF1KRW/4Ua1YbB+F/Pi148qP380C/XHu4GbIj18TaGnzx68JtLT549cEWtr8BT/FbMDbGFXMNtyZn43Ztdi2MVsmcHQpKRYVY2XYLrLmr4Hy49cEeno0gzY+2x3Cj18/sqcnOL8NlB+/JtDS5o9fEwhpxWzA2xidFYs2Ztdi0cZsGU+XUtGzMdv0+PGrAi0/ev/5xUordfhdDutoBhWLbQb58WtXBj9+Nwu0x7k/+DWBljZ/wU8xG/A2RhWzDXfmZ2N2LbZtzJYJHF1Kion2UcOPXzmsF1nnt4Hya37P9MhQsdjegfz49SN7eoLz20D58WsCLW3++DWBkFbMBryN0VmxaGN2LRZtzJbxdCkVveFHtWKxfRTy49eOKz9+Nwv0x7mDmyE/fk2gpc0fvybQ0uaPXxNoafMX/BSzAW9jVDHbcGd+NmbXYtvGbJnA0aWkWFSMlWG7yJq/BsqPXxPo6dEM2vhsdwg/fv3Inp7g/DZQfvyaQEubP35NIKQVswFvY3RWLNqYXYtFG7NlPF1KRc/GbNPjx68KtPzo/ecXK63U4Xc5rKMZVCy2GeTHr10Z/PjdLNAe5/7g1wRa2vwFP8VswNsYVcw23Jmfjdm12LYxWyZwdCkpJtpHDT9+5bBeZJ3fBsqv+T3TI0PFYnsH8uPXj+zpCc5vA+XHrwm0tPnj1wRCWjEb8DZGZ8Wijdm1WLQxW8bTpVT0hh/VisX2UciPXzuu/PjdLNAf5w5uhvz4NYGWNn/8mkBLmz9+TaClzV/wU8wGvI1RxWzDnfnZmF2LbRuzZQJHl5JiUTFWhu0ia/4aKD9+TaCnRzNo47PdIfz49SN7eoLz20D58WsCLW3++DWBkFbMBryN0VmxaGN2LRZtzJbxdCkVPRuzTY8fvyrQ8qP3n1+stFKH3+WwjmZQsdhmkB+/dmXw43ezQHuc+4NfE2hp8xf8FLMBb2NUMdtwZ342Ztdi28ZsmcDRpaSYaB81/PiVw3qRdX4bKL/m90yPDBWL7R3Ij18/sqcnOL8NlB+/JtDS5o9fEwhpxWzA2xidFYs2Ztdi0cZsGU+XUtEbflQrFttHIT9+7bjy43ezQH+cO7gZ8uPXBFra/PFrAi1t/vg1gZY2f8FPMRvwNkYVsw135mdjdi22bcyWCRxdSopFxVgZtous+Wug/Pg1gZ4ezaCNz3aH8OPXj+zpCc5vA+XHrwm0tPnj1wRCWjEb8DZGZ8Wijdm1WLQxW8bTpVT0bMw2PX78qkDLj95/frHSSh1+l8M6mkHFYptBfvzalcGP380C7XHuD35NoKXNX/BTzAa8jVHFbMOd+dmYXYttG7NlAkeXkmKifdTw41cO60XW+W2g/JrfMz0yVCy2dyA/fv3Inp7g/DZQfvyaQEubP35NIKQVswFvY3RWLNqYXYtFG7NlPF1KRW/4Ua1YbB+F/Pi148qP380C/XHu4GbIj18TaGnzx68JtLT549cEWtr8BT/FbMDbGFXMNtyZn43Ztdi2MVsmcHQpKRYVY2XYLrLmr4Hy49cEeno0gzY+2x3Cj18/sqcnOL8NlB+/JtDS5o9fEwhpxWzA2xidFYs2Ztdi0cZsGU+XUtGzMdv0+PGrAi0/ev/5xUordfhdDutoBhWLbQb58WtXBj9+Nwu0x7k/+DWBljZ/we8PqZj9Ovx7fGrRD8fj+PKt/1LH4/jq8Xh8/tY//yP4czO/g99HM/HhOAbzx+/jIzXy+66YcIa/V+TXXtL8+DWBljZ/ze+ZHhke7uB0B/NbBtb8tTPMj18TaGnzx68JtLT5C37H4P9i+ff9mJ+Eny9KgAABAgQIECBAgAABAgQIECBAgAABAu8QUMy+A02EAAECBAgQIECAAAECBAgQIECAAAECRUAxW/RkCRAgQIAAAQIECBAgQIAAAQIECBAg8A4Bxew70EQIECBAgAABAgQIECBAgAABAgQIECBQBBSzRU+WAAECBAgQIECAAAECBAgQIECAAAEC7xBQzL4DTYQAAQIECBAgQIAAAQIECBAgQIAAAQJFQDFb9GQJECBAgAABAgQIECBAgAABAgQIECDwDgHF7DvQRAgQIECAAAECBAgQIECAAAECBAgQIFAEFLNFT5YAAQIECBAgQIAAAQIECBAgQIAAAQLvEFDMvgNNhAABAgQIECBAgAABAgQIECBAgAABAkVAMVv0ZAkQIECAAAECBAgQIECAAAECBAgQIPAOgVuK2eNxfP2On/2pRj4cj+PLt/7LHY/jq8fj8flb//yP4M/N/A5+H83Eh+MYzB+/j4/UyO8ZPhj+0JBfe0nz49cEWtr8Nb9nemTo/ljA+bUZ5MevCbS0+ePXBFra/PFrAiF9HMcXIf5t9K5i9rf1H+QTyn9zPN7+P8x3pfbPP6F///qvMvM7vv2lAL/v1b+ZvBgOfh/P68jvu2LWDL5z/vgtr0vz126QS79f/vKX/+Gf/umf/q/H4/G/Ph6P/+mHP+Lv/u7v/vdf/epX/0v7sZ9G+rPPPvvHP/uzP/svk3+bnX6/+tWvHv/8z//8+Ju/+ZvHb37zm8k/1n/LPzs6w+7g9g7kx+/mw+78NlB+/JpAS5s/fk0gpI/jyL1qfsC3H9aPQzH7w2JCMRvG+qGYLXqPh0vphX6KxfZRyI9fO67/vt93pez//dOf/vT/+OM//uP/8bPPPjv9veff/u3f/uff/OY3/8PN/xz/XT7uj/7oj37905/+9J8m//A7/X79618//vVf//Xxt3/7t4+//Mu//O+lnHUHTwZo/bP8+DWBljZ//JpAS5s/fk2gpc1f8FPMBryN0Vmx+Lv/DISNz/cW2zY+Px5lL9V2uEd+isV/vxj79/7nsPF0EjJ//97A/P///y9+v/jFL/7TT3/60//0s5/97Nd/+qd/+v/+5Cfn30f//d///f/2q1/96j+2H/tppD/77LN/+dnPfvb/TP5tdvr99re/ffzLv/zL4x//8R8ff/VXf/X467/+68k/2n+rPzs6w95/7Q7hx+/mg+78NlB+/JpAS5s/fk0gpBWzAW9jVDHbcGd+ilnFbJu35KeYbR+F/Pjde3zX/4uBX/ziF//5T/7kT/7PP//zP/+vH5eyz5+9s1i8+d9t++P+0IrZ57/ws5z9h3/4h8cvf/nLx1/8xV9sN7jhB/gwbIj8+DWBljZ//JpAS5s/fk2gpc1f8FPM/n/s3X/Q9nld1/3vLrssrLcsJO4SmrmJNyAgwc6IqKlDP/mjjCbGMcapQKcpyFLRUimOscjSZAgdGCdlzKClYmqcftw2TaZIixaLpgbrDQEOyo9FMLhxUVh37zlO2V2uPS+W67PPz+d7LXs+rhmnWs/3+7jOx/H+HO/r87q+nVfAW1g6Fix6YvZ0MDbyoyAEsylY9LSJYGzyZ+HQUhfMmr/V8/eGN7zhlVddddXTH/WoR533cUvB7F3vwH0xmD3+7n7zN39ze+tb37r9wi/8wuRxWdJu6DPQDm6fgfz4TT7Fzm8D5cevCbRq88evCYRqwWzAW1gqmG24Y36CWcFsm7fkJ1hsl0J+/OYe3/M+MSuYvUBkwewFQt3zl7kYNkZ+/JpAqzZ//JpAqzZ//JpAqzZ/wU8wG/AWlo4Fi56YPR2MeWK2jKcP1aI3+I+nCRYFi23c+K3288TshQsLZi/c6h6+0g5ujPz4NYFWbf74NYFWbf74NYFWbf6Cn2A24C0sFcw23DE/T8yeDrYPh+su9C3w/w1QMHahs3KBXze01AXb5u8C5+pCv+x8//jXJ31i9vo/c/21H3j7Bx66XbJdeqEvMPvrrnrUVdvTfvBps9veq36C2XvFZgdPYbuzydAO8WeYtkP48Zt7fE///1q5p/7mz/yZv8kCrZ39G/wEswFvYelYsOiJ2dOXGk/MlvH0oVr0PDHb9PjxqwKtfiiYfdnjXvbY973pfVe2l2zVD3/Cw7dn/MQz7lWTV7/61dsP/MAPbL/+67++PfjBD97e/OY336s+dxTNDGa///u/f3vxi1988nurv/yM2Sr4aVXvzzDt7eLHrwm0avPHrwm0avPHrwmEasFswFtYKphtuGN+npg9HWx7YrZM4NBSP76Qv/E/h5tfmT7BdtM7j989/SiDT+dg9j3vec/2JV/yJdsznvGM7VnPetZ2xRVXbE984hOTn2A28d1RPPQZaH+cMufXxpAfvybQqs0fvybQqs0fvyYQqgWzAW9h6Viw6InZ08GiJ2bLeFpKRU8w1vT48asCrf7MPDH7+te/fvvzf/7Pb//yX/7L7Su+4iua2serBbNTGO3gxsiPXxNo1eaPXxNo1eaPXxNo1eYv+AlmA97CUsFswx3z88Ts6WDbE7NlAoeW0vGFPPF0Dje/Mn2C7aZ3Rp6Y/Zt/829u//pf/+tzrJ75zGduL3nJS7ZXvvKV24/+6I9ub3vb27Yrr7xy+5N/8k9uL3jBC7aHPexhd37953zO52zf9E3ftF111VXbK17xiu3973//9mVf9mXbS1/60lse+tCHvuUbv/EbP+9nfuZnHvIZn/EZtz3nOc+5+UUvetF77ih+17veddnzn//8z7nhhhs+873vfe/lD3vYwy55ylOecsnxNX7/7//9d77G+X6Uwa233rq9/OUvP/m9v/Od7zz5PX3N13zN9rf+1t/aHvSgB33S996PMqjH4tOqfmiH2L+n3lt+bdz58WsCrdr88WsCrdr8BT/BbMBbWDoWLHpi9nSw6InZMp4+VIueYKzp8eNXBVr9mXhi9h3veMf2kz/5k9vf+Tt/Z3vRi160PeEJT9g+67M+a/sX/+JfbD/0Qz+0PfvZz96++qu/ejv+uIPv/d7vPQlMf/zHf3x7wAMecKJ7DGaP//PoRz96+4t/8S9uv/Ebv7G98IUv3K677rrf/dCHPvTbf+yP/bEPftmXfdmH/9W/+le/7/rrr3/4q1/96rd+7dd+7QePtf/zf/7PK17ykpdc/VVf9VX/3zXXXHPrO97xjs//oR/6oSuO4e5P//RP3xmwni+Y/at/9a9u//k//+ftuc997vG1tre+9a3b933f95088ftP/+k/Fcy22b+/VPszTHsn+fFrAq3a/PFrAq3a/PFrAqFaMBvwFpYKZhvumJ8nZk8H256YLRM4tNSPL+SJnXO4+ZXpE2w3vTPyxOwR6bWvfe32dV/3dSdPnx6fdj0+gXr8P7/lW75l++Zv/uY7Hf/H//gf25/9s392+5Ef+ZHtT/2pP3VnMHvttdduP/VTP7VddtllJ//tcDichKPf9m3f9q7v/d7vfffxv33sYx/brrnmmic+7WlP++BrXvOad5zvzXn3u9/92F/7tV+78vjzbn/4h394e/rTn37yZXcPZn/u535u+3N/7s+dPNV7fLr3jl//5t/8m+2v//W/vv2n//Sftsc//vHnff89MVuPxadV/dAOsX9Pvbf82rjz49cEWrX549cEWrX5C36C2YC3sHQsWPTE7Olg0ROzZTx9qBY9wVjT48evCrT6M/HE7PmC2Ve96lXbt3/7t2//7b/9t+1zP/dzz1F83OMedxLiHsPX46/j07LHJ2X/wT/4B3d+3fFHIBx/pMBP/dRPvfmrvuqrbrnjf/GkJz3pMQ9+8INvu+GGG/7fO/7bP/pH/+izX/GKV3z2O9/5zis+8pGPXHrHf/+O7/iO7XnPe97J//Puwew//If/8ORp3je96U3b5ZdffufrfvCDH9y++Iu/ePvu7/7u7TnPeY5gts3//aHan2Hau8iPXxNo1eaPXxNo1eaPXxMI1YLZgLewVDDbcMf8PDF7d21Lqc7fwBPHx5fyxM454EPzx+/UsPKbfH7f8IY3vPKqq656+qMe9ai33731yx73sse+703vu7K9ZKt++BMevj3jJ54x3OTuT8z+k3/yT05+bMEn+3X8h8KOX3P8dcfPmD0GsXf8Ov4jYsenbX/pl37plx//+Mf/zh3//SlPecqjjz8b9sYbb/yV43970YtedPULXvCCP/AN3/AN733605/+oSuvvPIP3HrrrQ/603/6T5/Uf+u3futJ6d2D2W/7tm87+VELn+zX8Snf5z//+ef9X3tidng8Pp0Lhj4D7d+2Q/jxm/xh4fw2UH78mkCrNn/BTzAb8BaWjgWLnpi9+1sx5ieYPe03ECz6Q3n7Q/mxmuE5hkNLnZ/5m7yLz+wTsz/2Yz+2HZ9Yvf7660/+Ua+7/zr+Q1uf93mfd/KfSzD75Cc/+TEPetCD7nyC9uabb37s2972tiuf+tSn3mMwe3w69/jjFI4/uuB8v6655prtEY94hGB28oH4NGw3tEPs37ZD+PGb/Bnh/DZQfvyaQKs2f8FPMBvwFpaOBYuCWcHs3GH0odo8h/wEi+1Sw49fO66f2u+sPDF7/AfB/sgf+SMnT80ef2zBPf0qwexjH/vYL/rsz/7sj732ta99y/E1jsHs93zP91x5/Nmx9/TE7A033HDys2Vf/epXn/w+R355YnZE69P+a4d2sGDxU38G3tNE8OM3+RPD+W2g/Pg1gVZt/oKfYDbgLSwVzDbcMT9PzJ4Otj0xWyZwaCkJFtulhh+/cljPU3tmn5g9WnzP93zPyT/A9Zf/8l/evvRLv3S74oortne9613bz/zMz5yEtV/+5V9+QlaC2ec+97mf8/KXv/wR3/7t3/7rX/qlX/pb/+W//Jdr/8N/+A+Xv/3tb7/HYPb4us997nO3//pf/+v2jd/4jduTnvSk7dJLLz35R8t+8id/cvvO7/zO7Qu+4AvOOw6C2cmn5L7dbmgHCxbbDuHHb/LHgfPbQPnxawKt2vwFP8FswFtYOhYsemL2dLDoH/8q4+lDtej5x6uaHj9+VaDVn+lg9kj3mte8ZvvRH/3R7aabbtouueSS7ZGPfOT2FV/xFSeh6PH/XoPZD3/4w5f8lb/yV/7Af/yP//FhH/3oRy996lOfevvf//t//wGf6kcZHF/3tttu217xilecPDX7tre9bXvgAx948g+VffVXf/X2Td/0TdtDHvIQwWyb//tDtT/DtHeRH78m0KrNH78m0KrNH78mEKoFswFvYalgtuGO+Xli9nSw7YnZMoFDS/34Qp44OYebX5k+wXbTO4/fPf0og+v/zPXXfuDtH3jodsl2aX3he1t/1aOu2p72g0+7t+VT6y677LJbrr766jePND3+KINbb7116T+g5onZkXfk0/5rh3aI/Xvq/ebXjgA/fk2gVZs/fk2gVZu/4CeYDXgLS8eCRU/Mng4WPTFbxtOHatETjDU9fvyqQKsfemL2+FJ7BIvtW9qvWjA7xdoOboz8+DWBVm3++DWBVm3++DWBVm3+gp9gNuAtLBXMNtwxP0/Mng62PTFbJnBoKR1fyBM753DzK9Mn2G56g0/MCmbP5RbM1vE7qR/6DLQ/Tpnza2PIj18TaNXmj18TaNXmj18TCNWC2YC3sHQsWPTE7Olg0ROzZTwtpaI3eKkWzLZLNT9+7bh+ar97+lEGglnB7OT5E8x2UH+GaYb8+DWBVm3++DWBVm3++DWBUC2YDXgLSwWzDXfMzxOzp4NtT8yWCRxa6oLFTx2Mfao3wxNj5wiZv081MPf8v/ejDIKfJ2YD3l2lQ2fY51/bIfz4TTm1zu8sRp9/TZIfvybQqs1f8BPMBryFpWPBoidmTweLnpgt4+lDteh5Yrbp8eNXBVq9YDb4CWYDnmBnCp4fBZEZ/RmwEfLj1wRatfnj1wRatfkLfoLZgLewVDDbcMf8PDF7Otj2xGyZwKGldHwhT+ycw82vTJ9gu+n5GbPJTzCb+O4oHvoMtD9OmfNrY8iPXxNo1eaPXxNo1eaPXxMI1YLZgLewdCxY9MTs6WDRE7NlPC2loicYa3r8+FWBVu+J2eAnmA14d5XawY2RH78m0KrNH78m0KrNH78m0KrNX/ATzAa8haWC2YY75ueJ2dPBtidmywQOLaXjC3ni6RxufmX6BNtNzxOzyU8wm/juKB76DLQ/Tpnza2PIj18TaNXmj18TaNXmj18TCNWC2YC3sHQsWPTE7Olg0ROzZTwtpaInGGt6/PhVgVbvidngJ5gNeHeV2sGNkR+/JtCqzR+/JtCqzR+/JtCqzV/wE8wGvIWlgtmGO+bnidnTwbYnZssEDi2l4wt54ukcbn5l+gTbTW/widnrr7/+2g984AMP3bbt0vrC97b+qquu2p72tKfd2/KpdYLZKZxDn4H2xylzfm0M+fFrAq3a/PFrAq3a/PFrAqFaMBvwFpaOBYuemD0dLHpitoynpVT0BGNNjx+/KtDqh56YfdnLXvbY973vfVe2l2zVD3/4w7dnPOMZrcmk6rsHs5dccsl13/zN3/zuF7/4xe/6ZC9x8803P/bWW29davibv/mb21vf+tbtF37hFyZ9p0vb2MGNlx+/JtCqzR+/JtCqzR+/JtCqzV/wE8wGvIWlgtmGO+bnidnTwbYnZssEDi2l4wt54ukcbn5l+gTbTW/wiVnB7Lncgtk6fif1Q5+B9scpc35tDPnxawKt2vzxawKt2vzxawKhWjAb8BaWjgWLnpg9HSx6YraMp6VU9AYv1YLZdqnmx68d10/t94Y3vOGVV1111dMf9ahHvf3uXy2YFcxOnj/BbAf1Z5hmyI9fE2jV5o9fE2jV5o9fEwjVgtmAt7BUMNtwx/w8MXs62PbEbJnAoaUuWPzUwdinejM8MXaOkPn7VANzz//7M/OjDL7/+79/e/GLX7z99E//9PZ3/+7f3f77f//v28Me9rDt+c9//va1X/u122te85rtpS996fbud797e+ITn7j943/8j7fP//zPP9H78R//8e2Vr3zldtNNN22//du/vV177bXbN3zDN2x/4S/8hVuuvvrqN99BfL4fZfD617/+wd/1Xd/1OW94wxv+r49+9KOXPv7xj7/9u77ruy59ylOe0t65e6j2owyW0d4XGw99BtofbQfz4zf5Q8D5baD8+DWBVm3+gp9gNuAtLB0LFj0xezpY9MRsGU8fqkXPE7NNjx+/KtDqz1ww+5jHPOYYqG5f+IVfuP2zf/bPtp/4iZ/Ynve8522vf/3rt7/21/7a9rGPfWx74QtfuD3ykY/c/v2///cnusfA9iEPechJIHvJJZdsP/dzP7f94A/+4Pb3/t7f++jf/tt/+5c+WTD7ute97so//sf/+KO/6Iu+6JbnPe95N1955ZW3/fAP//C1r33tax9wDHu/+Iu/uL17n6RaMLuE9b7a1J9h2jvDj18TaNXmj18TaNXmj18TCNWC2YC3sFQw23DH/DwxezrY9sRsmcChpX58IU+cnMPNr0yfYLvpnaGfMXvHE7MveclLtmc+85knbv/n//yfk3D0Mz/zM7ef/dmfPfk/j79+5Ed+5OSp2mMA+7mf+7nnGN92223b8X++4zu+Y/v5n//52970pjf9/CcLZp/61Kf+3+9973svf/Ob3/ymK6644vbj17373e9+7Fd+5Vde+QVf8AXbK17xivr+nbdeMLuE9b7adGiH2L+n3kZ+bbL58WsCrdr88WsCrdr8BT/BbMBbWDoWLHpi9nSw6InZMp4+VIueYKzp8eNXBVr9mXti9hd/8Re3z/qsz7pT7clPfvL2uMc9bvvn//yf3/nfjj/u4PhU7b/9t/92+5Iv+ZLtbW9728mPNjgGtTfffPNJMHv89cAHPnD7nd/5nRvPF8x++MMfvuShD33ok5/3vOe9+/u+7/vedcfXvO9973vsC17wgiuPvf/X//pf7d37JNWC2SWs99Wm/gzT3hl+/JpAqzZ//JpAqzZ//JpAqBbMBryFpYLZhjvm54nZ08G2J2bLBA4t9eMLeWLnHG5+ZfoE203vDD4x+6u/+qvbZZdddqfb8We9HsPXH/iBH7jzv91www0nT9Vef/3123XXXbc97WlP2x784Aef/MiDP/gH/+BJIPtjP/Zj26tf/ert9ttvP28w+/a3v/3yP/SH/tA9/qyCd77zndull15a38NT9YLZ6aT35YZDO8T+PfVW8mvTzY9fE2jV5o9fE2jV5i/4CWYD3sLSsWDRE7Ong0VPzJbx9KFa9ARjTY8fvyrQ6s/cE7OjweyR9+u+7uvufHr2Du6/8Tf+xsk/GPbJgtkPfehDlz7sYQ970td//dff/OxnP/v9d9TdcgsViTQAACAASURBVMst195+++0POv6/j//I2IpfgtkVqvfZnv4M094afvyaQKs2f/yaQKs2f/yaQKgWzAa8haWC2YY75ueJ2dPBtidmywQOLfXjC3li5xxufmX6BNtNzxOz26d6YvYjH/nI9uxnP3v7d//u323HH3tw/HX82bRPfepTtw996EOfNJg9ft1TnvKURx9/7MHP/uzP/soDHvCAk9qbb775sbfeeuuV9Y27p3rB7Erd+1zvoR1i/556//i1kebHrwm0avPHrwm0avMX/ASzAW9h6Viw6InZ08GiJ2bLePpQLXqCsabHj18VaPWemP0UP8rg+PNnv/zLv3y79tprt2/91m/dbrnllu2lL33pdgxs3/GOd9xjMPu6173uyj/xJ/7Eo//wH/7DH/5Lf+kv/cYjH/nIj73nPe/5/F/8xV+84hjYfud3fmd79z5JtWB2Cet9tak/w7R3hh+/JtCqzR+/JtCqzR+/JhCqBbMBb2GpYLbhjvl5YvZ0sO2J2TKBQ0v9+EKe2DmHm1+ZPsF20/PE7Kd8YvYrv/Irt9e97nXbd3/3d2//+3//7+2aa67ZnvOc55w8NfviF7/4HoPZ45tz4403PuiFL3zhI2+44YbP/PCHP/yA4z889oQnPOGSr//6r9/+6B/9o/X9O2+9YHYJ63216dAOsX9PvY382mTz49cEWrX549cEWrX5C36C2YC3sHQsWPTE7Olg0ROzZTx9qBY9wVjT48evCrT6oSdmr7/++ms/8IEPPHTbtvn/YtUFfh9XXXXVyT/GdV/4ddlll91y9dVXv3nk9+JHGQjGRublAr7Wn2EuAOkevoQfvybQqs0fvybQqs0fvyYQqgWzAW9hqWC24Y75eWL2dLDtidkygUNL/fhCntg5h5tfmT7BdtMbfGL2+GJ7BIv1m9qrXjA7RXroM9D+EGxPmbq7mpi/BsqPXxNo1eaPXxNo1eYv+AlmA97C0rFg0ROzp4NFT8yW8fShWvQEY02PH78q0OqHnpgVzJ6LLZhtw/fxaju4MfLj1wRatfnj1wRatfnj1wRatfkLfoLZgLewVDDbcMf8PDF7Otj2xGyZwKGldHwhTzydw82vTJ9gu+l5Yjb5CWYT3x3FQ5+B9scpc35tDPnxawKt2vzxawKt2vzxawKhWjAb8BaWjgWLnpg9HSx6YraMp6VU9ARjTY8fvyrQ6j0xG/wEswHvrlI7uDHy49cEWrX549cEWrX549cEWrX5C36C2YC3sFQw23DH/DwxezrY9sRsmcChpXR8IU88ncPNr0yfYLvpeWI2+QlmE98dxUOfgfbHKXN+bQz58WsCrdr88WsCrdr88WsCoVowG/AWlo4Fi56YPR0semK2jKelVPQEY02PH78q0OrP98Tsyz/jMz7jmY9+9KPfcckll5zq7h//uovkvhjM3n777dv73//+7S1vecv2y7/8y2069qm2g5szP35NoFWbP35NoFWbP35NoFWbv+AnmA14C0sFsw13zM8Ts6eDbU/MlgkcWkrHF/LE0znc/Mr0Cbab3vmfmP2Wyy+//Fuuvvrq373mmmved/dwVjB73w1mj6HsLbfcsn3gAx/YfuVXfmV7+9vfXudjj/qhz0D749Rbwq9NKT9+TaBVmz9+TaBVmz9+TSBUC2YD3sLSsWDRE7Ong0VPzJbxtJSKnmCs6fHjVwVa/anPv7e85S1XfPCDH3zx5Zdf/jUPfOADH3TZZZed89jsxz72satuu+22B7SXvX9UX3rppb97+eWXf3Dku1np97u/+7vbRz7yke3Xfu3Xtje96U3bbbfdNvJbu1hfawc3eX78mkCrNn/8mkCrNn/8mkCrNn/BTzAb8BaWCmYb7pifJ2ZPB9uemC0TOLSUji/kiadzuPmV6RNsN71P4vfxcPa527Z94bZtn/mJL/Ke97zn6bfeeuvvqy98f6i/7LLLPvCIRzzi/xn5Xlb63Xrrrdtv/dZvbb/6q7/66RLKHumGPgPtj1PTxm/kAJ7+Wn78mkCrNn/8mkCrNn/8mkCoFswGvIWlY8GiJ2ZPB4uemC3jaSkVvcFLtWC2Xar58WvHlR+/yQK9nR3cDPnxawKt2vzxawKt2vzxawKt2vwFP8FswFtYKphtuGN+npg9HWx7YrZM4NBSEiwKxsqwnafW/DVQfvyaQK8emkFPzLYdwo9fP7LndHB+Gyg/fk2gVZs/fk0gVAtmA97C0rFg0ROzp4NFT8yW8bSUip4nZpseP35VoNUPff75i5UW6vA777AOzaBgsc0gP35tZfDjN1mgtbM/+DWBVm3+gp9gNuAtLBXMNtwxP0/Mng62PTFbJnBoKQkm2qWGH79yWM9T6/w2UH7N71g9ZChYbJ+B/Pj1I3tOB+e3gfLj1wRatfnj1wRCtWA24C0sHQsWPTF7Olj0xGwZT0up6A1eqgWL7VLIj187rvz4TRbo7ezgZsiPXxNo1eaPXxNo1eaPXxNo1eYv+AlmA97CUsFswx3z88Ts6WDbE7NlAoeWkmBRMFaG7Ty15q+B8uPXBHr10Ax64rPtEH78+pE9p4Pz20D58WsCrdr88WsCoVowG/AWlo4Fi56YPR0semK2jKelVPQ8Mdv0+PGrAq1+6PPPX6y0UIffeYd1aAYFi20G+fFrK4Mfv8kCrZ39wa8JtGrzF/wEswFvYalgtuGO+Xli9nSw7YnZMoFDS0kw0S41/PiVw3qeWue3gfJrfsfqIUPBYvsM5MevH9lzOji/DZQfvybQqs0fvyYQqgWzAW9h6Viw6InZ08GiJ2bLeFpKRW/wUi1YbJdCfvzaceXHb7JAb2cHN0N+/JpAqzZ//JpAqzZ//JpAqzZ/wU8wG/AWlgpmG+6YnydmTwfbnpgtEzi0lASLgrEybOepNX8NlB+/JtCrh2bQE59th/Dj14/sOR2c3wbKj18TaNXmj18TCNWC2YC3sHQsWPTE7Olg0ROzZTwtpaLnidmmx49fFWj1Q59//mKlhTr8zjusQzMoWGwzyI9fWxn8+E0WaO3sD35NoFWbv+AnmA14C0sFsw13zM8Ts6eDbU/MlgkcWkqCiXap4cevHNbz1Dq/DZRf8ztWDxkKFttnID9+/cie08H5baD8+DWBVm3++DWBUC2YDXgLS8eCRU/Mng4WPTFbxtNSKnqDl2rBYrsU8uPXjis/fpMFejs7uBny49cEWrX549cEWrX549cEWrX5C36C2YC3sFQw23DH/DwxezrY9sRsmcChpSRYFIyVYTtPrflroPz4NYFePTSDnvhsO4Qfv35kz+ng/DZQfvyaQKs2f/yaQKi+LwWzN4bv4/5WetNhOzzrQr+pw3Z41bZtj7nQrz8DXzfmd+B3t5m46XAYmD9+dz9SQ34fD2ad4bsU+bUPaX78mkCrNn/N71g9ZHiwg9MO5ndqYM1fO8P8+DWBVm3++DWBVm3+gt9h4MG4T/Yyl4TXV0qAAAECBAgQIECAAAECBAgQIECAAAEC90JAMHsv0JQQIECAAAECBAgQIECAAAECBAgQIECgCAhmi55aAgQIECBAgAABAgQIECBAgAABAgQI3AsBwey9QFNCgAABAgQIECBAgAABAgQIECBAgACBIiCYLXpqCRAgQIAAAQIECBAgQIAAAQIECBAgcC8EBLP3Ak0JAQIECBAgQIAAAQIECBAgQIAAAQIEioBgtuipJUCAAAECBAgQIECAAAECBAgQIECAwL0QEMzeCzQlBAgQIECAAAECBAgQIECAAAECBAgQKAKC2aKnlgABAgQIECBAgAABAgQIECBAgAABAvdCQDB7L9CUECBAgAABAgQIECBAgAABAgQIECBAoAgIZoueWgIECBAgQIAAAQIECBAgQIAAAQIECNwLgSnB7GE73HgvXvv+WnLTYTs860K/ucN2eNW2bY+50K8/A1/Hr73JY34H83c37psOhws/v8faA8NPJORXz6/5K4Lmr+htG7/md6weMrQ/ToHzazPIj18TaNXmj18TaNXmj18TCNWHw+G6UH5SOiuYvb3+Ru5H9W88bBf+xnw81H7y/ej7r98KvyY45nc4+UsV83eX+RtHP1gPDD9xYvnV8zu42M3fOeDmz/w1gV49NIPO7ylwfm0G+fFrAq3a/PFrAq3a/PFrAqH6cDjkXDU3OP7+D9tBMPuJwY5gNoz1NhYs/t7T2oLFezt/QsW7z+rQUj/5/GMomC2feOfWmr9myY9fE+jVQzNofwhm+8jd+7+cMn/mz/xNFmjt7A9+TaBVm7/gJ5gNeAtLBYsNl9+efkJFwWybN3785gq0bkN/qPQXKy2U4HfeYR2aQcFYm0F+/NrK4MdvskBrZ3/wawKt2vwFP8FswFtYKlhsuPz29BPMChbbvPHjN1egdRv6Q6VgsYUS/ASz7bjy47dAoLUc2iH+YqDtEH782nHlx2+yQGgnmA14C0sFiw2X355+glnBYps3fvzmCrRuQ5dqwWK71PATLLbjyo/fAoHWcmiHCBbbDuHHrx1XfvwmC4R2gtmAt7BUsNhw+e3pJ5gVLLZ548dvrkDrNnSpFiy2Sw0/wWI7rvz4LRBoLYd2iGCx7RB+/Npx5cdvskBoJ5gNeAtLBYsNl9+efoJZwWKbN3785gq0bkOXasFiu9TwEyy248qP3wKB1nJohwgW2w7hx68dV378JguEdoLZgLewVLDYcPnt6SeYFSy2eePHb65A6zZ0qRYstksNP8FiO678+C0QaC2Hdohgse0QfvzaceXHb7JAaCeYDXgLSwWLDZffnn6CWcFimzd+/OYKtG5Dl2rBYrvU8BMstuPKj98CgdZyaIcIFtsO4cevHVd+/CYLhHaC2YC3sFSw2HD57eknmBUstnnjx2+uQOs2dKkWLLZLDT/BYjuu/PgtEGgth3aIYLHtEH782nHlx2+yQGgnmA14C0sFiw2X355+glnBYps3fvzmCrRuQ5dqwWK71PATLLbjyo/fAoHWcmiHCBbbDuHHrx1XfvwmC4R2gtmAt7BUsNhw+e3pJ5gVLLZ548dvrkDrNnSpFiy2Sw0/wWI7rvz4LRBoLYd2iGCx7RB+/Npx5cdvskBoJ5gNeAtLBYsNl9+efoJZwWKbN3785gq0bkOXasFiu9TwEyy248qP3wKB1nJohwgW2w7hx68dV378JguEdoLZgLewVLDYcPnt6SeYFSy2eePHb65A6zZ0qRYstksNP8FiO678+C0QaC2Hdohgse0QfvzaceXHb7JAaCeYDXgLSwWLDZffnn6CWcFimzd+/OYKtG5Dl2rBYrvU8BMstuPKj98CgdZyaIcIFtsO4cevHVd+/CYLhHaC2YC3sFSw2HD57eknmBUstnnjx2+uQOs2dKkWLLZLDT/BYjuu/PgtEGgth3aIYLHtEH782nHlx2+yQGgnmA14C0sFiw2X355+glnBYps3fvzmCrRuQ5dqwWK71PATLLbjyo/fAoHWcmiHCBbbDuHHrx1XfvwmC4R2gtmAt7BUsNhw+e3pJ5gVLLZ548dvrkDrNnSpFiy2Sw0/wWI7rvz4LRBoLYd2iGCx7RB+/Npx5cdvskBoJ5gNeAtLBYsNl9+efoJZwWKbN3785gq0bkOXasFiu9TwEyy248qP3wKB1nJohwgW2w7hx68dV378JguEdoLZgLewVLDYcPnt6SeYFSy2eePHb65A6zZ0qRYstksNP8FiO678+C0QaC2Hdohgse0QfvzaceXHb7JAaCeYDXgLSwWLDZffnn6CWcFimzd+/OYKtG5Dl2rBYrvU8BMstuPKj98CgdZyaIcIFtsO4cevHVd+/CYLhHaC2YC3sFSw2HD57eknmBUstnnjx2+uQOs2dKkWLLZLDT/BYjuu/PgtEGgth3aIYLHtEH782nHlx2+yQGgnmA14C0sFiw2X355+glnBYps3fvzmCrRuQ5dqwWK71PATLLbjyo/fAoHWcmiHCBbbDuHHrx1XfvwmC4R2gtmAt7BUsNhw+e3pJ5gVLLZ548dvrkDrNnSpFiy2Sw0/wWI7rvz4LRBoLYd2iGCx7RB+/Npx5cdvskBoJ5gNeAtLBYsNl9+efoJZwWKbN3785gq0bkOXasFiu9TwEyy248qP3wKB1nJohwgW2w7hx68dV378JguEdoLZgLewVLDYcPnt6SeYFSy2eePHb65A6zZ0qRYstksNP8FiO678+C0QaC2Hdohgse0QfvzaceXHb7JAaCeYDXgLSwWLDZffnn6CWcFimzd+/OYKtG5Dl2rBYrvU8BMstuPKj98CgdZyaIcIFtsO4cevHVd+/CYLhHaC2YC3sFSw2HD57eknmBUstnnjx2+uQOs2dKkWLLZLDT/BYjuu/PgtEGgth3aIYLHtEH782nHlx2+yQGgnmA14C0sFiw2X355+glnBYps3fvzmCrRuQ5dqwWK71PATLLbjyo/fAoHWcmiHCBbbDuHHrx1XfvwmC4R2gtmAt7BUsNhw+e3pJ5gVLLZ548dvrkDrNnSpFiy2Sw0/wWI7rvz4LRBoLYd2iGCx7RB+/Npx5cdvskBoJ5gNeAtLBYsNl9+efoJZwWKbN3785gq0bkOXasFiu9TwEyy248qP3wKB1nJohwgW2w7hx68dV378JguEdoLZgLewVLDYcPnt6SeYFSy2eePHb65A6zZ0qRYstksNP8FiO678+C0QaC2Hdohgse0QfvzaceXHb7JAaCeYDXgLSwWLDZffnn6CWcFimzd+/OYKtG5Dl2rBYrvU8BMstuPKj98CgdZyaIcIFtsO4cevHVd+/CYLhHaC2YC3sFSw2HD57eknmBUstnnjx2+uQOs2dKkWLLZLDT/BYjuu/PgtEGgth3aIYLHtEH782nHlx2+yQGgnmA14C0sFiw2X355+glnBYps3fvzmCrRuQ5dqwWK71PATLLbjyo/fAoHWcmiHCBbbDuHHrx1XfvwmC4R2gtmAt7BUsNhw+e3pJ5gVLLZ548dvrkDrNnSpFiy2Sw0/wWI7rvz4LRBoLYd2iGCx7RB+/Npx5cdvskBoJ5gNeAtLBYsNl9+efoJZwWKbN3785gq0bkOXasFiu9TwEyy248qP3wKB1nJohwgW2w7hx68dV378JguEdoLZgLewVLDYcPnt6SeYFSy2eePHb65A6zZ0qRYstksNP8FiO678+C0QaC2Hdohgse0QfvzaceXHb7JAaCeYDXgLSwWLDZffnn6CWcFimzd+/OYKtG5Dl2rBYrvU8BMstuPKj98CgdZyaIcIFtsO4cevHVd+/CYLhHaC2YC3sFSw2HD57eknmBUstnnjx2+uQOs2dKkWLLZLDT/BYjuu/PgtEGgth3aIYLHtEH782nHlx2+yQGgnmA14C0sFiw2X355+glnBYps3fvzmCrRuQ5dqwWK71PATLLbjyo/fAoHWcmiHCBbbDuHHrx1XfvwmC4R2gtmAt7BUsNhw+e3pJ5gVLLZ548dvrkDrNnSpFiy2Sw0/wWI7rvz4LRBoLYd2iGCx7RB+/Npx5cdvskBoJ5gNeAtLBYsNl9+efoJZwWKbN3785gq0bkOXasFiu9TwEyy248qP3wKB1nJohwgW2w7hx68dV378JguEdoLZgLewVLDYcPnt6SeYFSy2eePHb65A6zZ0qRYstksNP8FiO678+C0QaC2Hdohgse0QfvzaceXHb7JAaCeYDXgLSwWLDZffnn6CWcFimzd+/OYKtG5Dl2rBYrvU8BMstuPKj98CgdZyaIcIFtsO4cevHVd+/CYLhHaC2YC3sFSw2HD57eknmBUstnnjx2+uQOs2dKkWLLZLDT/BYjuu/PgtEGgth3aIYLHtEH782nHlx2+yQGgnmA14C0sFiw2X355+glnBYps3fvzmCrRuQ5dqwWK71PATLLbjyo/fAoHWcmiHCBbbDuHHrx1XfvwmC4R2gtmAt7BUsNhw+e3pJ5gVLLZ548dvrkDrNnSpFiy2Sw0/wWI7rvz4LRBoLYd2iGCx7RB+/Npx5cdvskBoJ5gNeAtLBYsNl9+efoJZwWKbN3785gq0bkOXasFiu9TwEyy248qP3wKB1nJohwgW2w7hx68dV378JguEdoLZgLewVLDYcPnt6SeYFSy2eePHb65A6zZ0qRYstksNP8FiO678+C0QaC2Hdohgse0QfvzaceXHb7JAaCeYDXgLSwWLDZffnn6CWcFimzd+/OYKtG5Dl2rBYrvU8BMstuPKj98CgdZyaIcIFtsO4cevHVd+/CYLhHaC2YC3sFSw2HD57eknmBUstnnjx2+uQOs2dKkWLLZLDT/BYjuu/PgtEGgth3aIYLHtEH782nHlx2+yQGgnmA14C0sFiw2X355+glnBYps3fvzmCrRuQ5dqwWK71PATLLbjyo/fAoHWcmiHCBbbDuHHrx1XfvwmC4R2gtmAt7BUsNhw+e3pJ5gVLLZ548dvrkDrNnSpFiy2Sw0/wWI7rvz4LRBoLYd2iGCx7RB+/Npx5cdvskBoJ5gNeAtLBYsNl9+efoJZwWKbN3785gq0bkOXasFiu9TwEyy248qP3wKB1nJohwgW2w7hx68dV378JguEdoLZgLewVLDYcPnt6SeYFSy2eePHb65A6zZ0qRYstksNP8FiO678+C0QaC2Hdohgse0QfvzaceXHb7JAaCeYDXgLSwWLDZffnn6CWcFimzd+/OYKtG5Dl2rBYrvU8BMstuPKj98CgdZyaIcIFtsO4cevHVd+/CYLhHaC2YC3sFSw2HD57eknmBUstnnjx2+uQOs2dKkWLLZLDT/BYjuu/PgtEGgth3aIYLHtEH782nHlx2+yQGgnmA14C0sFiw2X355+glnBYps3fvzmCrRuQ5dqwWK71PATLLbjyo/fAoHWcmiHCBbbDuHHrx1XfvwmC4R2gtmAt7BUsNhw+e3pJ5gVLLZ548dvrkDrNnSpFiy2Sw0/wWI7rvz4LRBoLYd2iGCx7RB+/Npx5cdvskBoJ5gNeAtLBYsNl9+efoJZwWKbN3785gq0bkOXasFiu9TwEyy248qP3wKB1nJohwgW2w7hx68dV378JguEdoLZgLewVLDYcPnt6SeYFSy2eePHb65A6zZ0qRYstksNP8FiO678+C0QaC2Hdohgse0QfvzaceXHb7JAaCeYDXgLSwWLDZffnn6CWcFimzd+/OYKtG5Dl2rBYrvU8BMstuPKj98CgdZyaIcIFtsO4cevHVd+/CYLhHaC2YC3sFSw2HD57eknmBUstnnjx2+uQOs2dKkWLLZLDT/BYjuu/PgtEGgth3aIYLHtEH782nHlx2+yQGgnmA14C0sFiw2X355+glnBYps3fvzmCrRuQ5dqwWK71PATLLbjyo/fAoHWcmiHCBbbDuHHrx1XfvwmC4R2gtmAt7BUsNhw+e3pJ5gVLLZ548dvrkDrNnSpFiy2Sw0/wWI7rvz4LRBoLYd2iGCx7RB+/Npx5cdvskBoJ5gNeAtLBYsNl9+efoJZwWKbN3785gq0bkOXasFiu9TwEyy248qP3wKB1nJohwgW2w7hx68dV378JguEdvelYPbG8H3c30pvOmyHZ13oN3XYDq/atu0xF/r1Z+Dr+LU3eczvYP7uxn3T4XDh5/fjwYQzfBciv3p+zV8RNH9Fb9v4Nb9j9ZDhwQ6+uzi/NoP8+DWBVm3++DWBVm3++DWBUH04HK4L5Sell9QG6gkQIECAAAECBAgQIECAAAECBAgQIEBgTEAwO+blqwkQIECAAAECBAgQIECAAAECBAgQIJAFBLOZUAMCBAgQIECAAAECBAgQIECAAAECBAiMCQhmx7x8NQECBAgQIECAAAECBAgQIECAAAECBLKAYDYTakCAAAECBAgQIECAAAECBAgQIECAAIExAcHsmJevJkCAAAECBAgQIECAAAECBAgQIECAQBYQzGZCDQgQIECAAAECBAgQIECAAAECBAgQIDAmIJgd8/LVBAgQIECAAAECBAgQIECAAAECBAgQyAKC2UyoAQECBAgQIECAAAECBAgQIECAAAECBMYEBLNjXr6aAAECBAgQIECAAAECBAgQIECAAAECWUAwmwk1IECAAAECBAgQIECAAAECBAgQIECAwJjAlGD2sB1uHHvZ+/VX33TYDs+60O/wsB1etW3bYy7068/A1/Frb/KY38H83Y37psPhws/vsfbA8BMJ+dXza/6KoPkretvGr/kdq4cM7Y9T4PzaDPLj1wRatfnj1wRatfnj1wRC9eFwuC6Un5TOCmZvr7+R+1H9Gw/bhb8xHw+1n3w/+v7rt8KvCY75HU7+UsX83WX+xtEP1gPDT5xYfvX8Di5283cOuPkzf02gVw/NoPN7Cpxfm0F+/JpAqzZ//JpAqzZ//JpAqD4cDjlXzQ2Ov//DdhDMfmKwI5gNY72NBYu/97S2YPHezp9Q8e6zOrTUTz7/GApmyyfeubXmr1ny49cEevXQDNofgtk+cvf+L6fMn/kzf5MFWjv7g18TaNXmL/gJZgPewlLBYsPlt6efUFEw2+aNH7+5Aq3b0B8q/cVKCyX4nXdYh2ZQMNZmkB+/tjL48Zss0NrZH/yaQKs2f8FPMBvwFpYKFhsuvz39BLOCxTZv/PjNFWjdhv5QKVhsoQQ/wWw7rvz4LRBoLYd2iL8YaDuEH792XPnxmywQ2glmA97CUsFiw+W3p59gVrDY5o0fv7kCrdvQpVqw2C41/ASL7bjy47dAoLUc2iGCxbZD+PFrx5Ufv8kCoZ1gNuAtLBUsNlx+e/oJZgWLbd748Zsr0LoNXaoFi+1Sw0+w2I4rP34LBFrLoR0iWGw7hB+/dlz58ZssENoJZgPewlLBYsPlt6efYFaw2OaNH7+5Aq3b0KVasNguNfwEi+248uO3QKC1HNohgsW2Q/jxa8eVH7/JAqGdYDbgLSwVLDZcfnv6CWYFi23e+PGbK9C6DV2qBYvtUsNPsNiOKz9+CwRay6EdIlhsO4Qfv3Zc+fGbLi9buwAAIABJREFULBDaCWYD3sJSwWLD5benn2BWsNjmjR+/uQKt29ClWrDYLjX8BIvtuPLjt0CgtRzaIYLFtkP48WvHlR+/yQKhnWA24C0sFSw2XH57+glmBYtt3vjxmyvQug1dqgWL7VLDT7DYjis/fgsEWsuhHSJYbDuEH792XPnxmywQ2glmA97CUsFiw+W3p59gVrDY5o0fv7kCrdvQpVqw2C41/ASL7bjy47dAoLUc2iGCxbZD+PFrx5Ufv8kCoZ1gNuAtLBUsNlx+e/oJZgWLbd748Zsr0LoNXaoFi+1Sw0+w2I4rP34LBFrLoR0iWGw7hB+/dlz58ZssENoJZgPewlLBYsPlt6efYFaw2OaNH7+5Aq3b0KVasNguNfwEi+248uO3QKC1HNohgsW2Q/jxa8eVH7/JAqGdYDbgLSwVLDZcfnv6CWYFi23e+PGbK9C6DV2qBYvtUsNPsNiOKz9+CwRay6EdIlhsO4Qfv3Zc+fGbLBDaCWYD3sJSwWLD5benn2BWsNjmjR+/uQKt29ClWrDYLjX8BIvtuPLjt0CgtRzaIYLFtkP48WvHlR+/yQKhnWA24C0sFSw2XH57+glmBYtt3vjxmyvQug1dqgWL7VLDT7DYjis/fgsEWsuhHSJYbDuEH792XPnxmywQ2glmA97CUsFiw+W3p59gVrDY5o0fv7kCrdvQpVqw2C41/ASL7bjy47dAoLUc2iGCxbZD+PFrx5Ufv8kCoZ1gNuAtLBUsNlx+e/oJZgWLbd748Zsr0LoNXaoFi+1Sw0+w2I4rP34LBFrLoR0iWGw7hB+/dlz58ZssENoJZgPewlLBYsPlt6efYFaw2OaNH7+5Aq3b0KVasNguNfwEi+248uO3QKC1HNohgsW2Q/jxa8eVH7/JAqGdYDbgLSwVLDZcfnv6CWYFi23e+PGbK9C6DV2qBYvtUsNPsNiOKz9+CwRay6EdIlhsO4Qfv3Zc+fGbLBDaCWYD3sJSwWLD5benn2BWsNjmjR+/uQKt29ClWrDYLjX8BIvtuPLjt0CgtRzaIYLFtkP48WvHlR+/yQKhnWA24C0sFSw2XH57+glmBYtt3vjxmyvQug1dqgWL7VLDT7DYjis/fgsEWsuhHSJYbDuEH792XPnxmywQ2glmA97CUsFiw+W3p59gVrDY5o0fv7kCrdvQpVqw2C41/ASL7bjy47dAoLUc2iGCxbZD+PFrx5Ufv8kCoZ1gNuAtLBUsNlx+e/oJZgWLbd748Zsr0LoNXaoFi+1Sw0+w2I4rP34LBFrLoR0iWGw7hB+/dlz58ZssENoJZgPewlLBYsPlt6efYFaw2OaNH7+5Aq3b0KVasNguNfwEi+248uO3QKC1HNohgsW2Q/jxa8eVH7/JAqGdYDbgLSwVLDZcfnv6CWYFi23e+PGbK9C6DV2qBYvtUsNPsNiOKz9+CwRay6EdIlhsO4Qfv3Zc+fGbLBDaCWYD3sJSwWLD5benn2BWsNjmjR+/uQKt29ClWrDYLjX8BIvtuPLjt0CgtRzaIYLFtkP48WvHlR+/yQKhnWA24C0sFSw2XH57+glmBYtt3vjxmyvQug1dqgWL7VLDT7DYjis/fgsEWsuhHSJYbDuEH792XPnxmywQ2glmA97CUsFiw+W3p59gVrDY5o0fv7kCrdvQpVqw2C41/ASL7bjy47dAoLUc2iGCxbZD+PFrx5Ufv8kCoZ1gNuAtLBUsNlx+e/oJZgWLbd748Zsr0LoNXaoFi+1Sw0+w2I4rP34LBFrLoR0iWGw7hB+/dlz58ZssENoJZgPewlLBYsPlt6efYFaw2OaNH7+5Aq3b0KVasNguNfwEi+248uO3QKC1HNohgsW2Q/jxa8eVH7/JAqGdYDbgLSwVLDZcfnv6CWYFi23e+PGbK9C6DV2qBYvtUsNPsNiOKz9+CwRay6EdIlhsO4Qfv3Zc+fGbLBDaCWYD3sJSwWLD5benn2BWsNjmjR+/uQKt29ClWrDYLjX8BIvtuPLjt0CgtRzaIYLFtkP48WvHlR+/yQKhnWA24C0sFSw2XH57+glmBYtt3vjxmyvQug1dqgWL7VLDT7DYjis/fgsEWsuhHSJYbDuEH792XPnxmywQ2glmA97CUsFiw+W3p59gVrDY5o0fv7kCrdvQpVqw2C41/ASL7bjy47dAoLUc2iGCxbZD+PFrx5Ufv8kCoZ1gNuAtLBUsNlx+e/oJZgWLbd748Zsr0LoNXaoFi+1Sw0+w2I4rP34LBFrLoR0iWGw7hB+/dlz58ZssENoJZgPewlLBYsPlt6efYFaw2OaNH7+5Aq3b0KVasNguNfwEi+248uO3QKC1HNohgsW2Q/jxa8eVH7/JAqGdYDbgLSwVLDZcfnv6CWYFi23e+PGbK9C6DV2qBYvtUsNPsNiOKz9+CwRay6EdIlhsO4Qfv3Zc+fGbLBDaCWYD3sJSwWLD5benn2BWsNjmjR+/uQKt29ClWrDYLjX8BIvtuPLjt0CgtRzaIYLFtkP48WvHlR+/yQKhnWA24C0sFSw2XH57+glmBYtt3vjxmyvQug1dqgWL7VLDT7DYjis/fgsEWsuhHSJYbDuEH792XPnxmywQ2glmA97CUsFiw+W3p59gVrDY5o0fv7kCrdvQpVqw2C41/ASL7bjy47dAoLUc2iGCxbZD+PFrx5Ufv8kCoZ1gNuAtLBUsNlx+e/oJZgWLbd748Zsr0LoNXaoFi+1Sw0+w2I4rP34LBFrLoR0iWGw7hB+/dlz58ZssENoJZgPewlLBYsPlt6efYFaw2OaNH7+5Aq3b0KVasNguNfwEi+248uO3QKC1HNohgsW2Q/jxa8eVH7/JAqGdYDbgLSwVLDZcfnv6CWYFi23e+PGbK9C6DV2qBYvtUsNPsNiOKz9+CwRay6EdIlhsO4Qfv3Zc+fGbLBDaCWYD3sJSwWLD5benn2BWsNjmjR+/uQKt29ClWrDYLjX8BIvtuPLjt0CgtRzaIYLFtkP48WvHlR+/yQKhnWA24C0sFSw2XH57+glmBYtt3vjxmyvQug1dqgWL7VLDT7DYjis/fgsEWsuhHSJYbDuEH792XPnxmywQ2glmA97CUsFiw+W3p59gVrDY5o0fv7kCrdvQpVqw2C41/ASL7bjy47dAoLUc2iGCxbZD+PFrx5Ufv8kCoZ1gNuAtLBUsNlx+e/oJZgWLbd748Zsr0LoNXaoFi+1Sw0+w2I4rP34LBFrLoR0iWGw7hB+/dlz58ZssENoJZgPewlLBYsPlt6efYFaw2OaNH7+5Aq3b0KVasNguNfwEi+248uO3QKC1HNohgsW2Q/jxa8eVH7/JAqGdYDbgLSwVLDZcfnv6CWYFi23e+PGbK9C6DV2qBYvtUsNPsNiOKz9+CwRay6EdIlhsO4Qfv3Zc+fGbLBDaCWYD3sJSwWLD5benn2BWsNjmjR+/uQKt29ClWrDYLjX8BIvtuPLjt0CgtRzaIYLFtkP48WvHlR+/yQKhnWA24C0sFSw2XH57+glmBYtt3vjxmyvQug1dqgWL7VLDT7DYjis/fgsEWsuhHSJYbDuEH792XPnxmywQ2glmA97CUsFiw+W3p59gVrDY5o0fv7kCrdvQpVqw2C41/ASL7bjy47dAoLUc2iGCxbZD+PFrx5Ufv8kCoZ1gNuAtLBUsNlx+e/oJZgWLbd748Zsr0LoNXaoFi+1Sw0+w2I4rP34LBFrLoR0iWGw7hB+/dlz58ZssENoJZgPewlLBYsPlt6efYFaw2OaNH7+5Aq3b0KVasNguNfwEi+248uO3QKC1HNohgsW2Q/jxa8eVH7/JAqGdYDbgLSwVLDZcfnv6CWYFi23e+PGbK9C6DV2qBYvtUsNPsNiOKz9+CwRay6EdIlhsO4Qfv3Zc+fGbLBDaCWYD3sJSwWLD5benn2BWsNjmjR+/uQKt29ClWrDYLjX8BIvtuPLjt0CgtRzaIYLFtkP48WvHlR+/yQKhnWA24C0sFSw2XH57+glmBYtt3vjxmyvQug1dqgWL7VLDT7DYjis/fgsEWsuhHSJYbDuEH792XPnxmywQ2glmA97CUsFiw+W3p59gVrDY5o0fv7kCrdvQpVqw2C41/ASL7bjy47dAoLUc2iGCxbZD+PFrx5Ufv8kCoZ1gNuAtLBUsNlx+e/oJZgWLbd748Zsr0LoNXaoFi+1Sw0+w2I4rP34LBFrLoR0iWGw7hB+/dlz58ZssENoJZgPewlLBYsPlt6efYFaw2OaNH7+5Aq3b0KVasNguNfwEi+248uO3QKC1HNohgsW2Q/jxa8eVH7/JAqGdYDbgLSwVLDZcfnv6CWYFi23e+PGbK9C6DV2qBYvtUsNPsNiOKz9+CwRay6EdIlhsO4Qfv3Zc+fGbLBDaCWYD3sJSwWLD5benn2BWsNjmjR+/uQKt29ClWrDYLjX8BIvtuPLjt0CgtRzaIYLFtkP48WvHlR+/yQKhnWA24C0sFSw2XH57+glmBYtt3vjxmyvQug1dqgWL7VLDT7DYjis/fgsEWsuhHSJYbDuEH792XPnxmywQ2glmA97CUsFiw+W3p59gVrDY5o0fv7kCrdvQpVqw2C41/ASL7bjy47dAoLUc2iGCxbZD+PFrx5Ufv8kCoZ1gNuAtLBUsNlx+e/oJZgWLbd748Zsr0LoNXaoFi+1Sw0+w2I4rP34LBFrLoR0iWGw7hB+/dlz58ZssENoJZgPewlLBYsPlt6efYFaw2OaNH7+5Aq3b0KVasNguNfwEi+248uO3QKC1HNohgsW2Q/jxa8eVH7/JAqHdfSmYvTF8H/e30psO2+FZF/pNHbbDq7Zte8yFfv0Z+Dp+7U0e8zuYv7tx33Q4XPj5/Xgw4Qzfhcivnl/zVwTNX9HbNn7N71g9ZHiwg+8uzq/NID9+TaBVmz9+TaBVmz9+TSBUHw6H60L5SekltYF6AgQIECBAgAABAgQIECBAgAABAgQIEBgTEMyOeflqAgQIECBAgAABAgQIECBAgAABAgQIZAHBbCbUgAABAgQIECBAgAABAgQIECBAgAABAmMCgtkxL19NgAABAgQIECBAgAABAgQIECBAgACBLCCYzYQaECBAgAABAgQIECBAgAABAgQIECBAYExAMDvm5asJECBAgAABAgQIECBAgAABAgQIECCQBQSzmVADAgQIECBAgAABAgQIECBAgAABAgQIjAkIZse8fDUBAgQIECBAgAABAgQIECBAgAABAgSygGA2E2pAgAABAgQIECBAgAABAgQIECBAgACBMQHB7JiXryZAgAABAgQIECBAgAABAgQIECBAgEAWEMxmQg0IECBAgAABAgQIECBAgAABAgQIECAwJjAlmD1shxvHXvZ+/dU3HbbDsy70Ozxsh1dt2/aYC/36M/B1/NqbPOZ3MH93477pcLjw83usPTD8REJ+9fyavyJo/oretvFrfsfqIUP74xQ4vzaD/Pg1gVZt/vg1gVZt/vg1gVB9OByuC+UnpbOC2dvrb+R+VP/Gw3bhb8zHQ+0n34++//qt8GuCY36Hk79UMX93mb9x9IP1wPATJ5ZfPb+Di938nQNu/sxfE+jVQzPo/J4C59dmkB+/JtCqzR+/JtCqzR+/JhCqD4dDzlVzg+Pv/7AdBLOfGOwIZsNYb2PB4u89rS1YvLfzJ1S8+6wOLfWTzz+GgtnyiXdurflrlvz4NYFePTSD9odgto/cvf/LKfNn/szfZIHWzv7g1wRatfkLfoLZgLewVLDYcPnt6SdUFMy2eePHb65A6zb0h0p/sdJCCX7nHdahGRSMtRnkx6+tDH78Jgu0dvYHvybQqs1f8BPMBryFpYLFhstvTz/BrGCxzRs/fnMFWrehP1QKFlsowU8w244rP34LBFrLoR3iLwbaDuHHrx1XfvwmC4R2gtmAt7BUsNhw+e3pJ5gVLLZ548dvrkDrNnSpFiy2Sw0/wWI7rvz4LRBoLYd2iGCx7RB+/Npx5cdvskBoJ5gNeAtLBYsNl9+efoJZwWKbN3785gq0bkOXasFiu9TwEyy248qP3wKB1nJohwgW2w7hx68dV378JguEdoLZgLewVLDYcPnt6SeYFSy2eePHb65A6zZ0qRYstksNP8FiO678+C0QaC2Hdohgse0QfvzaceXHb7JAaCeYDXgLSwWLDZffnn6CWcFimzd+/OYKtG5Dl2rBYrvU8BMstuPKj98CgdZyaIcIFtsO4cevHVd+/CYLhHaC2YC3sFSw2HD57eknmBUstnnjx2+uQOs2dKkWLLZLDT/BYjuu/PgtEGgth3aIYLHtEH782nHlx2+yQGgnmA14C0sFiw2X355+glnBYps3fvzmCrRuQ5dqwWK71PATLLbjyo/fAoHWcmiHCBbbDuHHrx1XfvwmC4R2gtmAt7BUsNhw+e3pJ5gVLLZ548dvrkDrNnSpFiy2Sw0/wWI7rvz4LRBoLYd2iGCx7RB+/Npx5cdvskBoJ5gNeAtLBYsNl9+efoJZwWKbN3785gq0bkOXasFiu9TwEyy248qP3wKB1nJohwgW2w7hx68dV378JguEdoLZgLewVLDYcPnt6SeYFSy2eePHb65A6zZ0qRYstksNP8FiO678+C0QaC2Hdohgse0QfvzaceXHb7JAaCeYDXgLSwWLDZffnn6CWcFimzd+/OYKtG5Dl2rBYrvU8BMstuPKj98CgdZyaIcIFtsO4cevHVd+/CYLhHaC2YC3sFSw2HD57eknmBUstnnjx2+uQOs2dKkWLLZLDT/BYjuu/PgtEGgth3aIYLHtEH782nHlx2+yQGgnmA14C0sFiw2X355+glnBYps3fvzmCrRuQ5dqwWK71PATLLbjyo/fAoHWcmiHCBbbDuHHrx1XfvwmC4R2gtmAt7BUsNhw+e3pJ5gVLLZ548dvrkDrNnSpFiy2Sw0/wWI7rvz4LRBoLYd2iGCx7RB+/Npx5cdvskBoJ5gNeAtLBYsNl9+efoJZwWKbN3785gq0bkOXasFiu9TwEyy248qP3wKB1nJohwgW2w7hx68dV378JguEdoLZgLewVLDYcPnt6SeYFSy2eePHb65A6zZ0qRYstksNP8FiO678+C0QaC2Hdohgse0QfvzaceXHb7JAaCeYDXgLSwWLDZffnn6CWcFimzd+/OYKtG5Dl2rBYrvU8BMstuPKj98CgdZyaIcIFtsO4cevHVd+/CYLhHaC2YC3sFSw2HD57eknmBUstnnjx2+uQOs2dKkWLLZLDT/BYjuu/PgtEGgth3aIYLHtEH782nHlx2+yQGgnmA14C0sFiw2X355+glnBYps3fvzmCrRuQ5dqwWK71PATLLbjyo/fAoHWcmiHCBbbDuHHrx1XfvwmC4R2gtmAt7BUsNhw+e3pJ5gVLLZ548dvrkDrNnSpFiy2Sw0/wWI7rvz4LRBoLYd2iGCx7RB+/Npx5cdvskBoJ5gNeAtLBYsNl9+efoJZwWKbN3785gq0bkOXasFiu9TwEyy248qP3wKB1nJohwgW2w7hx68dV378JguEdoLZgLewVLDYcPnt6SeYFSy2eePHb65A6zZ0qRYstksNP8FiO678+C0QaC2Hdohgse0QfvzaceXHb7JAaCeYDXgLSwWLDZffnn6CWcFimzd+/OYKtG5Dl2rBYrvU8BMstuPKj98CgdZyaIcIFtsO4cevHVd+/CYLhHaC2YC3sFSw2HD57eknmBUstnnjx2+uQOs2dKkWLLZLDT/BYjuu/PgtEGgth3aIYLHtEH782nHlx2+yQGgnmA14C0sFiw2X355+glnBYps3fvzmCrRuQ5dqwWK71PATLLbjyo/fAoHWcmiHCBbbDuHHrx1XfvwmC4R2gtmAt7BUsNhw+e3pJ5gVLLZ548dvrkDrNnSpFiy2Sw0/wWI7rvz4LRBoLYd2iGCx7RB+/Npx5cdvskBoJ5gNeAtLBYsNl9+efoJZwWKbN3785gq0bkOXasFiu9TwEyy248qP3wKB1nJohwgW2w7hx68dV378JguEdoLZgLewVLDYcPnt6SeYFSy2eePHb65A6zZ0qRYstksNP8FiO678+C0QaC2Hdohgse0QfvzaceXHb7JAaCeYDXgLSwWLDZffnn6CWcFimzd+/OYKtG5Dl2rBYrvU8BMstuPKj98CgdZyaIcIFtsO4cevHVd+/CYLhHaC2YC3sFSw2HD57eknmBUstnnjx2+uQOs2dKkWLLZLDT/BYjuu/PgtEGgth3aIYLHtEH782nHlx2+yQGgnmA14C0sFiw2X355+glnBYps3fvzmCrRuQ5dqwWK71PATLLbjyo/fAoHWcmiHCBbbDuHHrx1XfvwmC4R2gtmAt7BUsNhw+e3pJ5gVLLZ548dvrkDrNnSpFiy2Sw0/wWI7rvz4LRBoLYd2iGCx7RB+/Npx5cdvskBoJ5gNeAtLBYsNl9+efoJZwWKbN3785gq0bkOXasFiu9TwEyy248qP3wKB1nJohwgW2w7hx68dV378JguEdoLZgLewVLDYcPnt6SeYFSy2eePHb65A6zZ0qRYstksNP8FiO678+C0QaC2Hdohgse0QfvzaceXHb7JAaCeYDXgLSwWLDZffnn6CWcFimzd+/OYKtG5Dl2rBYrvU8BMstuPKj98CgdZyaIcIFtsO4cevHVd+/CYLhHaC2YC3sFSw2HD57eknmBUstnnjx2+uQOs2dKkWLLZLDT/BYjuu/PgtEGgth3aIYLHtEH782nHlx2+yQGgnmA14C0sFiw2X355+glnBYps3fvzmCrRuQ5dqwWK71PATLLbjyo/fAoHWcmiHCBbbDuHHrx1XfvwmC4R2gtmAt7BUsNhw+e3pJ5gVLLZ548dvrkDrNnSpFiy2Sw0/wWI7rvz4LRBoLYd2iGCx7RB+/Npx5cdvskBoJ5gNeAtLBYsNl9+efoJZwWKbN3785gq0bkOXasFiu9TwEyy248qP3wKB1nJohwgW2w7hx68dV378JguEdoLZgLewVLDYcPnt6SeYFSy2eePHb65A6zZ0qRYstksNP8FiO678+C0QaC2Hdohgse0QfvzaceXHb7JAaCeYDXgLSwWLDZffnn6CWcFimzd+/OYKtG5Dl2rBYrvU8BMstuPKj98CgdZyaIcIFtsO4cevHVd+/CYLhHaC2YC3sFSw2HD57eknmBUstnnjx2+uQOs2dKkWLLZLDT/BYjuu/PgtEGgth3aIYLHtEH782nHlx2+yQGgnmA14C0sFiw2X355+glnBYps3fvzmCrRuQ5dqwWK71PATLLbjyo/fAoHWcmiHCBbbDuHHrx1XfvwmC4R2gtmAt7BUsNhw+e3pJ5gVLLZ548dvrkDrNnSpFiy2Sw0/wWI7rvz4LRBoLYd2iGCx7RB+/Npx5cdvskBoJ5gNeAtLBYsNl9+efoJZwWKbN3785gq0bkOXasFiu9TwEyy248qP3wKB1nJohwgW2w7hx68dV378JguEdoLZgLewVLDYcPnt6SeYFSy2eePHb65A6zZ0qRYstksNP8FiO678+C0QaC2Hdohgse0QfvzaceXHb7JAaCeYDXgLSwWLDZffnn6CWcFimzd+/OYKtG5Dl2rBYrvU8BMstuPKj98CgdZyaIcIFtsO4cevHVd+/CYLhHaC2YC3sFSw2HD57eknmBUstnnjx2+uQOs2dKkWLLZLDT/BYjuu/PgtEGgth3aIYLHtEH782nHlx2+yQGgnmA14C0sFiw2X355+glnBYps3fvzmCrRuQ5dqwWK71PATLLbjyo/fAoHWcmiHCBbbDuHHrx1XfvwmC4R2gtmAt7BUsNhw+e3pJ5gVLLZ548dvrkDrNnSpFiy2Sw0/wWI7rvz4LRBoLYd2iGCx7RB+/Npx5cdvskBoJ5gNeAtLBYsNl9+efoJZwWKbN3785gq0bkOXasFiu9TwEyy248qP3wKB1nJohwgW2w7hx68dV378JguEdoLZgLewVLDYcPnt6SeYFSy2eePHb65A6zZ0qRYstksNP8FiO678+C0QaC2Hdohgse0QfvzaceXHb7JAaCeYDXgLSwWLDZffnn6CWcFimzd+/OYKtG5Dl2rBYrvU8BMstuPKj98CgdZyaIcIFtsO4cevHVd+/CYLhHaC2YC3sFSw2HD57eknmBUstnnjx2+uQOs2dKkWLLZLDT/BYjuu/PgtEGgth3aIYLHtEH782nHlx2+yQGgnmA14C0sFiw2X355+glnBYps3fvzmCrRuQ5dqwWK71PATLLbjyo/fAoHWcmiHCBbbDuHHrx1XfvwmC4R2gtmAt7BUsNhw+e3pJ5gVLLZ548dvrkDrNnSpFiy2Sw0/wWI7rvz4LRBoLYd2iGCx7RB+/Npx5cdvskBoJ5gNeAtLBYsNl9+efoJZwWKbN3785gq0bkOXasFiu9TwEyy248qP3wKB1nJohwgW2w7hx68dV378JguEdoLZgLewVLDYcPnt6SeYFSy2eePHb65A6zZ0qRYstksNP8FiO678+C0QaC2Hdohgse0QfvzaceXHb7JAaCeYDXgLSwWLDZffnn6CWcFimzd+/OYKtG5Dl2rBYrvU8BMstuPKj98CgdZyaIcIFtsO4cevHVd+/CYLhHaC2YC3sFSw2HD57eknmBUstnnjx2+uQOs2dKkWLLZLDT/BYjuu/PgtEGgth3aIYLHtEH782nHlx2+yQGgnmA14C0sFiw2X355+glnBYps3fvzmCrRuQ5dqwWK71PATLLbjyo/fAoHWcmiHCBbbDuHHrx1XfvwmC4R2gtmAt7BUsNhw+e3pJ5gVLLZ548dvrkDrNnSpFiy2Sw0/wWI7rvz4LRBoLYd2iGCx7RB+/Npx5cdvskBoJ5gNeAtLBYsNl9+efoJZwWKbN3785gq0bkOXasFiu9TwEyy248qP3wKB1nJohwgW2w7hx68dV378JguEdoLZgLewVLDYcPnt6SeYFSy2eePHb65A6zZ0qRYstksNP8GiGL6+AAAaD0lEQVRiO678+C0QaC2Hdohgse0QfvzaceXHb7JAaHdfCmZvDN/H/a30psN2eNaFflOH7fCqbdsec6Fffwa+jl97k8f8Dubvbtw3HQ4Xfn4/Hkw4w3ch8qvn1/wVQfNX9LaNX/M7Vg8ZHuzgu4vzazPIj18TaNXmj18TaNXmj18TCNWHw+G6UH5SekltoJ4AAQIECBAgQIAAAQIECBAgQIAAAQIExgQEs2NevpoAAQIECBAgQIAAAQIECBAgQIAAAQJZQDCbCTUgQIAAAQIECBAgQIAAAQIECBAgQIDAmIBgdszLVxMgQIAAAQIECBAgQIAAAQIECBAgQCALCGYzoQYECBAgQIAAAQIECBAgQIAAAQIECBAYExDMjnn5agIECBAgQIAAAQIECBAgQIAAAQIECGQBwWwm1IAAAQIECBAgQIAAAQIECBAgQIAAAQJjAoLZMS9fTYAAAQIECBAgQIAAAQIECBAgQIAAgSwgmM2EGhAgQIAAAQIECBAgQIAAAQIECBAgQGBMQDA75uWrCRAgQIAAAQIECBAgQIAAAQIECBAgkAUEs5lQAwIECBAgQIAAAQIECBAgQIAAAQIECIwJTAlmD9vhxrGXvV9/9U2H7fCsC/0OD9vhVdu2PeZCv/4MfB2/9iaP+R3M3924bzocLvz8HmsPDD+RkF89v+avCJq/ordt/JrfsXrI0P44Bc6vzSA/fk2gVZs/fk2gVZs/fk0gVB8Oh+tC+UnprGD29vobuR/Vv/GwXfgb8/FQ+8n3o++/fiv8muCY3+HkL1XM313mbxz9YD0w/MSJ5VfP7+BiN3/ngJs/89cEevXQDDq/p8D5tRnkx68JtGrzx68JtGrzx68JhOrD4ZBz1dzg+Ps/bAfB7CcGO4LZMNbbWLD4e09rCxbv7fwJFe8+q0NL/eTzj6FgtnzinVtr/polP35NoFcPzaD9IZjtI3fv/3LK/Jk/8zdZoLWzP/g1gVZt/oKfYDbgLSwVLDZcfnv6CRUFs23e+PGbK9C6Df2h0l+stFCC33mHdWgGBWNtBvnxayuDH7/JAq2d/cGvCbRq8xf8BLMBb2GpYLHh8tvTTzArWGzzxo/fXIHWbegPlYLFFkrwE8y248qP3wKB1nJoh/iLgbZD+PFrx5Ufv8kCoZ1gNuAtLBUsNlx+e/oJZgWLbd748Zsr0LoNXaoFi+1Sw0+w2I4rP34LBFrLoR0iWGw7hB+/dlz58ZssENoJZgPewlLBYsPlt6efYFaw2OaNH7+5Aq3b0KVasNguNfwEi+248uO3QKC1HNohgsW2Q/jxa8eVH7/JAqGdYDbgLSwVLDZcfnv6CWYFi23e+PGbK9C6DV2qBYvtUsNPsNiOKz9+CwRay6EdIlhsO4Qfv3Zc+fGbLBDaCWYD3sJSwWLD5benn2BWsNjmjR+/uQKt29ClWrDYLjX8BIvtuPLjt0CgtRzaIYLFtkP48WvHlR+/yQKhnWA24C0sFSw2XH57+glmBYtt3vjxmyvQug1dqgWL7VLDT7DYjis/fgsEWsuhHSJYbDuEH792XPnxmywQ2glmA97CUsFiw+W3p59gVrDY5o0fv7kCrdvQpVqw2C41/ASL7bjy47dAoLUc2iGCxbZD+PFrx5Ufv8kCoZ1gNuAtLBUsNlx+e/oJZgWLbd748Zsr0LoNXaoFi+1Sw0+w2I4rP34LBFrLoR0iWGw7hB+/dlz58ZssENoJZgPewlLBYsPlt6efYFaw2OaNH7+5Aq3b0KVasNguNfwEi+248uO3QKC1HNohgsW2Q/jxa8eVH7/JAqGdYDbgLSwVLDZcfnv6CWYFi23e+PGbK9C6DV2qBYvtUsNPsNiOKz9+CwRay6EdIlhsO4Qfv3Zc+fGbLBDaCWYD3sJSwWLD5benn2BWsNjmjR+/uQKt29ClWrDYLjX8BIvtuPLjt0CgtRzaIYLFtkP48WvHlR+/yQKhnWA24C0sFSw2XH57+glmBYtt3vjxmyvQug1dqgWL7VLDT7DYjis/fgsEWsuhHSJYbDuEH792XPnxmywQ2glmA97CUsFiw+W3p59gVrDY5o0fv7kCrdvQpVqw2C41/ASL7bjy47dAoLUc2iGCxbZD+PFrx5Ufv8kCoZ1gNuAtLBUsNlx+e/oJZgWLbd748Zsr0LoNXaoFi+1Sw0+w2I4rP34LBFrLoR0iWGw7hB+/dlz58ZssENoJZgPewlLBYsPlt6efYFaw2OaNH7+5Aq3b0KVasNguNfwEi+248uO3QKC1HNohgsW2Q/jxa8eVH7/JAqGdYDbgLSwVLDZcfnv6CWYFi23e+PGbK9C6DV2qBYvtUsNPsNiOKz9+CwRay6EdIlhsO4Qfv3Zc+fGbLBDaCWYD3sJSwWLD5benn2BWsNjmjR+/uQKt29ClWrDYLjX8BIvtuPLjt0CgtRzaIYLFtkP48WvHlR+/yQKhnWA24C0sFSw2XH57+glmBYtt3vjxmyvQug1dqgWL7VLDT7DYjis/fgsEWsuhHSJYbDuEH792XPnxmywQ2glmA97CUsFiw+W3p59gVrDY5o0fv7kCrdvQpVqw2C41/ASL7bjy47dAoLUc2iGCxbZD+PFrx5Ufv8kCoZ1gNuAtLBUsNlx+e/oJZgWLbd748Zsr0LoNXaoFi+1Sw0+w2I4rP34LBFrLoR0iWGw7hB+/dlz58ZssENoJZgPewlLBYsPlt6efYFaw2OaNH7+5Aq3b0KVasNguNfwEi+248uO3QKC1HNohgsW2Q/jxa8eVH7/JAqGdYDbgLSwVLDZcfnv6CWYFi23e+PGbK9C6DV2qBYvtUsNPsNiOKz9+CwRay6EdIlhsO4Qfv3Zc+fGbLBDaCWYD3sJSwWLD5benn2BWsNjmjR+/uQKt29ClWrDYLjX8BIvtuPLjt0CgtRzaIYLFtkP48WvHlR+/yQKhnWA24C0sFSw2XH57+glmBYtt3vjxmyvQug1dqgWL7VLDT7DYjis/fgsEWsuhHSJYbDuEH792XPnxmywQ2glmA97CUsFiw+W3p59gVrDY5o0fv7kCrdvQpVqw2C41/ASL7bjy47dAoLUc2iGCxbZD+PFrx5Ufv8kCoZ1gNuAtLBUsNlx+e/oJZgWLbd748Zsr0LoNXaoFi+1Sw0+w2I4rP34LBFrLoR0iWGw7hB+/dlz58ZssENoJZgPewlLBYsPlt6efYFaw2OaNH7+5Aq3b0KVasNguNfwEi+248uO3QKC1HNohgsW2Q/jxa8eVH7/JAqGdYDbgLSwVLDZcfnv6CWYFi23e+PGbK9C6DV2qBYvtUsNPsNiOKz9+CwRay6EdIlhsO4Qfv3Zc+fGbLBDaCWYD3sJSwWLD5benn2BWsNjmjR+/uQKt29ClWrDYLjX8BIvtuPLjt0CgtRzaIYLFtkP48WvHlR+/yQKhnWA24C0sFSw2XH57+glmBYtt3vjxmyvQug1dqgWL7VLDT7DYjis/fgsEWsuhHSJYbDuEH792XPnxmywQ2glmA97CUsFiw+W3p59gVrDY5o0fv7kCrdvQpVqw2C41/ASL7bjy47dAoLUc2iGCxbZD+PFrx5Ufv8kCoZ1gNuAtLBUsNlx+e/oJZgWLbd748Zsr0LoNXaoFi+1Sw0+w2I4rP34LBFrLoR0iWGw7hB+/dlz58ZssENoJZgPewlLBYsPlt6efYFaw2OaNH7+5Aq3b0KVasNguNfwEi+248uO3QKC1HNohgsW2Q/jxa8eVH7/JAqGdYDbgLSwVLDZcfnv6CWYFi23e+PGbK9C6DV2qBYvtUsNPsNiOKz9+CwRay6EdIlhsO4Qfv3Zc+fGbLBDaCWYD3sJSwWLD5benn2BWsNjmjR+/uQKt29ClWrDYLjX8BIvtuPLjt0CgtRzaIYLFtkP48WvHlR+/yQKhnWA24C0sFSw2XH57+glmBYtt3vjxmyvQug1dqgWL7VLDT7DYjis/fgsEWsuhHSJYbDuEH792XPnxmywQ2glmA97CUsFiw+W3p59gVrDY5o0fv7kCrdvQpVqw2C41/ASL7bjy47dAoLUc2iGCxbZD+PFrx5Ufv8kCoZ1gNuAtLBUsNlx+e/oJZgWLbd748Zsr0LoNXaoFi+1Sw0+w2I4rP34LBFrLoR0iWGw7hB+/dlz58ZssENoJZgPewlLBYsPlt6efYFaw2OaNH7+5Aq3b0KVasNguNfwEi+248uO3QKC1HNohgsW2Q/jxa8eVH7/JAqGdYDbgLSwVLDZcfnv6CWYFi23e+PGbK9C6DV2qBYvtUsNPsNiOKz9+CwRay6EdIlhsO4Qfv3Zc+fGbLBDaCWYD3sJSwWLD5benn2BWsNjmjR+/uQKt29ClWrDYLjX8BIvtuPLjt0CgtRzaIYLFtkP48WvHlR+/yQKhnWA24C0sFSw2XH57+glmBYtt3vjxmyvQug1dqgWL7VLDT7DYjis/fgsEWsuhHSJYbDuEH792XPnxmywQ2glmA97CUsFiw+W3p59gVrDY5o0fv7kCrdvQpVqw2C41/ASL7bjy47dAoLUc2iGCxbZD+PFrx5Ufv8kCoZ1gNuAtLBUsNlx+e/oJZgWLbd748Zsr0LoNXaoFi+1Sw0+w2I4rP34LBFrLoR0iWGw7hB+/dlz58ZssENoJZgPewlLBYsPlt6efYFaw2OaNH7+5Aq3b0KVasNguNfwEi+248uO3QKC1HNohgsW2Q/jxa8eVH7/JAqGdYDbgLSwVLDZcfnv6CWYFi23e+PGbK9C6DV2qBYvtUsNPsNiOKz9+CwRay6EdIlhsO4Qfv3Zc+fGbLBDaCWYD3sJSwWLD5benn2BWsNjmjR+/uQKt29ClWrDYLjX8BIvtuPLjt0CgtRzaIYLFtkP48WvHlR+/yQKhnWA24C0sFSw2XH57+glmBYtt3vjxmyvQug1dqgWL7VLDT7DYjis/fgsEWsuhHSJYbDuEH792XPnxmywQ2glmA97CUsFiw+W3p59gVrDY5o0fv7kCrdvQpVqw2C41/ASL7bjy47dAoLUc2iGCxbZD+PFrx5Ufv8kCoZ1gNuAtLBUsNlx+e/oJZgWLbd748Zsr0LoNXaoFi+1Sw0+w2I4rP34LBFrLoR0iWGw7hB+/dlz58ZssENoJZgPewlLBYsPlt6efYFaw2OaNH7+5Aq3b0KVasNguNfwEi+248uO3QKC1HNohgsW2Q/jxa8eVH7/JAqGdYDbgLSwVLDZcfnv6CWYFi23e+PGbK9C6DV2qBYvtUsNPsNiOKz9+CwRay6EdIlhsO4Qfv3Zc+fGbLBDaCWYD3sJSwWLD5benn2BWsNjmjR+/uQKt29ClWrDYLjX8BIvtuPLjt0CgtRzaIYLFtkP48WvHlR+/yQKhnWA24C0sFSw2XH57+glmBYtt3vjxmyvQug1dqgWL7VLDT7DYjis/fgsEWsuhHSJYbDuEH792XPnxmywQ2glmA97CUsFiw+W3p59gVrDY5o0fv7kCrdvQpVqw2C41/ASL7bjy47dAoLUc2iGCxbZD+PFrx5Ufv8kCoZ1gNuAtLBUsNlx+e/oJZgWLbd748Zsr0LoNXaoFi+1Sw0+w2I4rP34LBFrLoR0iWGw7hB+/dlz58ZssENoJZgPewlLBYsPlt6efYFaw2OaNH7+5Aq3b0KVasNguNfwEi+248uO3QKC1HNohgsW2Q/jxa8eVH7/JAqGdYDbgLSwVLDZcfnv6CWYFi23e+PGbK9C6DV2qBYvtUsNPsNiOKz9+CwRay6EdIlhsO4Qfv3Zc+fGbLBDaCWYD3sJSwWLD5benn2BWsNjmjR+/uQKt29ClWrDYLjX8BIvtuPLjt0CgtRzaIYLFtkP48WvHlR+/yQKhnWA24C0sFSw2XH57+glmBYtt3vjxmyvQug1dqgWL7VLDT7DYjis/fgsEWsuhHSJYbDuEH792XPnxmywQ2glmA97CUsFiw+W3p59gVrDY5o0fv7kCrdvQpVqw2C41/ASL7bjy47dAoLUc2iGCxbZD+PFrx5Ufv8kCoZ1gNuAtLBUsNlx+e/oJZgWLbd748Zsr0LoNXaoFi+1Sw0+w2I4rP34LBFrLoR0iWGw7hB+/dlz58ZssENoJZgPewlLBYsPlt6efYFaw2OaNH7+5Aq3b0KVasNguNfwEi+248uO3QKC1HNohgsW2Q/jxa8eVH7/JAqGdYDbgLSwVLDZcfnv6CWYFi23e+PGbK9C6DV2qBYvtUsNPsNiOKz9+CwRay6EdIlhsO4Qfv3Zc+fGbLBDa3WeC2fA9KCVAgAABAgQIECBAgAABAgQIECBAgMCZE7jkzH3HvmECBAgQIECAAAECBAgQIECAAAECBAhcZAHB7EV+A7w8AQIECBAgQIAAAQIECBAgQIAAAQJnT0Awe/bec98xAQIECBAgQIAAAQIECBAgQIAAAQIXWUAwe5HfAC9PgAABAgQIECBAgAABAgQIECBAgMDZExDMnr333HdMgAABAgQIECBAgAABAgQIECBAgMBFFhDMXuQ3wMsTIECAAAECBAgQIECAAAECBAgQIHD2BASzZ+899x0TIECAAAECBAgQIECAAAECBAgQIHCRBQSzF/kN8PIECBAgQIAAAQIECBAgQIAAAQIECJw9AcHs2XvPfccECBAgQIAAAQIECBAgQIAAAQIECFxkAcHsRX4DvDwBAgQIECBAgAABAgQIECBAgAABAmdPQDB79t5z3zEBAgQIECBAgAABAgQIECBAgAABAhdZQDB7kd8AL0+AAAECBAgQIECAAAECBAgQIECAwNkTEMyevffcd0yAAAECBAgQIECAAAECBAgQIECAwEUWEMxe5DfAyxMgQIAAAQIECBAgQIAAAQIECBAgcPYEBLNn7z33HRMgQIAAAQIECBAgQIAAAQIECBAgcJEFBLMX+Q3w8gQIECBAgAABAgQIECBAgAABAgQInD0BwezZe899xwQIECBAgAABAgQIECBAgAABAgQIXGQBwexFfgO8PAECBAgQIECAAAECBAgQIECAAAECZ09AMHv23nPfMQECBAgQIECAAAECBAgQIECAAAECF1lAMHuR3wAvT4AAAQIECBAgQIAAAQIECBAgQIDA2RMQzJ6999x3TIAAAQIECBAgQIAAAQIECBAgQIDARRYQzF7kN8DLEyBAgAABAgQIECBAgAABAgQIECBw9gQEs2fvPfcdEyBAgAABAgQIECBAgAABAgQIECBwkQUEsxf5DfDyBAgQIECAAAECBAgQIECAAAECBAicPQHB7Nl7z33HBAgQIECAAAECBAgQIECAAAECBAhcZAHB7EV+A7w8AQIECBAgQIAAAQIECBAgQIAAAQJnT0Awe/bec98xAQIECBAgQIAAAQIECBAgQIAAAQIXWUAwe5HfAC9PgAABAgQIECBAgAABAgQIECBAgMDZExDMnr333HdMgAABAgQIECBAgAABAgQIECBAgMBFFhDMXuQ3wMsTIECAAAECBAgQIECAAAECBAgQIHD2BASzZ+899x0TIECAAAECBAgQIECAAAECBAgQIHCRBQSzF/kN8PIECBAgQIAAAQIECBAgQIAAAQIECJw9AcHs2XvPfccECBAgQIAAAQIECBAgQIAAAQIECFxkAcHsRX4DvDwBAgQIECBAgAABAgQIECBAgAABAmdPQDB79t5z3zEBAgQIECBAgAABAgQIECBAgAABAhdZQDB7kd8AL0+AAAECBAgQIECAAAECBAgQIECAwNkTEMyevffcd0yAAAECBAgQIECAAAECBAgQIECAwEUWEMxe5DfAyxMgQIAAAQIECBAgQIAAAQIECBAgcPYEBLNn7z33HRMgQIAAAQIECBAgQIAAAQIECBAgcJEFBLMX+Q3w8gQIECBAgAABAgQIECBAgAABAgQInD0BwezZe899xwQIECBAgAABAgQIECBAgAABAgQIXGQBwexFfgO8PAECBAgQIECAAAECBAgQIECAAAECZ09AMHv23nPfMQECBAgQIECAAAECBAgQIECAAAECF1lAMHuR3wAvT4AAAQIECBAgQIAAAQIECBAgQIDA2RMQzJ6999x3TIAAAQIECBAgQIAAAQIECBAgQIDARRYQzF7kN8DLEyBAgAABAgQIECBAgAABAgQIECBw9gQEs2fvPfcdEyBAgAABAgQIECBAgAABAgQIECBwkQUEsxf5DfDyBAgQIECAAAECBAgQIECAAAECBAicPQHB7Nl7z33HBAgQIECAAAECBAgQIECAAAECBAhcZAHB7EV+A7w8AQIECBAgQIAAAQIECBAgQIAAAQJnT0Awe/bec98xAQIECBAgQIAAAQIECBAgQIAAAQIXWUAwe5HfAC9PgAABAgQIECBAgAABAgQIECBAgMDZExDMnr333HdMgAABAgQIECBAgAABAgQIECBAgMBFFhDMXuQ3wMsTIECAAAECBAgQIECAAAECBAgQIHD2BASzZ+899x0TIECAAAEC/387dkwDAACAMMy/a2TsoAoI5YMAAQIECBAgQIAAAQIEYgHHbDyAeAIECBAgQIAAAQIECBAgQIAAAQIE/gQcs3+ba0yAAAECBAgQIECAAAECBAgQIECAQCzgmI0HEE+AAAECBAgQIECAAAECBAgQIECAwJ+AY/Zvc40JECBAgAABAgQIECBAgAABAgQIEIgFHLPxAOIJECBAgAABAgQIECBAgAABAgQIEPgTcMz+ba4xAQIECBAgQIAAAQIECBAgQIAAAQKxgGM2HkA8AQIECBAgQIAAAQIECBAgQIAAAQJ/Ao7Zv801JkCAAAECBAgQIECAAAECBAgQIEAgFnDMxgOIJ0CAAAECBAgQIECAAAECBAgQIEDgT8Ax+7e5xgQIECBAgAABAgQIECBAgAABAgQIxAKO2XgA8QQIECBAgAABAgQIECBAgAABAgQI/AkMNVbQybTmfDUAAAAASUVORK5CYII=\" width=\"863.7499871291222\">"
      ],
      "text/plain": [
       "<IPython.core.display.HTML object>"
      ]
     },
     "metadata": {},
     "output_type": "display_data"
    }
   ],
   "source": [
    "from pywaffle import Waffle \n",
    "\n",
    "fig_NPP = plt.figure(\n",
    "    FigureClass=Waffle, \n",
    "    rows=10, \n",
    "    values=list(NPP['Elected MP']),\n",
    "    labels=list(NPP['Gender']),\n",
    "    figsize=(12, 8),\n",
    "    legend={'bbox_to_anchor': (0.5, 0.5)},\n",
    "    colors = ['purple', 'grey']\n",
    ")"
   ]
  },
  {
   "cell_type": "code",
   "execution_count": 124,
   "metadata": {},
   "outputs": [
    {
     "data": {
      "application/javascript": [
       "/* Put everything inside the global mpl namespace */\n",
       "window.mpl = {};\n",
       "\n",
       "\n",
       "mpl.get_websocket_type = function() {\n",
       "    if (typeof(WebSocket) !== 'undefined') {\n",
       "        return WebSocket;\n",
       "    } else if (typeof(MozWebSocket) !== 'undefined') {\n",
       "        return MozWebSocket;\n",
       "    } else {\n",
       "        alert('Your browser does not have WebSocket support. ' +\n",
       "              'Please try Chrome, Safari or Firefox ≥ 6. ' +\n",
       "              'Firefox 4 and 5 are also supported but you ' +\n",
       "              'have to enable WebSockets in about:config.');\n",
       "    };\n",
       "}\n",
       "\n",
       "mpl.figure = function(figure_id, websocket, ondownload, parent_element) {\n",
       "    this.id = figure_id;\n",
       "\n",
       "    this.ws = websocket;\n",
       "\n",
       "    this.supports_binary = (this.ws.binaryType != undefined);\n",
       "\n",
       "    if (!this.supports_binary) {\n",
       "        var warnings = document.getElementById(\"mpl-warnings\");\n",
       "        if (warnings) {\n",
       "            warnings.style.display = 'block';\n",
       "            warnings.textContent = (\n",
       "                \"This browser does not support binary websocket messages. \" +\n",
       "                    \"Performance may be slow.\");\n",
       "        }\n",
       "    }\n",
       "\n",
       "    this.imageObj = new Image();\n",
       "\n",
       "    this.context = undefined;\n",
       "    this.message = undefined;\n",
       "    this.canvas = undefined;\n",
       "    this.rubberband_canvas = undefined;\n",
       "    this.rubberband_context = undefined;\n",
       "    this.format_dropdown = undefined;\n",
       "\n",
       "    this.image_mode = 'full';\n",
       "\n",
       "    this.root = $('<div/>');\n",
       "    this._root_extra_style(this.root)\n",
       "    this.root.attr('style', 'display: inline-block');\n",
       "\n",
       "    $(parent_element).append(this.root);\n",
       "\n",
       "    this._init_header(this);\n",
       "    this._init_canvas(this);\n",
       "    this._init_toolbar(this);\n",
       "\n",
       "    var fig = this;\n",
       "\n",
       "    this.waiting = false;\n",
       "\n",
       "    this.ws.onopen =  function () {\n",
       "            fig.send_message(\"supports_binary\", {value: fig.supports_binary});\n",
       "            fig.send_message(\"send_image_mode\", {});\n",
       "            if (mpl.ratio != 1) {\n",
       "                fig.send_message(\"set_dpi_ratio\", {'dpi_ratio': mpl.ratio});\n",
       "            }\n",
       "            fig.send_message(\"refresh\", {});\n",
       "        }\n",
       "\n",
       "    this.imageObj.onload = function() {\n",
       "            if (fig.image_mode == 'full') {\n",
       "                // Full images could contain transparency (where diff images\n",
       "                // almost always do), so we need to clear the canvas so that\n",
       "                // there is no ghosting.\n",
       "                fig.context.clearRect(0, 0, fig.canvas.width, fig.canvas.height);\n",
       "            }\n",
       "            fig.context.drawImage(fig.imageObj, 0, 0);\n",
       "        };\n",
       "\n",
       "    this.imageObj.onunload = function() {\n",
       "        fig.ws.close();\n",
       "    }\n",
       "\n",
       "    this.ws.onmessage = this._make_on_message_function(this);\n",
       "\n",
       "    this.ondownload = ondownload;\n",
       "}\n",
       "\n",
       "mpl.figure.prototype._init_header = function() {\n",
       "    var titlebar = $(\n",
       "        '<div class=\"ui-dialog-titlebar ui-widget-header ui-corner-all ' +\n",
       "        'ui-helper-clearfix\"/>');\n",
       "    var titletext = $(\n",
       "        '<div class=\"ui-dialog-title\" style=\"width: 100%; ' +\n",
       "        'text-align: center; padding: 3px;\"/>');\n",
       "    titlebar.append(titletext)\n",
       "    this.root.append(titlebar);\n",
       "    this.header = titletext[0];\n",
       "}\n",
       "\n",
       "\n",
       "\n",
       "mpl.figure.prototype._canvas_extra_style = function(canvas_div) {\n",
       "\n",
       "}\n",
       "\n",
       "\n",
       "mpl.figure.prototype._root_extra_style = function(canvas_div) {\n",
       "\n",
       "}\n",
       "\n",
       "mpl.figure.prototype._init_canvas = function() {\n",
       "    var fig = this;\n",
       "\n",
       "    var canvas_div = $('<div/>');\n",
       "\n",
       "    canvas_div.attr('style', 'position: relative; clear: both; outline: 0');\n",
       "\n",
       "    function canvas_keyboard_event(event) {\n",
       "        return fig.key_event(event, event['data']);\n",
       "    }\n",
       "\n",
       "    canvas_div.keydown('key_press', canvas_keyboard_event);\n",
       "    canvas_div.keyup('key_release', canvas_keyboard_event);\n",
       "    this.canvas_div = canvas_div\n",
       "    this._canvas_extra_style(canvas_div)\n",
       "    this.root.append(canvas_div);\n",
       "\n",
       "    var canvas = $('<canvas/>');\n",
       "    canvas.addClass('mpl-canvas');\n",
       "    canvas.attr('style', \"left: 0; top: 0; z-index: 0; outline: 0\")\n",
       "\n",
       "    this.canvas = canvas[0];\n",
       "    this.context = canvas[0].getContext(\"2d\");\n",
       "\n",
       "    var backingStore = this.context.backingStorePixelRatio ||\n",
       "\tthis.context.webkitBackingStorePixelRatio ||\n",
       "\tthis.context.mozBackingStorePixelRatio ||\n",
       "\tthis.context.msBackingStorePixelRatio ||\n",
       "\tthis.context.oBackingStorePixelRatio ||\n",
       "\tthis.context.backingStorePixelRatio || 1;\n",
       "\n",
       "    mpl.ratio = (window.devicePixelRatio || 1) / backingStore;\n",
       "\n",
       "    var rubberband = $('<canvas/>');\n",
       "    rubberband.attr('style', \"position: absolute; left: 0; top: 0; z-index: 1;\")\n",
       "\n",
       "    var pass_mouse_events = true;\n",
       "\n",
       "    canvas_div.resizable({\n",
       "        start: function(event, ui) {\n",
       "            pass_mouse_events = false;\n",
       "        },\n",
       "        resize: function(event, ui) {\n",
       "            fig.request_resize(ui.size.width, ui.size.height);\n",
       "        },\n",
       "        stop: function(event, ui) {\n",
       "            pass_mouse_events = true;\n",
       "            fig.request_resize(ui.size.width, ui.size.height);\n",
       "        },\n",
       "    });\n",
       "\n",
       "    function mouse_event_fn(event) {\n",
       "        if (pass_mouse_events)\n",
       "            return fig.mouse_event(event, event['data']);\n",
       "    }\n",
       "\n",
       "    rubberband.mousedown('button_press', mouse_event_fn);\n",
       "    rubberband.mouseup('button_release', mouse_event_fn);\n",
       "    // Throttle sequential mouse events to 1 every 20ms.\n",
       "    rubberband.mousemove('motion_notify', mouse_event_fn);\n",
       "\n",
       "    rubberband.mouseenter('figure_enter', mouse_event_fn);\n",
       "    rubberband.mouseleave('figure_leave', mouse_event_fn);\n",
       "\n",
       "    canvas_div.on(\"wheel\", function (event) {\n",
       "        event = event.originalEvent;\n",
       "        event['data'] = 'scroll'\n",
       "        if (event.deltaY < 0) {\n",
       "            event.step = 1;\n",
       "        } else {\n",
       "            event.step = -1;\n",
       "        }\n",
       "        mouse_event_fn(event);\n",
       "    });\n",
       "\n",
       "    canvas_div.append(canvas);\n",
       "    canvas_div.append(rubberband);\n",
       "\n",
       "    this.rubberband = rubberband;\n",
       "    this.rubberband_canvas = rubberband[0];\n",
       "    this.rubberband_context = rubberband[0].getContext(\"2d\");\n",
       "    this.rubberband_context.strokeStyle = \"#000000\";\n",
       "\n",
       "    this._resize_canvas = function(width, height) {\n",
       "        // Keep the size of the canvas, canvas container, and rubber band\n",
       "        // canvas in synch.\n",
       "        canvas_div.css('width', width)\n",
       "        canvas_div.css('height', height)\n",
       "\n",
       "        canvas.attr('width', width * mpl.ratio);\n",
       "        canvas.attr('height', height * mpl.ratio);\n",
       "        canvas.attr('style', 'width: ' + width + 'px; height: ' + height + 'px;');\n",
       "\n",
       "        rubberband.attr('width', width);\n",
       "        rubberband.attr('height', height);\n",
       "    }\n",
       "\n",
       "    // Set the figure to an initial 600x600px, this will subsequently be updated\n",
       "    // upon first draw.\n",
       "    this._resize_canvas(600, 600);\n",
       "\n",
       "    // Disable right mouse context menu.\n",
       "    $(this.rubberband_canvas).bind(\"contextmenu\",function(e){\n",
       "        return false;\n",
       "    });\n",
       "\n",
       "    function set_focus () {\n",
       "        canvas.focus();\n",
       "        canvas_div.focus();\n",
       "    }\n",
       "\n",
       "    window.setTimeout(set_focus, 100);\n",
       "}\n",
       "\n",
       "mpl.figure.prototype._init_toolbar = function() {\n",
       "    var fig = this;\n",
       "\n",
       "    var nav_element = $('<div/>');\n",
       "    nav_element.attr('style', 'width: 100%');\n",
       "    this.root.append(nav_element);\n",
       "\n",
       "    // Define a callback function for later on.\n",
       "    function toolbar_event(event) {\n",
       "        return fig.toolbar_button_onclick(event['data']);\n",
       "    }\n",
       "    function toolbar_mouse_event(event) {\n",
       "        return fig.toolbar_button_onmouseover(event['data']);\n",
       "    }\n",
       "\n",
       "    for(var toolbar_ind in mpl.toolbar_items) {\n",
       "        var name = mpl.toolbar_items[toolbar_ind][0];\n",
       "        var tooltip = mpl.toolbar_items[toolbar_ind][1];\n",
       "        var image = mpl.toolbar_items[toolbar_ind][2];\n",
       "        var method_name = mpl.toolbar_items[toolbar_ind][3];\n",
       "\n",
       "        if (!name) {\n",
       "            // put a spacer in here.\n",
       "            continue;\n",
       "        }\n",
       "        var button = $('<button/>');\n",
       "        button.addClass('ui-button ui-widget ui-state-default ui-corner-all ' +\n",
       "                        'ui-button-icon-only');\n",
       "        button.attr('role', 'button');\n",
       "        button.attr('aria-disabled', 'false');\n",
       "        button.click(method_name, toolbar_event);\n",
       "        button.mouseover(tooltip, toolbar_mouse_event);\n",
       "\n",
       "        var icon_img = $('<span/>');\n",
       "        icon_img.addClass('ui-button-icon-primary ui-icon');\n",
       "        icon_img.addClass(image);\n",
       "        icon_img.addClass('ui-corner-all');\n",
       "\n",
       "        var tooltip_span = $('<span/>');\n",
       "        tooltip_span.addClass('ui-button-text');\n",
       "        tooltip_span.html(tooltip);\n",
       "\n",
       "        button.append(icon_img);\n",
       "        button.append(tooltip_span);\n",
       "\n",
       "        nav_element.append(button);\n",
       "    }\n",
       "\n",
       "    var fmt_picker_span = $('<span/>');\n",
       "\n",
       "    var fmt_picker = $('<select/>');\n",
       "    fmt_picker.addClass('mpl-toolbar-option ui-widget ui-widget-content');\n",
       "    fmt_picker_span.append(fmt_picker);\n",
       "    nav_element.append(fmt_picker_span);\n",
       "    this.format_dropdown = fmt_picker[0];\n",
       "\n",
       "    for (var ind in mpl.extensions) {\n",
       "        var fmt = mpl.extensions[ind];\n",
       "        var option = $(\n",
       "            '<option/>', {selected: fmt === mpl.default_extension}).html(fmt);\n",
       "        fmt_picker.append(option);\n",
       "    }\n",
       "\n",
       "    // Add hover states to the ui-buttons\n",
       "    $( \".ui-button\" ).hover(\n",
       "        function() { $(this).addClass(\"ui-state-hover\");},\n",
       "        function() { $(this).removeClass(\"ui-state-hover\");}\n",
       "    );\n",
       "\n",
       "    var status_bar = $('<span class=\"mpl-message\"/>');\n",
       "    nav_element.append(status_bar);\n",
       "    this.message = status_bar[0];\n",
       "}\n",
       "\n",
       "mpl.figure.prototype.request_resize = function(x_pixels, y_pixels) {\n",
       "    // Request matplotlib to resize the figure. Matplotlib will then trigger a resize in the client,\n",
       "    // which will in turn request a refresh of the image.\n",
       "    this.send_message('resize', {'width': x_pixels, 'height': y_pixels});\n",
       "}\n",
       "\n",
       "mpl.figure.prototype.send_message = function(type, properties) {\n",
       "    properties['type'] = type;\n",
       "    properties['figure_id'] = this.id;\n",
       "    this.ws.send(JSON.stringify(properties));\n",
       "}\n",
       "\n",
       "mpl.figure.prototype.send_draw_message = function() {\n",
       "    if (!this.waiting) {\n",
       "        this.waiting = true;\n",
       "        this.ws.send(JSON.stringify({type: \"draw\", figure_id: this.id}));\n",
       "    }\n",
       "}\n",
       "\n",
       "\n",
       "mpl.figure.prototype.handle_save = function(fig, msg) {\n",
       "    var format_dropdown = fig.format_dropdown;\n",
       "    var format = format_dropdown.options[format_dropdown.selectedIndex].value;\n",
       "    fig.ondownload(fig, format);\n",
       "}\n",
       "\n",
       "\n",
       "mpl.figure.prototype.handle_resize = function(fig, msg) {\n",
       "    var size = msg['size'];\n",
       "    if (size[0] != fig.canvas.width || size[1] != fig.canvas.height) {\n",
       "        fig._resize_canvas(size[0], size[1]);\n",
       "        fig.send_message(\"refresh\", {});\n",
       "    };\n",
       "}\n",
       "\n",
       "mpl.figure.prototype.handle_rubberband = function(fig, msg) {\n",
       "    var x0 = msg['x0'] / mpl.ratio;\n",
       "    var y0 = (fig.canvas.height - msg['y0']) / mpl.ratio;\n",
       "    var x1 = msg['x1'] / mpl.ratio;\n",
       "    var y1 = (fig.canvas.height - msg['y1']) / mpl.ratio;\n",
       "    x0 = Math.floor(x0) + 0.5;\n",
       "    y0 = Math.floor(y0) + 0.5;\n",
       "    x1 = Math.floor(x1) + 0.5;\n",
       "    y1 = Math.floor(y1) + 0.5;\n",
       "    var min_x = Math.min(x0, x1);\n",
       "    var min_y = Math.min(y0, y1);\n",
       "    var width = Math.abs(x1 - x0);\n",
       "    var height = Math.abs(y1 - y0);\n",
       "\n",
       "    fig.rubberband_context.clearRect(\n",
       "        0, 0, fig.canvas.width / mpl.ratio, fig.canvas.height / mpl.ratio);\n",
       "\n",
       "    fig.rubberband_context.strokeRect(min_x, min_y, width, height);\n",
       "}\n",
       "\n",
       "mpl.figure.prototype.handle_figure_label = function(fig, msg) {\n",
       "    // Updates the figure title.\n",
       "    fig.header.textContent = msg['label'];\n",
       "}\n",
       "\n",
       "mpl.figure.prototype.handle_cursor = function(fig, msg) {\n",
       "    var cursor = msg['cursor'];\n",
       "    switch(cursor)\n",
       "    {\n",
       "    case 0:\n",
       "        cursor = 'pointer';\n",
       "        break;\n",
       "    case 1:\n",
       "        cursor = 'default';\n",
       "        break;\n",
       "    case 2:\n",
       "        cursor = 'crosshair';\n",
       "        break;\n",
       "    case 3:\n",
       "        cursor = 'move';\n",
       "        break;\n",
       "    }\n",
       "    fig.rubberband_canvas.style.cursor = cursor;\n",
       "}\n",
       "\n",
       "mpl.figure.prototype.handle_message = function(fig, msg) {\n",
       "    fig.message.textContent = msg['message'];\n",
       "}\n",
       "\n",
       "mpl.figure.prototype.handle_draw = function(fig, msg) {\n",
       "    // Request the server to send over a new figure.\n",
       "    fig.send_draw_message();\n",
       "}\n",
       "\n",
       "mpl.figure.prototype.handle_image_mode = function(fig, msg) {\n",
       "    fig.image_mode = msg['mode'];\n",
       "}\n",
       "\n",
       "mpl.figure.prototype.updated_canvas_event = function() {\n",
       "    // Called whenever the canvas gets updated.\n",
       "    this.send_message(\"ack\", {});\n",
       "}\n",
       "\n",
       "// A function to construct a web socket function for onmessage handling.\n",
       "// Called in the figure constructor.\n",
       "mpl.figure.prototype._make_on_message_function = function(fig) {\n",
       "    return function socket_on_message(evt) {\n",
       "        if (evt.data instanceof Blob) {\n",
       "            /* FIXME: We get \"Resource interpreted as Image but\n",
       "             * transferred with MIME type text/plain:\" errors on\n",
       "             * Chrome.  But how to set the MIME type?  It doesn't seem\n",
       "             * to be part of the websocket stream */\n",
       "            evt.data.type = \"image/png\";\n",
       "\n",
       "            /* Free the memory for the previous frames */\n",
       "            if (fig.imageObj.src) {\n",
       "                (window.URL || window.webkitURL).revokeObjectURL(\n",
       "                    fig.imageObj.src);\n",
       "            }\n",
       "\n",
       "            fig.imageObj.src = (window.URL || window.webkitURL).createObjectURL(\n",
       "                evt.data);\n",
       "            fig.updated_canvas_event();\n",
       "            fig.waiting = false;\n",
       "            return;\n",
       "        }\n",
       "        else if (typeof evt.data === 'string' && evt.data.slice(0, 21) == \"data:image/png;base64\") {\n",
       "            fig.imageObj.src = evt.data;\n",
       "            fig.updated_canvas_event();\n",
       "            fig.waiting = false;\n",
       "            return;\n",
       "        }\n",
       "\n",
       "        var msg = JSON.parse(evt.data);\n",
       "        var msg_type = msg['type'];\n",
       "\n",
       "        // Call the  \"handle_{type}\" callback, which takes\n",
       "        // the figure and JSON message as its only arguments.\n",
       "        try {\n",
       "            var callback = fig[\"handle_\" + msg_type];\n",
       "        } catch (e) {\n",
       "            console.log(\"No handler for the '\" + msg_type + \"' message type: \", msg);\n",
       "            return;\n",
       "        }\n",
       "\n",
       "        if (callback) {\n",
       "            try {\n",
       "                // console.log(\"Handling '\" + msg_type + \"' message: \", msg);\n",
       "                callback(fig, msg);\n",
       "            } catch (e) {\n",
       "                console.log(\"Exception inside the 'handler_\" + msg_type + \"' callback:\", e, e.stack, msg);\n",
       "            }\n",
       "        }\n",
       "    };\n",
       "}\n",
       "\n",
       "// from http://stackoverflow.com/questions/1114465/getting-mouse-location-in-canvas\n",
       "mpl.findpos = function(e) {\n",
       "    //this section is from http://www.quirksmode.org/js/events_properties.html\n",
       "    var targ;\n",
       "    if (!e)\n",
       "        e = window.event;\n",
       "    if (e.target)\n",
       "        targ = e.target;\n",
       "    else if (e.srcElement)\n",
       "        targ = e.srcElement;\n",
       "    if (targ.nodeType == 3) // defeat Safari bug\n",
       "        targ = targ.parentNode;\n",
       "\n",
       "    // jQuery normalizes the pageX and pageY\n",
       "    // pageX,Y are the mouse positions relative to the document\n",
       "    // offset() returns the position of the element relative to the document\n",
       "    var x = e.pageX - $(targ).offset().left;\n",
       "    var y = e.pageY - $(targ).offset().top;\n",
       "\n",
       "    return {\"x\": x, \"y\": y};\n",
       "};\n",
       "\n",
       "/*\n",
       " * return a copy of an object with only non-object keys\n",
       " * we need this to avoid circular references\n",
       " * http://stackoverflow.com/a/24161582/3208463\n",
       " */\n",
       "function simpleKeys (original) {\n",
       "  return Object.keys(original).reduce(function (obj, key) {\n",
       "    if (typeof original[key] !== 'object')\n",
       "        obj[key] = original[key]\n",
       "    return obj;\n",
       "  }, {});\n",
       "}\n",
       "\n",
       "mpl.figure.prototype.mouse_event = function(event, name) {\n",
       "    var canvas_pos = mpl.findpos(event)\n",
       "\n",
       "    if (name === 'button_press')\n",
       "    {\n",
       "        this.canvas.focus();\n",
       "        this.canvas_div.focus();\n",
       "    }\n",
       "\n",
       "    var x = canvas_pos.x * mpl.ratio;\n",
       "    var y = canvas_pos.y * mpl.ratio;\n",
       "\n",
       "    this.send_message(name, {x: x, y: y, button: event.button,\n",
       "                             step: event.step,\n",
       "                             guiEvent: simpleKeys(event)});\n",
       "\n",
       "    /* This prevents the web browser from automatically changing to\n",
       "     * the text insertion cursor when the button is pressed.  We want\n",
       "     * to control all of the cursor setting manually through the\n",
       "     * 'cursor' event from matplotlib */\n",
       "    event.preventDefault();\n",
       "    return false;\n",
       "}\n",
       "\n",
       "mpl.figure.prototype._key_event_extra = function(event, name) {\n",
       "    // Handle any extra behaviour associated with a key event\n",
       "}\n",
       "\n",
       "mpl.figure.prototype.key_event = function(event, name) {\n",
       "\n",
       "    // Prevent repeat events\n",
       "    if (name == 'key_press')\n",
       "    {\n",
       "        if (event.which === this._key)\n",
       "            return;\n",
       "        else\n",
       "            this._key = event.which;\n",
       "    }\n",
       "    if (name == 'key_release')\n",
       "        this._key = null;\n",
       "\n",
       "    var value = '';\n",
       "    if (event.ctrlKey && event.which != 17)\n",
       "        value += \"ctrl+\";\n",
       "    if (event.altKey && event.which != 18)\n",
       "        value += \"alt+\";\n",
       "    if (event.shiftKey && event.which != 16)\n",
       "        value += \"shift+\";\n",
       "\n",
       "    value += 'k';\n",
       "    value += event.which.toString();\n",
       "\n",
       "    this._key_event_extra(event, name);\n",
       "\n",
       "    this.send_message(name, {key: value,\n",
       "                             guiEvent: simpleKeys(event)});\n",
       "    return false;\n",
       "}\n",
       "\n",
       "mpl.figure.prototype.toolbar_button_onclick = function(name) {\n",
       "    if (name == 'download') {\n",
       "        this.handle_save(this, null);\n",
       "    } else {\n",
       "        this.send_message(\"toolbar_button\", {name: name});\n",
       "    }\n",
       "};\n",
       "\n",
       "mpl.figure.prototype.toolbar_button_onmouseover = function(tooltip) {\n",
       "    this.message.textContent = tooltip;\n",
       "};\n",
       "mpl.toolbar_items = [[\"Home\", \"Reset original view\", \"fa fa-home icon-home\", \"home\"], [\"Back\", \"Back to previous view\", \"fa fa-arrow-left icon-arrow-left\", \"back\"], [\"Forward\", \"Forward to next view\", \"fa fa-arrow-right icon-arrow-right\", \"forward\"], [\"\", \"\", \"\", \"\"], [\"Pan\", \"Pan axes with left mouse, zoom with right\", \"fa fa-arrows icon-move\", \"pan\"], [\"Zoom\", \"Zoom to rectangle\", \"fa fa-square-o icon-check-empty\", \"zoom\"], [\"\", \"\", \"\", \"\"], [\"Download\", \"Download plot\", \"fa fa-floppy-o icon-save\", \"download\"]];\n",
       "\n",
       "mpl.extensions = [\"eps\", \"jpeg\", \"pdf\", \"png\", \"ps\", \"raw\", \"svg\", \"tif\"];\n",
       "\n",
       "mpl.default_extension = \"png\";var comm_websocket_adapter = function(comm) {\n",
       "    // Create a \"websocket\"-like object which calls the given IPython comm\n",
       "    // object with the appropriate methods. Currently this is a non binary\n",
       "    // socket, so there is still some room for performance tuning.\n",
       "    var ws = {};\n",
       "\n",
       "    ws.close = function() {\n",
       "        comm.close()\n",
       "    };\n",
       "    ws.send = function(m) {\n",
       "        //console.log('sending', m);\n",
       "        comm.send(m);\n",
       "    };\n",
       "    // Register the callback with on_msg.\n",
       "    comm.on_msg(function(msg) {\n",
       "        //console.log('receiving', msg['content']['data'], msg);\n",
       "        // Pass the mpl event to the overridden (by mpl) onmessage function.\n",
       "        ws.onmessage(msg['content']['data'])\n",
       "    });\n",
       "    return ws;\n",
       "}\n",
       "\n",
       "mpl.mpl_figure_comm = function(comm, msg) {\n",
       "    // This is the function which gets called when the mpl process\n",
       "    // starts-up an IPython Comm through the \"matplotlib\" channel.\n",
       "\n",
       "    var id = msg.content.data.id;\n",
       "    // Get hold of the div created by the display call when the Comm\n",
       "    // socket was opened in Python.\n",
       "    var element = $(\"#\" + id);\n",
       "    var ws_proxy = comm_websocket_adapter(comm)\n",
       "\n",
       "    function ondownload(figure, format) {\n",
       "        window.open(figure.imageObj.src);\n",
       "    }\n",
       "\n",
       "    var fig = new mpl.figure(id, ws_proxy,\n",
       "                           ondownload,\n",
       "                           element.get(0));\n",
       "\n",
       "    // Call onopen now - mpl needs it, as it is assuming we've passed it a real\n",
       "    // web socket which is closed, not our websocket->open comm proxy.\n",
       "    ws_proxy.onopen();\n",
       "\n",
       "    fig.parent_element = element.get(0);\n",
       "    fig.cell_info = mpl.find_output_cell(\"<div id='\" + id + \"'></div>\");\n",
       "    if (!fig.cell_info) {\n",
       "        console.error(\"Failed to find cell for figure\", id, fig);\n",
       "        return;\n",
       "    }\n",
       "\n",
       "    var output_index = fig.cell_info[2]\n",
       "    var cell = fig.cell_info[0];\n",
       "\n",
       "};\n",
       "\n",
       "mpl.figure.prototype.handle_close = function(fig, msg) {\n",
       "    var width = fig.canvas.width/mpl.ratio\n",
       "    fig.root.unbind('remove')\n",
       "\n",
       "    // Update the output cell to use the data from the current canvas.\n",
       "    fig.push_to_output();\n",
       "    var dataURL = fig.canvas.toDataURL();\n",
       "    // Re-enable the keyboard manager in IPython - without this line, in FF,\n",
       "    // the notebook keyboard shortcuts fail.\n",
       "    IPython.keyboard_manager.enable()\n",
       "    $(fig.parent_element).html('<img src=\"' + dataURL + '\" width=\"' + width + '\">');\n",
       "    fig.close_ws(fig, msg);\n",
       "}\n",
       "\n",
       "mpl.figure.prototype.close_ws = function(fig, msg){\n",
       "    fig.send_message('closing', msg);\n",
       "    // fig.ws.close()\n",
       "}\n",
       "\n",
       "mpl.figure.prototype.push_to_output = function(remove_interactive) {\n",
       "    // Turn the data on the canvas into data in the output cell.\n",
       "    var width = this.canvas.width/mpl.ratio\n",
       "    var dataURL = this.canvas.toDataURL();\n",
       "    this.cell_info[1]['text/html'] = '<img src=\"' + dataURL + '\" width=\"' + width + '\">';\n",
       "}\n",
       "\n",
       "mpl.figure.prototype.updated_canvas_event = function() {\n",
       "    // Tell IPython that the notebook contents must change.\n",
       "    IPython.notebook.set_dirty(true);\n",
       "    this.send_message(\"ack\", {});\n",
       "    var fig = this;\n",
       "    // Wait a second, then push the new image to the DOM so\n",
       "    // that it is saved nicely (might be nice to debounce this).\n",
       "    setTimeout(function () { fig.push_to_output() }, 1000);\n",
       "}\n",
       "\n",
       "mpl.figure.prototype._init_toolbar = function() {\n",
       "    var fig = this;\n",
       "\n",
       "    var nav_element = $('<div/>');\n",
       "    nav_element.attr('style', 'width: 100%');\n",
       "    this.root.append(nav_element);\n",
       "\n",
       "    // Define a callback function for later on.\n",
       "    function toolbar_event(event) {\n",
       "        return fig.toolbar_button_onclick(event['data']);\n",
       "    }\n",
       "    function toolbar_mouse_event(event) {\n",
       "        return fig.toolbar_button_onmouseover(event['data']);\n",
       "    }\n",
       "\n",
       "    for(var toolbar_ind in mpl.toolbar_items){\n",
       "        var name = mpl.toolbar_items[toolbar_ind][0];\n",
       "        var tooltip = mpl.toolbar_items[toolbar_ind][1];\n",
       "        var image = mpl.toolbar_items[toolbar_ind][2];\n",
       "        var method_name = mpl.toolbar_items[toolbar_ind][3];\n",
       "\n",
       "        if (!name) { continue; };\n",
       "\n",
       "        var button = $('<button class=\"btn btn-default\" href=\"#\" title=\"' + name + '\"><i class=\"fa ' + image + ' fa-lg\"></i></button>');\n",
       "        button.click(method_name, toolbar_event);\n",
       "        button.mouseover(tooltip, toolbar_mouse_event);\n",
       "        nav_element.append(button);\n",
       "    }\n",
       "\n",
       "    // Add the status bar.\n",
       "    var status_bar = $('<span class=\"mpl-message\" style=\"text-align:right; float: right;\"/>');\n",
       "    nav_element.append(status_bar);\n",
       "    this.message = status_bar[0];\n",
       "\n",
       "    // Add the close button to the window.\n",
       "    var buttongrp = $('<div class=\"btn-group inline pull-right\"></div>');\n",
       "    var button = $('<button class=\"btn btn-mini btn-primary\" href=\"#\" title=\"Stop Interaction\"><i class=\"fa fa-power-off icon-remove icon-large\"></i></button>');\n",
       "    button.click(function (evt) { fig.handle_close(fig, {}); } );\n",
       "    button.mouseover('Stop Interaction', toolbar_mouse_event);\n",
       "    buttongrp.append(button);\n",
       "    var titlebar = this.root.find($('.ui-dialog-titlebar'));\n",
       "    titlebar.prepend(buttongrp);\n",
       "}\n",
       "\n",
       "mpl.figure.prototype._root_extra_style = function(el){\n",
       "    var fig = this\n",
       "    el.on(\"remove\", function(){\n",
       "\tfig.close_ws(fig, {});\n",
       "    });\n",
       "}\n",
       "\n",
       "mpl.figure.prototype._canvas_extra_style = function(el){\n",
       "    // this is important to make the div 'focusable\n",
       "    el.attr('tabindex', 0)\n",
       "    // reach out to IPython and tell the keyboard manager to turn it's self\n",
       "    // off when our div gets focus\n",
       "\n",
       "    // location in version 3\n",
       "    if (IPython.notebook.keyboard_manager) {\n",
       "        IPython.notebook.keyboard_manager.register_events(el);\n",
       "    }\n",
       "    else {\n",
       "        // location in version 2\n",
       "        IPython.keyboard_manager.register_events(el);\n",
       "    }\n",
       "\n",
       "}\n",
       "\n",
       "mpl.figure.prototype._key_event_extra = function(event, name) {\n",
       "    var manager = IPython.notebook.keyboard_manager;\n",
       "    if (!manager)\n",
       "        manager = IPython.keyboard_manager;\n",
       "\n",
       "    // Check for shift+enter\n",
       "    if (event.shiftKey && event.which == 13) {\n",
       "        this.canvas_div.blur();\n",
       "        // select the cell after this one\n",
       "        var index = IPython.notebook.find_cell_index(this.cell_info[0]);\n",
       "        IPython.notebook.select(index + 1);\n",
       "    }\n",
       "}\n",
       "\n",
       "mpl.figure.prototype.handle_save = function(fig, msg) {\n",
       "    fig.ondownload(fig, null);\n",
       "}\n",
       "\n",
       "\n",
       "mpl.find_output_cell = function(html_output) {\n",
       "    // Return the cell and output element which can be found *uniquely* in the notebook.\n",
       "    // Note - this is a bit hacky, but it is done because the \"notebook_saving.Notebook\"\n",
       "    // IPython event is triggered only after the cells have been serialised, which for\n",
       "    // our purposes (turning an active figure into a static one), is too late.\n",
       "    var cells = IPython.notebook.get_cells();\n",
       "    var ncells = cells.length;\n",
       "    for (var i=0; i<ncells; i++) {\n",
       "        var cell = cells[i];\n",
       "        if (cell.cell_type === 'code'){\n",
       "            for (var j=0; j<cell.output_area.outputs.length; j++) {\n",
       "                var data = cell.output_area.outputs[j];\n",
       "                if (data.data) {\n",
       "                    // IPython >= 3 moved mimebundle to data attribute of output\n",
       "                    data = data.data;\n",
       "                }\n",
       "                if (data['text/html'] == html_output) {\n",
       "                    return [cell, data, j];\n",
       "                }\n",
       "            }\n",
       "        }\n",
       "    }\n",
       "}\n",
       "\n",
       "// Register the function which deals with the matplotlib target/channel.\n",
       "// The kernel may be null if the page has been refreshed.\n",
       "if (IPython.notebook.kernel != null) {\n",
       "    IPython.notebook.kernel.comm_manager.register_target('matplotlib', mpl.mpl_figure_comm);\n",
       "}\n"
      ],
      "text/plain": [
       "<IPython.core.display.Javascript object>"
      ]
     },
     "metadata": {},
     "output_type": "display_data"
    },
    {
     "data": {
      "text/html": [
       "<img src=\"data:image/png;base64,iVBORw0KGgoAAAANSUhEUgAABWYAAAOZCAYAAACdpPlxAAAgAElEQVR4Xuzcv+quWVom4LerW5yuYMQ/bWQilFgjDko3mIyR0aQNGu1TmMBDeE9AE+cUChQD04nMBqMqhBF7NxaYKIjtH5ygHLCrathNJTLT8N13fXVX7bWvjt/7W+t3PQ97rfVQ9Ncu/yNAgAABAgQIECBAgAABAgQIECBAgACBqcDXpqtZjAABAgQIECBAgAABAgQIECBAgAABAgQug1lNQIAAAQIECBAgQIAAAQIECBAgQIAAgbGAwewY3HIECBAgQIAAAQIECBAgQIAAAQIECBAwmNUDBAgQIECAAAECBAgQIECAAAECBAgQGAsYzI7BLUeAAAECBAgQIECAAAECBAgQIECAAAGDWT1AgAABAgQIECBAgAABAgQIECBAgACBsYDB7BjccgQIECBAgAABAgQIECBAgAABAgQIEDCY1QMECBAgQIAAAQIECBAgQIAAAQIECBAYCxjMjsEtR4AAAQIECBAgQIAAAQIECBAgQIAAAYNZPUCAAAECBAgQIECAAAECBAgQIECAAIGxgMHsGNxyBAgQIECAAAECBAgQIECAAAECBAgQMJjVAwQIECBAgAABAgQIECBAgAABAgQIEBgLGMyOwS1HgAABAgQIECBAgAABAgQIECBAgAABg1k9QIAAAQIECBAgQIAAAQIECBAgQIAAgbGAwewY3HIECBAgQIAAAQIECBAgQIAAAQIECBAwmNUDBAgQIECAAAECBAgQIECAAAECBAgQGAs8ZTB7X/en432/zst9cF/3d9I/4L7v96/r+naae8O//+C+WQ96gPMA+bouzpw3AptVqn5+tTXnYVygypoz51hgE9DPX2HnzdasQoAAAQIEzhIwmN3X02B2Z+7yvrHmzHkjsFlFP3+FnQ1mq+Lo6YotDnGOyaoA54otDlXO8SoCBAgQIECAwGUwu28Cg9mdeXWp9F8JxQXiHJNVAc4VWxziHJNVgcrZYHZn7SyMraue5sw5FtgEqn7ebM0qBAgQIEDgLAGD2X09DWZ35tWl0iMpLhDnmKwKcK7Y4hDnmKwKVM4GsztrZ2FsXfU0Z86xwCZQ9fNma1YhQIAAAQJnCRjM7utpMLszry6VHklxgTjHZFWAc8UWhzjHZFWgcjaY3Vk7C2Prqqc5c44FNoGqnzdbswoBAgQIEDhLwGB2X0+D2Z15dan0SIoLxDkmqwKcK7Y4xDkmqwKVs8HsztpZGFtXPc2ZcyywCVT9vNmaVQgQIECAwFkCBrP7ehrM7syrS6VHUlwgzjFZFeBcscUhzjFZFaicDWZ31s7C2Lrqac6cY4FNoOrnzdasQoAAAQIEzhIwmN3X02B2Z15dKj2S4gJxjsmqAOeKLQ5xjsmqQOVsMLuzdhbG1lVPc+YcC2wCVT9vtmYVAgQIECBwloDB7L6eBrM78+pS6ZEUF4hzTFYFOFdscYhzTFYFKmeD2Z21szC2rnqaM+dYYBOo+nmzNasQIECAAIGzBAxm9/U0mN2ZV5dKj6S4QJxjsirAuWKLQ5xjsipQORvM7qydhbF11dOcOccCm0DVz5utWYUAAQIECJwlYDC7r6fB7M68ulR6JMUF4hyTVQHOFVsc4hyTVYHK2WB2Z+0sjK2rnubMORbYBKp+3mzNKgQIECBA4CwBg9l9PQ1md+bVpdIjKS4Q55isCnCu2OIQ55isClTOBrM7a2dhbF31NGfOscAmUPXzZmtWIUCAAAECZwkYzO7raTC7M68ulR5JcYE4x2RVgHPFFoc4x2RVoHI2mN1ZOwtj66qnOXOOBTaBqp83W7MKAQIECBA4S8Bgdl9Pg9mdeXWp9EiKC8Q5JqsCnCu2OMQ5JqsClbPB7M7aWRhbVz3NmXMssAlU/bzZmlUIECBAgMBZAgaz+3oazO7Mq0ulR1JcIM4xWRXgXLHFIc4xWRWonA1md9bOwti66mnOnGOBTaDq583WrEKAAAECBM4SMJjd19NgdmdeXSo9kuICcY7JqgDnii0OcY7JqkDlbDC7s3YWxtZVT3PmHAtsAlU/b7ZmFQIECBAgcJaAwey+ngazO/PqUumRFBeIc0xWBThXbHGIc0xWBSpng9mdtbMwtq56mjPnWGATqPp5szWrECBAgACBswQMZvf1NJjdmVeXSo+kuECcY7IqwLlii0OcY7IqUDkbzO6snYWxddXTnDnHAptA1c+brVmFAAECBAicJWAwu6+nwezOvLpUeiTFBeIck1UBzhVbHOIck1WBytlgdmftLIytq57mzDkW2ASqft5szSoECBAgQOAsAYPZfT0NZnfm1aXSIykuEOeYrApwrtjiEOeYrApUzgazO2tnYWxd9TRnzrHAJlD182ZrViFAgAABAmcJGMzu62kwuzOvLpUeSXGBOMdkVYBzxRaHOMdkVaByNpjdWTsLY+uqpzlzjgU2gaqfN1uzCgECBAgQOEvAYHZfT4PZnXl1qfRIigvEOSarApwrtjjEOSarApWzwezO2lkYW1c9zZlzLLAJVP282ZpVCBAgQIDAWQIGs/t6GszuzKtLpUdSXCDOMVkV4FyxxSHOMVkVqJwNZnfWzsLYuuppzpxjgU2g6ufN1qxCgAABAgTOEjCY3dfTYHZnXl0qPZLiAnGOyaoA54otDnGOyapA5Wwwu7N2FsbWVU9z5hwLbAJVP2+2ZhUCBAgQIHCWgMHsvp4Gszvz6lLpkRQXiHNMVgU4V2xxiHNMVgUqZ4PZnbWzMLauepoz51hgE6j6ebM1qxAgQIAAgbMEDGb39TSY3ZlXl0qPpLhAnGOyKsC5YotDnGOyKlA5G8zurJ2FsXXV05w5xwKbQNXPm61ZhQABAgQInCVgMLuvp8Hszry6VHokxQXiHJNVAc4VWxziHJNVgcrZYHZn7SyMraue5sw5FtgEqn7ebM0qBAgQIEDgLAGD2X09DWZ35tWl0iMpLhDnmKwKcK7Y4hDnmKwKVM4GsztrZ2FsXfU0Z86xwCZQ9fNma1YhQIAAAQJnCRjM7utpMLszry6VHklxgTjHZFWAc8UWhzjHZFWgcjaY3Vk7C2Prqqc5c44FNoGqnzdbswoBAgQIEDhLwGB2X0+D2Z15dan0SIoLxDkmqwKcK7Y4xDkmqwKVs8HsztpZGFtXPc2ZcyywCVT9vNmaVQgQIECAwFkCBrP7ehrM7syrS6VHUlwgzjFZFeBcscUhzjFZFaicDWZ31s7C2Lrqac6cY4FNoOrnzdasQoAAAQIEzhIwmN3X02B2Z15dKj2S4gJxjsmqAOeKLQ5xjsmqQOVsMLuzdhbG1lVPc+YcC2wCVT9vtmYVAgQIECBwloDB7L6eBrM78+pS6ZEUF4hzTFYFOFdscYhzTFYFKmeD2Z21szC2rnqaM+dYYBOo+nmzNasQIECAAIGzBAxm9/U0mN2ZV5dKj6S4QJxjsirAuWKLQ5xjsipQORvM7qydhbF11dOcOccCm0DVz5utWYUAAQIECJwlYDC7r6fB7M68ulR6JMUF4hyTVQHOFVsc4hyTVYHK2WB2Z+0sjK2rnubMORbYBKp+3mzNKgQIECBA4CwBg9l9PQ1md+bVpdIjKS4Q55isCnCu2OIQ55isClTOBrM7a2dhbF31NGfOscAmUPXzZmtWIUCAAAECZwkYzO7raTC7M68ulR5JcYE4x2RVgHPFFoc4x2RVoHI2mN1ZOwtj66qnOXOOBTaBqp83W7MKAQIECBA4S8Bgdl9Pg9mdeXWp9EiKC8Q5JqsCnCu2OMQ5JqsClbPB7M7aWRhbVz3NmXMssAlU/bzZmlUIECBAgMBZAgaz+3oazO7Mq0ulR1JcIM4xWRXgXLHFIc4xWRWonA1md9bOwti66mnOnGOBTaDq583WrEKAAAECBM4SMJjd19NgdmdeXSo9kuICcY7JqgDnii0OcY7JqkDlbDC7s3YWxtZVT3PmHAtsAlU/b7ZmFQIECBAgcJaAwey+ngazO/PqUumRFBeIc0xWBThXbHGIc0xWBSpng9mdtbMwtq56mjPnWGATqPp5szWrECBAgACBswQMZvf1NJjdmVeXSo+kuECcY7IqwLlii0OcY7IqUDkbzO6snYWxddXTnDnHAptA1c+brVmFAAECBAicJWAwu6+nwezOvLpUeiTFBeIck1UBzhVbHOIck1WBytlgdmftLIytq57mzDkW2ASqft5szSoECBAgQOAsAYPZfT0NZnfm1aXSIykuEOeYrApwrtjiEOeYrApUzgazO2tnYWxd9TRnzrHAJlD182ZrViFAgAABAmcJGMzu62kwuzOvLpUeSXGBOMdkVYBzxRaHOMdkVaByNpjdWTsLY+uqpzlzjgU2gaqfN1uzCgECBAgQOEvAYHZfT4PZnXl1qfRIigvEOSarApwrtjjEOSarApWzwezO2lkYW1c9zZlzLLAJVP282ZpVCBAgQIDAWQIGs/t6GszuzKtLpUdSXCDOMVkV4FyxxSHOMVkVqJwNZnfWzsLYuuppzpxjgU2g6ufN1qxCgAABAgTOEjCY3dfTYHZnXl0qPZLiAnGOyaoA54otDnGOyapA5Wwwu7N2FsbWVU9z5hwLbAJVP2+2ZhUCBAgQIHCWgMHsvp4Gszvz6lLpkRQXiHNMVgU4V2xxiHNMVgUqZ4PZnbWzMLauepoz51hgE6j6ebM1qxAgQIAAgbMEDGb39TSY3ZlXl0qPpLhAnGOyKsC5YotDnGOyKlA5G8zurJ2FsXXV05w5xwKbQNXPm61ZhQABAgQInCVgMLuvp8Hszry6VHokxQXiHJNVAc4VWxziHJNVgcrZYHZn7SyMraue5sw5FtgEqn7ebM0qBAgQIEDgLAGD2X09DWZ35tWl0iMpLhDnmKwKcK7Y4hDnmKwKVM4GsztrZ2FsXfU0Z86xwCZQ9fNma1YhQIAAAQJnCRjM7utpMLszry6VHklxgTjHZFWAc8UWhzjHZFWgcjaY3Vk7C2Prqqc5c44FNoGqnzdbswoBAgQIEDhLwGB2X0+D2Z15dan0SIoLxDkmqwKcK7Y4xDkmqwKVs8HsztpZGFtXPc2ZcyywCVT9vNmaVQgQIECAwFkCBrP7ehrM7syrS6VHUlwgzjFZFeBcscUhzjFZFaicDWZ31s7C2Lrqac6cY4FNoOrnzdasQoAAAQIEzhIwmN3X02B2Z15dKj2S4gJxjsmqAOeKLQ5xjsmqQOVsMLuzdhbG1lVPc+YcC2wCVT9vtmYVAgQIECBwloDB7L6eBrM78+pS6ZEUF4hzTFYFOFdscYhzTFYFKmeD2Z21szC2rnqaM+dYYBOo+nmzNasQIECAAIGzBAxm9/U0mN2ZV5dKj6S4QJxjsirAuWKLQ5xjsipQORvM7qydhbF11dOcOccCm0DVz5utWYUAAQIECJwlYDC7r6fB7M68ulR6JMUF4hyTVQHOFVsc4hyTVYHK2WB2Z+0sjK2rnubMORbYBKp+3mzNKgQIECBA4CwBg9l9PQ1md+bVpdIjKS4Q55isCnCu2OIQ55isClTOBrM7a2dhbF31NGfOscAmUPXzZmtWIUCAAAECZwkYzO7raTC7M68ulR5JcYE4x2RVgHPFFoc4x2RVoHI2mN1ZOwtj66qnOXOOBTaBqp83W7MKAQIECBA4S8Bgdl9Pg9mdeXWp9EiKC8Q5JqsCnCu2OMQ5JqsClbPB7M7aWRhbVz3NmXMssAlU/bzZmlUIECBAgMBZAgaz+3oazO7Mq0ulR1JcIM4xWRXgXLHFIc4xWRWonA1md9bOwti66mnOnGOBTaDq583WrEKAAAECBM4SMJjd19NgdmdeXSo9kuICcY7JqgDnii0OcY7JqkDlbDC7s3YWxtZVT3PmHAtsAlU/b7ZmFQIECBAgcJaAwey+ngazO/PqUumRFBeIc0xWBThXbHGIc0xWBSpng9mdtbMwtq56mjPnWGATqPp5szWrECBAgACBswQMZvf1NJjdmVeXSo+kuECcY7IqwLlii0OcY7IqUDkbzO6snYWxddXTnDnHAptA1c+brVmFAAECBAicJWAwu6+nwezOvLpUeiTFBeIck1UBzhVbHOIck1WBytlgdmftLIytq57mzDkW2ASqft5szSoECBAgQOAsAYPZfT0NZnfm1aXSIykuEOeYrApwrtjiEOeYrApUzgazO2tnYWxd9TRnzrHAJlD182ZrViFAgAABAmcJGMzu62kwuzOvLpUeSXGBOMdkVYBzxRaHOMdkVaByNpjdWTsLY+uqpzlzjgU2gaqfN1uzCgECBAgQOEvAYHZfT4PZnXl1qfRIigvEOSarApwrtjjEOSarApWzwezO2lkYW1c9zZlzLLAJVP282ZpVCBAgQIDAWQIGs/t6GszuzKtLpUdSXCDOMVkV4FyxxSHOMVkVqJwNZnfWzsLYuuppzpxjgU2g6ufN1qxCgAABAgTOEjCY3dfTYHZnXl0qPZLiAnGOyaoA54otDnGOyapA5Wwwu7N2FsbWVU9z5hwLbAJVP2+2ZhUCBAgQIHCWgMHsvp4Gszvz6lLpkRQXiHNMVgU4V2xxiHNMVgUqZ4PZnbWzMLauepoz51hgE6j6ebM1qxAgQIAAgbMEDGb39TSY3ZlXl0qPpLhAnGOyKsC5YotDnGOyKlA5G8zurJ2FsXXV05w5xwKbQNXPm61ZhQABAgQInCVgMLuvp8Hszry6VHokxQXiHJNVAc4VWxziHJNVgcrZYHZn7SyMraue5sw5FtgEqn7ebM0qBAgQIEDgLIFnDWbfP4vlC/1rXt7X/SJd4b7v967rejfNveHfv7xv1oMe4DxAvq6LM+eNwGaVqp8/G8w6D7MaVdbuHRmyf6Njrzagn1u5LFc5Z0v4mgABAgQIEHgl8JTBLEoCBAgQIECAAAECBAgQIECAAAECBAgQeFzAYPZxK18SIECAAAECBAgQIECAAAECBAgQIEDgKQIGs09h9CMECBAgQIAAAQIECBAgQIAAAQIECBB4XMBg9nErXxIgQIAAAQIECBAgQIAAAQIECBAgQOApAgazT2H0IwQIECBAgAABAgQIECBAgAABAgQIEHhcwGD2cStfEiBAgAABAgQIECBAgAABAgQIECBA4CkCBrNPYfQjBAgQIECAAAECBAgQIECAAAECBAgQeFzAYPZxK18SIECAAAECBAgQIECAAAECBAgQIEDgKQIGs09h9CMECBAgQIAAAQIECBAgQIAAAQIECBB4XMBg9nErXxIgQIAAAQIECBAgQIAAAQIECBAgQOApAgazT2H0IwQIECBAgAABAgQIECBAgAABAgQIEHhcwGD2cStfEiBAgAABAgQIECBAgAABAgQIECBA4CkCBrNPYfQjBAgQIECAAAECBAgQIECAAAECBAgQeFzgKYPZ+7rff3zJN/7Ll/d1v0gV7vt+77qud9PcG/79y/tmPegBzgPk67o4c94IbFap+vnV1pyHcYEqa86cY4FNQD9/hZ03W7MKAQIECBA4S+BZg9lPz2L5Qv+aD+7r/k66wn3/aPj97TT3hn//wX2zHvQA5wHydV2cOW8ENqtU/fzZYNZ5mNWosnbvyJD9Gx17tQH93Mpluco5W8LXBAgQIECAwCsBg9l9HxjM7syrS6XHaFwgzjFZFeBcscUhzjFZFaicDWZ31s7C2Lrqac6cY4FNoOrnzdasQoAAAQIEzhIwmN3X02B2Z15dKj2S4gJxjsmqAOeKLQ5xjsmqQOVsMLuzdhbG1lVPc+YcC2wCVT9vtmYVAgQIECBwloDB7L6eBrM78+pS6ZEUF4hzTFYFOFdscYhzTFYFKmeD2Z21szC2rnqaM+dYYBOo+nmzNasQIECAAIGzBAxm9/U0mN2ZV5dKj6S4QJxjsirAuWKLQ5xjsipQORvM7qydhbF11dOcOccCm0DVz5utWYUAAQIECJwlYDC7r6fB7M68ulR6JMUF4hyTVQHOFVsc4hyTVYHK2WB2Z+0sjK2rnubMORbYBKp+3mzNKgQIECBA4CwBg9l9PQ1md+bVpdIjKS4Q55isCnCu2OIQ55isClTOBrM7a2dhbF31NGfOscAmUPXzZmtWIUCAAAECZwkYzO7raTC7M68ulR5JcYE4x2RVgHPFFoc4x2RVoHI2mN1ZOwtj66qnOXOOBTaBqp83W7MKAQIECBA4S8Bgdl9Pg9mdeXWp9EiKC8Q5JqsCnCu2OMQ5JqsClbPB7M7aWRhbVz3NmXMssAlU/bzZmlUIECBAgMBZAgaz+3oazO7Mq0ulR1JcIM4xWRXgXLHFIc4xWRWonA1md9bOwti66mnOnGOBTaDq583WrEKAAAECBM4SMJjd19NgdmdeXSo9kuICcY7JqgDnii0OcY7JqkDlbDC7s3YWxtZVT3PmHAtsAlU/b7ZmFQIECBAgcJaAwey+ngazO/PqUumRFBeIc0xWBThXbHGIc0xWBSpng9mdtbMwtq56mjPnWGATqPp5szWrECBAgACBswQMZvf1NJjdmVeXSo+kuECcY7IqwLlii0OcY7IqUDkbzO6snYWxddXTnDnHAptA1c+brVmFAAECBAicJWAwu6+nwezOvLpUeiTFBeIck1UBzhVbHOIck1WBytlgdmftLIytq57mzDkW2ASqft5szSoECBAgQOAsAYPZfT0NZnfm1aXSIykuEOeYrApwrtjiEOeYrApUzgazO2tnYWxd9TRnzrHAJlD182ZrViFAgAABAmcJGMzu62kwuzOvLpUeSXGBOMdkVYBzxRaHOMdkVaByNpjdWTsLY+uqpzlzjgU2gaqfN1uzCgECBAgQOEvAYHZfT4PZnXl1qfRIigvEOSarApwrtjjEOSarApWzwezO2lkYW1c9zZlzLLAJVP282ZpVCBAgQIDAWQIGs/t6GszuzKtLpUdSXCDOMVkV4FyxxSHOMVkVqJwNZnfWzsLYuuppzpxjgU2g6ufN1qxCgAABAgTOEjCY3dfTYHZnXl0qPZLiAnGOyaoA54otDnGOyapA5Wwwu7N2FsbWVU9z5hwLbAJVP2+2ZhUCBAgQIHCWgMHsvp4Gszvz6lLpkRQXiHNMVgU4V2xxiHNMVgUqZ4PZnbWzMLauepoz51hgE6j6ebM1qxAgQIAAgbMEDGb39TSY3ZlXl0qPpLhAnGOyKsC5YotDnGOyKlA5G8zurJ2FsXXV05w5xwKbQNXPm61ZhQABAgQInCVgMLuvp8Hszry6VHokxQXiHJNVAc4VWxziHJNVgcrZYHZn7SyMraue5sw5FtgEqn7ebM0qBAgQIEDgLAGD2X09DWZ35tWl0iMpLhDnmKwKcK7Y4hDnmKwKVM4GsztrZ2FsXfU0Z86xwCZQ9fNma1YhQIAAAQJnCRjM7utpMLszry6VHklxgTjHZFWAc8UWhzjHZFWgcjaY3Vk7C2Prqqc5c44FNoGqnzdbswoBAgQIEDhLwGB2X0+D2Z15dan0SIoLxDkmqwKcK7Y4xDkmqwKVs8HsztpZGFtXPc2ZcyywCVT9vNmaVQgQIECAwFkCBrP7ehrM7syrS6VHUlwgzjFZFeBcscUhzjFZFaicDWZ31s7C2Lrqac6cY4FNoOrnzdasQoAAAQIEzhIwmN3X02B2Z15dKj2S4gJxjsmqAOeKLQ5xjsmqQOVsMLuzdhbG1lVPc+YcC2wCVT9vtmYVAgQIECBwloDB7L6eBrM78+pS6ZEUF4hzTFYFOFdscYhzTFYFKmeD2Z21szC2rnqaM+dYYBOo+nmzNasQIECAAIGzBAxm9/U0mN2ZV5dKj6S4QJxjsirAuWKLQ5xjsipQORvM7qydhbF11dOcOccCm0DVz5utWYUAAQIECJwlYDC7r6fB7M68ulR6JMUF4hyTVQHOFVsc4hyTVYHK2WB2Z+0sjK2rnubMORbYBKp+3mzNKgQIECBA4CwBg9l9PQ1md+bVpdIjKS4Q55isCnCu2OIQ55isClTOBrM7a2dhbF31NGfOscAmUPXzZmtWIUCAAAECZwkYzO7raTC7M68ulR5JcYE4x2RVgHPFFoc4x2RVoHI2mN1ZOwtj66qnOXOOBTaBqp83W7MKAQIECBA4S8Bgdl9Pg9mdeXWp9EiKC8Q5JqsCnCu2OMQ5JqsClbPB7M7aWRhbVz3NmXMssAlU/bzZmlUIECBAgMBZAgaz+3oazO7Mq0ulR1JcIM4xWRXgXLHFIc4xWRWonA1md9bOwti66mnOnGOBTaDq583WrEKAAAECBM4SMJjd19NgdmdeXSo9kuICcY7JqgDnii0OcY7JqkDlbDC7s3YWxtZVT3PmHAtsAlU/b7ZmFQIECBAgcJaAwey+ngazO/PqUumRFBeIc0xWBThXbHGIc0xWBSpng9mdtbMwtq56mjPnWGATqPp5szWrECBAgACBswQMZvf1NJjdmVeXSo+kuECcY7IqwLlii0OcY7IqUDkbzO6snYWxddXTnDnHAptA1c+brVmFAAECBAicJWAwu6+nwezOvLpUeiTFBeIck1UBzhVbHOIck1WBytlgdmftLIytq57mzDkW2ASqft5szSoECBAgQOAsAYPZfT0NZnfm1aXSIykuEOeYrApwrtjiEOeYrApUzgazO2tnYWxd9TRnzrHAJlD182ZrViFAgAABAmcJGMzu62kwuzOvLpUeSXGBOMdkVYBzxRaHOMdkVaByNpjdWTsLY+uqpzlzjgU2gaqfN1uzCgECBAgQOEvAYHZfT4PZnXl1qfRIigvEOSarApwrtjjEOSarApWzwezO2lkYW1c9zZlzLLAJVP282ZpVCBAgQIDAWQIGs/t6GszuzKtLpUdSXCDOMVkV4FyxxSHOMVkVqJwNZnfWzsLYuuppzpxjgU2g6ufN1qxCgAABAgTOEjCY3dfTYHZnXl0qPZLiAnGOyaoA54otDnGOyapA5Wwwu7N2FsbWVU9z5hwLbAJVP2+2ZhUCBAgQIHCWgMHsvp4Gszvz6lLpkRQXiHNMVgU4V2xxiHNMVgUqZ4PZnbWzMLauetj0fKIAACAASURBVJoz51hgE6j6ebM1qxAgQIAAgbMEDGb39TSY3ZlXl0qPpLhAnGOyKsC5YotDnGOyKlA5G8zurJ2FsXXV05w5xwKbQNXPm61ZhQABAgQInCVgMLuvp8Hszry6VHokxQXiHJNVAc4VWxziHJNVgcrZYHZn7SyMraue5sw5FtgEqn7ebM0qBAgQIEDgLAGD2X09DWZ35tWl0iMpLhDnmKwKcK7Y4hDnmKwKVM4GsztrZ2FsXfU0Z86xwCZQ9fNma1YhQIAAAQJnCRjM7utpMLszry6VHklxgTjHZFWAc8UWhzjHZFWgcjaY3Vk7C2Prqqc5c44FNoGqnzdbswoBAgQIEDhLwGB2X0+D2Z15dan0SIoLxDkmqwKcK7Y4xDkmqwKVs8HsztpZGFtXPc2ZcyywCVT9vNmaVQgQIECAwFkCBrP7ehrM7syrS6VHUlwgzjFZFeBcscUhzjFZFaicDWZ31s7C2Lrqac6cY4FNoOrnzdasQoAAAQIEzhIwmN3X02B2Z15dKj2S4gJxjsmqAOeKLQ5xjsmqQOVsMLuzdhbG1lVPc+YcC2wCVT9vtmYVAgQIECBwloDB7L6eBrM78+pS6ZEUF4hzTFYFOFdscYhzTFYFKmeD2Z21szC2rnqaM+dYYBOo+nmzNasQIECAAIGzBAxm9/U0mN2ZV5dKj6S4QJxjsirAuWKLQ5xjsipQORvM7qydhbF11dOcOccCm0DVz5utWYUAAQIECJwlYDC7r6fB7M68ulR6JMUF4hyTVQHOFVsc4hyTVYHK2WB2Z+0sjK2rnubMORbYBKp+3mzNKgQIECBA4CwBg9l9PQ1md+bVpdIjKS4Q55isCnCu2OIQ55isClTOBrM7a2dhbF31NGfOscAmUPXzZmtWIUCAAAECZwkYzO7raTC7M68ulR5JcYE4x2RVgHPFFoc4x2RVoHI2mN1ZOwtj66qnOXOOBTaBqp83W7MKAQIECBA4S8Bgdl9Pg9mdeXWp9EiKC8Q5JqsCnCu2OMQ5JqsClbPB7M7aWRhbVz3NmXMssAlU/bzZmlUIECBAgMBZAgaz+3oazO7Mq0ulR1JcIM4xWRXgXLHFIc4xWRWonA1md9bOwti66mnOnGOBTaDq583WrEKAAAECBM4SMJjd19NgdmdeXSo9kuICcY7JqgDnii0OcY7JqkDlbDC7s3YWxtZVT3PmHAtsAlU/b7ZmFQIECBAgcJaAwey+ngazO/PqUumRFBeIc0xWBThXbHGIc0xWBSpng9mdtbMwtq56mjPnWGATqPp5szWrECBAgACBswQMZvf1NJjdmVeXSo+kuECcY7IqwLlii0OcY7IqUDkbzO6snYWxddXTnDnHAptA1c+brVmFAAECBAicJWAwu6+nwezOvLpUeiTFBeIck1UBzhVbHOIck1WBytlgdmftLIytq57mzDkW2ASqft5szSoECBAgQOAsAYPZfT0NZnfm1aXSIykuEOeYrApwrtjiEOeYrApUzgazO2tnYWxd9TRnzrHAJlD182ZrViFAgAABAmcJGMzu62kwuzOvLpUeSXGBOMdkVYBzxRaHOMdkVaByNpjdWTsLY+uqpzlzjgU2gaqfN1uzCgECBAgQOEvAYHZfT4PZnXl1qfRIigvEOSarApwrtjjEOSarApWzwezO2lkYW1c9zZlzLLAJVP282ZpVCBAgQIDAWQIGs/t6GszuzKtLpUdSXCDOMVkV4FyxxSHOMVkVqJwNZnfWzsLYuuppzpxjgU2g6ufN1qxCgAABAgTOEjCY3dfTYHZnXl0qPZLiAnGOyaoA54otDnGOyapA5Wwwu7N2FsbWVU9z5hwLbAJVP2+2ZhUCBAgQIHCWgMHsvp4Gszvz6lLpkRQXiHNMVgU4V2xxiHNMVgUqZ4PZnbWzMLauepoz51hgE6j6ebM1qxAgQIAAgbMEDGb39TSY3ZlXl0qPpLhAnGOyKsC5YotDnGOyKlA5G8zurJ2FsXXV05w5xwKbQNXPm61ZhQABAgQInCVgMLuvp8Hszry6VHokxQXiHJNVAc4VWxziHJNVgcrZYHZn7SyMraue5sw5FtgEqn7ebM0qBAgQIEDgLAGD2X09DWZ35tWl0iMpLhDnmKwKcK7Y4hDnmKwKVM4GsztrZ2FsXfU0Z86xwCZQ9fNma1YhQIAAAQJnCRjM7utpMLszry6VHklxgTjHZFWAc8UWhzjHZFWgcjaY3Vk7C2Prqqc5c44FNoGqnzdbswoBAgQIEDhLwGB2X0+D2Z15dan0SIoLxDkmqwKcK7Y4xDkmqwKVs8HsztpZGFtXPc2ZcyywCVT9vNmaVQgQIECAwFkCBrP7ehrM7syrS6VHUlwgzjFZFeBcscUhzjFZFaicDWZ31s7C2Lrqac6cY4FNoOrnzdasQoAAAQIEzhIwmN3X02B2Z15dKj2S4gJxjsmqAOeKLQ5xjsmqQOVsMLuzdhbG1lVPc+YcC2wCVT9vtmYVAgQIECBwlsCzBrPvn8Xyhf41L+/rfpGucN/3e9d1vZvm3vDvX94360EPcB4gX9fFmfNGYLNK1c+fDWadh1mNKmv3jgzZv9GxVxvQz61clqucsyV8TYAAAQIECLwSeMpgFiUBAgQIECBAgAABAgQIECBAgAABAgQIPC5gMPu4lS8JECBAgAABAgQIECBAgAABAgQIECDwFAGD2acw+hECBAgQIECAAAECBAgQIECAAAECBAg8LmAw+7iVLwkQIECAAAECBAgQIECAAAECBAgQIPAUAYPZpzD6EQIECBAgQIAAAQIECBAgQIAAAQIECDwuYDD7uJUvCRAgQIAAAQIECBAgQIAAAQIECBAg8BQBg9mnMPoRAgQIECBAgAABAgQIECBAgAABAgQIPC5gMPu4lS8JECBAgAABAgQIECBAgAABAgQIECDwFAGD2acw+hECBAgQIECAAAECBAgQIECAAAECBAg8LmAw+7iVLwkQIECAAAECBAgQIECAAAECBAgQIPAUAYPZpzD6EQIECBAgQIAAAQIECBAgQIAAAQIECDwuYDD7uJUvCRAgQIAAAQIECBAgQIAAAQIECBAg8BQBg9mnMPoRAgQIECBAgAABAgQIECBAgAABAgQIPC7wlMHsfd3vP77kG//ly/u6X6QK932/d13Xu2nuDf/+5X2zHvQA5wHydV2cOW8ENqtU/fxqa87DuECVNWfOscAmoJ+/ws6brVmFAAECBAicJfCsweynZ7F8oX/NB/d1fydd4b5/NPz+dpp7w7//4L5ZD3qA8wD5ui7OnDcCm1Wqfv5sMOs8zGpUWbt3ZMj+jY692oB+buWyXOWcLeFrAgQIECBA4JWAwey+Dwxmd+bVpdJjNC4Q55isCnCu2OIQ55isClTOBrM7a2dhbF31NGfOscAmUPXzZmtWIUCAAAECZwkYzO7raTC7M68ulR5JcYE4x2RVgHPFFoc4x2RVoHI2mN1ZOwtj66qnOXOOBTaBqp83W7MKAQIECBA4S8Bgdl9Pg9mdeXWp9EiKC8Q5JqsCnCu2OMQ5JqsClbPB7M7aWRhbVz3NmXMssAlU/bzZmlUIECBAgMBZAgaz+3oazO7Mq0ulR1JcIM4xWRXgXLHFIc4xWRWonA1md9bOwti66mnOnGOBTaDq583WrEKAAAECBM4SMJjd19NgdmdeXSo9kuICcY7JqgDnii0OcY7JqkDlbDC7s3YWxtZVT3PmHAtsAlU/b7ZmFQIECBAgcJaAwey+ngazO/PqUumRFBeIc0xWBThXbHGIc0xWBSpng9mdtbMwtq56mjPnWGATqPp5szWrECBAgACBswQMZvf1NJjdmVeXSo+kuECcY7IqwLlii0OcY7IqUDkbzO6snYWxddXTnDnHAptA1c+brVmFAAECBAicJWAwu6+nwezOvLpUeiTFBeIck1UBzhVbHOIck1WBytlgdmftLIytq57mzDkW2ASqft5szSoECBAgQOAsAYPZfT0NZnfm1aXSIykuEOeYrApwrtjiEOeYrApUzgazO2tnYWxd9TRnzrHAJlD182ZrViFAgAABAmcJGMzu62kwuzOvLpUeSXGBOMdkVYBzxRaHOMdkVaByNpjdWTsLY+uqpzlzjgU2gaqfN1uzCgECBAgQOEvAYHZfT4PZnXl1qfRIigvEOSarApwrtjjEOSarApWzwezO2lkYW1c9zZlzLLAJVP282ZpVCBAgQIDAWQIGs/t6GszuzKtLpUdSXCDOMVkV4FyxxSHOMVkVqJwNZnfWzsLYuuppzpxjgU2g6ufN1qxCgAABAgTOEjCY3dfTYHZnXl0qPZLiAnGOyaoA54otDnGOyapA5Wwwu7N2FsbWVU9z5hwLbAJVP2+2ZhUCBAgQIHCWgMHsvp4Gszvz6lLpkRQXiHNMVgU4V2xxiHNMVgUqZ4PZnbWzMLauepoz51hgE6j6ebM1qxAgQIAAgbMEDGb39TSY3ZlXl0qPpLhAnGOyKsC5YotDnGOyKlA5G8zurJ2FsXXV05w5xwKbQNXPm61ZhQABAgQInCVgMLuvp8Hszry6VHokxQXiHJNVAc4VWxziHJNVgcrZYHZn7SyMraue5sw5FtgEqn7ebM0qBAgQIEDgLAGD2X09DWZ35tWl0iMpLhDnmKwKcK7Y4hDnmKwKVM4GsztrZ2FsXfU0Z86xwCZQ9fNma1YhQIAAAQJnCRjM7utpMLszry6VHklxgTjHZFWAc8UWhzjHZFWgcjaY3Vk7C2Prqqc5c44FNoGqnzdbswoBAgQIEDhLwGB2X0+D2Z15dan0SIoLxDkmqwKcK7Y4xDkmqwKVs8HsztpZGFtXPc2ZcyywCVT9vNmaVQgQIECAwFkCBrP7ehrM7syrS6VHUlwgzjFZFeBcscUhzjFZFaicDWZ31s7C2Lrqac6cY4FNoOrnzdasQoAAAQIEzhIwmN3X02B2Z15dKj2S4gJxjsmqAOeKLQ5xjsmqQOVsMLuzdhbG1lVPc+YcC2wCVT9vtmYVAgQIECBwloDB7L6eBrM78+pS6ZEUF4hzTFYFOFdscYhzTFYFKmeD2Z21szC2rnqaM+dYYBOo+nmzNasQIECAAIGzBAxm9/U0mN2ZV5dKj6S4QJxjsirAuWKLQ5xjsipQORvM7qydhbF11dOcOccCm0DVz5utWYUAAQIECJwlYDC7r6fB7M68ulR6JMUF4hyTVQHOFVsc4hyTVYHK2WB2Z+0sjK2rnubMORbYBKp+3mzNKgQIECBA4CwBg9l9PQ1md+bVpdIjKS4Q55isCnCu2OIQ55isClTOBrM7a2dhbF31NGfOscAmUPXzZmtWIUCAAAECZwkYzO7raTC7M68ulR5JcYE4x2RVgHPFFoc4x2RVoHI2mN1ZOwtj66qnOXOOBTaBqp83W7MKAQIECBA4S8Bgdl9Pg9mdeXWp9EiKC8Q5JqsCnCu2OMQ5JqsClbPB7M7aWRhbVz3NmXMssAlU/bzZmlUIECBAgMBZAgaz+3oazO7Mq0ulR1JcIM4xWRXgXLHFIc4xWRWonA1md9bOwti66mnOnGOBTaDq583WrEKAAAECBM4SMJjd19NgdmdeXSo9kuICcY7JqgDnii0OcY7JqkDlbDC7s3YWxtZVT3PmHAtsAlU/b7ZmFQIECBAgcJaAwey+ngazO/PqUumRFBeIc0xWBThXbHGIc0xWBSpng9mdtbMwtq56mjPnWGATqPp5szWrECBAgACBswQMZvf1NJjdmVeXSo+kuECcY7IqwLlii0OcY7IqUDkbzO6snYWxddXTnDnHAptA1c+brVmFAAECBAicJWAwu6+nwezOvLpUeiTFBeIck1UBzhVbHOIck1WBytlgdmftLIytq57mzDkW2ASqft5szSoECBAgQOAsAYPZfT0NZnfm1aXSIykuEOeYrApwrtjiEOeYrApUzgazO2tnYWxd9TRnzrHAJlD182ZrViFAgAABAmcJGMzu62kwuzOvLpUeSXGBOMdkVYBzxRaHOMdkVaByNpjdWTsLY+uqpzlzjgU2gaqfN1uzCgECBAgQOEvAYHZfT4PZnXl1qfRIigvEOSarApwrtjjEOSarApWzwezO2lkYW1c9zZlzLLAJVP282ZpVCBAgQIDAWQIGs/t6GszuzKtLpUdSXCDOMVkV4FyxxSHOMVkVqJwNZnfWzsLYuuppzpxjgU2g6ufN1qxCgAABAgTOEjCY3dfTYHZnXl0qPZLiAnGOyaoA54otDnGOyapA5Wwwu7N2FsbWVU9z5hwLbAJVP2+2ZhUCBAgQIHCWgMHsvp4Gszvz6lLpkRQXiHNMVgU4V2xxiHNMVgUqZ4PZnbWzMLauepoz51hgE6j6ebM1qxAgQIAAgbMEDGb39TSY3ZlXl0qPpLhAnGOyKsC5YotDnGOyKlA5G8zurJ2FsXXV05w5xwKbQNXPm61ZhQABAgQInCVgMLuvp8Hszry6VHokxQXiHJNVAc4VWxziHJNVgcrZYHZn7SyMraue5sw5FtgEqn7ebM0qBAgQIEDgLAGD2X09DWZ35tWl0iMpLhDnmKwKcK7Y4hDnmKwKVM4GsztrZ2FsXfU0Z86xwCZQ9fNma1YhQIAAAQJnCRjM7utpMLszry6VHklxgTjHZFWAc8UWhzjHZFWgcjaY3Vk7C2Prqqc5c44FNoGqnzdbswoBAgQIEDhLwGB2X0+D2Z15dan0SIoLxDkmqwKcK7Y4xDkmqwKVs8HsztpZGFtXPc2ZcyywCVT9vNmaVQgQIECAwFkCBrP7ehrM7syrS6VHUlwgzjFZFeBcscUhzjFZFaicDWZ31s7C2Lrqac6cY4FNoOrnzdasQoAAAQIEzhIwmN3X02B2Z15dKj2S4gJxjsmqAOeKLQ5xjsmqQOVsMLuzdhbG1lVPc+YcC2wCVT9vtmYVAgQIECBwloDB7L6eBrM78+pS6ZEUF4hzTFYFOFdscYhzTFYFKmeD2Z21szC2rnqaM+dYYBOo+nmzNasQIECAAIGzBAxm9/U0mN2ZV5dKj6S4QJxjsirAuWKLQ5xjsipQORvM7qydhbF11dOcOccCm0DVz5utWYUAAQIECJwlYDC7r6fB7M68ulR6JMUF4hyTVQHOFVsc4hyTVYHK2WB2Z+0sjK2rnubMORbYBKp+3mzNKgQIECBA4CwBg9l9PQ1md+bVpdIjKS4Q55isCnCu2OIQ55isClTOBrM7a2dhbF31NGfOscAmUPXzZmtWIUCAAAECZwkYzO7raTC7M68ulR5JcYE4x2RVgHPFFoc4x2RVoHI2mN1ZOwtj66qnOXOOBTaBqp83W7MKAQIECBA4S8Bgdl9Pg9mdeXWp9EiKC8Q5JqsCnCu2OMQ5JqsClbPB7M7aWRhbVz3NmXMssAlU/bzZmlUIECBAgMBZAgaz+3oazO7Mq0ulR1JcIM4xWRXgXLHFIc4xWRWonA1md9bOwti66mnOnGOBTaDq583WrEKAAAECBM4SMJjd19NgdmdeXSo9kuICcY7JqgDnii0OcY7JqkDlbDC7s3YWxtZVT3PmHAtsAlU/b7ZmFQIECBAgcJaAwey+ngazO/PqUumRFBeIc0xWBThXbHGIc0xWBSpng9mdtbMwtq56mjPnWGATqPp5szWrECBAgACBswQMZvf1NJjdmVeXSo+kuECcY7IqwLlii0OcY7IqUDkbzO6snYWxddXTnDnHAptA1c+brVmFAAECBAicJWAwu6+nwezOvLpUeiTFBeIck1UBzhVbHOIck1WBytlgdmftLIytq57mzDkW2ASqft5szSoECBAgQOAsAYPZfT0NZnfm1aXSIykuEOeYrApwrtjiEOeYrApUzgazO2tnYWxd9TRnzrHAJlD182ZrViFAgAABAmcJGMzu62kwuzOvLpUeSXGBOMdkVYBzxRaHOMdkVaByNpjdWTsLY+uqpzlzjgU2gaqfN1uzCgECBAgQOEvAYHZfT4PZnXl1qfRIigvEOSarApwrtjjEOSarApWzwezO2lkYW1c9zZlzLLAJVP282ZpVCBAgQIDAWQIGs/t6GszuzKtLpUdSXCDOMVkV4FyxxSHOMVkVqJwNZnfWzsLYuuppzpxjgU2g6ufN1qxCgAABAgTOEjCY3dfTYHZnXl0qPZLiAnGOyaoA54otDnGOyapA5Wwwu7N2FsbWVU9z5hwLbAJVP2+2ZhUCBAgQIHCWgMHsvp4Gszvz6lLpkRQXiHNMVgU4V2xxiHNMVgUqZ4PZnbWzMLauepoz51hgE6j6ebM1qxAgQIAAgbMEDGb39TSY3ZlXl0qPpLhAnGOyKsC5YotDnGOyKlA5G8zurJ2FsXXV05w5xwKbQNXPm61ZhQABAgQInCVgMLuvp8Hszry6VHokxQXiHJNVAc4VWxziHJNVgcrZYHZn7SyMraue5sw5FtgEqn7ebM0qBAgQIEDgLAGD2X09DWZ35tWl0iMpLhDnmKwKcK7Y4hDnmKwKVM4GsztrZ2FsXfU0Z86xwCZQ9fNma1YhQIAAAQJnCRjM7utpMLszry6VHklxgTjHZFWAc8UWhzjHZFWgcjaY3Vk7C2Prqqc5c44FNoGqnzdbswoBAgQIEDhLwGB2X0+D2Z15dan0SIoLxDkmqwKcK7Y4xDkmqwKVs8HsztpZGFtXPc2ZcyywCVT9vNmaVQgQIECAwFkCBrP7ehrM7syrS6VHUlwgzjFZFeBcscUhzjFZFaicDWZ31s7C2Lrqac6cY4FNoOrnzdasQoAAAQIEzhIwmN3X02B2Z15dKj2S4gJxjsmqAOeKLQ5xjsmqQOVsMLuzdhbG1lVPc+YcC2wCVT9vtmYVAgQIECBwloDB7L6eBrM78+pS6ZEUF4hzTFYFOFdscYhzTFYFKmeD2Z21szC2rnqaM+dYYBOo+nmzNasQIECAAIGzBAxm9/U0mN2ZV5dKj6S4QJxjsirAuWKLQ5xjsipQORvM7qydhbF11dOcOccCm0DVz5utWYUAAQIECJwlYDC7r6fB7M68ulR6JMUF4hyTVQHOFVsc4hyTVYHK2WB2Z+0sjK2rnubMORbYBKp+3mzNKgQIECBA4CwBg9l9PQ1md+bVpdIjKS4Q55isCnCu2OIQ55isClTOBrM7a2dhbF31NGfOscAmUPXzZmtWIUCAAAECZwkYzO7raTC7M68ulR5JcYE4x2RVgHPFFoc4x2RVoHI2mN1ZOwtj66qnOXOOBTaBqp83W7MKAQIECBA4S+BZg9n3z2L5Qv+al/d1v0hXuO/7veu63k1zb/j3L++b9aAHOA+Qr+vizHkjsFml6ufPBrPOw6xGlbV7R4bs3+jYqw3o51Yuy1XO2RK+JkCAAAECBF4JPGUwi5IAAQIECBAgQIAAAQIECBAgQIAAAQIEHhcwmH3cypcECBAgQIAAAQIECBAgQIAAAQIECBB4ioDB7FMY/QgBAgQIECBAgAABAgQIECBAgAABAgQeFzCYfdzKlwQIECBAgAABAgQIECBAgAABAgQIEHiKgMHsUxj9CAECBAgQIECAAAECBAgQIECAAAECBB4XMJh93MqXBAgQIECAAAECBAgQIECAAAECBAgQeIqAwexTGP0IAQIECBAgQIAAAQIECBAgQIAAAQIEHhcwmH3cypcECBAgQIAAAQIECBAgQIAAAQIECBB4ioDB7FMY/QgBAgQIECBAgAABAgQIECBAgAABAgQeFzCYfdzKlwQIECBAgAABAgQIECBAgAABAgQIEHiKgMHsUxj9CAECBAgQIECAAAECBAgQIECAAAECBB4XMJh93MqXBAgQIECAAAECBAgQIECAAAECBAgQeIqAwexTGP0IAQIECBAgQIAAAQIECBAgQIAAAQIEHhd4ymD2vu73H1/yjf/y5X3dL1KF+77fu67r3TT3hn//8r5ZD3qA8wD5ui7OnDcCm1Wqfn61NedhXKDKmjPnWGAT0M9fYefN1qxCgAABAgTOEnjWYPbTs1i+0L/mg/u6v5OucN8/Gn5/O8294d9/cN+sBz3AeYB8XRdnzhuBzSpVP382mHUeZjWqrN07MmT/RsdebUA/t3JZrnLOlvA1AQIECBAg8ErAYHbfBwazO/PqUukxGheIc0xWBThXbHGIc0xWBSpng9mdtbMwtq56mjPnWGATqPp5szWrECBAgACBswQMZvf1NJjdmVeXSo+kuECcY7IqwLlii0OcY7IqUDkbzO6snYWxddXTnDnHAptA1c+brVmFAAECBAicJWAwu6+nwezOvLpUeiTFBeIck1UBzhVbHOIck1WBytlgdmftLIytq57mzDkW2ASqft5szSoECBAgQOAsAYPZfT0NZnfm1aXSIykuEOeYrApwrtjiEOeYrApUzgazO2tnYWxd9TRnzrHAJlD182ZrViFAgAABAmcJGMzu62kwuzOvLpUeSXGBOMdkVYBzxRaHOMdkVaByNpjdWTsLY+uqpzlzjgU2gaqfN1uzCgECBAgQOEvAYHZfT4PZnXl1qfRIigvEOSarApwrtjjEOSarApWzwezO2lkYW1c9zZlzLLAJVP282ZpVCBAgQIDAWQIGs/t6GszuzKtLpUdSXCDOMVkV4FyxxSHOMVkVqJwNZnfWzsLYuuppzpxjgU2g6ufN1qxCgAABAgTOEjCY3dfTYHZnXl0qPZLiAnGOyaoA54otDnGOyapA5Wwwu7N2FsbWVU9z5hwLbAJVP2+2ZhUCBAgQIHCWgMHsvp4Gszvz6lLpkRQXiHNMVgU4V2xxiHNMVgUqZ4PZnbWzMLauepoz51hgE6j6ebM1qxAgQIAAgbMEDGb39TSY3ZlXl0qPpLhAnGOyKsC5YotDnGOyKlA5G8zurJ2FsXXV05w5xwKbQNXPm61ZhQABAgQInCVgMLuvp8Hszry6VHokxQXiHJNVAc4VWxziHJNVgcrZYHZn7SyMraue5sw5FtgEqn7ebM0qBAgQIEDgLAGD2X09DWZ35tWl0iMpLhDnuMY0HAAAIABJREFUmKwKcK7Y4hDnmKwKVM4GsztrZ2FsXfU0Z86xwCZQ9fNma1YhQIAAAQJnCRjM7utpMLszry6VHklxgTjHZFWAc8UWhzjHZFWgcjaY3Vk7C2Prqqc5c44FNoGqnzdbswoBAgQIEDhLwGB2X0+D2Z15dan0SIoLxDkmqwKcK7Y4xDkmqwKVs8HsztpZGFtXPc2ZcyywCVT9vNmaVQgQIECAwFkCBrP7ehrM7syrS6VHUlwgzjFZFeBcscUhzjFZFaicDWZ31s7C2Lrqac6cY4FNoOrnzdasQoAAAQIEzhIwmN3X02B2Z15dKj2S4gJxjsmqAOeKLQ5xjsmqQOVsMLuzdhbG1lVPc+YcC2wCVT9vtmYVAgQIECBwloDB7L6eBrM78+pS6ZEUF4hzTFYFOFdscYhzTFYFKmeD2Z21szC2rnqaM+dYYBOo+nmzNasQIECAAIGzBAxm9/U0mN2ZV5dKj6S4QJxjsirAuWKLQ5xjsipQORvM7qydhbF11dOcOccCm0DVz5utWYUAAQIECJwlYDC7r6fB7M68ulR6JMUF4hyTVQHOFVsc4hyTVYHK2WB2Z+0sjK2rnubMORbYBKp+3mzNKgQIECBA4CwBg9l9PQ1md+bVpdIjKS4Q55isCnCu2OIQ55isClTOBrM7a2dhbF31NGfOscAmUPXzZmtWIUCAAAECZwkYzO7raTC7M68ulR5JcYE4x2RVgHPFFoc4x2RVoHI2mN1ZOwtj66qnOXOOBTaBqp83W7MKAQIECBA4S8Bgdl9Pg9mdeXWp9EiKC8Q5JqsCnCu2OMQ5JqsClbPB7M7aWRhbVz3NmXMssAlU/bzZmlUIECBAgMBZAgaz+3oazO7Mq0ulR1JcIM4xWRXgXLHFIc4xWRWonA1md9bOwti66mnOnGOBTaDq583WrEKAAAECBM4SMJjd19NgdmdeXSo9kuICcY7JqgDnii0OcY7JqkDlbDC7s3YWxtZVT3PmHAtsAlU/b7ZmFQIECBAgcJaAwey+ngazO/PqUumRFBeIc0xWBThXbHGIc0xWBSpng9mdtbMwtq56mjPnWGATqPp5szWrECBAgACBswQMZvf1NJjdmVeXSo+kuECcY7IqwLlii0OcY7IqUDkbzO6snYWxddXTnDnHAptA1c+brVmFAAECBAicJWAwu6+nwezOvLpUeiTFBeIck1UBzhVbHOIck1WBytlgdmftLIytq57mzDkW2ASqft5szSoECBAgQOAsAYPZfT0NZnfm1aXSIykuEOeYrApwrtjiEOeYrApUzgazO2tnYWxd9TRnzrHAJlD182ZrViFAgAABAmcJGMzu62kwuzOvLpUeSXGBOMdkVYBzxRaHOMdkVaByNpjdWTsLY+uqpzlzjgU2gaqfN1uzCgECBAgQOEvAYHZfT4PZnXl1qfRIigvEOSarApwrtjjEOSarApWzwezO2lkYW1c9zZlzLLAJVP282ZpVCBAgQIDAWQIGs/t6GszuzKtLpUdSXCDOMVkV4FyxxSHOMVkVqJwNZnfWzsLYuuppzpxjgU2g6ufN1qxCgAABAgTOEjCY3dfTYHZnXl0qPZLiAnGOyaoA54otDnGOyapA5Wwwu7N2FsbWVU9z5hwLbAJVP2+2ZhUCBAgQIHCWgMHsvp4Gszvz6lLpkRQXiHNMVgU4V2xxiHNMVgUqZ4PZnbWzMLauepoz51hgE6j6ebM1qxAgQIAAgbMEDGb39TSY3ZlXl0qPpLhAnGOyKsC5YotDnGOyKlA5G8zurJ2FsXXV05w5xwKbQNXPm61ZhQABAgQInCVgMLuvp8Hszry6VHokxQXiHJNVAc4VWxziHJNVgcrZYHZn7SyMraue5sw5FtgEqn7ebM0qBAgQIEDgLAGD2X09DWZ35tWl0iMpLhDnmKwKcK7Y4hDnmKwKVM4GsztrZ2FsXfU0Z86xwCZQ9fNma1YhQIAAAQJnCRjM7utpMLszry6VHklxgTjHZFWAc8UWhzjHZFWgcjaY3Vk7C2Prqqc5c44FNoGqnzdbswoBAgQIEDhLwGB2X0+D2Z15dan0SIoLxDkmqwKcK7Y4xDkmqwKVs8HsztpZGFtXPc2ZcyywCVT9vNmaVQgQIECAwFkCBrP7ehrM7syrS6VHUlwgzjFZFeBcscUhzjFZFaicDWZ31s7C2Lrqac6cY4FNoOrnzdasQoAAAQIEzhIwmN3X02B2Z15dKj2S4gJxjsmqAOeKLQ5xjsmqQOVsMLuzdhbG1lVPc+YcC2wCVT9vtmYVAgQIECBwloDB7L6eBrM78+pS6ZEUF4hzTFYFOFdscYhzTFYFKmeD2Z21szC2rnqaM+dYYBOo+nmzNasQIECAAIGzBAxm9/U0mN2ZV5dKj6S4QJxjsirAuWKLQ5xjsipQORvM7qydhbF11dOcOccCm0DVz5utWYUAAQIECJwlYDC7r6fB7M68ulR6JMUF4hyTVQHOFVsc4hyTVYHK2WB2Z+0sjK2rnubMORbYBKp+3mzNKgQIECBA4CwBg9l9PQ1md+bVpdIjKS4Q55isCnCu2OIQ55isClTOBrM7a2dhbF31NGfOscAmUPXzZmtWIUCAAAECZwkYzO7raTC7M68ulR5JcYE4x2RVgHPFFoc4x2RVoHI2mN1ZOwtj66qnOXOOBTaBqp83W7MKAQIECBA4S8Bgdl9Pg9mdeXWp9EiKC8Q5JqsCnCu2OMQ5JqsClbPB7M7aWRhbVz3NmXMssAlU/bzZmlUIECBAgMBZAgaz+3oazO7Mq0ulR1JcIM4xWRXgXLHFIc4xWRWonA1md9bOwti66mnOnGOBTaDq583WrEKAAAECBM4SMJjd19NgdmdeXSo9kuICcY7JqgDnii0OcY7JqkDlbDC7s3YWxtZVT3PmHAtsAlU/b7ZmFQIECBAgcJaAwey+ngazO/PqUumRFBeIc0xWBThXbHGIc0xWBSpng9mdtbMwtq56mjPnWGATqPp5szWrECBAgACBswQMZvf1NJjdmVeXSo+kuECcY7IqwLlii0OcY7IqUDkbzO6snYWxddXTnDnHAptA1c+brVmFAAECBAicJWAwu6+nwezOvLpUeiTFBeIck1UBzhVbHOIck1WBytlgdmftLIytq57mzDkW2ASqft5szSoECBAgQOAsAYPZfT0NZnfm1aXSIykuEOeYrApwrtjiEOeYrApUzgazO2tnYWxd9TRnzrHAJlD182ZrViFAgAABAmcJGMzu62kwuzOvLpUeSXGBOMdkVYBzxRaHOMdkVaByNpjdWTsLY+uqpzlzjgU2gaqfN1uzCgECBAgQOEvAYHZfT4PZnXl1qfRIigvEOSarApwrtjjEOSarApWzwezO2lkYW1c9zZlzLLAJVP282ZpVCBAgQIDAWQIGs/t6GszuzKtLpUdSXCDOMVkV4FyxxSHOMVkVqJwNZnfWzsLYuuppzpxjgU2g6ufN1qxCgAABAgTOEjCY3dfTYHZnXl0qPZLiAnGOyaoA54otDnGOyapA5Wwwu7N2FsbWVU9z5hwLbAJVP2+2ZhUCBAgQIHCWgMHsvp4Gszvz6lLpkRQXiHNMVgU4V2xxiHNMVgUqZ4PZnbWzMLauepoz51hgE6j6ebM1qxAgQIAAgbMEDGb39TSY3ZlXl0qPpLhAnGOyKsC5YotDnGOyKlA5G8zurJ2FsXXV05w5xwKbQNXPm61ZhQABAgQInCVgMLuvp8Hszry6VHokxQXiHJNVAc4VWxziHJNVgcrZYHZn7SyMraue5sw5FtgEqn7ebM0qBAgQIEDgLAGD2X09DWZ35tWl0iMpLhDnmKwKcK7Y4hDnmKwKVM4GsztrZ2FsXfU0Z86xwCZQ9fNma1YhQIAAAQJnCRjM7utpMLszry6VHklxgTjHZFWAc8UWhzjHZFWgcjaY3Vk7C2Prqqc5c44FNoGqnzdbswoBAgQIEDhLwGB2X0+D2Z15dan0SIoLxDkmqwKcK7Y4xDkmqwKVs8HsztpZGFtXPc2ZcyywCVT9vNmaVQgQIECAwFkCBrP7ehrM7syrS6VHUlwgzjFZFeBcscUhzjFZFaicDWZ31s7C2Lrqac6cY4FNoOrnzdasQoAAAQIEzhIwmN3X02B2Z15dKj2S4gJxjsmqAOeKLQ5xjsmqQOVsMLuzdhbG1lVPc+YcC2wCVT9vtmYVAgQIECBwloDB7L6eBrM78+pS6ZEUF4hzTFYFOFdscYhzTFYFKmeD2Z21szC2rnqaM+dYYBOo+nmzNasQIECAAIGzBAxm9/U0mN2ZV5dKj6S4QJxjsirAuWKLQ5xjsipQORvM7qydhbF11dOcOccCm0DVz5utWYUAAQIECJwlYDC7r6fB7M68ulR6JMUF4hyTVQHOFVsc4hyTVYHK2WB2Z+0sjK2rnubMORbYBKp+3mzNKgQIECBA4CwBg9l9PQ1md+bVpdIjKS4Q55isCnCu2OIQ55isClTOBrM7a2dhbF31NGfOscAmUPXzZmtWIUCAAAECZwkYzO7raTC7M68ulR5JcYE4x2RVgHPFFoc4x2RVoHI2mN1ZOwtj66qnOXOOBTaBqp83W7MKAQIECBA4S8Bgdl9Pg9mdeXWp9EiKC8Q5JqsCnCu2OMQ5JqsClbPB7M7aWRhbVz3NmXMssAlU/bzZmlUIECBAgMBZAgaz+3oazO7Mq0ulR1JcIM4xWRXgXLHFIc4xWRWonA1md9bOwti66mnOnGOBTaDq583WrEKAAAECBM4SMJjd19NgdmdeXSo9kuICcY7JqgDnii0OcY7JqkDlbDC7s3YWxtZVT3PmHAtsAlU/b7ZmFQIECBAgcJaAwey+ngazO/PqUumRFBeIc0xWBThXbHGIc0xWBSpng9mdtbMwtq56mjPnWGATqPp5szWrECBAgACBswQMZvf1NJjdmVeXSo+kuECcY7IqwLlii0OcY7IqUDkbzO6snYWxddXTnDnHAptA1c+brVmFAAECBAicJfCswez7Z7F8oX/Ny/u6X6Qr3Pf93nVd76a5N/z7l/fNetADnAfI13Vx5rwR2KxS9fNng1nnYVajytq9I0P2b3Ts1Qb0cyuX5SrnbAlfEyBAgAABAq8EnjKYRUmAAAECBAgQIECAAAECBAgQIECAAAECjwsYzD5u5UsCBAgQIECAAAECBAgQIECAAAECBAg8RcBg9imMfoQAAQIECBAgQIAAAQIECBAgQIAAAQKPCxjMPm7lSwIECBAgQIAAAQIECBAgQIAAAQIECDxFwGD2KYx+hAABAgQIECBAgAABAgQIECBAgAABAo8LGMw+buVLAgQIECBAgAABAgQIECBAgAABAgQIPEXAYPYpjH6EAAECBAgQIECAAAECBAgQIECAAAECjwsYzD5u5UsCBAgQIECAAAECBAgQIECAAAECBAg8RcBg9imMfoQAAQIECBAgQIAAAQIECBAgQIAAAQKPCxjMPm7lSwIECBAgQIAAAQIECBAgQIAAAQIECDxFwGD2KYx+hAABAgQIECBAgAABAgQIECBAgAABAo8LGMw+buVLAgQIECBAgAABAgQIECBAgAABAgQIPEXAYPYpjH6EAAECBAgQIECAAAECBAgQIECAAAECjwsYzD5u5UsCBAgQIECAAAECBAgQIECAAAECBAg8ReApg9n7ut9/ym7ejB95eV/3i/RPve/7veu63k1zb/j3L++b9aAHOA+Qr+vizHkjsFml6udXW3MexgWqrDlzjgU2Af38FXbebM0qBAgQIEDgLIFnDWY/PYvlC/1rPriv+zvpCvf9o+H3t9PcG/79B/fNetADnAfI13Vx5rwR2KxS9fNng1nnYVajytq9I0P2b3Ts1Qb0cyuX5SrnbAlfEyBAgAABAq8EDGb3fWAwuzOvLpUeo3GBOMdkVYBzxRaHOMdkVaByNpjdWTsLY+uqpzlzjgU2gaqfN1uzCgECBAgQOEvAYHZfT4PZnXl1qfRIigvEOSarApwrtjjEOSarApWzwezO2lkYW1c9zZlzLLAJVP282ZpVCBAgQIDAWQIGs/t6GszuzKtLpUdSXCDOMVkV4FyxxSHOMVkVqJwNZnfWzsLYuuppzpxjgU2g6ufN1qxCgAABAgTOEjCY3dfTYHZnXl0qPZLiAnGOyaoA54otDnGOyapA5Wwwu7N2FsbWVU9z5hwLbAJVP2+2ZhUCBAgQIHCWgMHsvp4Gszvz6lLpkRQXiHNMVgU4V2xxiHNMVgUqZ4PZnbWzMLauepoz51hgE6j6ebM1qxAgQIAAgbMEDGb39TSY3ZlXl0qPpLhAnGOyKsC5YotDnGOyKlA5G8zurJ2FsXXV05w5xwKbQNXPm61ZhQABAgQInCVgMLuvp8Hszry6VHokxQXiHJNVAc4VWxziHJNVgcrZYHZn7SyMraue5sw5FtgEqn7ebM0qBAgQIEDgLAGD2X09DWZ35tWl0iMpLhDnmKwKcK7Y4hDnmKwKVM4GsztrZ2FsXfU0Z86xwCZQ9fNma1YhQIAAAQJnCRjM7utpMLszry6VHklxgTjHZFWAc8UWhzjHZFWgcjaY3Vk7C2Prqqc5c44FNoGqnzdbswoBAgQIEDhLwGB2X0+D2Z15dan0SIoLxDkmqwKcK7Y4xDkmqwKVs8HsztpZGFtXPc2ZcyywCVT9vNmaVQgQIECAwFkCBrP7ehrM7syrS6VHUlwgzjFZFeBcscUhzjFZFaicDWZ31s7C2Lrqac6cY4FNoOrnzdasQoAAAQIEzhIwmN3X02B2Z15dKj2S4gJxjsmqAOeKLQ5xjsmqQOVsMLuzdhbG1lVPc+YcC2wCVT9vtmYVAgQIECBwloDB7L6eBrM78+pS6ZEUF4hzTFYFOFdscYhzTFYFKmeD2Z21szC2rnqaM+dYYBOo+nmzNasQIECAAIGzBAxm9/U0mN2ZV5dKj6S4QJxjsirAuWKLQ5xjsipQORvM7qydhbF11dOcOccCm0DVz5utWYUAAQIECJwlYDC7r6fB7M68ulR6JMUF4hyTVQHOFVsc4hyTVYHK2WB2Z+0sjK2rnubMORbYBKp+3mzNKgQIECBA4CwBg9l9PQ1md+bVpdIjKS4Q55isCnCu2OIQ55isClTOBrM7a2dhbF31NGfOscAmUPXzZmtWIUCAAAECZwkYzO7raTC7M68ulR5JcYE4x2RVgHPFFoc4x2RVoHI2mN1ZOwtj66qnOXOOBTaBqp83W7MKAQIECBA4S8Bgdl9Pg9mdeXWp9EiKC8Q5JqsCnCu2OMQ5JqsClbPB7M7aWRhbVz3NmXMssAlU/bzZmlUIECBAgMBZAgaz+3oazO7Mq0ulR1JcIM4xWRXgXLHFIc4xWRWonA1md9bOwti66mnOnGOBTaDq583WrEKAAAECBM4SMJjd19NgdmdeXSo9kuICcY7JqgDnii0OcY7JqkDlbDC7s3YWxtZVT3PmHAtsAlU/b7ZmFQIECBAgcJaAwey+ngazO/PqUumRFBeIc0xWBThXbHGIc0xWBSpng9mdtbMwtq56mjPnWGATqPp5szWrECBAgACBswQMZvf1NJjdmVeXSo+kuECcY7IqwLlii0OcY7IqUDkbzO6snYWxddXTnDnHAptA1c+brVmFAAECBAicJWAwu6+nwezOvLpUeiTFBeIck1UBzhVbHOIck1WBytlgdmftLIytq57mzDkW2ASqft5szSoECBAgQOAsAYPZfT0NZnfm1aXSIykuEOeYrApwrtjiEOeYrApUzgazO2tnYWxd9TRnzrHAJlD182ZrViFAgAABAmcJGMzu62kwuzOvLpUeSXGBOMdkVYBzxRaHOMdkVaByNpjdWTsLY+uqpzlzjgU2gaqfN1uzCgECBAgQOEvAYHZfT4PZnXl1qfRIigvEOSarApwrtjjEOSarApWzwezO2lkYW1c9zZlzLLAJVP282ZpVCBAgQIDAWQIGs/t6GszuzKtLpUdSXCDOMVkV4FyxxSHOMVkVqJwNZnfWzsLYuuppzpxjgU2g6ufN1qxCgAABAgTOEjCY3dfTYHZnXl0qPZLiAnGOyaoA54otDnGOyapA5Wwwu7N2FsbWVU9z5hwLbAJVP2+2ZhUCBAgQIHCWgMHsvp4Gszvz6lLpkRQXiHNMVgU4V2xxiHNMVgUqZ4PZnbWzMLauepoz51hgE6j6ebM1qxAgQIAAgbMEDGb39TSY3ZlXl0qPpLhAnGOyKsC5YotDnGOyKlA5G8zurJ2FsXXV05w5xwKbQNXPm61ZhQABAgQInCVgMLuvp8Hszry6VHokxQXiHJNVAc4VWxziHJNVgcrZYHZn7SyMraue5sw5FtgEqn7ebM0qBAgQIEDgLAGD2X09DWZ35tWl0iMpLhDnmKwKcK7Y4hDnmKwKVM4GsztrZ2FsXfU0Z86xwCZQ9fNma1YhQIAAAQJnCRjM7utpMLszry6VHklxgTjHZFWAc8UWhzjHZFWgcjaY3Vk7C2Prqqc5c44FNoGqnzdbswoBAgQIEDhLwGB2X0+D2Z15dan0SIoLxDkmqwKcK7Y4xDkmqwKVs8HsztpZGFtXPc2ZcyywCVT9vNmaVQgQIECAwFkCBrP7ehrM7syrS6VHUlwgzjFZFeBcscUhzjFZFaicDWZ31s7C2Lrqac6cY4FNoOrnzdasQoAAAQIEzhIwmN3X02B2Z15dKj2S4gJxjsmqAOeKLQ5xjsmqQOVsMLuzdhbG1lVPc+YcC2wCVT9vtmYVAgQIECBwloDB7L6eBrM78+pS6ZEUF4hzTFYFOFdscYhzTFYFKmeD2Z21szC2rnqaM+dYYBOo+nmzNasQIECAAIGzBAxm9/U0mN2ZV5dKj6S4QJxjsirAuWKLQ5xjsipQORvM7qydhbF11dOcOccCm0DVz5utWYUAAQIECJwlYDC7r6fB7M68ulR6JMUF4hyTVQHOFVsc4hyTVYHK2WB2Z+0sjK2rnubMORbYBKp+3mzNKgQIECBA4CwBg9l9PQ1md+bVpdIjKS4Q55isCnCu2OIQ55isClTOBrM7a2dhbF31NGfOscAmUPXzZmtWIUCAAAECZwkYzO7raTC7M68ulR5JcYE4x2RVgHPFFoc4x2RVoHI2mN1ZOwtj66qnOXOOBTaBqp83W7MKAQIECBA4S8Bgdl9Pg9mdeXWp9EiKC8Q5JqsCnCu2OMQ5JqsClbPB7M7aWRhbVz3NmXMssAlU/bzZmlUIECBAgMBZAgaz+3oazO7Mq0ulR1JcIM4xWRXgXLHFIc4xWRWonA1md9bOwti66mnOnGOBTaDq583WrEKAAAECBM4SMJjd19NgdmdeXSo9kuICcY7JqgDnii0OcY7JqkDlbDC7s3YWxtZVT3PmHAtsAlU/b7ZmFQIECBAgcJaAwey+ngazO/PqUumRFBeIc0xWBThXbHGIc0xWBSpng9mdtbMwtq56mjPnWGATqPp5szWrECBAgACBswQMZvf1NJjdmVeXSo+kuECcY7IqwLlii0OcY7IqUDkbzO6snYWxddXTnDnHAptA1c+brVmFAAECBAicJWAwu6+nwezOvLpUeiTFBeIck1UBzhVbHOIck1WBytlgdmftLIytq57mzDkW2ASqft5szSoECBAgQOAsAYPZfT0NZnfm1aXSIykuEOeYrApwrtjiEOeYrApUzgazO2tnYWxd9TRnzrHAJlD182ZrViFAgAABAmcJGMzu62kwuzOvLpUeSXGBOMdkVYBzxRaHOMdkVaByNpjdWTsLY+uqpzlzjgU2gaqfN1uzCgECBAgQOEvAYHZfT4PZnXl1qfRIigvEOSarApwrtjjEOSarApWzwezO2lkYW1c9zZlzLLAJVP282ZpVCBAgQIDAWQIGs/t6GszuzKtLpUdSXCDOMVkV4FyxxSHOMVkVqJwNZnfWzsLYuuppzpxjgU2g6ufN1qxCgAABAgTOEjCY3dfTYHZnXl0qPZLiAnGOyaoA54otDnGOyapA5Wwwu7N2FsbWVU9z5hwLbAJVP2+2ZhUCBAgQIHCWgMHsvp4Gszvz6lLpkRQXiHNMVgU4V2xxiHNMVgUqZ4PZnbWzMLauepoz51hgE6j6ebM1qxAgQIAAgbMEDGb39TSY3ZlXl0qPpLhAnGOyKsC5YotDnGOyKlA5G8zurJ2FsXXV05w5xwKbQNXPm61ZhQABAgQInCVgMLuvp8Hszry6VHokxQXiHJNVAc4VWxziHJNVgcrZYHZn7SyMraue5sw5FtgEqn7ebM0qBAgQIEDgLAGD2X09DWZ35tWl0iMpLhDnmKwKcK7Y4hDnmKwKVM4GsztrZ2FsXfU0Z86xwCZQ9fNma1YhQIAAAQJnCRjM7utpMLszry6VHklxgTjHZFWAc8UWhzjHZFWgcjaY3Vk7C2Prqqc5c44FNoGqnzdbswoBAgQIEDhLwGB2X0+D2Z15dan0SIoLxDkmqwKcK7Y4xDkmqwKVs8HsztpZGFtXPc2ZcyywCVT9vNmaVQgQIECAwFkCBrP7ehrM7syrS6VHUlwgzjFZFeBcscUhzjFZFaicDWZ31s7C2Lrqac6cY4FNoOrnzdasQoAAAQIEzhIwmN3X02B2Z15dKj2S4gJxjsmqAOeKLQ5xjsmqQOVsMLuzdhbG1lVPc+YcC2wCVT9vtmYVAgQIECBwloDB7L6eBrM78+pS6ZEUF4hzTFYFOFdscYhzTFYFKmeD2Z21szC2rnqaM+dYYBOo+nmzNasQIECAAIGzBAxm9/U0mN2ZV5dKj6S4QJxjsirAuWKLQ5xjsipQORvM7qydhbF11dOcOccCm0DVz5utWYUAAQIECJwlYDC7r6fB7M68ulR6JMUF4hyTVQHOFVsc4hyTVYHK2WB2Z+0sjK2rnubMORbYBKp+3mzNKgQIECBA4CwBg9l9PQ1md+bVpdIjKS4Q55isCnCu2OIQ55isClTOBrM7a2dhbF31NGfOscAmUPXzZmtWIUCAAAECZwkYzO7OI1cWAAAgAElEQVTraTC7M68ulR5JcYE4x2RVgHPFFoc4x2RVoHI2mN1ZOwtj66qnOXOOBTaBqp83W7MKAQIECBA4S8Bgdl9Pg9mdeXWp9EiKC8Q5JqsCnCu2OMQ5JqsClbPB7M7aWRhbVz3NmXMssAlU/bzZmlUIECBAgMBZAgaz+3oazO7Mq0ulR1JcIM4xWRXgXLHFIc4xWRWonA1md9bOwti66mnOnGOBTaDq583WrEKAAAECBM4SMJjd19NgdmdeXSo9kuICcY7JqgDnii0OcY7JqkDlbDC7s3YWxtZVT3PmHAtsAlU/b7ZmFQIECBAgcJaAwey+ngazO/PqUumRFBeIc0xWBThXbHGIc0xWBSpng9mdtbMwtq56mjPnWGATqPp5szWrECBAgACBswQMZvf1NJjdmVeXSo+kuECcY7IqwLlii0OcY7IqUDkbzO6snYWxddXTnDnHAptA1c+brVmFAAECBAicJWAwu6+nwezOvLpUeiTFBeIck1UBzhVbHOIck1WBytlgdmftLIytq57mzDkW2ASqft5szSoECBAgQOAsAYPZfT0NZnfm1aXSIykuEOeYrApwrtjiEOeYrApUzgazO2tnYWxd9TRnzrHAJlD182ZrViFAgAABAmcJGMzu62kwuzOvLpUeSXGBOMdkVYBzxRaHOMdkVaByNpjdWTsLY+uqpzlzjgU2gaqfN1uzCgECBAgQOEvAYHZfT4PZnXl1qfRIigvEOSarApwrtjjEOSarApWzwezO2lkYW1c9zZlzLLAJVP282ZpVCBAgQIDAWQLPGsy+fxbLF/rXvLyv+0W6wn3f713X9W6ae8O/f3nfrAc9wHmAfF0XZ84bgc0qVT9/Nph1HmY1qqzdOzJk/0bHXm1AP7dyWa5yzpbwNQECBAgQIPBK4CmDWZQECBAgQIAAAQIECBAgQIAAAQIECBAg8LiAwezjVr4kQIAAAQIECBAgQIAAAQIECBAgQIDAUwQMZp/C6EcIECBAgAABAgQIECBAgAABAgQIECDwuIDB7ONWviRAgAABAgQIECBAgAABAgQIECBAgMBTBAxmn8LoRwgQIECAAAECBAgQIECAAAECBAgQIPC4gMHs41a+JECAAAECBAgQIECAAAECBAgQIECAwFMEDGafwuhHCBAgQIAAAQIECBAgQIAAAQIECBAg8LiAwezjVr4kQIAAAQIECBAgQIAAAQIECBAgQIDAUwQMZp/C6EcIECBAgAABAgQIECBAgAABAgQIECDwuIDB7ONWviRAgAABAgQIECBAgAABAgQIECBAgMBTBAxmn8LoRwgQIECAAAECBAgQIECAAAECBAgQIPC4gMHs41a+JECAAAECBAgQIECAAAECBAgQIECAwFMEDGafwuhHCBAgQIAAAQIECBAgQIAAAQIECBAg8LjAUwaz93W///iSb/yXL+/rfpEq3Pf93nVd76a5N/z7l/fNetADnAfI13V9Ic5vvfXW1955551vvf322//hG9/4xlubP+Wru8rXv/71//2tb33rf6Y7/MEPfvBfPv744/+Y5trvf/jDH37y0Ucf/Z8PP/zwB5988smn7e98ibmqn1/t13kYV62y5sw5FtgE9DPnjcBolfu+vzNayjIECBAg8BUVeNZg9nV8FH5ZJfngvvID+L5/NPz+9pe16dd03Q+ayw7ruNqcY7Iq8HTnt9566/qVX/mV6xd+4Reub37zm9fXv/71amMnhd56662Pf+InfuJf0r/p3/7t337qk08+mQF+/PHH17/+679ef/M3f3P95V/+5fXJJ5+kW/6yv6/6+bPBrPMwq15l7SzMkK/r4hyTVQHOFVsc4hyTdYH7vp/yHu9WlyJAgACBr4LAUw6C+7oNZh+vpsHs41af90uXys8r+Fie82NOn/erpzv/4i/+4vXLv/zL18/8zM9cb7/99vW1rz3lSPi8f+eXmv/GN77x0c///M9/L93E3//93/+nH/7wh2+nufb7Tz/99Proo4+uf/qnf7q+//3vX3/913/d/tSXlav62WC2KldlbTAbW3OOyaoA54otDnGOybqAwWznJkWAAIGTBJ7yCjeYjVrCYDbi+lwfu1R+Lr6Hw5wfpvpcHz7d+Vd/9VevX/qlX7p+9md/1lD2s9K8LoPZV9t9NZz9x3/8x+uv/uqvrr/4i7/4XM31JYSrfjaYrSpVWRvMxtacY7IqwLlii0OcY7IuYDDbuUkRIEDgJAGD2X01DWZ35i6VG2vOr6nzr//6r1/vvPPO9dM//dObv+A1WOV1Gsy+4vznf/7n68MPP7z+/M///DXQ/XdbrP7dMJitylxZG8zG1pxjsirAuWKLQ5xjsi5gMNu5SREgQOAkAYPZfTUNZnfmLpUba86vqbPB7P9bOIPZTTO3/3+cBrNVffwbXbHFIc4xWRXgXLHFIc4xWRcwmO3cpAgQIHCSgMHsvpoGsztzl8qNNefX1Nlg1mB207r/31WqfzcMZquKVdb+i9nYmnNMVgU4V2xxiHNM1gUMZjs3KQIECJwkYDC7r6bB7M7cpXJjzfk1df5xg9k//W9/ev3Lh/+y+at+zCo/9c5PXb/1339rvgf/xeyMvPp3w2C2qk9lbTAbW3OOyaoA54otDnGOybqAwWznJkWAAIGTBAxm99U0mN2Zu1RurDm/ps4/bjD7J//1T65/+F//sPmrfswqP/eff+767v/4br2HP/zDP7z+4A/+4Prbv/3b65vf/Ob1ve9976HfWgxmf+/3fu/6/d///R/t7fP+z//H7OcVfCPy/o3elJkz543AZhX9vHG+DGZH0JYhQIDAV1jAYHZfHIPZnblL5caa82vqfOpg9u/+7u+u3/iN37i++93vXi9evLh+8id/8vq1X/u1h6pkMPsQ0zM+qv7deLWw/5Iz5q+sOXOOBTYB/cx5IzBaxWB2BG0ZAgQIfIUFDGb3xTGY3Zm7vG+sOb+mzqcOZv/sz/7s+u3f/u3rj/7oj67f/M3fjKpjMBtxfZ6Pq383DGYr8sraYDa25hyTVQHOFVsc4hyTdQGD2c5NigABAicJGMzuq2kwuzN3qdxYc35NnU8czP7u7/7u9cd//Mf/riK/8zv/l707j9X9LMuG/aOUAiUKBSyDBBResErBlCZWBofUN0FjjEA0BJFEGRwYNCBgJIiPA6iAqBVjFCEgVFCIhETzKcQKEqpoigMK5YNQK4ZRwEoBK6X9shZt49Dy9Ty799Vn3T36j294r3Pfax/XzbPvni7X/u7tV37lV7ZXvepV28tf/vLt/e9//3byySdvD33oQ7dnP/vZ2ymnnHLN/Jd/+ZdvT3nKUz50yimnfP4lL3nJqZ/85CdPPOussz517rnn/tPB0BOe8IS7v/Wtb/3S29zmNlc87nGP++hzn/vcDx/85x/96Ee/+iMf+cjJv/iLv7idf/7524c+9KHDX/ess846POMud7nLNWdc248yuPzyy7ff+I3fOPzaP/CBDxxmv/M7v3P78R//8e1Wt7rVdd4wP8pg5r98R/wUn9EzC+TMeUZg5hT3ecbZjzIYcnYMAQIE9llAMTu/HcXsnLlH5Yw15yPqvGIx+0//9E/beeedt/3kT/7k9tznPne73/3ut93hDnfYfvd3f3f7zd/8ze2xj33s9s3f/M3bwY87eP7zn39YmL7hDW/Ybn7zmx9u8aCYvctd7vKf97nPfT77Qz/0Qx/78Ic/fOKzn/3su59xxhmXfvrTn775//2///eSBz3oQZf+/u///u1f/epX3/E1r3nN+x75yEdeclDMXnjhhSf/zu/8zmEZe3DmRz7ykcMzP/7xj29vectbrilYr62Y/eEf/uHtTW960/akJz1pO/PMM7f3ve992wte8ILD7/h9yUteopj9LwK+kzP+wPEZHZNVAc4VWxziHJNVAc4VWx7yHbO5mQQBAgRWE1DMzm9UMTtn7lE5Y835iDqvWMwerOLP//zPt0c96lGH3336oAc96PA7UA/+59Oe9rTtqU996jXb+uu//uvtYQ972PbSl750+9Zv/dZritl73OMel733ve/9h1vc4haH/9njH//4u730pS+90zOe8YwPPv/5z//QwX/2uc99brvTne70tWefffYlr3vd6/7poJi9/PLLT/6vV+Hzn//8YQF88PNuf/u3f3v7tm/7tsP/7/9ZzL797W/fHvGIRxx+V+/Bd/de/c8f/MEfHHz37vYnf/In2+mnn36tt8x3zM78l++In+IzemaBnDnPCMyc4j7POPuO2SFnxxAgQGCfBRSz89tRzM6Ze1TOWHM+os43lWL23HPP3Z75zGdub3vb27a73e1u/21b973vfQ9L3N1ud00x+73f+70fe+UrX/nPVw++8IUvvOMznvGMe7z5zW9+9zd90zd95ur//Iwzzjjt1re+9RXnn3/+/3t1MfuKV7xie+UrX7ldfPHF22c+c83o9hM/8RPbk5/85GstZn/hF37h8Dtr3/Wud21Xl8EHg5dccsl2//vff/uZn/mZ7XGPe5xi9ioB3zEbf+D4jI7JqgDnii0OcY7JqgDnii0P+Y7Z3EyCAAECqwkoZuc3qpidM/eonLHmfESdbyrF7K/+6q8e/tiC6/rn4C8KO5g5+OfqnzF7zjnnfPDq+XPOOecOP/qjP/oV73znO//h9NNPv+zq//yss876qoOfDXvBBRe856CY/a3f+q2TD36Ewg/8wA8c/riE2972ttsVV1yxfcd3fMfhd+v+2I/92LUWs894xjMOf9TCdf1z8F2+T3/60xWzitn2k8ZndCuX5ThnXu0051Yuy3HOvOppxWxNJ0iAAIFlBBSz86tUzM6Ze1TOWHM+os43lWL24Oe+HnzH6qtf/erDsvR//nPwF23d/e53v8HF7Ld/+7effPAXdf3e7/3eNUf88z//8/bABz7wixazz3ve8w5/nMLBjy64tn/udKc7bXe+850Vs4rZ9pPGZ3Qrl+U4Z17tNOdWLstxzrzqacVsTSdIgACBZQQUs/OrVMzOmXtUzlhzPqLON5Vi9uAvBPuGb/iGw++aPfixBV/snxvyHbNnn332yaeeeur2qle96pojDv4Cr4OfHfvFvmP2/PPPP/zZsq95zWsOv87kHz9jNtG6yc76jJ5ZPWfOMwIzp7jPM85+xuyQs2MIECCwzwKK2fntKGbnzD0qZ6w5H1Hnm0oxe7Cen//5nz/8C7i+//u/f/v6r//67Za3vOX2wQ9+cHvrW996WNY++MEPPtziDSlmf/Znf/bkX//1Xz/8ebYHtgc/0/aP/uiPtosuuuiLFrMH5z7pSU/a/uzP/mx7whOesJ1xxhnbCSeccPiXlp133nnbs571rO1e97rXtd4yxezMf/mO+Ck+o2cWyJnzjMDMKe7zjLNidsjZMQQIENhnAcXs/HYUs3PmHpUz1pyPqPNNqZg9WNHrXve67eUvf/l24YUXbje72c22u971rttDHvKQw1L04P99Q4vZT33qUyf/9E//9GEZe9lllx0WwD/3cz/3//ujDA7OPfhZtC972csOv2v2/e9//3bSSScd/kVlBz+r9kd+5Ee2L/3SL1XMXiXgL/+KP3B8RsdkVYBzxRaHOMdkVYBzxZaH/CiD3EyCAAECqwkoZuc3qpidM/eonLHmfESdr6uYPe/J522XvO+Smd/VdZxy2/9z2+3sF589/jWceOKJnzn11FPfnR588Jd/XX755SenuRs67ztmb6jgTSLvM3pmzZw5zwjMnOI+zzj7jtkhZ8cQIEBgnwUUs/PbUczOmXtUzlhzPqLO11XMzvx29vMUxezYXqrPjYOvznfMxjuqrDlzjgVmAu4z5xmBoVN8x+wQtGMIECCwxwKK2fnlKGbnzD3eZ6w5H1Fnxez/XpxiduYyb9tWfW4oZqv9VNaK2diac0xWBThXbHGIc0zWBRSznZsUAQIEVhJQzM5vUzE7Z+5ROWPN+Yg6K2YVszNX91pPqT43FLPVxiprxWxszTkmqwKcK7Y4xDkm6wKK2c5NigABAisJKGbnt6mYnTP3qJyx5nxEnRWzitmZq6uYvRGdD472GT2zAM6cZwRmTnGfZ5z9jNkhZ8cQIEBgnwUUs/PbUczOmXtUzlhzPqLOilnF7MzVVczeiM6K2Tl8fxbOWHPmPCMwdIrvmB2CdgwBAgT2WEAxO78cxeycucf7jDXnI+qsmFXMzlxdxeyN6KyYncP3Z+GMNWfOMwJDpyhmh6AdQ4AAgT0WUMzOL0cxO2fu8T5jzfmIOitmFbMzV1cxeyM6K2bn8P1ZOGPNmfOMwNApitkhaMcQIEBgjwUUs/PLUczOmXu8z1hzPqLOilnF7MzVVczeiM6K2Tl8fxbOWHPmPCMwdIpidgjaMQQIENhjAcXs/HIUs3PmHu8z1pyPqLNiVjE7c3UVszeis2J2Dt+fhTPWnDnPCAydopgdgnYMAQIE9lhAMTu/HMXsnLnH+4w15yPqfF3F7HnnnbddcsklM7+r6zjltre97Xb22WePfw0nnnjiZ0499dR3pwd/9KMf/erLL7/85DR3Q+c/+clPbu973/u2v/3bv72hv9R0vvrcOPgid7vdBdu2PWD6Cz7C51XWnOONc47JqgDnii0OcY7JuoBitnOTIkCAwEoCitn5bSpm58w9KmesOR9R5+sqZl//+tdv//qv/zrzu7qOU+54xztuD3/4w8e/hutbzN7sZjc786lPfeqHXvSiF33w4ItUzMarqj43FLOx80GgslbMxtacY7IqwLlii0OcY7IuoJjt3KQIECCwkoBidn6bitk5c4/KGWvOR9RZMfu/F6eYnbnMbVmomK324zO6YotDnGOyKsC5YotDnGOyLqCY7dykCBAgsJKAYnZ+m4rZOXOPyhlrzkfUWTGrmJ25utd6SvW5oZitNlZZ+47Z2JpzTFYFOFdscYhzTNYFFLOdmxQBAgRWElDMzm9TMTtn7lE5Y835iDqvWsz+0i/90vaiF71oe8tb3rI95znP2f7qr/5qO+WUU7anP/3p2yMf+cjtda973XbOOedsH/rQh7av/dqv3V74whduX/EVX3G4xTe84Q2XveIVr/jP97znPbe+7LLLTrjHPe5x2ROf+MSPPOUpT/n4f13ztf0og7/7u787+QUveMHheZdddtl2+umnb8961rO2s84667jdED9j9rjRrvQL+4ye2SZnzjMCM6e4zzPOBz83/Zj8+/jQl+sYAgQIEDgOAsfkD4LdtrvyOHxtq/6Sitm5zXpUzlhzPqLOqxezp5122vY93/M9273vfe/tFa94xfbHf/zH25Of/OTtL/7iL7YnPvGJ2+c+97ntp37qp7a73vWu2x/+4R8ebvGcc8753O1ud7sP3ec+97nshBNOuPLNb37zl7z4xS++8/Oe97wPPPOZz/zY1av+n8XsG9/4xvs+7GEPu9VBGfv4xz9+u/Wtb7298pWvPCyH3/CGN2z3v//9j8stUcweF9bVflGf0TMb5cx5RmDmFPd5xlkxO+TsGAIECOyzgGJ2fjuK2Tlzj8oZa85H1Hn1YvZXfuVXtu/+7u8+3M6//du/HZajX/IlX7L95V/+5eH/PPjnpS996eF31b797W/f7na3u23/9WfMfv7zn9+uuOKK7TGPecw9/uZv/uY273nPe951XcXsQx7ykDM+8pGPnPCmN71pO+mkkw7HDvJnn332dq973Wt72ctedlxuiWL2uLCu9ov6jJ7ZKGfOMwIzp7jPM86K2SFnxxAgQGCfBRSz89tRzM6Ze1TOWHM+os6rF7N///d/v93hDne4ZjsPeMADtvve976H38l69T8H39F68F21r3/967ev+7qv2y6++OLPPu95z/vs29/+9i/5+Mc/fouDYvbgn5NOOunKyy677B3XVsxeeumlN7vd7W73gKc85SnbU5/61P92G3a73eGv/Y//+I/H5ZYoZo8L62q/qM/omY1y5jwjMHOK+zzjrJgdcnYMAQIE9llAMTu/HcXsnLlH5Yw15yPqvHoxe/HFFx98B+w12zn4Wa8H5euv/dqvXfOfnX/++YffVfvqV796O/PMMw++w/XKk0466bKnPe1phz/O4Ja3vOWVL37xi7/sta997R2vvPLKC66tmL3oootucc973vOL/qyCD3zgA9sJJ5xwzG+KYvaYk674C/qMntkqZ84zAjOnuM8zzorZIWfHECBAYJ8FFLPz21HMzpl7VM5Ycz6izorZbfuvxezBGh/1qEcd/Cza9zz0oQ+99Oq1PuIRj/iK17/+9Xe4rmL23//930845ZRTzvi+7/u+7bu+67uu9TYc/CVjx+MfxezxUF3u1/QZPbNSzpxnBGZOcZ9nnBWzQ86OIUCAwD4LKGbnt6OYnTP3qJyx5nxEnRWz/72Y/exnP7s99rGP3f70T//0wrPPPvvTB2v92Mc+dvN73vOe97v00ktvfl3F7MHcAx/4wDO2bTvhta997XH5ztjrumKK2Zn/8h3xU3xGzyyQM+cZgZlT3OcZZ8XskLNjCBAgsM8Citn57Shm58w9KmesOR9RZ8Xsfy9mD37+7IMf/ODt7ne/+2ee/exnf/DSSy894fnPf/5d/uM//uOED3zgA7f8YsXsG9/4xvs+/OEPv9XBj0M4+K7bU089dfvEJz6xvfOd7zz8C8Se9axnHZdbopg9Lqyr/aI+o2c2ypnzjMDMKe7zjLNidsjZMQQIENhnAcXs/HYUs3PmHpUz1pyPqLNi9r8Xs9/4jd+4ve1tb/uP5zznOVdedNFFt/qyL/uy//zBH/zBj37iE5848Zd/+Zfv8sWK2Y9+9KNf/e53v/vkF73oRQe/xvapT31qu/3tb7/d73732x7zmMds3/It33Jcboli9riwrvaL+oye2ShnzjMCM6e4zzPOitkhZ8cQIEBgnwUUs/PbUczOmXtUzlhzPqLO11XMnnfeedsll1wy87u6jlNue9vbHvxFXONfw4knnviZU0899d3pwQfF7OWXX35ymruh84rZGyp4k8j7jJ5ZM2fOMwIzp7jPM86K2SFnxxAgQGCfBRSz89tRzM6Ze1TOWHM+os7XVczO/Hb28xTF7Nheqs+Ng69ut9tdsG3bA8a+0qN/UGXNOV4855isCnCu2OIQ55isC+x2u2Py7+Pd6VIECBAgsA8Cx+QPgt22u3IffjNH5GtQzM4tyqNyxprzEXVWzP7vxSlmZy7ztm3V54ZittpPZa2Yja05x2RVgHPFFoc4x2RdQDHbuUkRIEBgJQHF7Pw2FbNz5h6VM9acj6izYlYxO3N1r/WU6nNDMVttrLJWzMbWnGOyKsC5YotDnGOyLqCY7dykCBAgsJKAYnZ+m4rZOXOPyhlrzkfUWTGrmJ25uorZG9H54Gif0TML4Mx5RmDmFPd5xtnPmB1ydgwBAgT2WUAxO78dxeycuUfljDXnI+qsmFXMzlxdxeyN6KyYncP3Z+GMNWfOMwJDp/iO2SFoxxAgQGCPBRSz88tRzM6Ze7zPWHM+os6nn376du9733u7wx3usN3sZsfkj4MZieN4ylH6GbNXXnnl9vGPf3x773vfu/3DP/zDcVQ5Lr909blx8JX4P7GP91FZc+YcC8wE3GfOMwJDpyhmh6AdQ4AAgT0WOCb/Ju4v/4o2rJiNuG7QsMf7DeK73mHO15vqBg0ec+ev/Mqv3L7qq75qu/3tb7+dfPLJytlt245KMXtQyn7mM5/ZPvGJT2zvec97tosuuugGXa4bIVzdZ8VstanKWjEbW3OOyaoA54otDnGOybqAYrZzkyJAgMBKAorZ+W0qZufMPSpnrDkfUecTTjhh+5qv+Zrtbne723brW996u/nNbz7zO9njU0444YTP3+IWt7gk/RI/97nP3faKK64YA/z85z+/ffazn93+5V/+ZXvXu961XXHFFemXfGPPV58bitlqbZW1Yja25hyTVQHOFVsc4hyTdQHFbOcmRYAAgZUEFLPz21TMzpl7VM5Ycz7Czgfl7D3ucY/tNre5zcF3i878Tvb4lBNPPPETd77znf+f9Ev88Ic//G2XX3757dNcO3/55Zdvn/70p7eLL774KJayB7/t6nNDMVvdmMpaMRtbc47JqgDnii0OcY7JuoBitnOTIkCAwEoCitn5bSpm58w9KmesOXOeEZg5xX3eY2fFbLUcd7pii0OcY7IqwLlii0OcY7IuoJjt3KQIECCwkoBidn6bitk5c4/KGWvOnGcEZk5xn/fYWTFbLcedrtjiEOeYrApwrtjiEOeYrAsoZjs3KQIECKwkoJid36Zids7co3LGmjPnGYGZU9znPXZWzFbLcacrtjjEOSarApwrtjjEOSbrAorZzk2KAAECKwkoZue3qZidM/eonLHmzHlGYOYU93mPnRWz1XLc6YotDnGOyaoA54otDnGOybqAYrZzkyJAgMBKAorZ+W0qZufMPSpnrDlznhGYOcV93mNnxWy1HHe6YotDnGOyKsC5YotDnGOyLqCY7dykCBAgsJKAYnZ+m4rZOXOPyhlrzpxnBGZOcZ/32FkxWy3Hna7Y4hDnmKwKcK7Y4hDnmKwLKGY7NykCBAisJKCYnd+mYnbO3KNyxpoz5xmBmVPc5z12VsxWy3GnK7Y4xDkmqwKcK7Y4xDkm6wKK2c5NigABAisJKGbnt6mYnTP3qJyx5sx5RmDmFPd5j50Vs9Vy3OmKLQ5xjsmqAOeKLQ5xjsm6gGK2c5MiQIDASgKK2fltKmbnzD0qZ6w5c54RmDnFfd5jZ8VstRx3umKLQ5xjsirAuWKLQ5xjsi6gmO3cpAgQILCSgGJ2fpuK2Tlzj8oZa86cZwRmTnGf99hZMVstx52u2OIQ55isCnCu2OIQ55isCyhmOzcpAgQIrCSgmJ3fpmJ2ztyjcsaaM+cZgZlT3Oc9dlbMVstxpyu2OMQ5JqsCnCu2OMQ5JusCitnOTYoAAQIrCShm57epmJ0z96icsebMeQh3PPsAACAASURBVEZg5hT3eY+dFbPVctzpii0OcY7JqgDnii0OcY7JuoBitnOTIkCAwEoCitn5bSpm58w9KmesOXOeEZg5xX3eY2fFbLUcd7pii0OcY7IqwLlii0OcY7IuoJjt3KQIECCwkoBidn6bitk5c4/KGWvOnGcEZk5xn/fYWTFbLcedrtjiEOeYrApwrtjiEOeYrAsoZjs3KQIECKwkoJid36Zids7co3LGmjPnGYGZU9znPXZWzFbLcacrtjjEOSarApwrtjjEOSbrAorZzk2KAAECKwkoZue3qZidM/eonLHmzHlGYOYU93mPnRWz1XLc6YotDnGOyaoA54otDnGOybqAYrZzkyJAgMBKAorZ+W0qZufMPSpnrDlznhGYOcV93mNnxWy1HHe6YotDnGOyKsC5YotDnGOyLqCY7dykCBAgsJKAYnZ+m4rZOXOPyhlrzpxnBGZOcZ/32FkxWy3Hna7Y4hDnmKwKcK7Y4hDnmKwLKGY7NykCBAisJKCYnd+mYnbO3KNyxpoz5xmBmVPc5z12VsxWy3GnK7Y4xDkmqwKcK7Y4xDkm6wKK2c5NigABAisJKGbnt6mYnTP3qJyx5sx5RmDmFPd5j50Vs9Vy3OmKLQ5xjsmqAOeKLQ5xjsm6gGK2c5MiQIDASgKK2fltKmbnzD0qZ6w5c54RmDnFfd5jZ8VstRx3umKLQ5xjsirAuWKLQ5xjsi6gmO3cpAgQILCSgGJ2fpuK2Tlzj8oZa86cZwRmTnGf99hZMVstx52u2OIQ55isCnCu2OIQ55isCyhmOzcpAgQIrCSgmJ3fpmJ2ztyjcsaaM+cZgZlT3Oc9dlbMVstxpyu2OMQ5JqsCnCu2OMQ5JusCitnOTYoAAQIrCRyrYvaClVCO8+/lwt22e3R6xm63O3fbttPS3E18/sLdjvXAHeA8gLxtG2fOMwIzp1T3+api1p+H2Y4qa++ODNlndOzVBtznVi7Lcc686undbndmHRYkQIAAgSUEjkkxu4SE3wQBAgQIECBAgAABAgQIECBAgAABAgSGBBSzQ9COIUCAAAECBAgQIECAAAECBAgQIECAwNUCill3gQABAgQIECBAgAABAgQIECBAgAABAsMCitlhcMcRIECAAAECBAgQIECAAAECBAgQIEBAMesOECBAgAABAgQIECBAgAABAgQIECBAYFhAMTsM7jgCBAgQIECAAAECBAgQIECAAAECBAgoZt0BAgQIECBAgAABAgQIECBAgAABAgQIDAsoZofBHUeAAAECBAgQIECAAAECBAgQIECAAAHFrDtAgAABAgQIECBAgAABAgQIECBAgACBYQHF7DC44wgQIECAAAECBAgQIECAAAECBAgQIKCYdQcIECBAgAABAgQIECBAgAABAgQIECAwLKCYHQZ3HAECBAgQIECAAAECBAgQIECAAAECBBSz7gABAgQIECBAgAABAgQIECBAgAABAgSGBY5JMbvbdhcMf91H+bgLd9vu0elvYLfbnbtt22lp7iY+f+Fux3rgDnAeQN62jTPnGYGZU6r7fPCl+fMwXlBlzZlzLDATcJ85zwgMnbLb7c4cOsoxBAgQILCnAseqmL1yT39/+/hlvWO35X8A73aH5fcD9vE3tMdf0zuaxw7reKOcY7IqwLlii0OcY7IqUDlfVcz68zAjr6z9WZghb9vGOSarApwrtjjEOSbrArvd7pj8+3h3uhQBAgQI7IPAMfmDYLftFLPXf5uK2etvdUMnPSpvqOD1y3O+fk43dIrzDRW8fnnO18/phk5VzorZir2yVszG1pxjsirAuWKLQ5xjsi6gmO3cpAgQILCSgGJ2fpuK2Tlzj8oZa86cZwRmTnGf99hZMVstx52u2OIQ55isCnCu2OIQ55isCyhmOzcpAgQIrCSgmJ3fpmJ2ztyjcsaaM+cZgZlT3Oc9dlbMVstxpyu2OMQ5JqsCnCu2OMQ5JusCitnOTYoAAQIrCShm57epmJ0z96icsebMeUZg5hT3eY+dFbPVctzpii0OcY7JqgDnii0OcY7JuoBitnOTIkCAwEoCitn5bSpm58w9KmesOXOeEZg5xX3eY2fFbLUcd7pii0OcY7IqwLlii0OcY7IuoJjt3KQIECCwkoBidn6bitk5c4/KGWvOnGcEZk5xn/fYWTFbLcedrtjiEOeYrApwrtjiEOeYrAsoZjs3KQIECKwkoJid36Zids7co3LGmjPnGYGZU9znPXZWzFbLcacrtjjEOSarApwrtjjEOSbrAorZzk2KAAECKwkoZue3qZidM/eonLHmzHlGYOYU93mPnRWz1XLc6YotDnGOyaoA54otDnGOybqAYrZzkyJAgMBKAorZ+W0qZufMPSpnrDlznhGYOcV93mNnxWy1HHe6YotDnGOyKsC5YotDnGOyLqCY7dykCBAgsJKAYnZ+m4rZOXOPyhlrzpxnBGZOcZ/32FkxWy3Hna7Y4hDnmKwKcK7Y4hDnmKwLKGY7NykCBAisJKCYnd+mYnbO3KNyxpoz5xmBmVPc5z12VsxWy3GnK7Y4xDkmqwKcK7Y4xDkm6wKK2c5NigABAisJKGbnt6mYnTP3qJyx5sx5RmDmFPd5j50Vs9Vy3OmKLQ5xjsmqAOeKLQ5xjsm6gGK2c5MiQIDASgKK2fltKmbnzD0qZ6w5c54RmDnFfd5jZ8VstRx3umKLQ5xjsirAuWKLQ5xjsi6gmO3cpAgQILCSgGJ2fpuK2Tlzj8oZa86cZwRmTnGf99hZMVstx52u2OIQ55isCnCu2OIQ55isCyhmOzcpAgQIrCSgmJ3fpmJ2ztyjcsaaM+cZgZlT3Oc9dlbMVstxpyu2OMQ5JqsCnCu2OMQ5JusCitnOTYoAAQIrCShm57epmJ0z96icsebMeUZg5hT3eY+dFbPVctzpii0OcY7JqgDnii0OcY7JuoBitnOTIkCAwEoCitn5bSpm58w9KmesOXOeEZg5xX3eY2fFbLUcd7pii0OcY7IqwLlii0OcY7IuoJjt3KQIECCwkoBidn6bitk5c4/KGWvOnGcEZk5xn/fYWTFbLcedrtjiEOeYrApwrtjiEOeYrAsoZjs3KQIECKwkoJid36Zids7co3LGmjPnGYGZU9znPXZWzFbLcacrtjjEOSarApwrtjjEOSbrAorZzk2KAAECKwkoZue3qZidM/eonLHmzHlGYOYU93mPnRWz1XLc6YotDnGOyaoA54otDnGOybqAYrZzkyJAgMBKAorZ+W0qZufMPSpnrDlznhGYOcV93mNnxWy1HHe6YotDnGOyKsC5YotDnGOyLqCY7dykCBAgsJKAYnZ+m4rZOXOPyhlrzpxnBGZOcZ/32FkxWy3Hna7Y4hDnmKwKcK7Y4hDnmKwLKGY7NykCBAisJKCYnd+mYnbO3KNyxpoz5xmBmVPc5z12VsxWy3GnK7Y4xDkmqwKcK7Y4xDkm6wKK2c5NigABAisJKGbnt6mYnTP3qJyx5sx5RmDmFPd5j50Vs9Vy3OmKLQ5xjsmqAOeKLQ5xjsm6gGK2c5MiQIDASgKK2fltKmbnzD0qZ6w5c54RmDnFfd5jZ8VstRx3umKLQ5xjsirAuWKLQ5xjsi6gmO3cpAgQILCSgGJ2fpuK2Tlzj8oZa86cZwRmTnGf99hZMVstx52u2OIQ55isCnCu2OIQ55isCyhmOzcpAgQIrCSgmJ3fpmJ2ztyjcsaaM+cZgZlT3Oc9dlbMVstxpyu2OMQ5JqsCnCu2OMQ5JusCitnOTYoAAQIrCShm57epmJ0z96icsebMeUZg5hT3eY+dFbPVctzpii0OcY7JqgDnii0OcY7JuoBitnOTIkCAwEoCitn5bSpm58w9KmesOXOeEZg5xX3eY2fFbLUcd7pii0OcY7IqwLlii0OcY7IuoJjt3KQIECCwkoBidn6bitk5c4/KGWvOnGcEZk5xn/fYWTFbLcedrtjiEOeYrApwrtjiEOeYrAsoZjs3KQIECKwkoJid36Zids7co3LGmjPnGYGZU9znPXZWzFbLcacrtjjEOSarApwrtjjEOSbrAorZzk2KAAECKwkoZue3qZidM/eonLHmzHlGYOYU93mPnRWz1XLc6YotDnGOyaoA54otDnGOybqAYrZzkyJAgMBKAorZ+W0qZufMPSpnrDlznhGYOcV93mNnxWy1HHe6YotDnGOyKsC5YotDnGOyLqCY7dykCBAgsJKAYnZ+m4rZOXOPyhlrzpxnBGZOcZ/32FkxWy3Hna7Y4hDnmKwKcK7Y4hDnmKwLKGY7NykCBAisJKCYnd+mYnbO3KNyxpoz5xmBmVPc5z12VsxWy3GnK7Y4xDkmqwKcK7Y4xDkm6wKK2c5NigABAisJKGbnt6mYnTP3qJyx5sx5RmDmFPd5j50Vs9Vy3OmKLQ5xjsmqAOeKLQ5xjsm6gGK2c5MiQIDASgKK2fltKmbnzD0qZ6w5c54RmDnFfd5jZ8VstRx3umKLQ5xjsirAuWKLQ5xjsi6gmO3cpAgQILCSgGJ2fpuK2Tlzj8oZa86cZwRmTnGf99hZMVstx52u2OIQ55isCnCu2OIQ55isCyhmOzcpAgQIrCSgmJ3fpmJ2ztyjcsaaM+cZgZlT3Oc9dlbMVstxpyu2OMQ5JqsCnCu2OMQ5JusCitnOTYoAAQIrCShm57epmJ0z96icsebMeUZg5hT3eY+dFbPVctzpii0OcY7JqgDnii0OcY7JuoBitnOTIkCAwEoCitn5bSpm58w9KmesOXOeEZg5xX3eY2fFbLUcd7pii0OcY7IqwLlii0OcY7IuoJjt3KQIECCwkoBidn6bitk5c4/KGWvOnGcEZk5xn/fYWTFbLcedrtjiEOeYrApwrtjiEOeYrAsoZjs3KQIECKwkoJid36Zids7co3LGmjPnGYGZU9znPXZWzFbLcacrtjjEOSarApwrtjjEOSbrAorZzk2KAAECKwkoZue3qZidM/eonLHmzHlGYOYU93mPnRWz1XLc6YotDnGOyaoA54otDnGOybqAYrZzkyJAgMBKAorZ+W0qZufMPSpnrDlznhGYOcV93mNnxWy1HHe6YotDnGOyKsC5YotDnGOyLqCY7dykCBAgsJKAYnZ+m4rZOXOPyhlrzpxnBGZOcZ/32FkxWy3Hna7Y4hDnmKwKcK7Y4hDnmKwLKGY7NykCBAisJKCYnd+mYnbO3KNyxpoz5xmBmVPc5z12VsxWy3GnK7Y4xDkmqwKcK7Y4xDkm6wKK2c5NigABAisJKGbnt6mYnTP3qJyx5sx5RmDmFPd5j50Vs9Vy3OmKLQ5xjsmqAOeKLQ5xjsm6gGK2c5MiQIDASgKK2fltKmbnzD0qZ6w5c54RmDnFfd5jZ8VstRx3umKLQ5xjsirAuWKLQ5xjsi6gmO3cpAgQILCSgGJ2fpuK2Tlzj8oZa86cZwRmTnGf99hZMVstx52u2OIQ55isCnCu2OIQ55isCyhmOzcpAgQIrCSgmJ3fpmJ2ztyjcsaaM+cZgZlT3Oc9dlbMVstxpyu2OMQ5JqsCnCu2OMQ5JusCitnOTYoAAQIrCShm57epmJ0z96icsebMeUZg5hT3eY+dFbPVctzpii0OcY7JqgDnii0OcY7JuoBitnOTIkCAwEoCitn5bSpm58w9KmesOXOeEZg5xX3eY2fFbLUcd7pii0OcY7IqwLlii0OcY7IuoJjt3KQIECCwkoBidn6bitk5c4/KGWvOnGcEZk5xn/fYWTFbLcedrtjiEOeYrApwrtjiEOeYrAsoZjs3KQIECKwkoJid36Zids7co3LGmjPnGYGZU9znPXZWzFbLcacrtjjEOSarApwrtjjEOSbrAorZzk2KAAECKwkoZue3qZidM/eonLHmzHlGYOYU93mPnRWz1XLc6YotDnGOyaoA54otDnGOybqAYrZzkyJAgMBKAorZ+W0qZufMPSpnrDlznhGYOcV93mNnxWy1HHe6YotDnGOyKsC5YotDnGOyLqCY7dykCBAgsJKAYnZ+m4rZOXOPyhlrzpxnBGZOcZ/32FkxWy3Hna7Y4hDnmKwKcK7Y4hDnmKwLKGY7NykCBAisJKCYnd+mYnbO3KNyxpoz5xmBmVPc5z12VsxWy3GnK7Y4xDkmqwKcK7Y4xDkm6wKK2c5NigABAisJKGbnt6mYnTP3qJyx5sx5RmDmFPd5j50Vs9Vy3OmKLQ5xjsmqAOeKLQ5xjsm6gGK2c5MiQIDASgKK2fltKmbnzD0qZ6w5c54RmDnFfd5jZ8VstRx3umKLQ5xjsirAuWKLQ5xjsi6gmO3cpAgQILCSgGJ2fpuK2Tlzj8oZa86cZwRmTnGf99hZMVstx52u2OIQ55isCnCu2OIQ55isCyhmOzcpAgQIrCSgmJ3fpmJ2ztyjcsaaM+cZgZlT3Oc9dlbMVstxpyu2OMQ5JqsCnCu2OMQ5JusCitnOTYoAAQIrCShm57epmJ0z96icsebMeUZg5hT3eY+dFbPVctzpii0OcY7JqgDnii0OcY7JuoBitnOTIkCAwEoCitn5bSpm58w9KmesOXOeEZg5xX3eY2fFbLUcd7pii0OcY7IqwLlii0OcY7IuoJjt3KQIECCwkoBidn6bitk5c4/KGWvOnGcEZk5xn/fYWTFbLcedrtjiEOeYrApwrtjiEOeYrAsoZjs3KQIECKwkoJid36Zids7co3LGmjPnGYGZU9znPXZWzFbLcacrtjjEOSarApwrtjjEOSbrAorZzk2KAAECKwkoZue3qZidM/eonLHmzHlGYOYU93mPnRWz1XLc6YotDnGOyaoA54otDnGOybqAYrZzkyJAgMBKAorZ+W0qZufMPSpnrDlznhGYOcV93mNnxWy1HHe6YotDnGOyKsC5YotDnGOyLqCY7dykCBAgsJKAYnZ+m4rZOXOPyhlrzpxnBGZOcZ/32FkxWy3Hna7Y4hDnmKwKcK7Y4hDnmKwLKGY7NykCBAisJKCYnd+mYnbO3KNyxpoz5xmBmVPc5z12VsxWy3GnK7Y4xDkmqwKcK7Y4xDkm6wKK2c5NigABAisJKGbnt6mYnTP3qJyx5sx5RmDmFPd5j50Vs9Vy3OmKLQ5xjsmqAOeKLQ5xjsm6gGK2c5MiQIDASgKK2fltKmbnzD0qZ6w5c54RmDnFfd5jZ8VstRx3umKLQ5xjsirAuWKLQ5xjsi6gmO3cpAgQILCSgGJ2fpuK2Tlzj8oZa86cZwRmTnGf99hZMVstx52u2OIQ55isCnCu2OIQ55isCyhmOzcpAgQIrCRwrIrZC1ZCOc6/lwt32+7R6Rm73e7cbdtOS3M38fkLdzvWA3eA8wDytm2cOc8IzJxS3eerill/HmY7qqy9OzJkn9GxVxtwn1u5LMc586qnd7vdmXVYkAABAgSWEDgmxewSEn4TBAgQIECAAAECBAgQIECAAAECBAgQGBJQzA5BO4YAAQIECBAgQIAAAQIECBAgQIAAAQJXCyhm3QUCBAgQIECAAAECBAgQIECAAAECBAgMCyhmh8EdR4AAAQIECBAgQIAAAQIECBAgQIAAAcWsO0CAAAECBAgQIECAAAECBAgQIECAAIFhAcXsMLjjCBAgQIAAAQIECBAgQIAAAQIECBAgoJh1BwgQIECAAAECBAgQIECAAAECBAgQIDAsoJgdBnccAQIECBAgQIAAAQIECBAgQIAAAQIEFLPuAAECBAgQIECAAAECBAgQIECAAAECBIYFFLPD4I4jQIAAAQIECBAgQIAAAQIECBAgQICAYtYdIECAAAECBAgQIECAAAECBAgQIECAwLCAYnYY3HEECBAgQIAAAQIECBAgQIAAAQIECBBQzLoDBAgQIECAAAECBAgQIECAAAECBAgQGBY4JsXsbttdMPx1H+XjLtxtu0env4Hdtjt327bT0txNfL6z3rEO782Fu11xpzmHzBvnVKyb59y5panK+eCQnc+OEWvOKbPP6FisC1SfHe5zjM05JusCu93uzC4pRYAAAQKrCByrYvbKVUAGfh/v2G35H8BXld8PGPj6Vjqis94d/i8aWF//m/CO5lG543z9hb8wyTkV6+Y5d25pqnK+qpj1GZ1pV9Y+ozNkn9GxVxtwn1u5LMc586qnd7vdMfn38foLECRAgACBG13gmPxBsNt2itnrv8quLPzCdyUrC6+/8xeKrKYEVxhmygrD1Kud9y9JrVyW45x5tdOVs2K24q6sFbOxNeeYrApwrtjiEOeYrAsoZjs3KQIECKwkoJid32ZXFipmm0111orZ1NrjPRXr5jl3bmmKcyrWzVfOitkKu7JWzMbWnGOyKsC5YotDnGOyLqCY7dykCBAgsJKAYnZ+m11ZqJhtNtVZK2ZTa4/3VKyb59y5pSnOqVg3XzkrZivsyloxG1tzjsmqAOeKLQ5xjsm6gGK2c5MiQIDASgKK2fltdmWhYrbZVGetmE2tPd5TsW6ec+eWpjinYt185ayYrbAra8VsbM05JqsCnCu2OMQ5JusCitnOTYoAAQIrCShm57fZlYWK2WZTnbViNrX2eE/FunnOnVua4pyKdfOVs2K2wq6sFbOxNeeYrApwrtjiEOeYrAsoZjs3KQIECKwkoJid32ZXFipmm0111orZ1NrjPRXr5jl3bmmKcyrWzVfOitkKu7JWzMbWnGOyKsC5YotDnGOyLqCY7dykCBAgsJKAYnZ+m11ZqJhtNtVZK2ZTa4/3VKyb59y5pSnOqVg3XzkrZivsyloxG1tzjsmqAOeKLQ5xjsm6gGK2c5MiQIDASgKK2fltdmWhYrbZVGetmE2tPd5TsW6ec+eWpjinYt185ayYrbAra8VsbM05JqsCnCu2OMQ5JusCitnOTYoAAQIrCShm57fZlYWK2WZTnbViNrX2eE/FunnOnVua4pyKdfOVs2K2wq6sFbOxNeeYrApwrtjiEOeYrAsoZjs3KQIECKwkoJid32ZXFipmm0111orZ1NrjPRXr5jl3bmmKcyrWzVfOitkKu7JWzMbWnGOyKsC5YotDnGOyLqCY7dykCBAgsJKAYnZ+m11ZqJhtNtVZK2ZTa4/3VKyb59y5pSnOqVg3XzkrZivsyloxG1tzjsmqAOeKLQ5xjsm6gGK2c5MiQIDASgKK2fltdmWhYrbZVGetmE2tPd5TsW6ec+eWpjinYt185ayYrbAra8VsbM05JqsCnCu2OMQ5JusCitnOTYoAAQIrCShm57fZlYWK2WZTnbViNrX2eE/FunnOnVua4pyKdfOVs2K2wq6sFbOxNeeYrApwrtjiEOeYrAsoZjs3KQIECKwkoJid32ZXFipmm0111orZ1NrjPRXr5jl3bmmKcyrWzVfOitkKu7JWzMbWnGOyKsC5YotDnGOyLqCY7dykCBAgsJKAYnZ+m11ZqJhtNtVZK2ZTa4/3VKyb59y5pSnOqVg3XzkrZivsyloxG1tzjsmqAOeKLQ5xjsm6gGK2c5MiQIDASgKK2fltdmWhYrbZVGetmE2tPd5TsW6ec+eWpjinYt185ayYrbAra8VsbM05JqsCnCu2OMQ5JusCitnOTYoAAQIrCShm57fZlYWK2WZTnbViNrX2eE/FunnOnVua4pyKdfOVs2K2wq6sFbOxNeeYrApwrtjiEOeYrAsoZjs3KQIECKwkoJid32ZXFipmm0111orZ1NrjPRXr5jl3bmmKcyrWzVfOitkKu7JWzMbWnGOyKsC5YotDnGOyLqCY7dykCBAgsJKAYnZ+m11ZqJhtNtVZK2ZTa4/3VKyb59y5pSnOqVg3XzkrZivsyloxG1tzjsmqAOeKLQ5xjsm6gGK2c5MiQIDASgKK2fltdmWhYrbZVGetmE2tPd5TsW6ec+eWpjinYt185ayYrbAra8VsbM05JqsCnCu2OMQ5JusCitnOTYoAAQIrCShm57fZlYWK2WZTnbViNrX2eE/FunnOnVua4pyKdfOVs2K2wq6sFbOxNeeYrApwrtjiEOeYrAsoZjs3KQIECKwkoJid32ZXFipmm0111orZ1NrjPRXr5jl3bmmKcyrWzVfOitkKu7JWzMbWnGOyKsC5YotDnGOyLqCY7dykCBAgsJKAYnZ+m11ZqJhtNtVZK2ZTa4/3VKyb59y5pSnOqVg3XzkrZivsyloxG1tzjsmqAOeKLQ5xjsm6gGK2c5MiQIDASgKK2fltdmWhYrbZVGetmE2tPd5TsW6ec+eWpjinYt185ayYrbAra8VsbM05JqsCnCu2OMQ5JusCitnOTYoAAQIrCShm57fZlYWK2WZTnbViNrX2eE/FunnOnVua4pyKdfOVs2K2wq6sFbOxNeeYrApwrtjiEOeYrAsoZjs3KQIECKwkoJid32ZXFipmm0111orZ1NrjPRXr5jl3bmmKcyrWzVfOitkKu7JWzMbWnGOyKsC5YotDnGOyLqCY7dykCBAgsJKAYnZ+m11ZqJhtNtVZK2ZTa4/3VKyb59y5pSnOqVg3XzkrZivsyloxG1tzjsmqAOeKLQ5xjsm6gGK2c5MiQIDASgKK2fltdmWhYrbZVGetmE2tPd5TsW6ec+eWpjinYt185ayYrbAra8VsbM05JqsCnCu2OMQ5JusCitnOTYoAAQIrCShm57fZlYWK2WZTnbViNrX2eE/FunnOnVua4pyKdfOVs2K2wq6sFbOxNeeYrApwrtjiEOeYrAsoZjs3KQIECKwkoJid32ZXFipmm0111orZ1NrjPRXr5jl3bmmKcyrWzVfOitkKu7JWzMbWnGOyKsC5YotDnGOyLqCY7dykCBAgsJKAYnZ+m11ZqJhtNtVZK2ZTa4/3VKyb59y5pSnOqVg3XzkrZivsyloxG1tzjsmqAOeKLQ5xjsm6gGK2c5MiQIDASgKK2fltdmWhYrbZVGetmE2tPd5TsW6ec+eWpjinYt185ayYrbAra8VsbM05JqsCnCu2OMQ5JusCitnOTYoAAQIrCShmNy43AQAAIABJREFU57fZlYWK2WZTnbViNrX2eE/FunnOnVua4pyKdfOVs2K2wq6sFbOxNeeYrApwrtjiEOeYrAsoZjs3KQIECKwkoJid32ZXFipmm0111orZ1NrjPRXr5jl3bmmKcyrWzVfOitkKu7JWzMbWnGOyKsC5YotDnGOyLqCY7dykCBAgsJKAYnZ+m11ZqJhtNtVZK2ZTa4/3VKyb59y5pSnOqVg3XzkrZivsyloxG1tzjsmqAOeKLQ5xjsm6gGK2c5MiQIDASgKK2fltdmWhYrbZVGetmE2tPd5TsW6ec+eWpjinYt185ayYrbAra8VsbM05JqsCnCu2OMQ5JusCitnOTYoAAQIrCShm57fZlYWK2WZTnbViNrX2eE/FunnOnVua4pyKdfOVs2K2wq6sFbOxNeeYrApwrtjiEOeYrAsoZjs3KQIECKwkoJid32ZXFipmm0111orZ1NrjPRXr5jl3bmmKcyrWzVfOitkKu7JWzMbWnGOyKsC5YotDnGOyLqCY7dykCBAgsJKAYnZ+m11ZqJhtNtVZK2ZTa4/3VKyb59y5pSnOqVg3XzkrZivsyloxG1tzjsmqAOeKLQ5xjsm6gGK2c5MiQIDASgKK2fltdmWhYrbZVGetmE2tPd5TsW6ec+eWpjinYt185ayYrbAra8VsbM05JqsCnCu2OMQ5JusCitnOTYoAAQIrCShm57fZlYWK2WZTnbViNrX2eE/FunnOnVua4pyKdfOVs2K2wq6sFbOxNeeYrApwrtjiEOeYrAsoZjs3KQIECKwkoJid32ZXFipmm0111orZ1NrjPRXr5jl3bmmKcyrWzVfOitkKu7JWzMbWnGOyKsC5YotDnGOyLqCY7dykCBAgsJKAYnZ+m11ZqJhtNtVZK2ZTa4/3VKyb59y5pSnOqVg3XzkrZivsyloxG1tzjsmqAOeKLQ5xjsm6gGK2c5MiQIDASgKK2fltdmWhYrbZVGetmE2tPd5TsW6ec+eWpjinYt185ayYrbAra8VsbM05JqsCnCu2OMQ5JusCitnOTYoAAQIrCShm57fZlYWK2WZTnbViNrX2eE/FunnOnVua4pyKdfOVs2K2wq6sFbOxNeeYrApwrtjiEOeYrAsoZjs3KQIECKwkoJid32ZXFipmm0111orZ1NrjPRXr5jl3bmmKcyrWzVfOitkKu7JWzMbWnGOyKsC5YotDnGOyLqCY7dykCBAgsJKAYnZ+m11ZqJhtNtVZK2ZTa4/3VKyb59y5pSnOqVg3XzkrZivsyloxG1tzjsmqAOeKLQ5xjsm6gGK2c5MiQIDASgKK2fltdmWhYrbZVGetmE2tPd5TsW6ec+eWpjinYt185ayYrbAra8VsbM05JqsCnCu2OMQ5JusCitnOTYoAAQIrCShm57fZlYWK2WZTnbViNrX2eE/FunnOnVua4pyKdfOVs2K2wq6sFbOxNeeYrApwrtjiEOeYrAsoZjs3KQIECKwkoJid32ZXFipmm0111orZ1NrjPRXr5jl3bmmKcyrWzVfOitkKu7JWzMbWnGOyKsC5YotDnGOyLqCY7dykCBAgsJKAYnZ+m11ZqJhtNtVZK2ZTa4/3VKyb59y5pSnOqVg3XzkrZivsyloxG1tzjsmqAOeKLQ5xjsm6gGK2c5MiQIDASgKK2fltdmWhYrbZVGetmE2tPd5TsW6ec+eWpjinYt185ayYrbAra8VsbM05JqsCnCu2OMQ5JusCitnOTYoAAQIrCShm57fZlYWK2WZTnbViNrX2eE/FunnOnVua4pyKdfOVs2K2wq6sFbOxNeeYrApwrtjiEOeYrAsoZjs3KQIECKwkoJid32ZXFipmm0111orZ1NrjPRXr5jl3bmmKcyrWzVfOitkKu7JWzMbWnGOyKsC5YotDnGOyLqCY7dykCBAgsJKAYnZ+m11ZqJhtNtVZK2ZTa4/3VKyb59y5pSnOqVg3XzkrZivsyloxG1tzjsmqAOeKLQ5xjsm6gGK2c5MiQIDASgKK2fltdmWhYrbZVGetmE2tPd5TsW6ec+eWpjinYt185ayYrbAra8VsbM05JqsCnCu2OMQ5JusCitnOTYoAAQIrCShm57fZlYWK2WZTnbViNrX2eE/FunnOnVua4pyKdfOVs2K2wq6sFbOxNeeYrApwrtjiEOeYrAsoZjs3KQIECKwkoJid32ZXFipmm0111orZ1NrjPRXr5jl3bmmKcyrWzVfOitkKu7JWzMbWnGOyKsC5YotDnGOyLqCY7dykCBAgsJKAYnZ+m11ZqJhtNtVZK2ZTa4/3VKyb59y5pSnOqVg3XzkrZivsyloxG1tzjsmqAOeKLQ5xjsm6gGK2c5MiQIDASgKK2fltdmWhYrbZVGetmE2tPd5TsW6ec+eWpjinYt185ayYrbAra8VsbM05JqsCnCu2OMQ5JusCitnOTYoAAQIrCShm57fZlYWK2WZTnbViNrX2eE/FunnOnVua4pyKdfOVs2K2wq6sFbOxNeeYrApwrtjiEOeYrAsoZjs3KQIECKwkoJid32ZXFipmm0111orZ1NrjPRXr5jl3bmmKcyrWzVfOitkKu7JWzMbWnGOyKsC5YotDnGOyLqCY7dykCBAgsJKAYnZ+m11ZqJhtNtVZK2ZTa4/3VKyb59y5pSnOqVg3XzkrZivsyloxG1tzjsmqAOeKLQ5xjsm6gGK2c5MiQIDASgKK2fltdmWhYrbZVGetmE2tPd5TsW6ec+eWpjinYt185ayYrbAra8VsbM05JqsCnCu2OMQ5JusCitnOTYoAAQIrCShm57fZlYWK2WZTnbViNrX2eE/FunnOnVua4pyKdfOVs2K2wq6sFbOxNeeYrApwrtjiEOeYrAsoZjs3KQIECKwkoJid32ZXFipmm0111orZ1NrjPRXr5jl3bmmKcyrWzVfOitkKu7JWzMbWnGOyKsC5YotDnGOyLqCY7dykCBAgsJKAYnZ+m11ZqJhtNtVZK2ZTa4/3VKyb59y5pSnOqVg3XzkrZivsyloxG1tzjsmqAOeKLQ5xjsm6gGK2c5MiQIDASgKK2fltdmWhYrbZVGetmE2tPd5TsW6ec+eWpjinYt185ayYrbAra8VsbM05JqsCnCu2OMQ5JusCitnOTYoAAQIrCShm57fZlYWK2WZTnbViNrX2eE/FunnOnVua4pyKdfOVs2K2wq6sFbOxNeeYrApwrtjiEOeYrAsoZjs3KQIECKwkoJid32ZXFipmm0111orZ1NrjPRXr5jl3bmmKcyrWzVfOitkKu7JWzMbWnGOyKsC5YotDnGOyLqCY7dykCBAgsJKAYnZ+m11ZqJhtNtVZK2ZTa4/3VKyb59y5pSnOqVg3XzkrZivsyloxG1tzjsmqAOeKLQ5xjsm6gGK2c5MiQIDASgKK2fltdmWhYrbZVGetmE2tPd5TsW6ec+eWpjinYt185ayYrbAra8VsbM05JqsCnCu2OMQ5JusCitnOTYoAAQIrCShm57fZlYWK2WZTnbViNrX2eE/FunnOnVua4pyKdfOVs2K2wq6sFbOxNeeYrApwrtjiEOeYrAsoZjs3KQIECKwkoJid32ZXFipmm0111orZ1NrjPRXr5jl3bmmKcyrWzVfOitkKu7JWzMbWnGOyKsC5YotDnGOyLqCY7dykCBAgsJLAsSpmL1gJ5Tj/Xi7cbbtHp2fstt2527adluZu4vOd9Y51eG8u3O2KO805ZN44p2LdPOfOLU1VzlcVs/48zLQr653P6Ex58xmdgpXz7nMJF8Y4h2Dt+G63O7PNyhEgQIDAGgLHpJhdg8LvggABAgQIECBAgAABAgQIECBAgAABAjMCitkZZ6cQIECAAAECBAgQIECAAAECBAgQIEDgGgHFrMtAgAABAgQIECBAgAABAgQIECBAgACBYQHF7DC44wgQIECAAAECBAgQIECAAAECBAgQIKCYdQcIECBAgAABAgQIECBAgAABAgQIECAwLKCYHQZ3HAECBAgQIECAAAECBAgQIECAAAECBBSz7gABAgQIECBAgAABAgQIECBAgAABAgSGBRSzw+COI0CAAAECBAgQIECAAAECBAgQIECAgGLWHSBAgAABAgQIECBAgAABAgQIECBAgMCwgGJ2GNxxBAgQIECAAAECBAgQIECAAAECBAgQUMy6AwQIECBAgAABAgQIECBAgAABAgQIEBgWUMwOgzuOAAECBAgQIECAAAECBAgQIECAAAECill3gAABAgQIECBAgAABAgQIECBAgAABAsMCx6SY3W27C4a/7qN83IW7bffo9Dew23bnbtt2Wpq7ic931jvW4b25cLcr7jTnkHnjnIp185w7tzRVOR8csvPZMWLNOWX2GR2LdYHqs8N9jrE5x2RdYLfbndklpQgQIEBgFYFjVcxeuQrIwO/jHbst/wP4qvL7AQNf30pHdNa7w/9FA+vrfxPe0Twqd5yvv/AXJjmnYt08584tTVXOVxWzPqMz7craZ3SG7DM69moD7nMrl+U4Z1719G63Oyb/Pl5/AYIECBAgcKMLHJM/CHbbTjF7/VfZlYVf+K5kZeH1d/5CkdWU4ArDTFlhmHq18/4lqZXLcpwzr3a6clbMVtyVtWI2tuYck1UBzhVbHOIck3UBxWznJkWAAIGVBBSz89vsykLFbLOpzloxm1p7vKdi3Tznzi1NcU7FuvnKWTFbYVfWitnYmnNMVgU4V2xxiHNM1gUUs52bFAECBFYSUMzOb7MrCxWzzaY6a8Vsau3xnop185w7tzTFORXr5itnxWyFXVkrZmNrzjFZFeBcscUhzjFZF1DMdm5SBAgQWElAMTu/za4sVMw2m+qsFbOptcd7KtbNc+7c0hTnVKybr5wVsxV2Za2Yja05x2RVgHPFFoc4x2RdQDHbuUkRIEBgJQHF7Pw2u7JQMdtsqrNWzKbWHu+pWDfPuXNLU5xTsW6+clbMVtiVtWI2tuYck1UBzhVbHOIck3UBxWznJkWAAIGVBBSz89vsykLFbLOpzloxm1p7vKdi3Tznzi1NcU7FuvnKWTFbYVfWitnYmnNMVgU4V2xxiHNM1gUUs52bFAECBFYSUMzOb7MrCxWzzaY6a8Vsau3xnop185w7tzTFORXr5itnxWyFXVkrZmNrzjFZFeBcscUhzjFZF1DMdm5SBAgQWElAMTu/za4sVMw2m+qsFbOptcd7KtbNc+7c0hTnVKybr5wVsxV2Za2Yja05x2RVgHPFFoc4x2RdQDHbuUkRIEBgJQHF7Pw2u7JQMdtsqrNWzKbWHu+pWDfPuXNLU5xTsW6+clbMVtiVtWI2tuYck1UBzhVbHOIck3UBxWznJkWAAIGVBBSz89vsykLFbLOpzloxm1p7vKdi3Tznzi1NcU7FuvnKWTFbYVfWitnYmnNMVgU4V2xxiHNM1gUUs52bFAECBFYSUMzOb7MrCxWzzaY6a8Vsau3xnop185w7tzTFORXr5itnxWyFXVkrZmNrzjFZFeBcscUhzjFZF1DMdm5SBAgQWElAMTu/za4sVMw2m+qsFbOptcd7KtbNc+7c0hTnVKybr5wVsxV2Za2Yja05x2RVgHPFFoc4x2RdQDHbuUkRIEBgJQHF7Pw2u7JQMdtsqrNWzKbWHu+pWDfPuXNLU5xTsW6+clbMVtiVtWI2tuYck1UBzhVbHOIck3UBxWznJkWAAIGVBBSz89vsykLFbLOpzloxm1p7vKdi3Tznzi1NcU7FuvnKWTFbYVfWitnYmnNMVgU4V2xxiHNM1gUUs52bFAECBFYSUMzOb7MrCxWzzaY6a8Vsau3xnop185w7tzTFORXr5itnxWyFXVkrZmNrzjFZFeBcscUhzjFZF1DMdm5SBAgQWElAMTu/za4sVMw2m+qsFbOptcd7KtbNc+7c0hTnVKybr5wVsxV2Za2Yja05x2RVgHPFFoc4x2RdQDHbuUkRIEBgJQHF7Pw2u7JQMdtsqrNWzKbWHu+pWDfPuXNLU5xTsW6+clbMVtiVtWI2tuYck1UBzhVbHOIck3UBxWznJkWAAIGVBBSz89vsykLFbLOpzloxm1p7vKdi3Tznzi1NcU7FuvnKWTFbYVfWitnYmnNMVgU4V2xxiHNM1gUUs52bFAECBFYSUMzOb7MrCxWzzaY6a8Vsau3xnop185w7tzTFORXr5itnxWyFXVkrZmNrzjFZFeBcscUhzjFZF1DMdm5SBAgQWElAMTu/za4sVMw2m+qsFbOptcd7KtbNc+7c0hTnVKybr5wVsxV2Za2Yja05x2RVgHPFFoc4x2RdQDHbuUkRIEBgJQHF7Pw2u7JQMdtsqrNWzKbWHu+pWDfPuXNLU5xTsW6+clbMVtiVtWI2tuYck1UBzhVbHOIck3UBxWznJkWAAIGVBBSz89vsykLFbLOpzloxm1p7vKdi3Tznzi1NcU7FuvnKWTFbYVfWitnYmnNMVgU4V2xxiHNM1gUUs52bFAECBFYSUMzOb7MrCxWzzaY6a8Vsau3xnop185w7tzTFORXr5itnxWyFXVkrZmNrzjFZFeBcscUhzjFZF1DMdm5SBAgQWElAMTu/za4sVMw2m+qsFbOptcd7KtbNc+7c0hTnVKybr5wVsxV2Za2Yja05x2RVgHPFFoc4x2RdQDHbuUkRIEBgJQHF7Pw2u7JQMdtsqrNWzKbWHu+pWDfPuXNLU5xTsW6+clbMVtiVtWI2tuYck1UBzhVbHOIck3UBxWznJkWAAIGVBBSz89vsykLFbLOpzloxm1p7vKdi3Tznzi1NcU7FuvnKWTFbYVfWitnYmnNMVgU4V2xxiHNM1gUUs52bFAECBFYSUMzOb7MrCxWzzaY6a8Vsau3xnop185w7tzTFORXr5itnxWyFXVkrZmNrzjFZFeBcscUhzjFZF1DMdm5SBAgQWElAMTu/za4sVMw2m+qsFbOptcd7KtbNc+7c0hTnVKybr5wVsxV2Za2Yja05x2RVgHPFFoc4x2RdQDHbuUkRIEBgJQHF7Pw2u7JQMdtsqrNWzKbWHu+pWDfPuXNLU5xTsW6+clbMVtiVtWI2tuYck1UBzhVbHOIck3UBxWznJkWAAIGVBBSz89vsykLFbLOpzloxm1p7vKdi3Tznzi1NcU7FuvnKWTFbYVfWitnYmnNMVgU4V2xxiHNM1gUUs52bFAECBFYSUMzOb7MrCxWzzaY6a8Vsau3xnop185w7tzTFORXr5itnxWyFXVkrZmNrzjFZFeBcscUhzjFZF1DMdm5SBAgQWElAMTu/za4sVMw2m+qsFbOptcd7KtbNc+7c0hTnVKybr5wVsxV2Za2Yja05x2RVgHPFFoc4x2RdQDHbuUkRIEBgJQHF7Pw2u7JQMdtsqrNWzKbWHu+pWDfPuXNLU5xTsW6+clbMVtiVtWI2tuYck1UBzhVbHOIck3UBxWznJkWAAIGVBBSz89vsykLFbLOpzloxm1p7vKdi3Tznzi1NcU7FuvnKWTFbYVfWitnYmnNMVgU4V2xxiHNM1gUUs52bFAECBFYSUMzOb7MrCxWzzaY6a8Vsau3xnop185w7tzTFORXr5itnxWyFXVkrZmNrzjFZFeBcscUhzjFZF1DMdm5SBAgQWElAMTu/za4sVMw2m+qsFbOptcd7KtbNc+7c0hTnVKybr5wVsxV2Za2Yja05x2RVgHPFFoc4x2RdQDHbuUkRIEBgJQHF7Pw2u7JQMdtsqrNWzKbWHu+pWDfPuXNLU5xTsW6+clbMVtiVtWI2tuYck1UBzhVbHOIck3UBxWznJkWAAIGVBBSz89vsykLFbLOpzloxm1p7vKdi3Tznzi1NcU7FuvnKWTFbYVfWitnYmnNMVgU4V2xxiHNM1gUUs52bFAECBFYSUMzOb7MrCxWzzaY6a8Vsau3xnop185w7tzTFORXr5itnxWyFXVkrZmNrzjFZFeBcscUhzjFZF1DMdm5SBAgQWElAMTu/za4sVMw2m+qsFbOptcd7KtbNc+7c0hTnVKybr5wVsxV2Za2Yja05x2RVgHPFFoc4x2RdQDHbuUkRIEBgJQHF7Pw2u7JQMdtsqrNWzKbWHu+pWDfPuXNLU5xTsW6+clbMVtiVtWI2tuYck1UBzhVbHOIck3UBxWznJkWAAIGVBBSz89vsykLFbLOpzloxm1p7vKdi3Tznzi1NcU7FuvnKWTFbYVfWitnYmnNMVgU4V2xxiHNM1gUUs52bFAECBFYSUMzOb7MrCxWzzaY6a8Vsau3xnop185w7tzTFORXr5itnxWyFXVkrZmNrzjFZFeBcscUhzjFZF1DMdm5SBAgQWElAMTu/za4sVMw2m+qsFbOptcd7KtbNc+7c0hTnVKybr5wVsxV2Za2Yja05x2RVgHPFFoc4x2RdQDHbuUkRIEBgJQHF7Pw2u7JQMdtsqrNWzKbWHu+pWDfPuXNLU5xTsW6+clbMVtiVtWI2tuYck1UBzhVbHOIck3UBxWznJkWAAIGVBBSz89vsykLFbLOpzloxm1p7vKdi3Tznzi1NcU7FuvnKWTFbYVfWitnYmnNMVgU4V2xxiHNM1gUUs52bFAECBFYSUMzOb7MrCxWzzaY6a8Vsau3xnop185w7tzTFORXr5itnxWyFXVkrZmNrzjFZFeBcscUhzjFZF1DMdm5SBAgQWElAMTu/za4sVMw2m+qsFbOptcd7KtbNc+7c0hTnVKybr5wVsxV2Za2Yja05x2RVgHPFFoc4x2RdQDHbuUkRIEBgJQHF7Pw2u7JQMdtsqrNWzKbWHu+pWDfPuXNLU5xTsW6+clbMVtiVtWI2tuYck1UBzhVbHOIck3UBxWznJkWAAIGVBBSz89vsykLFbLOpzloxm1p7vKdi3Tznzi1NcU7FuvnKWTFbYVfWitnYmnNMVgU4V2xxiHNM1gUUs52bFAECBFYSUMzOb7MrCxWzzaY6a8Vsau3xnop185w7tzTFORXr5itnxWyFXVkrZmNrzjFZFeBcscUhzjFZF1DMdm5SBAgQWElAMTu/za4sVMw2m+qsFbOptcd7KtbNc+7c0hTnVKybr5wVsxV2Za2Yja05x2RVgHPFFoc4x2RdQDHbuUkRIEBgJQHF7Pw2u7JQMdtsqrNWzKbWHu+pWDfPuXNLU5xTsW6+clbMVtiVtWI2tuYck1UBzhVbHOIck3UBxWznJkWAAIGVBBSz89vsykLFbLOpzloxm1p7vKdi3Tznzi1NcU7FuvnKWTFbYVfWitnYmnNMVgU4V2xxiHNM1gUUs52bFAECBFYSUMzOb7MrCxWzzaY6a8Vsau3xnop185w7tzTFORXr5itnxWyFXVkrZmNrzjFZFeBcscUhzjFZF1DMdm5SBAgQWElAMTu/za4sVMw2m+qsFbOptcd7KtbNc+7c0hTnVKybr5wVsxV2Za2Yja05x2RVgHPFFoc4x2RdQDHbuUkRIEBgJQHF7Pw2u7JQMdtsqrNWzKbWHu+pWDfPuXNLU5xTsW6+clbMVtiVtWI2tuYck1UBzhVbHOIck3UBxWznJkWAAIGVBBSz89vsykLFbLOpzloxm1p7vKdi3Tznzi1NcU7FuvnKWTFbYVfWitnYmnNMVgU4V2xxiHNM1gUUs52bFAECBFYSUMzOb7MrCxWzzaY6a8Vsau3xnop185w7tzTFORXr5itnxWyFXVkrZmNrzjFZFeBcscUhzjFZF1DMdm5SBAgQWElAMTu/za4sVMw2m+qsFbOptcd7KtbNc+7c0hTnVKybr5wVsxV2Za2Yja05x2RVgHPFFoc4x2RdQDHbuUkRIEBgJQHF7Pw2u7JQMdtsqrNWzKbWHu+pWDfPuXNLU5xTsW6+clbMVtiVtWI2tuYck1UBzhVbHOIck3UBxWznJkWAAIGVBBSz89vsykLFbLOpzloxm1p7vKdi3Tznzi1NcU7FuvnKWTFbYVfWitnYmnNMVgU4V2xxiHNM1gUUs52bFAECBFYSUMzOb7MrCxWzzaY6a8Vsau3xnop185w7tzTFORXr5itnxWyFXVkrZmNrzjFZFeBcscUhzjFZF1DMdm5SBAgQWElAMTu/za4sVMw2m+qsFbOptcd7KtbNc+7c0hTnVKybr5wVsxV2Za2Yja05x2RVgHPFFoc4x2RdQDHbuUkRIEBgJQHF7Pw2u7JQMdtsqrNWzKbWHu+pWDfPuXNLU5xTsW6+clbMVtiVtWI2tuYck1UBzhVbHOIck3UBxWznJkWAAIGVBBSz89vsykLFbLOpzloxm1p7vKdi3Tznzi1NcU7FuvnKWTFbYVfWitnYmnNMVgU4V2xxiHNM1gUUs52bFAECBFYSUMzOb7MrCxWzzaY6a8Vsau3xnop185w7tzTFORXr5itnxWyFXVkrZmNrzjFZFeBcscUhzjFZF1DMdm5SBAgQWElAMTu/za4sVMw2m+qsFbOptcd7KtbNc+7c0hTnVKybr5wVsxV2Za2Yja05x2RVgHPFFoc4x2RdQDHbuUkRIEBgJQHF7Pw2u7JQMdtsqrNWzKbWHu+pWDfPuXNLU5xTsW6+clbMVtiVtWI2tuYck1UBzhVbHOIck3UBxWznJkWAAIGVBBSz89vsykLFbLOpzloxm1p7vKdi3Tznzi1NcU7FuvnKWTFbYVfWitnYmnNMVgU4V2xxiHNM1gUUs52bFAECBFYSUMzOb7MrCxWzzaY6a8Vsau3xnop185w7tzTFORXr5itnxWyFXVkrZmNrzjFZFeBcscUhzjFZF1DMdm5SBAgQWElAMTu/za4sVMw2m+qsFbOptcd7KtbNc+7c0hTnVKybr5wVsxV2Za2Yja05x2RVgHPFFoc4x2RdQDHbuUkRIEBgJQHF7Pw2u7JQMdtsqrNWzKbWHu+pWDfPuXNLU5xTsW6+clbMVtiVtWI2tuYck1UBzhVbHOIck3UBxWznJkWAAIGVBBSz89vsykLFbLOpzloxm1p7vKfypqd7AAAXwElEQVRi3Tznzi1NcU7FuvnKWTFbYVfWitnYmnNMVgU4V2xxiHNM1gUUs52bFAECBFYSUMzOb7MrCxWzzaY6a8Vsau3xnop185w7tzTFORXr5itnxWyFXVkrZmNrzjFZFeBcscUhzjFZF1DMdm5SBAgQWEngWBWzF6yEcpx/Lxfutt2j0zN22+7cbdtOS3M38fnOesc6vDcX7nbFneYcMm+cU7FunnPnlqYq56uKWX8eZtqV9c5ndKa8+YxOwcp597mEC2OcQ7B2fLfbndlm5QgQIEBgDYFjUsyuQeF3QYAAAQIECBAgQIAAAQIECBAgQIAAgRkBxeyMs1MIECBAgAABAgQIECBAgAABAgQIECBwjYBi1mUgQIAAAQIECBAgQIAAAQIECBAgQIDAsIBidhjccQQIECBAgAABAgQIECBAgAABAgQIEFDMugMECBAgQIAAAQIECBAgQIAAAQIECBAYFlDMDoM7jgABAgQIECBAgAABAgQIECBAgAABAopZd4AAAQIECBAgQIAAAQIECBAgQIAAAQLDAorZYXDHESBAgAABAgQIECBAgAABAgQIECBAQDHrDhAgQIAAAQIECBAgQIAAAQIECBAgQGBYQDE7DO44AgQIECBAgAABAgQIECBAgAABAgQIKGbdAQIECBAgQIAAAQIECBAgQIAAAQIECAwLKGaHwR1HgAABAgQIECBAgAABAgQIECBAgAABxaw7QIAAAQIECBAgQIAAAQIECBAgQIAAgWGBY1LM7rbdBcNf91E+7sLdtnt0+hvYbbtzt207Lc3dxOc76x3r8N5cuNsVd5pzyLxxTsW6ec6dW5qqnA8O2fnsGLHmnDL7jI7FukD12eE+x9icY7IusNvtzuySUgQIECCwisCxKmavXAVk4Pfxjt2W/wF8Vfn9gIGvb6UjOuvd4f+igfX1vwnvaB6VO87XX/gLk5xTsW6ec+eWpirnq4pZn9GZdmXtMzpD9hkde7UB97mVy3KcM696erfbHZN/H6+/AEECBAgQuNEFjskfBLttp5i9/qvsysIvfFeysvD6O3+hyGpKcIVhpqwwTL3aef+S1MplOc6ZVztdOStmK+7KWjEbW3OOyaoA54otDnGOybqAYrZzkyJAgMBKAorZ+W12ZaFittlUZ62YTa093lOxbp5z55amOKdi3XzlrJitsCtrxWxszTkmqwKcK7Y4xDkm6wKK2c5NigABAisJKGbnt9mVhYrZZlOdtWI2tfZ4T8W6ec6dW5rinIp185WzYrbCrqwVs7E155isCnCu2OIQ55isCyhmOzcpAgQIrCSgmJ3fZlcWKmabTXXWitnU2uM9FevmOXduaYpzKtbNV86K2Qq7slbMxtacY7IqwLlii0OcY7IuoJjt3KQIECCwkoBidn6bXVmomG021VkrZlNrj/dUrJvn3LmlKc6pWDdfOStmK+zKWjEbW3OOyaoA54otDnGOybqAYrZzkyJAgMBKAorZ+W12ZaFittlUZ62YTa093lOxbp5z55amOKdi3XzlrJitsCtrxWxszTkmqwKcK7Y4xDkm6wKK2c5NigABAisJKGbnt9mVhYrZZlOdtWI2tfZ4T8W6ec6dW5rinIp185WzYrbCrqwVs7E155isCnCu2OIQ55isCyhmOzcpAgQIrCSgmJ3fZlcWKmabTXXWitnU2uM9FevmOXduaYpzKtbNV86K2Qq7slbMxtacY7IqwLlii0OcY7IuoJjt3KQIECCwkoBidn6bXVmomG021VkrZlNrj/dUrJvn3LmlKc6pWDdfOStmK+zKWjEbW3OOyaoA54otDnGOybqAYrZzkyJAgMBKAorZ+W12ZaFittlUZ62YTa093lOxbp5z55amOKdi3XzlrJitsCtrxWxszTkmqwKcK7Y4xDkm6wKK2c5NigABAisJKGbnt9mVhYrZZlOdtWI2tfZ4T8W6ec6dW5rinIp185WzYrbCrqwVs7E155isCnCu2OIQ55isCyhmOzcpAgQIrCSgmJ3fZlcWKmabTXXWitnU2uM9FevmOXduaYpzKtbNV86K2Qq7slbMxtacY7IqwLlii0OcY7IuoJjt3KQIECCwkoBidn6bXVmomG021VkrZlNrj/dUrJvn3LmlKc6pWDdfOStmK+zKWjEbW3OOyaoA54otDnGOybqAYrZzkyJAgMBKAorZ+W12ZaFittlUZ62YTa093lOxbp5z55amOKdi3XzlrJitsCtrxWxszTkmqwKcK7Y4xDkm6wKK2c5NigABAisJKGbnt9mVhYrZZlOdtWI2tfZ4T8W6ec6dW5rinIp185WzYrbCrqwVs7E155isCnCu2OIQ55isCyhmOzcpAgQIrCSgmJ3fZlcWKmabTXXWitnU2uM9FevmOXduaYpzKtbNV86K2Qq7slbMxtacY7IqwLlii0OcY7IuoJjt3KQIECCwkoBidn6bXVmomG021VkrZlNrj/dUrJvn3LmlKc6pWDdfOStmK+zKWjEbW3OOyaoA54otDnGOybqAYrZzkyJAgMBKAorZ+W12ZaFittlUZ62YTa093lOxbp5z55amOKdi3XzlrJitsCtrxWxszTkmqwKcK7Y4xDkm6wKK2c5NigABAisJKGbnt9mVhYrZZlOdtWI2tfZ4T8W6ec6dW5rinIp185WzYrbCrqwVs7E155isCnCu2OIQ55isCyhmOzcpAgQIrCSgmJ3fZlcWKmabTXXWitnU2uM9FevmOXduaYpzKtbNV86K2Qq7slbMxtacY7IqwLlii0OcY7IuoJjt3KQIECCwkoBidn6bXVmomG021VkrZlNrj/dUrJvn3LmlKc6pWDdfOStmK+zKWjEbW3OOyaoA54otDnGOybqAYrZzkyJAgMBKAorZ+W12ZaFittlUZ62YTa093lOxbp5z55amOKdi3XzlrJitsCtrxWxszTkmqwKcK7Y4xDkm6wKK2c5NigABAisJKGbnt9mVhYrZZlOdtWI2tfZ4T8W6ec6dW5rinIp185WzYrbCrqwVs7E155isCnCu2OIQ55isCyhmOzcpAgQIrCSgmJ3fZlcWKmabTXXWitnU2uM9FevmOXduaYpzKtbNV86K2Qq7slbMxtacY7IqwLlii0OcY7IuoJjt3KQIECCwkoBidn6bXVmomG021VkrZlNrj/dUrJvn3LmlKc6pWDdfOStmK+zKWjEbW3OOyaoA54otDnGOybqAYrZzkyJAgMBKAorZ+W12ZaFittlUZ62YTa093lOxbp5z55amOKdi3XzlrJitsCtrxWxszTkmqwKcK7Y4xDkm6wKK2c5NigABAisJKGbnt9mVhYrZZlOdtWI2tfZ4T8W6ec6dW5rinIp185WzYrbCrqwVs7E155isCnCu2OIQ55isCyhmOzcpAgQIrCSgmJ3fZlcWKmabTXXWitnU2uM9FevmOXduaYpzKtbNV86K2Qq7slbMxtacY7IqwLlii0OcY7IuoJjt3KQIECCwkoBidn6bXVmomG021VkrZlNrj/dUrJvn3LmlKc6pWDdfOStmK+zKWjEbW3OOyaoA54otDnGOybqAYrZzkyJAgMBKAorZ+W12ZaFittlUZ62YTa093lOxbp5z55amOKdi3XzlrJitsCtrxWxszTkmqwKcK7Y4xDkm6wKK2c5NigABAisJKGbnt9mVhYrZZlOdtWI2tfZ4T8W6ec6dW5rinIp185WzYrbCrqwVs7E155isCnCu2OIQ55isCyhmOzcpAgQIrCSgmJ3fZlcWKmabTXXWitnU2uM9FevmOXduaYpzKtbNV86K2Qq7slbMxtacY7IqwLlii0OcY7IuoJjt3KQIECCwkoBidn6bXVmomG021VkrZlNrj/dUrJvn3LmlKc6pWDdfOStmK+zKWjEbW3OOyaoA54otDnGOybqAYrZzkyJAgMBKAorZ+W12ZaFittlUZ62YTa093lOxbp5z55amOKdi3XzlrJitsCtrxWxszTkmqwKcK7Y4xDkm6wKK2c5NigABAisJKGbnt9mVhYrZZlOdtWI2tfZ4T8W6ec6dW5rinIp185WzYrbCrqwVs7E155isCnCu2OIQ55isCyhmOzcpAgQIrCSgmJ3fZlcWKmabTXXWitnU2uM9FevmOXduaYpzKtbNV86K2Qq7slbMxtacY7IqwLlii0OcY7IuoJjt3KQIECCwkoBidn6bXVmomG021VkrZlNrj/dUrJvn3LmlKc6pWDdfOStmK+zKWjEbW3OOyaoA54otDnGOybqAYrZzkyJAgMBKAorZ+W12ZaFittlUZ62YTa093lOxbp5z55amOKdi3XzlrJitsCtrxWxszTkmqwKcK7Y4xDkm6wKK2c5NigABAisJKGbnt9mVhYrZZlOdtWI2tfZ4T8W6ec6dW5rinIp185WzYrbCrqwVs7E155isCnCu2OIQ55isCyhmOzcpAgQIrCSgmJ3fZlcWKmabTXXWitnU2uM9FevmOXduaYpzKtbNV86K2Qq7slbMxtacY7IqwLlii0OcY7IuoJjt3KQIECCwkoBidn6bXVmomG021VkrZlNrj/dUrJvn3LmlKc6pWDdfOStmK+zKWjEbW3OOyaoA54otDnGOybqAYrZzkyJAgMBKAorZ+W12ZaFittlUZ62YTa093lOxbp5z55amOKdi3XzlrJitsCtrxWxszTkmqwKcK7Y4xDkm6wKK2c5NigABAisJKGbnt9mVhYrZZlOdtWI2tfZ4T8W6ec6dW5rinIp185WzYrbCrqwVs7E155isCnCu2OIQ55isCyhmOzcpAgQIrCSgmJ3fZlcWKmabTXXWitnU2uM9FevmOXduaYpzKtbNV86K2Qq7slbMxtacY7IqwLlii0OcY7IuoJjt3KQIECCwkoBidn6bXVmomG021VkrZlNrj/dUrJvn3LmlKc6pWDdfOStmK+zKWjEbW3OOyaoA54otDnGOybqAYrZzkyJAgMBKAorZ+W12ZaFittlUZ62YTa093lOxbp5z55amOKdi3XzlrJitsCtrxWxszTkmqwKcK7Y4xDkm6wKK2c5NigABAisJKGbnt9mVhYrZZlOdtWI2tfZ4T8W6ec6dW5rinIp185WzYrbCrqwVs7E155isCnCu2OIQ55isCyhmOzcpAgQIrCSgmJ3fZlcWKmabTXXWitnU2uM9FevmOXduaYpzKtbNV86K2Qq7slbMxtacY7IqwLlii0OcY7IuoJjt3KQIECCwkoBidn6bXVmomG021VkrZlNrj/dUrJvn3LmlKc6pWDdfOStmK+zKWjEbW3OOyaoA54otDnGOybqAYrZzkyJAgMBKAorZ+W12ZaFittlUZ62YTa093lOxbp5z55amOKdi3XzlrJitsCtrxWxszTkmqwKcK7Y4xDkm6wKK2c5NigABAisJKGbnt9mVhYrZZlOdtWI2tfZ4T8W6ec6dW5rinIp185WzYrbCrqwVs7E155isCnCu2OIQ55isCyhmOzcpAgQIrCSgmJ3fZlcWKmabTXXWitnU2uM9FevmOXduaYpzKtbNV86K2Qq7slbMxtacY7IqwLlii0OcY7IuoJjt3KQIECCwkoBidn6bXVmomG021VkrZlNrj/dUrJvn3LmlKc6pWDdfOStmK+zKWjEbW3OOyaoA54otDnGOybqAYrZzkyJAgMBKAorZ+W12ZaFittlUZ62YTa093lOxbp5z55amOKdi3XzlrJitsCtrxWxszTkmqwKcK7Y4xDkm6wKK2c5NigABAisJKGbnt9mVhYrZZlOdtWI2tfZ4T8W6ec6dW5rinIp185WzYrbCrqwVs7E155isCnCu2OIQ55isCyhmOzcpAgQIrCSgmJ3fZlcWKmabTXXWitnU2uM9FevmOXduaYpzKtbNV86K2Qq7slbMxtacY7IqwLlii0OcY7IuoJjt3KQIECCwkoBidn6bXVmomG021VkrZlNrj/dUrJvn3LmlKc6pWDdfOStmK+zKWjEbW3OOyaoA54otDnGOybqAYrZzkyJAgMBKAorZ+W12ZaFittlUZ62YTa093lOxbp5z55amOKdi3XzlrJitsCtrxWxszTkmqwKcK7Y4xDkm6wKK2c5NigABAisJKGbnt9mVhYrZZlOdtWI2tfZ4T8W6ec6dW5rinIp185WzYrbCrqwVs7E155isCnCu2OIQ55isCyhmOzcpAgQIrCSgmJ3fZlcWKmabTXXWitnU2uM9FevmOXduaYpzKtbNV86K2Qq7slbMxtacY7IqwLlii0OcY7IuoJjt3KQIECCwkoBidn6bXVmomG021VkrZlNrj/dUrJvn3LmlKc6pWDdfOStmK+zKWjEbW3OOyaoA54rt/2vHjnEUiqEgCN7/1uRk04IXWJV7Fm35B1bPI84zWRsIs83NigABAi8JCLP3t9lioTBbbqpZC7Ortcf7KtbOc25u64rzKtbOJ2dhNmEna2F2tuY8k6UB58Q2jzjPZG0gzDY3KwIECLwkIMze32aLhcJsualmLcyu1h7vq1g7z7m5rSvOq1g7n5yF2YSdrIXZ2ZrzTJYGnBPbPOI8k7WBMNvcrAgQIPCSgDB7f5stFgqz5aaatTC7Wnu8r2LtPOfmtq44r2LtfHIWZhN2shZmZ2vOM1kacE5s84jzTNYGwmxzsyJAgMBLAsLs/W22WCjMlptq1sLsau3xvoq185yb27rivIq188lZmE3YyVqYna05z2RpwDmxzSPOM1kbCLPNzYoAAQIvCQiz97fZYqEwW26qWQuzq7XH+yrWznNubuuK8yrWzidnYTZhJ2thdrbmPJOlAefENo84z2RtIMw2NysCBAi8JCDM3t9mi4XCbLmpZi3MrtYe76tYO8+5ua0rzqtYO5+chdmEnayF2dma80yWBpwT2zziPJO1gTDb3KwIECDwkoAwe3+bLRYKs+WmmrUwu1p7vK9i7Tzn5rauOK9i7XxyFmYTdrIWZmdrzjNZGnBObPOI80zWBsJsc7MiQIDASwLC7P1ttlgozJabatbC7Grt8b6KtfOcm9u64ryKtfPJWZhN2MlamJ2tOc9kacA5sc0jzjNZGwizzc2KAAECLwkIs/e32WKhMFtuqlkLs6u1x/sq1s5zbm7rivMq1s4nZ2E2YSdrYXa25jyTpQHnxDaPOM9kbSDMNjcrAgQIvCQgzN7fZouFwmy5qWYtzK7WHu+rWDvPubmtK86rWDufnIXZhJ2shdnZmvNMlgacE9s84jyTtYEw29ysCBAg8JKAMHt/my0WCrPlppq1MLtae7yvYu085+a2rjivYu18chZmE3ayFmZna84zWRpwTmzziPNM1gbCbHOzIkCAwEsCwuz9bbZYKMyWm2rWwuxq7fG+irXznJvbuuK8irXzyVmYTdjJWpidrTnPZGnAObHNI84zWRsIs83NigABAi8JCLP3t9lioTBbbqpZC7Ortcf7KtbOc25u64rzKtbOJ2dhNmEna2F2tuY8k6UB58Q2jzjPZG0gzDY3KwIECLwk8JMw+xKI/4UAAQIECBAgQIAAAQIECBAgQIAAAQL/FhBm/y3s7xMgQIAAAQIECBAgQIAAAQIECBAgQOBLQJj1SRAgQIAAAQIECBAgQIAAAQIECBAgQOBYQJg9BvdzBAgQIECAAAECBAgQIECAAAECBAgQEGZ9AwQIECBAgAABAgQIECBAgAABAgQIEDgWEGaPwf0cAQIECBAgQIAAAQIECBAgQIAAAQIEhFnfAAECBAgQIECAAAECBAgQIECAAAECBI4FhNljcD9HgAABAgQIECBAgAABAgQIECBAgAABYdY3QIAAAQIECBAgQIAAAQIECBAgQIAAgWMBYfYY3M8RIECAAAECBAgQIECAAAECBAgQIEBAmPUNECBAgAABAgQIECBAgAABAgQIECBA4FhAmD0G93MECBAgQIAAAQIECBAgQIAAAQIECBAQZn0DBAgQIECAAAECBAgQIECAAAECBAgQOBYQZo/B/RwBAgQIECBAgAABAgQIECBAgAABAgSEWd8AAQIECBAgQIAAAQIECBAgQIAAAQIEjgWE2WNwP0eAAAECBAgQIECAAAECBAgQIECAAAFh1jdAgAABAgQIECBAgAABAgQIECBAgACBY4EPM5Bm6+SgHmMAAAAASUVORK5CYII=\" width=\"863.7499871291222\">"
      ],
      "text/plain": [
       "<IPython.core.display.HTML object>"
      ]
     },
     "metadata": {},
     "output_type": "display_data"
    }
   ],
   "source": [
    "fig_NDC = plt.figure(\n",
    "    FigureClass=Waffle, \n",
    "    rows=10, \n",
    "    values=list(NDC['Elected MP']),\n",
    "    labels=list(NDC['Gender']),\n",
    "    figsize=(12, 8),\n",
    "    legend={'bbox_to_anchor': (0.5, 0.5)},\n",
    "    colors = ['purple', 'grey']\n",
    "\n",
    ")"
   ]
  }
 ],
 "metadata": {
  "kernelspec": {
   "display_name": "Python 3",
   "language": "python",
   "name": "python3"
  },
  "language_info": {
   "codemirror_mode": {
    "name": "ipython",
    "version": 3
   },
   "file_extension": ".py",
   "mimetype": "text/x-python",
   "name": "python",
   "nbconvert_exporter": "python",
   "pygments_lexer": "ipython3",
   "version": "3.7.4"
  }
 },
 "nbformat": 4,
 "nbformat_minor": 4
}
